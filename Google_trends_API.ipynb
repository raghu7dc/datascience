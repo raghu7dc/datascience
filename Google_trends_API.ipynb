{
  "nbformat": 4,
  "nbformat_minor": 0,
  "metadata": {
    "colab": {
      "name": "Google_trends_API.ipynb",
      "provenance": [],
      "authorship_tag": "ABX9TyPfqklLEmRjAQqS8mgFkZbZ",
      "include_colab_link": true
    },
    "kernelspec": {
      "name": "python3",
      "display_name": "Python 3"
    },
    "language_info": {
      "name": "python"
    }
  },
  "cells": [
    {
      "cell_type": "markdown",
      "metadata": {
        "id": "view-in-github",
        "colab_type": "text"
      },
      "source": [
        "<a href=\"https://colab.research.google.com/github/raghu7dc/datascience/blob/main/Google_trends_API.ipynb\" target=\"_parent\"><img src=\"https://colab.research.google.com/assets/colab-badge.svg\" alt=\"Open In Colab\"/></a>"
      ]
    },
    {
      "cell_type": "code",
      "metadata": {
        "colab": {
          "base_uri": "https://localhost:8080/"
        },
        "id": "bGckUFhul6GL",
        "outputId": "a5cc81d4-4bdd-41c2-f69c-6db505908f89"
      },
      "source": [
        "#install the pytrends library\n",
        "\n",
        "!pip install pytrends"
      ],
      "execution_count": 1,
      "outputs": [
        {
          "output_type": "stream",
          "name": "stdout",
          "text": [
            "Collecting pytrends\n",
            "  Downloading pytrends-4.7.3-py3-none-any.whl (14 kB)\n",
            "Requirement already satisfied: lxml in /usr/local/lib/python3.7/dist-packages (from pytrends) (4.2.6)\n",
            "Requirement already satisfied: requests in /usr/local/lib/python3.7/dist-packages (from pytrends) (2.23.0)\n",
            "Requirement already satisfied: pandas>=0.25 in /usr/local/lib/python3.7/dist-packages (from pytrends) (1.1.5)\n",
            "Requirement already satisfied: python-dateutil>=2.7.3 in /usr/local/lib/python3.7/dist-packages (from pandas>=0.25->pytrends) (2.8.2)\n",
            "Requirement already satisfied: pytz>=2017.2 in /usr/local/lib/python3.7/dist-packages (from pandas>=0.25->pytrends) (2018.9)\n",
            "Requirement already satisfied: numpy>=1.15.4 in /usr/local/lib/python3.7/dist-packages (from pandas>=0.25->pytrends) (1.19.5)\n",
            "Requirement already satisfied: six>=1.5 in /usr/local/lib/python3.7/dist-packages (from python-dateutil>=2.7.3->pandas>=0.25->pytrends) (1.15.0)\n",
            "Requirement already satisfied: chardet<4,>=3.0.2 in /usr/local/lib/python3.7/dist-packages (from requests->pytrends) (3.0.4)\n",
            "Requirement already satisfied: idna<3,>=2.5 in /usr/local/lib/python3.7/dist-packages (from requests->pytrends) (2.10)\n",
            "Requirement already satisfied: urllib3!=1.25.0,!=1.25.1,<1.26,>=1.21.1 in /usr/local/lib/python3.7/dist-packages (from requests->pytrends) (1.24.3)\n",
            "Requirement already satisfied: certifi>=2017.4.17 in /usr/local/lib/python3.7/dist-packages (from requests->pytrends) (2021.5.30)\n",
            "Installing collected packages: pytrends\n",
            "Successfully installed pytrends-4.7.3\n"
          ]
        }
      ]
    },
    {
      "cell_type": "code",
      "metadata": {
        "id": "L5CEfyfCmA5K"
      },
      "source": [
        "#import the necessary libraries\n",
        "\n",
        "import pandas as pd\n",
        "from pytrends.request import TrendReq"
      ],
      "execution_count": 2,
      "outputs": []
    },
    {
      "cell_type": "code",
      "metadata": {
        "id": "cgB9KS_8mbXZ"
      },
      "source": [
        "#defininig the class TrendReq\n",
        "pytrend=TrendReq()"
      ],
      "execution_count": 5,
      "outputs": []
    },
    {
      "cell_type": "code",
      "metadata": {
        "id": "VzRhuAP-ml7p"
      },
      "source": [
        "#searching for the list of words \"batman\"\n",
        "pytrend.build_payload(kw_list=[\"batman\"])"
      ],
      "execution_count": 8,
      "outputs": []
    },
    {
      "cell_type": "code",
      "metadata": {
        "id": "3fINzNDcm5yw"
      },
      "source": [
        "#interest by country (region) data\n",
        "\n",
        "df=pytrend.interest_by_region()"
      ],
      "execution_count": 11,
      "outputs": []
    },
    {
      "cell_type": "code",
      "metadata": {
        "colab": {
          "base_uri": "https://localhost:8080/",
          "height": 388
        },
        "id": "EBc4vw56nPNe",
        "outputId": "8e77c68b-490d-4e24-f508-b89afda3d7fc"
      },
      "source": [
        "df.head(10)"
      ],
      "execution_count": 13,
      "outputs": [
        {
          "output_type": "execute_result",
          "data": {
            "text/html": [
              "<div>\n",
              "<style scoped>\n",
              "    .dataframe tbody tr th:only-of-type {\n",
              "        vertical-align: middle;\n",
              "    }\n",
              "\n",
              "    .dataframe tbody tr th {\n",
              "        vertical-align: top;\n",
              "    }\n",
              "\n",
              "    .dataframe thead th {\n",
              "        text-align: right;\n",
              "    }\n",
              "</style>\n",
              "<table border=\"1\" class=\"dataframe\">\n",
              "  <thead>\n",
              "    <tr style=\"text-align: right;\">\n",
              "      <th></th>\n",
              "      <th>batman</th>\n",
              "    </tr>\n",
              "    <tr>\n",
              "      <th>geoName</th>\n",
              "      <th></th>\n",
              "    </tr>\n",
              "  </thead>\n",
              "  <tbody>\n",
              "    <tr>\n",
              "      <th>Afghanistan</th>\n",
              "      <td>0</td>\n",
              "    </tr>\n",
              "    <tr>\n",
              "      <th>Albania</th>\n",
              "      <td>0</td>\n",
              "    </tr>\n",
              "    <tr>\n",
              "      <th>Algeria</th>\n",
              "      <td>12</td>\n",
              "    </tr>\n",
              "    <tr>\n",
              "      <th>American Samoa</th>\n",
              "      <td>0</td>\n",
              "    </tr>\n",
              "    <tr>\n",
              "      <th>Andorra</th>\n",
              "      <td>0</td>\n",
              "    </tr>\n",
              "    <tr>\n",
              "      <th>Angola</th>\n",
              "      <td>0</td>\n",
              "    </tr>\n",
              "    <tr>\n",
              "      <th>Anguilla</th>\n",
              "      <td>0</td>\n",
              "    </tr>\n",
              "    <tr>\n",
              "      <th>Antarctica</th>\n",
              "      <td>0</td>\n",
              "    </tr>\n",
              "    <tr>\n",
              "      <th>Antigua &amp; Barbuda</th>\n",
              "      <td>0</td>\n",
              "    </tr>\n",
              "    <tr>\n",
              "      <th>Argentina</th>\n",
              "      <td>32</td>\n",
              "    </tr>\n",
              "  </tbody>\n",
              "</table>\n",
              "</div>"
            ],
            "text/plain": [
              "                   batman\n",
              "geoName                  \n",
              "Afghanistan             0\n",
              "Albania                 0\n",
              "Algeria                12\n",
              "American Samoa          0\n",
              "Andorra                 0\n",
              "Angola                  0\n",
              "Anguilla                0\n",
              "Antarctica              0\n",
              "Antigua & Barbuda       0\n",
              "Argentina              32"
            ]
          },
          "metadata": {},
          "execution_count": 13
        }
      ]
    },
    {
      "cell_type": "code",
      "metadata": {
        "id": "dojxwUjJnRKh"
      },
      "source": [
        "#changing the index of data to row numbers\n",
        "df.reset_index(inplace=True)"
      ],
      "execution_count": 16,
      "outputs": []
    },
    {
      "cell_type": "code",
      "metadata": {
        "colab": {
          "base_uri": "https://localhost:8080/",
          "height": 417
        },
        "id": "U2lpEm4Fne2U",
        "outputId": "70e203a1-92ce-496c-8248-6371957e60bd"
      },
      "source": [
        "df"
      ],
      "execution_count": 17,
      "outputs": [
        {
          "output_type": "execute_result",
          "data": {
            "text/html": [
              "<div>\n",
              "<style scoped>\n",
              "    .dataframe tbody tr th:only-of-type {\n",
              "        vertical-align: middle;\n",
              "    }\n",
              "\n",
              "    .dataframe tbody tr th {\n",
              "        vertical-align: top;\n",
              "    }\n",
              "\n",
              "    .dataframe thead th {\n",
              "        text-align: right;\n",
              "    }\n",
              "</style>\n",
              "<table border=\"1\" class=\"dataframe\">\n",
              "  <thead>\n",
              "    <tr style=\"text-align: right;\">\n",
              "      <th></th>\n",
              "      <th>index</th>\n",
              "      <th>geoName</th>\n",
              "      <th>batman</th>\n",
              "    </tr>\n",
              "  </thead>\n",
              "  <tbody>\n",
              "    <tr>\n",
              "      <th>0</th>\n",
              "      <td>0</td>\n",
              "      <td>Afghanistan</td>\n",
              "      <td>0</td>\n",
              "    </tr>\n",
              "    <tr>\n",
              "      <th>1</th>\n",
              "      <td>1</td>\n",
              "      <td>Albania</td>\n",
              "      <td>0</td>\n",
              "    </tr>\n",
              "    <tr>\n",
              "      <th>2</th>\n",
              "      <td>2</td>\n",
              "      <td>Algeria</td>\n",
              "      <td>12</td>\n",
              "    </tr>\n",
              "    <tr>\n",
              "      <th>3</th>\n",
              "      <td>3</td>\n",
              "      <td>American Samoa</td>\n",
              "      <td>0</td>\n",
              "    </tr>\n",
              "    <tr>\n",
              "      <th>4</th>\n",
              "      <td>4</td>\n",
              "      <td>Andorra</td>\n",
              "      <td>0</td>\n",
              "    </tr>\n",
              "    <tr>\n",
              "      <th>...</th>\n",
              "      <td>...</td>\n",
              "      <td>...</td>\n",
              "      <td>...</td>\n",
              "    </tr>\n",
              "    <tr>\n",
              "      <th>245</th>\n",
              "      <td>245</td>\n",
              "      <td>Western Sahara</td>\n",
              "      <td>0</td>\n",
              "    </tr>\n",
              "    <tr>\n",
              "      <th>246</th>\n",
              "      <td>246</td>\n",
              "      <td>Yemen</td>\n",
              "      <td>0</td>\n",
              "    </tr>\n",
              "    <tr>\n",
              "      <th>247</th>\n",
              "      <td>247</td>\n",
              "      <td>Zambia</td>\n",
              "      <td>0</td>\n",
              "    </tr>\n",
              "    <tr>\n",
              "      <th>248</th>\n",
              "      <td>248</td>\n",
              "      <td>Zimbabwe</td>\n",
              "      <td>0</td>\n",
              "    </tr>\n",
              "    <tr>\n",
              "      <th>249</th>\n",
              "      <td>249</td>\n",
              "      <td>Åland Islands</td>\n",
              "      <td>0</td>\n",
              "    </tr>\n",
              "  </tbody>\n",
              "</table>\n",
              "<p>250 rows × 3 columns</p>\n",
              "</div>"
            ],
            "text/plain": [
              "     index         geoName  batman\n",
              "0        0     Afghanistan       0\n",
              "1        1         Albania       0\n",
              "2        2         Algeria      12\n",
              "3        3  American Samoa       0\n",
              "4        4         Andorra       0\n",
              "..     ...             ...     ...\n",
              "245    245  Western Sahara       0\n",
              "246    246           Yemen       0\n",
              "247    247          Zambia       0\n",
              "248    248        Zimbabwe       0\n",
              "249    249   Åland Islands       0\n",
              "\n",
              "[250 rows x 3 columns]"
            ]
          },
          "metadata": {},
          "execution_count": 17
        }
      ]
    },
    {
      "cell_type": "code",
      "metadata": {
        "colab": {
          "base_uri": "https://localhost:8080/",
          "height": 511
        },
        "id": "B1V_bTwcnmtF",
        "outputId": "c4d03ba6-7fd0-431c-df52-9751abdbd218"
      },
      "source": [
        "#taking only values with more than 30 normalized search results\n",
        "df1=df[df['batman']>30]\n",
        "df1.reset_index()\n"
      ],
      "execution_count": 23,
      "outputs": [
        {
          "output_type": "execute_result",
          "data": {
            "text/html": [
              "<div>\n",
              "<style scoped>\n",
              "    .dataframe tbody tr th:only-of-type {\n",
              "        vertical-align: middle;\n",
              "    }\n",
              "\n",
              "    .dataframe tbody tr th {\n",
              "        vertical-align: top;\n",
              "    }\n",
              "\n",
              "    .dataframe thead th {\n",
              "        text-align: right;\n",
              "    }\n",
              "</style>\n",
              "<table border=\"1\" class=\"dataframe\">\n",
              "  <thead>\n",
              "    <tr style=\"text-align: right;\">\n",
              "      <th></th>\n",
              "      <th>level_0</th>\n",
              "      <th>index</th>\n",
              "      <th>geoName</th>\n",
              "      <th>batman</th>\n",
              "    </tr>\n",
              "  </thead>\n",
              "  <tbody>\n",
              "    <tr>\n",
              "      <th>0</th>\n",
              "      <td>9</td>\n",
              "      <td>9</td>\n",
              "      <td>Argentina</td>\n",
              "      <td>32</td>\n",
              "    </tr>\n",
              "    <tr>\n",
              "      <th>1</th>\n",
              "      <td>12</td>\n",
              "      <td>12</td>\n",
              "      <td>Australia</td>\n",
              "      <td>34</td>\n",
              "    </tr>\n",
              "    <tr>\n",
              "      <th>2</th>\n",
              "      <td>25</td>\n",
              "      <td>25</td>\n",
              "      <td>Bolivia</td>\n",
              "      <td>38</td>\n",
              "    </tr>\n",
              "    <tr>\n",
              "      <th>3</th>\n",
              "      <td>29</td>\n",
              "      <td>29</td>\n",
              "      <td>Brazil</td>\n",
              "      <td>32</td>\n",
              "    </tr>\n",
              "    <tr>\n",
              "      <th>4</th>\n",
              "      <td>38</td>\n",
              "      <td>38</td>\n",
              "      <td>Canada</td>\n",
              "      <td>33</td>\n",
              "    </tr>\n",
              "    <tr>\n",
              "      <th>5</th>\n",
              "      <td>44</td>\n",
              "      <td>44</td>\n",
              "      <td>Chile</td>\n",
              "      <td>33</td>\n",
              "    </tr>\n",
              "    <tr>\n",
              "      <th>6</th>\n",
              "      <td>53</td>\n",
              "      <td>53</td>\n",
              "      <td>Costa Rica</td>\n",
              "      <td>41</td>\n",
              "    </tr>\n",
              "    <tr>\n",
              "      <th>7</th>\n",
              "      <td>66</td>\n",
              "      <td>66</td>\n",
              "      <td>El Salvador</td>\n",
              "      <td>37</td>\n",
              "    </tr>\n",
              "    <tr>\n",
              "      <th>8</th>\n",
              "      <td>91</td>\n",
              "      <td>91</td>\n",
              "      <td>Guatemala</td>\n",
              "      <td>37</td>\n",
              "    </tr>\n",
              "    <tr>\n",
              "      <th>9</th>\n",
              "      <td>106</td>\n",
              "      <td>106</td>\n",
              "      <td>Ireland</td>\n",
              "      <td>32</td>\n",
              "    </tr>\n",
              "    <tr>\n",
              "      <th>10</th>\n",
              "      <td>141</td>\n",
              "      <td>141</td>\n",
              "      <td>Mexico</td>\n",
              "      <td>44</td>\n",
              "    </tr>\n",
              "    <tr>\n",
              "      <th>11</th>\n",
              "      <td>178</td>\n",
              "      <td>178</td>\n",
              "      <td>Puerto Rico</td>\n",
              "      <td>41</td>\n",
              "    </tr>\n",
              "    <tr>\n",
              "      <th>12</th>\n",
              "      <td>227</td>\n",
              "      <td>227</td>\n",
              "      <td>Turkey</td>\n",
              "      <td>100</td>\n",
              "    </tr>\n",
              "    <tr>\n",
              "      <th>13</th>\n",
              "      <td>236</td>\n",
              "      <td>236</td>\n",
              "      <td>United Kingdom</td>\n",
              "      <td>34</td>\n",
              "    </tr>\n",
              "    <tr>\n",
              "      <th>14</th>\n",
              "      <td>237</td>\n",
              "      <td>237</td>\n",
              "      <td>United States</td>\n",
              "      <td>37</td>\n",
              "    </tr>\n",
              "  </tbody>\n",
              "</table>\n",
              "</div>"
            ],
            "text/plain": [
              "    level_0  index         geoName  batman\n",
              "0         9      9       Argentina      32\n",
              "1        12     12       Australia      34\n",
              "2        25     25         Bolivia      38\n",
              "3        29     29          Brazil      32\n",
              "4        38     38          Canada      33\n",
              "5        44     44           Chile      33\n",
              "6        53     53      Costa Rica      41\n",
              "7        66     66     El Salvador      37\n",
              "8        91     91       Guatemala      37\n",
              "9       106    106         Ireland      32\n",
              "10      141    141          Mexico      44\n",
              "11      178    178     Puerto Rico      41\n",
              "12      227    227          Turkey     100\n",
              "13      236    236  United Kingdom      34\n",
              "14      237    237   United States      37"
            ]
          },
          "metadata": {},
          "execution_count": 23
        }
      ]
    },
    {
      "cell_type": "code",
      "metadata": {
        "colab": {
          "base_uri": "https://localhost:8080/",
          "height": 475
        },
        "id": "_fXDFYGKn2YQ",
        "outputId": "12b8656a-5689-4318-c102-6a416e7993bb"
      },
      "source": [
        "df1.plot(x='geoName',y='batman',kind='bar',figsize=(12,6))"
      ],
      "execution_count": 24,
      "outputs": [
        {
          "output_type": "execute_result",
          "data": {
            "text/plain": [
              "<matplotlib.axes._subplots.AxesSubplot at 0x7f946fbd7e90>"
            ]
          },
          "metadata": {},
          "execution_count": 24
        },
        {
          "output_type": "display_data",
          "data": {
            "image/png": "[encoded data removed]",
            "text/plain": [
              "<Figure size 864x432 with 1 Axes>"
            ]
          },
          "metadata": {
            "needs_background": "light"
          }
        }
      ]
    },
    {
      "cell_type": "code",
      "metadata": {
        "id": "LxRWP7TLoxhx"
      },
      "source": [
        "#getting trends data over time\n",
        "\n",
        "pytrend=TrendReq()\n",
        "pytrend.build_payload(kw_list=['batman'],timeframe = '2021-01-01 2021-10-02')\n",
        "df_time=pytrend.interest_over_time()\n"
      ],
      "execution_count": 34,
      "outputs": []
    },
    {
      "cell_type": "code",
      "metadata": {
        "colab": {
          "base_uri": "https://localhost:8080/",
          "height": 234
        },
        "id": "4JFuTPseqBj7",
        "outputId": "32795364-e798-484e-f1d6-850ef9b030f0"
      },
      "source": [
        "df_time.head()"
      ],
      "execution_count": 33,
      "outputs": [
        {
          "output_type": "execute_result",
          "data": {
            "text/html": [
              "<div>\n",
              "<style scoped>\n",
              "    .dataframe tbody tr th:only-of-type {\n",
              "        vertical-align: middle;\n",
              "    }\n",
              "\n",
              "    .dataframe tbody tr th {\n",
              "        vertical-align: top;\n",
              "    }\n",
              "\n",
              "    .dataframe thead th {\n",
              "        text-align: right;\n",
              "    }\n",
              "</style>\n",
              "<table border=\"1\" class=\"dataframe\">\n",
              "  <thead>\n",
              "    <tr style=\"text-align: right;\">\n",
              "      <th></th>\n",
              "      <th>batman</th>\n",
              "      <th>isPartial</th>\n",
              "    </tr>\n",
              "    <tr>\n",
              "      <th>date</th>\n",
              "      <th></th>\n",
              "      <th></th>\n",
              "    </tr>\n",
              "  </thead>\n",
              "  <tbody>\n",
              "    <tr>\n",
              "      <th>2021-01-03</th>\n",
              "      <td>82</td>\n",
              "      <td>False</td>\n",
              "    </tr>\n",
              "    <tr>\n",
              "      <th>2021-01-10</th>\n",
              "      <td>79</td>\n",
              "      <td>False</td>\n",
              "    </tr>\n",
              "    <tr>\n",
              "      <th>2021-01-17</th>\n",
              "      <td>81</td>\n",
              "      <td>False</td>\n",
              "    </tr>\n",
              "    <tr>\n",
              "      <th>2021-01-24</th>\n",
              "      <td>81</td>\n",
              "      <td>False</td>\n",
              "    </tr>\n",
              "    <tr>\n",
              "      <th>2021-01-31</th>\n",
              "      <td>78</td>\n",
              "      <td>False</td>\n",
              "    </tr>\n",
              "  </tbody>\n",
              "</table>\n",
              "</div>"
            ],
            "text/plain": [
              "            batman isPartial\n",
              "date                        \n",
              "2021-01-03      82     False\n",
              "2021-01-10      79     False\n",
              "2021-01-17      81     False\n",
              "2021-01-24      81     False\n",
              "2021-01-31      78     False"
            ]
          },
          "metadata": {},
          "execution_count": 33
        }
      ]
    },
    {
      "cell_type": "code",
      "metadata": {
        "id": "O6rD3nkJqvAz"
      },
      "source": [
        "df_time1=df_time[df_time['isPartial']=='False']"
      ],
      "execution_count": 38,
      "outputs": []
    },
    {
      "cell_type": "code",
      "metadata": {
        "colab": {
          "base_uri": "https://localhost:8080/",
          "height": 234
        },
        "id": "7EG03w5KrXZP",
        "outputId": "d1caadf5-17c0-46de-9329-683314988a6a"
      },
      "source": [
        "df_time1.head()"
      ],
      "execution_count": 39,
      "outputs": [
        {
          "output_type": "execute_result",
          "data": {
            "text/html": [
              "<div>\n",
              "<style scoped>\n",
              "    .dataframe tbody tr th:only-of-type {\n",
              "        vertical-align: middle;\n",
              "    }\n",
              "\n",
              "    .dataframe tbody tr th {\n",
              "        vertical-align: top;\n",
              "    }\n",
              "\n",
              "    .dataframe thead th {\n",
              "        text-align: right;\n",
              "    }\n",
              "</style>\n",
              "<table border=\"1\" class=\"dataframe\">\n",
              "  <thead>\n",
              "    <tr style=\"text-align: right;\">\n",
              "      <th></th>\n",
              "      <th>batman</th>\n",
              "      <th>isPartial</th>\n",
              "    </tr>\n",
              "    <tr>\n",
              "      <th>date</th>\n",
              "      <th></th>\n",
              "      <th></th>\n",
              "    </tr>\n",
              "  </thead>\n",
              "  <tbody>\n",
              "    <tr>\n",
              "      <th>2021-01-03</th>\n",
              "      <td>82</td>\n",
              "      <td>False</td>\n",
              "    </tr>\n",
              "    <tr>\n",
              "      <th>2021-01-10</th>\n",
              "      <td>79</td>\n",
              "      <td>False</td>\n",
              "    </tr>\n",
              "    <tr>\n",
              "      <th>2021-01-17</th>\n",
              "      <td>81</td>\n",
              "      <td>False</td>\n",
              "    </tr>\n",
              "    <tr>\n",
              "      <th>2021-01-24</th>\n",
              "      <td>81</td>\n",
              "      <td>False</td>\n",
              "    </tr>\n",
              "    <tr>\n",
              "      <th>2021-01-31</th>\n",
              "      <td>78</td>\n",
              "      <td>False</td>\n",
              "    </tr>\n",
              "  </tbody>\n",
              "</table>\n",
              "</div>"
            ],
            "text/plain": [
              "            batman isPartial\n",
              "date                        \n",
              "2021-01-03      82     False\n",
              "2021-01-10      79     False\n",
              "2021-01-17      81     False\n",
              "2021-01-24      81     False\n",
              "2021-01-31      78     False"
            ]
          },
          "metadata": {},
          "execution_count": 39
        }
      ]
    },
    {
      "cell_type": "code",
      "metadata": {
        "id": "lNS2P6bXrl-x"
      },
      "source": [
        "#resampling the data to get the monthly sum of trends data\n",
        "\n",
        "df_resample=df_time1['batman'].resample('M').sum()"
      ],
      "execution_count": 55,
      "outputs": []
    },
    {
      "cell_type": "code",
      "metadata": {
        "colab": {
          "base_uri": "https://localhost:8080/"
        },
        "id": "DUQOm7w0r9Zd",
        "outputId": "3e50349a-13a7-427d-b8f8-d15684f8cbfe"
      },
      "source": [
        "df_resample.head()"
      ],
      "execution_count": 53,
      "outputs": [
        {
          "output_type": "execute_result",
          "data": {
            "text/plain": [
              "date\n",
              "2021-01-31    401\n",
              "2021-02-28    308\n",
              "2021-03-31    369\n",
              "2021-04-30    358\n",
              "2021-05-31    391\n",
              "Freq: M, Name: batman, dtype: int64"
            ]
          },
          "metadata": {},
          "execution_count": 53
        }
      ]
    },
    {
      "cell_type": "code",
      "metadata": {
        "colab": {
          "base_uri": "https://localhost:8080/",
          "height": 500
        },
        "id": "VwuUhLLfsGS-",
        "outputId": "73ea0a5b-17b5-49a3-e718-86ace887c70d"
      },
      "source": [
        "df_resample.plot(kind='bar',figsize=(12,6))"
      ],
      "execution_count": 54,
      "outputs": [
        {
          "output_type": "execute_result",
          "data": {
            "text/plain": [
              "<matplotlib.axes._subplots.AxesSubplot at 0x7f947665d390>"
            ]
          },
          "metadata": {},
          "execution_count": 54
        },
        {
          "output_type": "display_data",
          "data": {
            "image/png": "[encoded data removed]",
            "text/plain": [
              "<Figure size 864x432 with 1 Axes>"
            ]
          },
          "metadata": {
            "needs_background": "light"
          }
        }
      ]
    },
    {
      "cell_type": "code",
      "metadata": {
        "id": "uziCwSWRsqsY"
      },
      "source": [
        "#Trending topics now\n",
        "\n",
        "df_trending=pytrend.trending_searches(pn='india')"
      ],
      "execution_count": 64,
      "outputs": []
    },
    {
      "cell_type": "code",
      "metadata": {
        "colab": {
          "base_uri": "https://localhost:8080/",
          "height": 203
        },
        "id": "WfSA0KnxuY30",
        "outputId": "9cbcf55c-cc3a-4e27-f66e-8e6528684873"
      },
      "source": [
        "df_trending.head()"
      ],
      "execution_count": 65,
      "outputs": [
        {
          "output_type": "execute_result",
          "data": {
            "text/html": [
              "<div>\n",
              "<style scoped>\n",
              "    .dataframe tbody tr th:only-of-type {\n",
              "        vertical-align: middle;\n",
              "    }\n",
              "\n",
              "    .dataframe tbody tr th {\n",
              "        vertical-align: top;\n",
              "    }\n",
              "\n",
              "    .dataframe thead th {\n",
              "        text-align: right;\n",
              "    }\n",
              "</style>\n",
              "<table border=\"1\" class=\"dataframe\">\n",
              "  <thead>\n",
              "    <tr style=\"text-align: right;\">\n",
              "      <th></th>\n",
              "      <th>0</th>\n",
              "    </tr>\n",
              "  </thead>\n",
              "  <tbody>\n",
              "    <tr>\n",
              "      <th>0</th>\n",
              "      <td>Liverpool fc</td>\n",
              "    </tr>\n",
              "    <tr>\n",
              "      <th>1</th>\n",
              "      <td>Rashid khan</td>\n",
              "    </tr>\n",
              "    <tr>\n",
              "      <th>2</th>\n",
              "      <td>World Animal Day</td>\n",
              "    </tr>\n",
              "    <tr>\n",
              "      <th>3</th>\n",
              "      <td>Pandora Papers</td>\n",
              "    </tr>\n",
              "    <tr>\n",
              "      <th>4</th>\n",
              "      <td>Lakhimpur Kheri district</td>\n",
              "    </tr>\n",
              "  </tbody>\n",
              "</table>\n",
              "</div>"
            ],
            "text/plain": [
              "                          0\n",
              "0              Liverpool fc\n",
              "1               Rashid khan\n",
              "2          World Animal Day\n",
              "3            Pandora Papers\n",
              "4  Lakhimpur Kheri district"
            ]
          },
          "metadata": {},
          "execution_count": 65
        }
      ]
    },
    {
      "cell_type": "code",
      "metadata": {
        "id": "okqwo7B4uqq7"
      },
      "source": [
        "#top charts\n",
        "\n",
        "df_top=pytrend.top_charts(2020,hl='en-india')"
      ],
      "execution_count": 86,
      "outputs": []
    },
    {
      "cell_type": "code",
      "metadata": {
        "colab": {
          "base_uri": "https://localhost:8080/",
          "height": 203
        },
        "id": "2zT3R2N-wgxP",
        "outputId": "0e8e5fa0-8f3a-4d70-99af-4f0a7af1cf22"
      },
      "source": [
        "df_top.head()"
      ],
      "execution_count": 80,
      "outputs": [
        {
          "output_type": "execute_result",
          "data": {
            "text/html": [
              "<div>\n",
              "<style scoped>\n",
              "    .dataframe tbody tr th:only-of-type {\n",
              "        vertical-align: middle;\n",
              "    }\n",
              "\n",
              "    .dataframe tbody tr th {\n",
              "        vertical-align: top;\n",
              "    }\n",
              "\n",
              "    .dataframe thead th {\n",
              "        text-align: right;\n",
              "    }\n",
              "</style>\n",
              "<table border=\"1\" class=\"dataframe\">\n",
              "  <thead>\n",
              "    <tr style=\"text-align: right;\">\n",
              "      <th></th>\n",
              "      <th>title</th>\n",
              "      <th>exploreQuery</th>\n",
              "    </tr>\n",
              "  </thead>\n",
              "  <tbody>\n",
              "    <tr>\n",
              "      <th>0</th>\n",
              "      <td>Coronavirus</td>\n",
              "      <td></td>\n",
              "    </tr>\n",
              "    <tr>\n",
              "      <th>1</th>\n",
              "      <td>Election results</td>\n",
              "      <td></td>\n",
              "    </tr>\n",
              "    <tr>\n",
              "      <th>2</th>\n",
              "      <td>Kobe Bryant</td>\n",
              "      <td></td>\n",
              "    </tr>\n",
              "    <tr>\n",
              "      <th>3</th>\n",
              "      <td>Zoom</td>\n",
              "      <td></td>\n",
              "    </tr>\n",
              "    <tr>\n",
              "      <th>4</th>\n",
              "      <td>IPL</td>\n",
              "      <td></td>\n",
              "    </tr>\n",
              "  </tbody>\n",
              "</table>\n",
              "</div>"
            ],
            "text/plain": [
              "              title exploreQuery\n",
              "0       Coronavirus             \n",
              "1  Election results             \n",
              "2       Kobe Bryant             \n",
              "3              Zoom             \n",
              "4               IPL             "
            ]
          },
          "metadata": {},
          "execution_count": 80
        }
      ]
    },
    {
      "cell_type": "code",
      "metadata": {
        "colab": {
          "base_uri": "https://localhost:8080/"
        },
        "id": "Xf3IHfk8wjQG",
        "outputId": "5658766d-f680-4ced-82db-82c481fddc3c"
      },
      "source": [
        "#today's trends\n",
        "pytrend.today_searches().head()"
      ],
      "execution_count": 85,
      "outputs": [
        {
          "output_type": "execute_result",
          "data": {
            "text/plain": [
              "0          Patriots\n",
              "1    Dallas Cowboys\n",
              "2            Eagles\n",
              "3     Aaron Rodgers\n",
              "4              Jets\n",
              "Name: query, dtype: object"
            ]
          },
          "metadata": {},
          "execution_count": 85
        }
      ]
    },
    {
      "cell_type": "code",
      "metadata": {
        "id": "sIkq1Pbzw2zH"
      },
      "source": [
        "#getting trends using keywords\n",
        "\n",
        "keywords=pytrend.suggestions(keyword='batman')\n",
        "df_key=pd.DataFrame(keywords)"
      ],
      "execution_count": 91,
      "outputs": []
    },
    {
      "cell_type": "code",
      "metadata": {
        "id": "sMLfuNm-xf0x"
      },
      "source": [
        "df_key.drop(columns='mid',inplace=True)"
      ],
      "execution_count": 92,
      "outputs": []
    },
    {
      "cell_type": "code",
      "metadata": {
        "colab": {
          "base_uri": "https://localhost:8080/",
          "height": 203
        },
        "id": "K1luxJoNxhfr",
        "outputId": "1d3fa66d-6f03-431e-d6cb-e46b4973c221"
      },
      "source": [
        "df_key"
      ],
      "execution_count": 93,
      "outputs": [
        {
          "output_type": "execute_result",
          "data": {
            "text/html": [
              "<div>\n",
              "<style scoped>\n",
              "    .dataframe tbody tr th:only-of-type {\n",
              "        vertical-align: middle;\n",
              "    }\n",
              "\n",
              "    .dataframe tbody tr th {\n",
              "        vertical-align: top;\n",
              "    }\n",
              "\n",
              "    .dataframe thead th {\n",
              "        text-align: right;\n",
              "    }\n",
              "</style>\n",
              "<table border=\"1\" class=\"dataframe\">\n",
              "  <thead>\n",
              "    <tr style=\"text-align: right;\">\n",
              "      <th></th>\n",
              "      <th>title</th>\n",
              "      <th>type</th>\n",
              "    </tr>\n",
              "  </thead>\n",
              "  <tbody>\n",
              "    <tr>\n",
              "      <th>0</th>\n",
              "      <td>The Batman</td>\n",
              "      <td>Film</td>\n",
              "    </tr>\n",
              "    <tr>\n",
              "      <th>1</th>\n",
              "      <td>Nicolas Batum</td>\n",
              "      <td>French professional basketball player</td>\n",
              "    </tr>\n",
              "    <tr>\n",
              "      <th>2</th>\n",
              "      <td>Batman Forever</td>\n",
              "      <td>1995 film</td>\n",
              "    </tr>\n",
              "    <tr>\n",
              "      <th>3</th>\n",
              "      <td>Batman: The Animated Series</td>\n",
              "      <td>American animated series</td>\n",
              "    </tr>\n",
              "    <tr>\n",
              "      <th>4</th>\n",
              "      <td>Batman</td>\n",
              "      <td>City in Turkey</td>\n",
              "    </tr>\n",
              "  </tbody>\n",
              "</table>\n",
              "</div>"
            ],
            "text/plain": [
              "                         title                                   type\n",
              "0                   The Batman                                   Film\n",
              "1                Nicolas Batum  French professional basketball player\n",
              "2               Batman Forever                              1995 film\n",
              "3  Batman: The Animated Series               American animated series\n",
              "4                       Batman                         City in Turkey"
            ]
          },
          "metadata": {},
          "execution_count": 93
        }
      ]
    },
    {
      "cell_type": "code",
      "metadata": {
        "colab": {
          "base_uri": "https://localhost:8080/"
        },
        "id": "3sUV8SACxuTc",
        "outputId": "323745ad-7a7f-4458-f87f-7cee94ba7474"
      },
      "source": [
        "#queries related to the actual search word\n",
        "\n",
        "pytrend.build_payload(kw_list=['batman'])\n",
        "related_queries=pytrend.related_queries()\n",
        "related_queries.values()"
      ],
      "execution_count": 96,
      "outputs": [
        {
          "output_type": "execute_result",
          "data": {
            "text/plain": [
              "dict_values([{'top':                      query  value\n",
              "0               the batman    100\n",
              "1              batman lego     65\n",
              "2                     lego     63\n",
              "3          batman superman     62\n",
              "4                 superman     59\n",
              "5            batman arkham     51\n",
              "6             batman movie     42\n",
              "7       batman vs superman     35\n",
              "8             joker batman     25\n",
              "9                    joker     24\n",
              "10    batman arkham knight     23\n",
              "11            robin batman     22\n",
              "12                   robin     21\n",
              "13           batman begins     19\n",
              "14             dark knight     19\n",
              "15      batman dark knight     18\n",
              "16           batman movies     18\n",
              "17       batman lego movie     16\n",
              "18           batman series     14\n",
              "19        the batman movie     14\n",
              "20             batman game     12\n",
              "21              new batman     12\n",
              "22         the dark knight     12\n",
              "23  batman the dark knight     11\n",
              "24             batman cast     11, 'rising':                         query  value\n",
              "0                 batman 2021  33750\n",
              "1             the batman 2021  20800\n",
              "2     robert pattinson batman  14600\n",
              "3            robert pattinson  13200\n",
              "4          matt reeves batman  10800\n",
              "5     batman the enemy within   9750\n",
              "6       batman fidget spinner   9050\n",
              "7              spinner batman   6350\n",
              "8                 alms batman   5800\n",
              "9                 batman 2020   5500\n",
              "10        travis scott batman   4650\n",
              "11  batman soul of the dragon   3600\n",
              "12          batman who laughs   3300\n",
              "13      the batman who laughs   1850\n",
              "14              batman damned   1450\n",
              "15          batman ezan vakti   1400\n",
              "16           lego batman cast   1300\n",
              "17            batman day 2019   1250\n",
              "18               rolex batman   1250\n",
              "19  batman gotham by gaslight   1150\n",
              "20         batman namaz vakti   1000\n",
              "21     lego batman movie sets    950\n",
              "22        batman wallpaper 4k    950\n",
              "23                 batman obs    850\n",
              "24             batman streams    800}])"
            ]
          },
          "metadata": {},
          "execution_count": 96
        }
      ]
    },
    {
      "cell_type": "code",
      "metadata": {
        "colab": {
          "base_uri": "https://localhost:8080/"
        },
        "id": "f6u9tYbHyzvc",
        "outputId": "2817afd9-045b-4b3c-eb73-0df240ce7f38"
      },
      "source": [
        "#getting the topics related to the keyword\n",
        "\n",
        "pytrend.build_payload(kw_list=['batman'])\n",
        "related_topics=pytrend.related_topics()\n",
        "related_topics.values()"
      ],
      "execution_count": 97,
      "outputs": [
        {
          "output_type": "execute_result",
          "data": {
            "text/plain": [
              "dict_values([{'rising':     value  ...              topic_type\n",
              "0   17100  ...              Video game\n",
              "1   17000  ...  Fictional supervillain\n",
              "2   11450  ...                   Actor\n",
              "3    3000  ...               2018 film\n",
              "4    1300  ...   Manufacturing company\n",
              "5    1150  ...               Franchise\n",
              "6    1000  ...               2019 film\n",
              "7     600  ...          City in Turkey\n",
              "8     500  ...                    Film\n",
              "9     450  ...             Toy company\n",
              "10    450  ...                   Topic\n",
              "11    450  ...               2014 film\n",
              "12    300  ...       Comic book series\n",
              "13    250  ...              Video game\n",
              "14    250  ...               2017 film\n",
              "15    250  ...                   Topic\n",
              "16    200  ...              Video game\n",
              "17    160  ...               2017 film\n",
              "18    150  ...       Book by Jeph Loeb\n",
              "19    140  ...                    Film\n",
              "20     50  ...               1989 film\n",
              "21     40  ...     Comic books company\n",
              "\n",
              "[22 rows x 6 columns], 'top':     value  ...                topic_type\n",
              "0     100  ...      Comic book character\n",
              "1      14  ...            City in Turkey\n",
              "2      10  ...         Video game series\n",
              "3      10  ...                 2016 film\n",
              "4       9  ...                 2017 film\n",
              "5       9  ...                Video game\n",
              "6       7  ...                      Film\n",
              "7       6  ...                      Film\n",
              "8       5  ...                 Character\n",
              "9       5  ...                 2005 film\n",
              "10      4  ...               Film series\n",
              "11      4  ...                 2012 film\n",
              "12      4  ...               Toy company\n",
              "13      4  ...                     Topic\n",
              "14      4  ...                     Topic\n",
              "15      4  ...      DC Extended Universe\n",
              "16      4  ...                Video game\n",
              "17      3  ...                 Franchise\n",
              "18      3  ...                 1989 film\n",
              "19      3  ...                      Film\n",
              "20      2  ...  American animated series\n",
              "21      2  ...                Video game\n",
              "22      2  ...       Comic books company\n",
              "23      2  ...      Comic book character\n",
              "24      2  ...                Video game\n",
              "\n",
              "[25 rows x 7 columns]}])"
            ]
          },
          "metadata": {},
          "execution_count": 97
        }
      ]
    },
    {
      "cell_type": "code",
      "metadata": {
        "id": "W1GkOS0MzcOI"
      },
      "source": [
        ""
      ],
      "execution_count": null,
      "outputs": []
    }
  ]
}