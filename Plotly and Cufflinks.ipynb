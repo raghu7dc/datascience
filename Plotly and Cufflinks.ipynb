{
 "cells": [
  {
   "cell_type": "markdown",
   "metadata": {},
   "source": [
    "# plotly and cufflinks"
   ]
  },
  {
   "cell_type": "code",
   "execution_count": 14,
   "metadata": {},
   "outputs": [],
   "source": [
    "import pandas as pd\n",
    "import numpy as np \n",
    "import matplotlib.pyplot as plt\n",
    "%matplotlib inline"
   ]
  },
  {
   "cell_type": "code",
   "execution_count": 2,
   "metadata": {},
   "outputs": [],
   "source": [
    "from plotly import __version__"
   ]
  },
  {
   "cell_type": "code",
   "execution_count": 3,
   "metadata": {},
   "outputs": [
    {
     "name": "stdout",
     "output_type": "stream",
     "text": [
      "5.3.1\n"
     ]
    }
   ],
   "source": [
    "print(__version__)"
   ]
  },
  {
   "cell_type": "code",
   "execution_count": 4,
   "metadata": {},
   "outputs": [],
   "source": [
    "import cufflinks as cf\n",
    "from plotly.offline import download_plotlyjs,init_notebook_mode,plot,iplot"
   ]
  },
  {
   "cell_type": "code",
   "execution_count": 5,
   "metadata": {},
   "outputs": [
    {
     "data": {
      "text/html": [
       "        <script type=\"text/javascript\">\n",
       "        window.PlotlyConfig = {MathJaxConfig: 'local'};\n",
       "        if (window.MathJax) {MathJax.Hub.Config({SVG: {font: \"STIX-Web\"}});}\n",
       "        if (typeof require !== 'undefined') {\n",
       "        require.undef(\"plotly\");\n",
       "        requirejs.config({\n",
       "            paths: {\n",
       "                'plotly': ['https://cdn.plot.ly/plotly-2.4.2.min']\n",
       "            }\n",
       "        });\n",
       "        require(['plotly'], function(Plotly) {\n",
       "            window._Plotly = Plotly;\n",
       "        });\n",
       "        }\n",
       "        </script>\n",
       "        "
      ]
     },
     "metadata": {},
     "output_type": "display_data"
    }
   ],
   "source": [
    "init_notebook_mode(connected=True)"
   ]
  },
  {
   "cell_type": "code",
   "execution_count": 7,
   "metadata": {},
   "outputs": [
    {
     "data": {
      "text/html": [
       "        <script type=\"text/javascript\">\n",
       "        window.PlotlyConfig = {MathJaxConfig: 'local'};\n",
       "        if (window.MathJax) {MathJax.Hub.Config({SVG: {font: \"STIX-Web\"}});}\n",
       "        if (typeof require !== 'undefined') {\n",
       "        require.undef(\"plotly\");\n",
       "        requirejs.config({\n",
       "            paths: {\n",
       "                'plotly': ['https://cdn.plot.ly/plotly-2.4.2.min']\n",
       "            }\n",
       "        });\n",
       "        require(['plotly'], function(Plotly) {\n",
       "            window._Plotly = Plotly;\n",
       "        });\n",
       "        }\n",
       "        </script>\n",
       "        "
      ]
     },
     "metadata": {},
     "output_type": "display_data"
    }
   ],
   "source": [
    "cf.go_offline()"
   ]
  },
  {
   "cell_type": "code",
   "execution_count": 9,
   "metadata": {},
   "outputs": [],
   "source": [
    "#data\n",
    "df=pd.DataFrame(np.random.randn(100,4),columns='A B C D'.split())"
   ]
  },
  {
   "cell_type": "code",
   "execution_count": 10,
   "metadata": {},
   "outputs": [
    {
     "data": {
      "text/html": [
       "<div>\n",
       "<style scoped>\n",
       "    .dataframe tbody tr th:only-of-type {\n",
       "        vertical-align: middle;\n",
       "    }\n",
       "\n",
       "    .dataframe tbody tr th {\n",
       "        vertical-align: top;\n",
       "    }\n",
       "\n",
       "    .dataframe thead th {\n",
       "        text-align: right;\n",
       "    }\n",
       "</style>\n",
       "<table border=\"1\" class=\"dataframe\">\n",
       "  <thead>\n",
       "    <tr style=\"text-align: right;\">\n",
       "      <th></th>\n",
       "      <th>A</th>\n",
       "      <th>B</th>\n",
       "      <th>C</th>\n",
       "      <th>D</th>\n",
       "    </tr>\n",
       "  </thead>\n",
       "  <tbody>\n",
       "    <tr>\n",
       "      <th>0</th>\n",
       "      <td>0.056058</td>\n",
       "      <td>0.490831</td>\n",
       "      <td>1.248250</td>\n",
       "      <td>1.034274</td>\n",
       "    </tr>\n",
       "    <tr>\n",
       "      <th>1</th>\n",
       "      <td>0.460020</td>\n",
       "      <td>0.218429</td>\n",
       "      <td>0.998369</td>\n",
       "      <td>0.515661</td>\n",
       "    </tr>\n",
       "    <tr>\n",
       "      <th>2</th>\n",
       "      <td>0.628752</td>\n",
       "      <td>0.877320</td>\n",
       "      <td>-1.054569</td>\n",
       "      <td>-0.572526</td>\n",
       "    </tr>\n",
       "    <tr>\n",
       "      <th>3</th>\n",
       "      <td>-0.403357</td>\n",
       "      <td>-0.530627</td>\n",
       "      <td>1.111015</td>\n",
       "      <td>-0.109709</td>\n",
       "    </tr>\n",
       "    <tr>\n",
       "      <th>4</th>\n",
       "      <td>0.107297</td>\n",
       "      <td>-0.458575</td>\n",
       "      <td>-0.188068</td>\n",
       "      <td>-1.432715</td>\n",
       "    </tr>\n",
       "  </tbody>\n",
       "</table>\n",
       "</div>"
      ],
      "text/plain": [
       "          A         B         C         D\n",
       "0  0.056058  0.490831  1.248250  1.034274\n",
       "1  0.460020  0.218429  0.998369  0.515661\n",
       "2  0.628752  0.877320 -1.054569 -0.572526\n",
       "3 -0.403357 -0.530627  1.111015 -0.109709\n",
       "4  0.107297 -0.458575 -0.188068 -1.432715"
      ]
     },
     "execution_count": 10,
     "metadata": {},
     "output_type": "execute_result"
    }
   ],
   "source": [
    "df.head()"
   ]
  },
  {
   "cell_type": "code",
   "execution_count": 12,
   "metadata": {},
   "outputs": [],
   "source": [
    "df2=pd.DataFrame({'category':[ 'A' , 'B', 'C'],'values': [32,43,50]})"
   ]
  },
  {
   "cell_type": "code",
   "execution_count": 13,
   "metadata": {},
   "outputs": [
    {
     "data": {
      "text/html": [
       "<div>\n",
       "<style scoped>\n",
       "    .dataframe tbody tr th:only-of-type {\n",
       "        vertical-align: middle;\n",
       "    }\n",
       "\n",
       "    .dataframe tbody tr th {\n",
       "        vertical-align: top;\n",
       "    }\n",
       "\n",
       "    .dataframe thead th {\n",
       "        text-align: right;\n",
       "    }\n",
       "</style>\n",
       "<table border=\"1\" class=\"dataframe\">\n",
       "  <thead>\n",
       "    <tr style=\"text-align: right;\">\n",
       "      <th></th>\n",
       "      <th>category</th>\n",
       "      <th>values</th>\n",
       "    </tr>\n",
       "  </thead>\n",
       "  <tbody>\n",
       "    <tr>\n",
       "      <th>0</th>\n",
       "      <td>A</td>\n",
       "      <td>32</td>\n",
       "    </tr>\n",
       "    <tr>\n",
       "      <th>1</th>\n",
       "      <td>B</td>\n",
       "      <td>43</td>\n",
       "    </tr>\n",
       "    <tr>\n",
       "      <th>2</th>\n",
       "      <td>C</td>\n",
       "      <td>50</td>\n",
       "    </tr>\n",
       "  </tbody>\n",
       "</table>\n",
       "</div>"
      ],
      "text/plain": [
       "  category  values\n",
       "0        A      32\n",
       "1        B      43\n",
       "2        C      50"
      ]
     },
     "execution_count": 13,
     "metadata": {},
     "output_type": "execute_result"
    }
   ],
   "source": [
    "df2"
   ]
  },
  {
   "cell_type": "code",
   "execution_count": 15,
   "metadata": {},
   "outputs": [
    {
     "data": {
      "text/plain": [
       "<matplotlib.axes._subplots.AxesSubplot at 0x27794d4c108>"
      ]
     },
     "execution_count": 15,
     "metadata": {},
     "output_type": "execute_result"
    },
    {
     "data": {
      "image/png": "[encoded data removed]",
      "text/plain": [
       "<Figure size 432x288 with 1 Axes>"
      ]
     },
     "metadata": {
      "needs_background": "light"
     },
     "output_type": "display_data"
    }
   ],
   "source": [
    "#normal plot\n",
    "df.plot()"
   ]
  },
  {
   "cell_type": "code",
   "execution_count": 16,
   "metadata": {},
   "outputs": [
    {
     "data": {
      "application/vnd.plotly.v1+json": {
       "config": {
        "linkText": "Export to plot.ly",
        "plotlyServerURL": "https://plot.ly",
        "showLink": true
       },
       "data": [
        {
         "line": {
          "color": "rgba(255, 153, 51, 1.0)",
          "dash": "solid",
          "shape": "linear",
          "width": 1.3
         },
         "mode": "lines",
         "name": "A",
         "text": "",
         "type": "scatter",
         "x": [
          0,
          1,
          2,
          3,
          4,
          5,
          6,
          7,
          8,
          9,
          10,
          11,
          12,
          13,
          14,
          15,
          16,
          17,
          18,
          19,
          20,
          21,
          22,
          23,
          24,
          25,
          26,
          27,
          28,
          29,
          30,
          31,
          32,
          33,
          34,
          35,
          36,
          37,
          38,
          39,
          40,
          41,
          42,
          43,
          44,
          45,
          46,
          47,
          48,
          49,
          50,
          51,
          52,
          53,
          54,
          55,
          56,
          57,
          58,
          59,
          60,
          61,
          62,
          63,
          64,
          65,
          66,
          67,
          68,
          69,
          70,
          71,
          72,
          73,
          74,
          75,
          76,
          77,
          78,
          79,
          80,
          81,
          82,
          83,
          84,
          85,
          86,
          87,
          88,
          89,
          90,
          91,
          92,
          93,
          94,
          95,
          96,
          97,
          98,
          99
         ],
         "y": [
          0.05605791357056261,
          0.460019687284693,
          0.6287518092337231,
          -0.40335735674017076,
          0.10729666753545831,
          -0.6295013494642708,
          -1.4951352553786494,
          1.0672754786555207,
          0.3598261803907446,
          -1.0166936426325441,
          -0.07666864253836506,
          0.0410685021645721,
          0.48573655430333923,
          -0.11416938422627511,
          -0.7386166413012212,
          0.7039588772816362,
          1.707845165649345,
          0.3042828542104509,
          1.1414108452743028,
          -0.1891422906682915,
          -1.0724824106218038,
          1.697912228612607,
          2.376315745461367,
          1.3285205463490388,
          0.5241455798665027,
          0.3296266350692246,
          0.893307944055857,
          0.29888277985522527,
          -0.40214756911155725,
          0.27769939748663547,
          1.7229469733657832,
          -1.0590791859078141,
          0.17677513633413716,
          -1.0751157989840059,
          -1.206163745609603,
          0.21085545930113656,
          0.28691557726486,
          0.5626865844183987,
          -0.024749798143169792,
          -1.227681486982836,
          2.3768811509212675,
          -1.5514568828774338,
          1.6112875275834087,
          -0.035511207000442,
          1.3597817860592807,
          0.6340139048174628,
          -0.9461246374711879,
          -0.5980463813946243,
          -0.11121371341266718,
          -0.7789947858694427,
          -0.7909367835488761,
          0.44597932143928465,
          -0.015829741692926957,
          0.5880978326151248,
          -1.1687690687778953,
          0.46738762470996625,
          -1.0232152012694558,
          0.019203856503362135,
          -0.2513480883458298,
          1.67760815029347,
          -0.3388913730150217,
          0.5054335631763178,
          -0.5582218465556053,
          0.09412762463803932,
          -0.269836966510378,
          -0.4229131069545643,
          -0.05562146161653577,
          0.36806445455580034,
          -0.1491590393377931,
          -1.6102639259917182,
          0.3538094719163923,
          1.2443563819434125,
          -0.5311791146417401,
          0.03025030818705174,
          2.6374187556509767,
          -0.06300359369525535,
          -0.2163986548430199,
          -1.4063465608219916,
          -0.6335377419553875,
          0.5468778943274468,
          0.22887859434644822,
          -0.0024186408660699346,
          1.051698629355191,
          -0.9869517109480603,
          -0.31987496824644224,
          -0.540174686913111,
          0.3340381390336442,
          0.7322443952033713,
          -0.9129854111412516,
          -0.18584647450385625,
          -0.9478104793799853,
          0.7151795709345523,
          -0.8542424412247567,
          -1.5265198883275757,
          0.5488311569159915,
          0.21865254089016833,
          -0.4204248699245095,
          -1.0376879604394742,
          0.24386425713090254,
          0.2897506749290084
         ]
        },
        {
         "line": {
          "color": "rgba(55, 128, 191, 1.0)",
          "dash": "solid",
          "shape": "linear",
          "width": 1.3
         },
         "mode": "lines",
         "name": "B",
         "text": "",
         "type": "scatter",
         "x": [
          0,
          1,
          2,
          3,
          4,
          5,
          6,
          7,
          8,
          9,
          10,
          11,
          12,
          13,
          14,
          15,
          16,
          17,
          18,
          19,
          20,
          21,
          22,
          23,
          24,
          25,
          26,
          27,
          28,
          29,
          30,
          31,
          32,
          33,
          34,
          35,
          36,
          37,
          38,
          39,
          40,
          41,
          42,
          43,
          44,
          45,
          46,
          47,
          48,
          49,
          50,
          51,
          52,
          53,
          54,
          55,
          56,
          57,
          58,
          59,
          60,
          61,
          62,
          63,
          64,
          65,
          66,
          67,
          68,
          69,
          70,
          71,
          72,
          73,
          74,
          75,
          76,
          77,
          78,
          79,
          80,
          81,
          82,
          83,
          84,
          85,
          86,
          87,
          88,
          89,
          90,
          91,
          92,
          93,
          94,
          95,
          96,
          97,
          98,
          99
         ],
         "y": [
          0.4908311343814552,
          0.2184294036515998,
          0.8773199756877776,
          -0.5306270595751419,
          -0.45857510326432177,
          -2.210141175194517,
          -1.1718073236010733,
          0.7655275912167271,
          0.6356541834810701,
          -1.6332828663175116,
          1.0487351561018425,
          1.43729039987702,
          -0.7409401093263623,
          -0.5906002518728066,
          -3.5822454622628177,
          1.775083894237991,
          3.153359736399895,
          -0.206360434964078,
          0.4832668240227068,
          1.4924634234884744,
          1.1303056661058593,
          0.3809413259195282,
          -0.08435249626929543,
          0.3702751991921212,
          1.3951327098969522,
          -1.7295969719787143,
          -0.44408775127808997,
          1.1487743309202474,
          -0.04902087713511538,
          -0.7120750076662782,
          0.40449471024488143,
          0.2918957958896897,
          0.5560023877190212,
          -0.16752371802339486,
          -1.716850478180125,
          0.649158426150467,
          1.1233767639252763,
          -0.814426114370307,
          0.9445349720500489,
          0.05147449020198193,
          0.8137655537705104,
          -1.2817599458106645,
          -0.14242664444260536,
          2.094452656634059,
          -0.6513378649946291,
          0.24095637290196942,
          0.6557918851124303,
          -0.3338149240064824,
          0.1969743738756663,
          -0.4912013596722006,
          1.4809601842856794,
          0.348984950814985,
          -0.4530667696706939,
          1.612914879507302,
          0.09814254220664902,
          0.1592404246273716,
          0.32301285061662766,
          -0.2110628783857944,
          -1.2090441466834407,
          0.2731259978707747,
          -0.6739588109652542,
          -1.0767813621272486,
          0.21458519274391671,
          -1.2171725576955057,
          0.9340611364054661,
          -0.3972945452157132,
          1.1575954255423209,
          -0.47619949851144905,
          2.519144683341893,
          1.2944533426663674,
          -0.9734229218001452,
          1.3682532247341346,
          -0.8496789312210303,
          -0.2649093729476989,
          0.6457170669435297,
          0.8271064006126501,
          -0.7749528988067509,
          1.001913076936737,
          0.8120002507488213,
          -0.8663830893781663,
          2.2109593730602133,
          -0.3781719075913857,
          0.015200436893985737,
          2.0796227484366914,
          0.03414309480971347,
          -0.7073025970093648,
          0.5447876540997124,
          0.15871659579090078,
          -0.060186952309339056,
          -2.040420778866945,
          -0.13855641571035474,
          -1.6961095263369388,
          -0.9299607848471094,
          0.42810125413179506,
          -0.20960566035875308,
          0.8091366866871842,
          -0.6383733130460841,
          0.03184295820309675,
          0.4099770897336773,
          0.29049798568337276
         ]
        },
        {
         "line": {
          "color": "rgba(50, 171, 96, 1.0)",
          "dash": "solid",
          "shape": "linear",
          "width": 1.3
         },
         "mode": "lines",
         "name": "C",
         "text": "",
         "type": "scatter",
         "x": [
          0,
          1,
          2,
          3,
          4,
          5,
          6,
          7,
          8,
          9,
          10,
          11,
          12,
          13,
          14,
          15,
          16,
          17,
          18,
          19,
          20,
          21,
          22,
          23,
          24,
          25,
          26,
          27,
          28,
          29,
          30,
          31,
          32,
          33,
          34,
          35,
          36,
          37,
          38,
          39,
          40,
          41,
          42,
          43,
          44,
          45,
          46,
          47,
          48,
          49,
          50,
          51,
          52,
          53,
          54,
          55,
          56,
          57,
          58,
          59,
          60,
          61,
          62,
          63,
          64,
          65,
          66,
          67,
          68,
          69,
          70,
          71,
          72,
          73,
          74,
          75,
          76,
          77,
          78,
          79,
          80,
          81,
          82,
          83,
          84,
          85,
          86,
          87,
          88,
          89,
          90,
          91,
          92,
          93,
          94,
          95,
          96,
          97,
          98,
          99
         ],
         "y": [
          1.24824987724467,
          0.9983689311913663,
          -1.0545690724204038,
          1.1110154458252424,
          -0.18806788243124886,
          1.6412332962784588,
          0.9976205692561707,
          -0.20563881102554485,
          0.5345206661859929,
          -0.8505885078959133,
          -1.1753042938369387,
          0.5549326737094422,
          1.0995805298123364,
          -1.0560733314055109,
          1.3277532401832361,
          1.4523608886914232,
          -0.161314534715455,
          -0.33489534535513893,
          -0.7537305268618539,
          -1.3651019723336582,
          0.15357143130152426,
          2.352502339439212,
          0.8208166600250829,
          -1.5795811113520248,
          0.9950742161653353,
          0.14579194579704557,
          0.8169337766943169,
          -1.1420317664011554,
          -0.6917161512521847,
          0.5397028580408441,
          1.2888922014575794,
          0.9645618249698433,
          2.508282884935816,
          -1.2406403110575333,
          0.6727589312788329,
          1.9535578727520735,
          2.0655850841980685,
          0.5939239517448182,
          1.5609919616111845,
          -0.7252496988828738,
          2.136310258701791,
          0.4446478384214512,
          0.7814050040605677,
          1.9400127197756265,
          -0.0625414646621362,
          -0.49897583504721527,
          0.34188695790826173,
          -0.8253166450180647,
          0.7075042946640339,
          -1.0497064659937023,
          0.6115380282026508,
          -0.042634838988535886,
          -1.613726680017053,
          -0.5108762951988812,
          -1.109847843378826,
          -0.7640949124503643,
          -1.1407668845157493,
          0.27212241625304584,
          1.0395184083143811,
          -1.5022539999450975,
          -0.9908832213910737,
          0.5194210032608014,
          -0.49037645678522157,
          1.2474633860946922,
          -1.2160380494102008,
          1.3460491818655465,
          -0.230631034046932,
          1.4089074816386598,
          -0.1579573048321106,
          -0.5160439485600161,
          -0.3648808343273896,
          -0.5257838884533907,
          0.06842469839609554,
          0.08568730169514732,
          -1.1371332137463852,
          -1.4971689928424767,
          -0.8515939238232175,
          -1.30988193953392,
          1.3795659468683439,
          -0.5130671601260106,
          0.9621516370294597,
          -0.9187135909664644,
          0.8604235269339526,
          0.37135557036266653,
          0.8614769610539936,
          -0.18904446358552046,
          -2.22437399622934,
          0.33106342755376417,
          2.549737610004259,
          -0.4618425641054059,
          -1.2889213156018071,
          0.07516728539907698,
          -0.048269396726482776,
          1.088268004436375,
          1.3079386308997538,
          -1.143496816856456,
          0.27367419166654844,
          -0.06915058726928211,
          0.4000533457112604,
          -0.021474464692848805
         ]
        },
        {
         "line": {
          "color": "rgba(128, 0, 128, 1.0)",
          "dash": "solid",
          "shape": "linear",
          "width": 1.3
         },
         "mode": "lines",
         "name": "D",
         "text": "",
         "type": "scatter",
         "x": [
          0,
          1,
          2,
          3,
          4,
          5,
          6,
          7,
          8,
          9,
          10,
          11,
          12,
          13,
          14,
          15,
          16,
          17,
          18,
          19,
          20,
          21,
          22,
          23,
          24,
          25,
          26,
          27,
          28,
          29,
          30,
          31,
          32,
          33,
          34,
          35,
          36,
          37,
          38,
          39,
          40,
          41,
          42,
          43,
          44,
          45,
          46,
          47,
          48,
          49,
          50,
          51,
          52,
          53,
          54,
          55,
          56,
          57,
          58,
          59,
          60,
          61,
          62,
          63,
          64,
          65,
          66,
          67,
          68,
          69,
          70,
          71,
          72,
          73,
          74,
          75,
          76,
          77,
          78,
          79,
          80,
          81,
          82,
          83,
          84,
          85,
          86,
          87,
          88,
          89,
          90,
          91,
          92,
          93,
          94,
          95,
          96,
          97,
          98,
          99
         ],
         "y": [
          1.0342738233186355,
          0.5156610196675836,
          -0.5725259067866464,
          -0.10970870252082576,
          -1.4327145722273824,
          -0.9826239102851156,
          0.5006651139298808,
          -1.1502675055475746,
          0.6639679297637253,
          -0.07752158325123237,
          2.0158414978467887,
          -0.9955282451419247,
          -1.7210864207825824,
          0.23479523078152342,
          -0.2161324289065316,
          0.25208726701439466,
          0.01577336591237228,
          0.34882139513354027,
          -0.7238237634736284,
          -0.3501528880220865,
          1.0479828325432092,
          0.9155011350265077,
          0.20143348513930073,
          -1.5723117782905938,
          0.8329643643432065,
          -0.020518177832366917,
          0.4434169197970847,
          -0.13151662643872672,
          0.19345297335747452,
          -1.0478613936117316,
          -1.2799209471787956,
          0.9050515082873299,
          -0.9489689486425905,
          -1.091978704639964,
          0.6384162534669922,
          -0.8818576944601535,
          0.2093325649640961,
          0.8242202667089975,
          -2.8517008211626615,
          0.30367457140949283,
          0.9725263493422491,
          1.224233425644717,
          0.8635991278823429,
          0.46944638498128954,
          0.8197091528699354,
          1.0113032914201345,
          0.13748361177121818,
          1.6692510622178953,
          0.432584711062849,
          -0.29826117549858916,
          -0.4593725731326591,
          -0.17404850710223124,
          -0.9369130775604738,
          0.2507113827278272,
          0.1530612974438675,
          1.5401766900531628,
          0.8993395464011825,
          -0.32920039648177646,
          0.5914808895285231,
          -0.7853589024365782,
          0.7325306864025032,
          -1.3905132515174619,
          0.9167629257257449,
          1.0412497492462496,
          3.0885137231233815,
          -0.6518212596559126,
          0.363107114757367,
          1.7062057862485325,
          0.050858029670477874,
          1.1709220746651454,
          0.6051558226870052,
          0.4992326633715957,
          0.20317822388308163,
          0.23867508128071055,
          -1.099568926340057,
          -2.1461816017798543,
          1.3572434043105053,
          -1.5904421177027062,
          -0.0642040160364851,
          0.7931736049541596,
          -1.2157041083468376,
          -1.6847396490905608,
          -1.8683363355635891,
          -0.6734526705125173,
          -1.26830693894692,
          -0.6493342786724048,
          -0.16319043196262376,
          -0.8780734025113669,
          -1.4106890856015997,
          -1.1809037028725,
          -0.5100649158973671,
          0.3895190308583476,
          -1.2204805956483635,
          0.1847573466074172,
          -1.383240694871071,
          -0.5472801903743459,
          0.9156878096550913,
          0.4285045498957374,
          0.5691321261310297,
          -0.5463110957781203
         ]
        }
       ],
       "layout": {
        "legend": {
         "bgcolor": "#F5F6F9",
         "font": {
          "color": "#4D5663"
         }
        },
        "paper_bgcolor": "#F5F6F9",
        "plot_bgcolor": "#F5F6F9",
        "template": {
         "data": {
          "bar": [
           {
            "error_x": {
             "color": "#2a3f5f"
            },
            "error_y": {
             "color": "#2a3f5f"
            },
            "marker": {
             "line": {
              "color": "#E5ECF6",
              "width": 0.5
             },
             "pattern": {
              "fillmode": "overlay",
              "size": 10,
              "solidity": 0.2
             }
            },
            "type": "bar"
           }
          ],
          "barpolar": [
           {
            "marker": {
             "line": {
              "color": "#E5ECF6",
              "width": 0.5
             },
             "pattern": {
              "fillmode": "overlay",
              "size": 10,
              "solidity": 0.2
             }
            },
            "type": "barpolar"
           }
          ],
          "carpet": [
           {
            "aaxis": {
             "endlinecolor": "#2a3f5f",
             "gridcolor": "white",
             "linecolor": "white",
             "minorgridcolor": "white",
             "startlinecolor": "#2a3f5f"
            },
            "baxis": {
             "endlinecolor": "#2a3f5f",
             "gridcolor": "white",
             "linecolor": "white",
             "minorgridcolor": "white",
             "startlinecolor": "#2a3f5f"
            },
            "type": "carpet"
           }
          ],
          "choropleth": [
           {
            "colorbar": {
             "outlinewidth": 0,
             "ticks": ""
            },
            "type": "choropleth"
           }
          ],
          "contour": [
           {
            "colorbar": {
             "outlinewidth": 0,
             "ticks": ""
            },
            "colorscale": [
             [
              0,
              "#0d0887"
             ],
             [
              0.1111111111111111,
              "#46039f"
             ],
             [
              0.2222222222222222,
              "#7201a8"
             ],
             [
              0.3333333333333333,
              "#9c179e"
             ],
             [
              0.4444444444444444,
              "#bd3786"
             ],
             [
              0.5555555555555556,
              "#d8576b"
             ],
             [
              0.6666666666666666,
              "#ed7953"
             ],
             [
              0.7777777777777778,
              "#fb9f3a"
             ],
             [
              0.8888888888888888,
              "#fdca26"
             ],
             [
              1,
              "#f0f921"
             ]
            ],
            "type": "contour"
           }
          ],
          "contourcarpet": [
           {
            "colorbar": {
             "outlinewidth": 0,
             "ticks": ""
            },
            "type": "contourcarpet"
           }
          ],
          "heatmap": [
           {
            "colorbar": {
             "outlinewidth": 0,
             "ticks": ""
            },
            "colorscale": [
             [
              0,
              "#0d0887"
             ],
             [
              0.1111111111111111,
              "#46039f"
             ],
             [
              0.2222222222222222,
              "#7201a8"
             ],
             [
              0.3333333333333333,
              "#9c179e"
             ],
             [
              0.4444444444444444,
              "#bd3786"
             ],
             [
              0.5555555555555556,
              "#d8576b"
             ],
             [
              0.6666666666666666,
              "#ed7953"
             ],
             [
              0.7777777777777778,
              "#fb9f3a"
             ],
             [
              0.8888888888888888,
              "#fdca26"
             ],
             [
              1,
              "#f0f921"
             ]
            ],
            "type": "heatmap"
           }
          ],
          "heatmapgl": [
           {
            "colorbar": {
             "outlinewidth": 0,
             "ticks": ""
            },
            "colorscale": [
             [
              0,
              "#0d0887"
             ],
             [
              0.1111111111111111,
              "#46039f"
             ],
             [
              0.2222222222222222,
              "#7201a8"
             ],
             [
              0.3333333333333333,
              "#9c179e"
             ],
             [
              0.4444444444444444,
              "#bd3786"
             ],
             [
              0.5555555555555556,
              "#d8576b"
             ],
             [
              0.6666666666666666,
              "#ed7953"
             ],
             [
              0.7777777777777778,
              "#fb9f3a"
             ],
             [
              0.8888888888888888,
              "#fdca26"
             ],
             [
              1,
              "#f0f921"
             ]
            ],
            "type": "heatmapgl"
           }
          ],
          "histogram": [
           {
            "marker": {
             "pattern": {
              "fillmode": "overlay",
              "size": 10,
              "solidity": 0.2
             }
            },
            "type": "histogram"
           }
          ],
          "histogram2d": [
           {
            "colorbar": {
             "outlinewidth": 0,
             "ticks": ""
            },
            "colorscale": [
             [
              0,
              "#0d0887"
             ],
             [
              0.1111111111111111,
              "#46039f"
             ],
             [
              0.2222222222222222,
              "#7201a8"
             ],
             [
              0.3333333333333333,
              "#9c179e"
             ],
             [
              0.4444444444444444,
              "#bd3786"
             ],
             [
              0.5555555555555556,
              "#d8576b"
             ],
             [
              0.6666666666666666,
              "#ed7953"
             ],
             [
              0.7777777777777778,
              "#fb9f3a"
             ],
             [
              0.8888888888888888,
              "#fdca26"
             ],
             [
              1,
              "#f0f921"
             ]
            ],
            "type": "histogram2d"
           }
          ],
          "histogram2dcontour": [
           {
            "colorbar": {
             "outlinewidth": 0,
             "ticks": ""
            },
            "colorscale": [
             [
              0,
              "#0d0887"
             ],
             [
              0.1111111111111111,
              "#46039f"
             ],
             [
              0.2222222222222222,
              "#7201a8"
             ],
             [
              0.3333333333333333,
              "#9c179e"
             ],
             [
              0.4444444444444444,
              "#bd3786"
             ],
             [
              0.5555555555555556,
              "#d8576b"
             ],
             [
              0.6666666666666666,
              "#ed7953"
             ],
             [
              0.7777777777777778,
              "#fb9f3a"
             ],
             [
              0.8888888888888888,
              "#fdca26"
             ],
             [
              1,
              "#f0f921"
             ]
            ],
            "type": "histogram2dcontour"
           }
          ],
          "mesh3d": [
           {
            "colorbar": {
             "outlinewidth": 0,
             "ticks": ""
            },
            "type": "mesh3d"
           }
          ],
          "parcoords": [
           {
            "line": {
             "colorbar": {
              "outlinewidth": 0,
              "ticks": ""
             }
            },
            "type": "parcoords"
           }
          ],
          "pie": [
           {
            "automargin": true,
            "type": "pie"
           }
          ],
          "scatter": [
           {
            "marker": {
             "colorbar": {
              "outlinewidth": 0,
              "ticks": ""
             }
            },
            "type": "scatter"
           }
          ],
          "scatter3d": [
           {
            "line": {
             "colorbar": {
              "outlinewidth": 0,
              "ticks": ""
             }
            },
            "marker": {
             "colorbar": {
              "outlinewidth": 0,
              "ticks": ""
             }
            },
            "type": "scatter3d"
           }
          ],
          "scattercarpet": [
           {
            "marker": {
             "colorbar": {
              "outlinewidth": 0,
              "ticks": ""
             }
            },
            "type": "scattercarpet"
           }
          ],
          "scattergeo": [
           {
            "marker": {
             "colorbar": {
              "outlinewidth": 0,
              "ticks": ""
             }
            },
            "type": "scattergeo"
           }
          ],
          "scattergl": [
           {
            "marker": {
             "colorbar": {
              "outlinewidth": 0,
              "ticks": ""
             }
            },
            "type": "scattergl"
           }
          ],
          "scattermapbox": [
           {
            "marker": {
             "colorbar": {
              "outlinewidth": 0,
              "ticks": ""
             }
            },
            "type": "scattermapbox"
           }
          ],
          "scatterpolar": [
           {
            "marker": {
             "colorbar": {
              "outlinewidth": 0,
              "ticks": ""
             }
            },
            "type": "scatterpolar"
           }
          ],
          "scatterpolargl": [
           {
            "marker": {
             "colorbar": {
              "outlinewidth": 0,
              "ticks": ""
             }
            },
            "type": "scatterpolargl"
           }
          ],
          "scatterternary": [
           {
            "marker": {
             "colorbar": {
              "outlinewidth": 0,
              "ticks": ""
             }
            },
            "type": "scatterternary"
           }
          ],
          "surface": [
           {
            "colorbar": {
             "outlinewidth": 0,
             "ticks": ""
            },
            "colorscale": [
             [
              0,
              "#0d0887"
             ],
             [
              0.1111111111111111,
              "#46039f"
             ],
             [
              0.2222222222222222,
              "#7201a8"
             ],
             [
              0.3333333333333333,
              "#9c179e"
             ],
             [
              0.4444444444444444,
              "#bd3786"
             ],
             [
              0.5555555555555556,
              "#d8576b"
             ],
             [
              0.6666666666666666,
              "#ed7953"
             ],
             [
              0.7777777777777778,
              "#fb9f3a"
             ],
             [
              0.8888888888888888,
              "#fdca26"
             ],
             [
              1,
              "#f0f921"
             ]
            ],
            "type": "surface"
           }
          ],
          "table": [
           {
            "cells": {
             "fill": {
              "color": "#EBF0F8"
             },
             "line": {
              "color": "white"
             }
            },
            "header": {
             "fill": {
              "color": "#C8D4E3"
             },
             "line": {
              "color": "white"
             }
            },
            "type": "table"
           }
          ]
         },
         "layout": {
          "annotationdefaults": {
           "arrowcolor": "#2a3f5f",
           "arrowhead": 0,
           "arrowwidth": 1
          },
          "autotypenumbers": "strict",
          "coloraxis": {
           "colorbar": {
            "outlinewidth": 0,
            "ticks": ""
           }
          },
          "colorscale": {
           "diverging": [
            [
             0,
             "#8e0152"
            ],
            [
             0.1,
             "#c51b7d"
            ],
            [
             0.2,
             "#de77ae"
            ],
            [
             0.3,
             "#f1b6da"
            ],
            [
             0.4,
             "#fde0ef"
            ],
            [
             0.5,
             "#f7f7f7"
            ],
            [
             0.6,
             "#e6f5d0"
            ],
            [
             0.7,
             "#b8e186"
            ],
            [
             0.8,
             "#7fbc41"
            ],
            [
             0.9,
             "#4d9221"
            ],
            [
             1,
             "#276419"
            ]
           ],
           "sequential": [
            [
             0,
             "#0d0887"
            ],
            [
             0.1111111111111111,
             "#46039f"
            ],
            [
             0.2222222222222222,
             "#7201a8"
            ],
            [
             0.3333333333333333,
             "#9c179e"
            ],
            [
             0.4444444444444444,
             "#bd3786"
            ],
            [
             0.5555555555555556,
             "#d8576b"
            ],
            [
             0.6666666666666666,
             "#ed7953"
            ],
            [
             0.7777777777777778,
             "#fb9f3a"
            ],
            [
             0.8888888888888888,
             "#fdca26"
            ],
            [
             1,
             "#f0f921"
            ]
           ],
           "sequentialminus": [
            [
             0,
             "#0d0887"
            ],
            [
             0.1111111111111111,
             "#46039f"
            ],
            [
             0.2222222222222222,
             "#7201a8"
            ],
            [
             0.3333333333333333,
             "#9c179e"
            ],
            [
             0.4444444444444444,
             "#bd3786"
            ],
            [
             0.5555555555555556,
             "#d8576b"
            ],
            [
             0.6666666666666666,
             "#ed7953"
            ],
            [
             0.7777777777777778,
             "#fb9f3a"
            ],
            [
             0.8888888888888888,
             "#fdca26"
            ],
            [
             1,
             "#f0f921"
            ]
           ]
          },
          "colorway": [
           "#636efa",
           "#EF553B",
           "#00cc96",
           "#ab63fa",
           "#FFA15A",
           "#19d3f3",
           "#FF6692",
           "#B6E880",
           "#FF97FF",
           "#FECB52"
          ],
          "font": {
           "color": "#2a3f5f"
          },
          "geo": {
           "bgcolor": "white",
           "lakecolor": "white",
           "landcolor": "#E5ECF6",
           "showlakes": true,
           "showland": true,
           "subunitcolor": "white"
          },
          "hoverlabel": {
           "align": "left"
          },
          "hovermode": "closest",
          "mapbox": {
           "style": "light"
          },
          "paper_bgcolor": "white",
          "plot_bgcolor": "#E5ECF6",
          "polar": {
           "angularaxis": {
            "gridcolor": "white",
            "linecolor": "white",
            "ticks": ""
           },
           "bgcolor": "#E5ECF6",
           "radialaxis": {
            "gridcolor": "white",
            "linecolor": "white",
            "ticks": ""
           }
          },
          "scene": {
           "xaxis": {
            "backgroundcolor": "#E5ECF6",
            "gridcolor": "white",
            "gridwidth": 2,
            "linecolor": "white",
            "showbackground": true,
            "ticks": "",
            "zerolinecolor": "white"
           },
           "yaxis": {
            "backgroundcolor": "#E5ECF6",
            "gridcolor": "white",
            "gridwidth": 2,
            "linecolor": "white",
            "showbackground": true,
            "ticks": "",
            "zerolinecolor": "white"
           },
           "zaxis": {
            "backgroundcolor": "#E5ECF6",
            "gridcolor": "white",
            "gridwidth": 2,
            "linecolor": "white",
            "showbackground": true,
            "ticks": "",
            "zerolinecolor": "white"
           }
          },
          "shapedefaults": {
           "line": {
            "color": "#2a3f5f"
           }
          },
          "ternary": {
           "aaxis": {
            "gridcolor": "white",
            "linecolor": "white",
            "ticks": ""
           },
           "baxis": {
            "gridcolor": "white",
            "linecolor": "white",
            "ticks": ""
           },
           "bgcolor": "#E5ECF6",
           "caxis": {
            "gridcolor": "white",
            "linecolor": "white",
            "ticks": ""
           }
          },
          "title": {
           "x": 0.05
          },
          "xaxis": {
           "automargin": true,
           "gridcolor": "white",
           "linecolor": "white",
           "ticks": "",
           "title": {
            "standoff": 15
           },
           "zerolinecolor": "white",
           "zerolinewidth": 2
          },
          "yaxis": {
           "automargin": true,
           "gridcolor": "white",
           "linecolor": "white",
           "ticks": "",
           "title": {
            "standoff": 15
           },
           "zerolinecolor": "white",
           "zerolinewidth": 2
          }
         }
        },
        "title": {
         "font": {
          "color": "#4D5663"
         }
        },
        "xaxis": {
         "gridcolor": "#E1E5ED",
         "showgrid": true,
         "tickfont": {
          "color": "#4D5663"
         },
         "title": {
          "font": {
           "color": "#4D5663"
          },
          "text": ""
         },
         "zerolinecolor": "#E1E5ED"
        },
        "yaxis": {
         "gridcolor": "#E1E5ED",
         "showgrid": true,
         "tickfont": {
          "color": "#4D5663"
         },
         "title": {
          "font": {
           "color": "#4D5663"
          },
          "text": ""
         },
         "zerolinecolor": "#E1E5ED"
        }
       }
      },
      "text/html": [
       "<div>                            <div id=\"7e7d2201-38bf-4629-b0c9-fda6d0f54080\" class=\"plotly-graph-div\" style=\"height:525px; width:100%;\"></div>            <script type=\"text/javascript\">                require([\"plotly\"], function(Plotly) {                    window.PLOTLYENV=window.PLOTLYENV || {};\n",
       "                    window.PLOTLYENV.BASE_URL='https://plot.ly';                                    if (document.getElementById(\"7e7d2201-38bf-4629-b0c9-fda6d0f54080\")) {                    Plotly.newPlot(                        \"7e7d2201-38bf-4629-b0c9-fda6d0f54080\",                        [{\"line\":{\"color\":\"rgba(255, 153, 51, 1.0)\",\"dash\":\"solid\",\"shape\":\"linear\",\"width\":1.3},\"mode\":\"lines\",\"name\":\"A\",\"text\":\"\",\"type\":\"scatter\",\"x\":[0,1,2,3,4,5,6,7,8,9,10,11,12,13,14,15,16,17,18,19,20,21,22,23,24,25,26,27,28,29,30,31,32,33,34,35,36,37,38,39,40,41,42,43,44,45,46,47,48,49,50,51,52,53,54,55,56,57,58,59,60,61,62,63,64,65,66,67,68,69,70,71,72,73,74,75,76,77,78,79,80,81,82,83,84,85,86,87,88,89,90,91,92,93,94,95,96,97,98,99],\"y\":[0.05605791357056261,0.460019687284693,0.6287518092337231,-0.40335735674017076,0.10729666753545831,-0.6295013494642708,-1.4951352553786494,1.0672754786555207,0.3598261803907446,-1.0166936426325441,-0.07666864253836506,0.0410685021645721,0.48573655430333923,-0.11416938422627511,-0.7386166413012212,0.7039588772816362,1.707845165649345,0.3042828542104509,1.1414108452743028,-0.1891422906682915,-1.0724824106218038,1.697912228612607,2.376315745461367,1.3285205463490388,0.5241455798665027,0.3296266350692246,0.893307944055857,0.29888277985522527,-0.40214756911155725,0.27769939748663547,1.7229469733657832,-1.0590791859078141,0.17677513633413716,-1.0751157989840059,-1.206163745609603,0.21085545930113656,0.28691557726486,0.5626865844183987,-0.024749798143169792,-1.227681486982836,2.3768811509212675,-1.5514568828774338,1.6112875275834087,-0.035511207000442,1.3597817860592807,0.6340139048174628,-0.9461246374711879,-0.5980463813946243,-0.11121371341266718,-0.7789947858694427,-0.7909367835488761,0.44597932143928465,-0.015829741692926957,0.5880978326151248,-1.1687690687778953,0.46738762470996625,-1.0232152012694558,0.019203856503362135,-0.2513480883458298,1.67760815029347,-0.3388913730150217,0.5054335631763178,-0.5582218465556053,0.09412762463803932,-0.269836966510378,-0.4229131069545643,-0.05562146161653577,0.36806445455580034,-0.1491590393377931,-1.6102639259917182,0.3538094719163923,1.2443563819434125,-0.5311791146417401,0.03025030818705174,2.6374187556509767,-0.06300359369525535,-0.2163986548430199,-1.4063465608219916,-0.6335377419553875,0.5468778943274468,0.22887859434644822,-0.0024186408660699346,1.051698629355191,-0.9869517109480603,-0.31987496824644224,-0.540174686913111,0.3340381390336442,0.7322443952033713,-0.9129854111412516,-0.18584647450385625,-0.9478104793799853,0.7151795709345523,-0.8542424412247567,-1.5265198883275757,0.5488311569159915,0.21865254089016833,-0.4204248699245095,-1.0376879604394742,0.24386425713090254,0.2897506749290084]},{\"line\":{\"color\":\"rgba(55, 128, 191, 1.0)\",\"dash\":\"solid\",\"shape\":\"linear\",\"width\":1.3},\"mode\":\"lines\",\"name\":\"B\",\"text\":\"\",\"type\":\"scatter\",\"x\":[0,1,2,3,4,5,6,7,8,9,10,11,12,13,14,15,16,17,18,19,20,21,22,23,24,25,26,27,28,29,30,31,32,33,34,35,36,37,38,39,40,41,42,43,44,45,46,47,48,49,50,51,52,53,54,55,56,57,58,59,60,61,62,63,64,65,66,67,68,69,70,71,72,73,74,75,76,77,78,79,80,81,82,83,84,85,86,87,88,89,90,91,92,93,94,95,96,97,98,99],\"y\":[0.4908311343814552,0.2184294036515998,0.8773199756877776,-0.5306270595751419,-0.45857510326432177,-2.210141175194517,-1.1718073236010733,0.7655275912167271,0.6356541834810701,-1.6332828663175116,1.0487351561018425,1.43729039987702,-0.7409401093263623,-0.5906002518728066,-3.5822454622628177,1.775083894237991,3.153359736399895,-0.206360434964078,0.4832668240227068,1.4924634234884744,1.1303056661058593,0.3809413259195282,-0.08435249626929543,0.3702751991921212,1.3951327098969522,-1.7295969719787143,-0.44408775127808997,1.1487743309202474,-0.04902087713511538,-0.7120750076662782,0.40449471024488143,0.2918957958896897,0.5560023877190212,-0.16752371802339486,-1.716850478180125,0.649158426150467,1.1233767639252763,-0.814426114370307,0.9445349720500489,0.05147449020198193,0.8137655537705104,-1.2817599458106645,-0.14242664444260536,2.094452656634059,-0.6513378649946291,0.24095637290196942,0.6557918851124303,-0.3338149240064824,0.1969743738756663,-0.4912013596722006,1.4809601842856794,0.348984950814985,-0.4530667696706939,1.612914879507302,0.09814254220664902,0.1592404246273716,0.32301285061662766,-0.2110628783857944,-1.2090441466834407,0.2731259978707747,-0.6739588109652542,-1.0767813621272486,0.21458519274391671,-1.2171725576955057,0.9340611364054661,-0.3972945452157132,1.1575954255423209,-0.47619949851144905,2.519144683341893,1.2944533426663674,-0.9734229218001452,1.3682532247341346,-0.8496789312210303,-0.2649093729476989,0.6457170669435297,0.8271064006126501,-0.7749528988067509,1.001913076936737,0.8120002507488213,-0.8663830893781663,2.2109593730602133,-0.3781719075913857,0.015200436893985737,2.0796227484366914,0.03414309480971347,-0.7073025970093648,0.5447876540997124,0.15871659579090078,-0.060186952309339056,-2.040420778866945,-0.13855641571035474,-1.6961095263369388,-0.9299607848471094,0.42810125413179506,-0.20960566035875308,0.8091366866871842,-0.6383733130460841,0.03184295820309675,0.4099770897336773,0.29049798568337276]},{\"line\":{\"color\":\"rgba(50, 171, 96, 1.0)\",\"dash\":\"solid\",\"shape\":\"linear\",\"width\":1.3},\"mode\":\"lines\",\"name\":\"C\",\"text\":\"\",\"type\":\"scatter\",\"x\":[0,1,2,3,4,5,6,7,8,9,10,11,12,13,14,15,16,17,18,19,20,21,22,23,24,25,26,27,28,29,30,31,32,33,34,35,36,37,38,39,40,41,42,43,44,45,46,47,48,49,50,51,52,53,54,55,56,57,58,59,60,61,62,63,64,65,66,67,68,69,70,71,72,73,74,75,76,77,78,79,80,81,82,83,84,85,86,87,88,89,90,91,92,93,94,95,96,97,98,99],\"y\":[1.24824987724467,0.9983689311913663,-1.0545690724204038,1.1110154458252424,-0.18806788243124886,1.6412332962784588,0.9976205692561707,-0.20563881102554485,0.5345206661859929,-0.8505885078959133,-1.1753042938369387,0.5549326737094422,1.0995805298123364,-1.0560733314055109,1.3277532401832361,1.4523608886914232,-0.161314534715455,-0.33489534535513893,-0.7537305268618539,-1.3651019723336582,0.15357143130152426,2.352502339439212,0.8208166600250829,-1.5795811113520248,0.9950742161653353,0.14579194579704557,0.8169337766943169,-1.1420317664011554,-0.6917161512521847,0.5397028580408441,1.2888922014575794,0.9645618249698433,2.508282884935816,-1.2406403110575333,0.6727589312788329,1.9535578727520735,2.0655850841980685,0.5939239517448182,1.5609919616111845,-0.7252496988828738,2.136310258701791,0.4446478384214512,0.7814050040605677,1.9400127197756265,-0.0625414646621362,-0.49897583504721527,0.34188695790826173,-0.8253166450180647,0.7075042946640339,-1.0497064659937023,0.6115380282026508,-0.042634838988535886,-1.613726680017053,-0.5108762951988812,-1.109847843378826,-0.7640949124503643,-1.1407668845157493,0.27212241625304584,1.0395184083143811,-1.5022539999450975,-0.9908832213910737,0.5194210032608014,-0.49037645678522157,1.2474633860946922,-1.2160380494102008,1.3460491818655465,-0.230631034046932,1.4089074816386598,-0.1579573048321106,-0.5160439485600161,-0.3648808343273896,-0.5257838884533907,0.06842469839609554,0.08568730169514732,-1.1371332137463852,-1.4971689928424767,-0.8515939238232175,-1.30988193953392,1.3795659468683439,-0.5130671601260106,0.9621516370294597,-0.9187135909664644,0.8604235269339526,0.37135557036266653,0.8614769610539936,-0.18904446358552046,-2.22437399622934,0.33106342755376417,2.549737610004259,-0.4618425641054059,-1.2889213156018071,0.07516728539907698,-0.048269396726482776,1.088268004436375,1.3079386308997538,-1.143496816856456,0.27367419166654844,-0.06915058726928211,0.4000533457112604,-0.021474464692848805]},{\"line\":{\"color\":\"rgba(128, 0, 128, 1.0)\",\"dash\":\"solid\",\"shape\":\"linear\",\"width\":1.3},\"mode\":\"lines\",\"name\":\"D\",\"text\":\"\",\"type\":\"scatter\",\"x\":[0,1,2,3,4,5,6,7,8,9,10,11,12,13,14,15,16,17,18,19,20,21,22,23,24,25,26,27,28,29,30,31,32,33,34,35,36,37,38,39,40,41,42,43,44,45,46,47,48,49,50,51,52,53,54,55,56,57,58,59,60,61,62,63,64,65,66,67,68,69,70,71,72,73,74,75,76,77,78,79,80,81,82,83,84,85,86,87,88,89,90,91,92,93,94,95,96,97,98,99],\"y\":[1.0342738233186355,0.5156610196675836,-0.5725259067866464,-0.10970870252082576,-1.4327145722273824,-0.9826239102851156,0.5006651139298808,-1.1502675055475746,0.6639679297637253,-0.07752158325123237,2.0158414978467887,-0.9955282451419247,-1.7210864207825824,0.23479523078152342,-0.2161324289065316,0.25208726701439466,0.01577336591237228,0.34882139513354027,-0.7238237634736284,-0.3501528880220865,1.0479828325432092,0.9155011350265077,0.20143348513930073,-1.5723117782905938,0.8329643643432065,-0.020518177832366917,0.4434169197970847,-0.13151662643872672,0.19345297335747452,-1.0478613936117316,-1.2799209471787956,0.9050515082873299,-0.9489689486425905,-1.091978704639964,0.6384162534669922,-0.8818576944601535,0.2093325649640961,0.8242202667089975,-2.8517008211626615,0.30367457140949283,0.9725263493422491,1.224233425644717,0.8635991278823429,0.46944638498128954,0.8197091528699354,1.0113032914201345,0.13748361177121818,1.6692510622178953,0.432584711062849,-0.29826117549858916,-0.4593725731326591,-0.17404850710223124,-0.9369130775604738,0.2507113827278272,0.1530612974438675,1.5401766900531628,0.8993395464011825,-0.32920039648177646,0.5914808895285231,-0.7853589024365782,0.7325306864025032,-1.3905132515174619,0.9167629257257449,1.0412497492462496,3.0885137231233815,-0.6518212596559126,0.363107114757367,1.7062057862485325,0.050858029670477874,1.1709220746651454,0.6051558226870052,0.4992326633715957,0.20317822388308163,0.23867508128071055,-1.099568926340057,-2.1461816017798543,1.3572434043105053,-1.5904421177027062,-0.0642040160364851,0.7931736049541596,-1.2157041083468376,-1.6847396490905608,-1.8683363355635891,-0.6734526705125173,-1.26830693894692,-0.6493342786724048,-0.16319043196262376,-0.8780734025113669,-1.4106890856015997,-1.1809037028725,-0.5100649158973671,0.3895190308583476,-1.2204805956483635,0.1847573466074172,-1.383240694871071,-0.5472801903743459,0.9156878096550913,0.4285045498957374,0.5691321261310297,-0.5463110957781203]}],                        {\"legend\":{\"bgcolor\":\"#F5F6F9\",\"font\":{\"color\":\"#4D5663\"}},\"paper_bgcolor\":\"#F5F6F9\",\"plot_bgcolor\":\"#F5F6F9\",\"template\":{\"data\":{\"bar\":[{\"error_x\":{\"color\":\"#2a3f5f\"},\"error_y\":{\"color\":\"#2a3f5f\"},\"marker\":{\"line\":{\"color\":\"#E5ECF6\",\"width\":0.5},\"pattern\":{\"fillmode\":\"overlay\",\"size\":10,\"solidity\":0.2}},\"type\":\"bar\"}],\"barpolar\":[{\"marker\":{\"line\":{\"color\":\"#E5ECF6\",\"width\":0.5},\"pattern\":{\"fillmode\":\"overlay\",\"size\":10,\"solidity\":0.2}},\"type\":\"barpolar\"}],\"carpet\":[{\"aaxis\":{\"endlinecolor\":\"#2a3f5f\",\"gridcolor\":\"white\",\"linecolor\":\"white\",\"minorgridcolor\":\"white\",\"startlinecolor\":\"#2a3f5f\"},\"baxis\":{\"endlinecolor\":\"#2a3f5f\",\"gridcolor\":\"white\",\"linecolor\":\"white\",\"minorgridcolor\":\"white\",\"startlinecolor\":\"#2a3f5f\"},\"type\":\"carpet\"}],\"choropleth\":[{\"colorbar\":{\"outlinewidth\":0,\"ticks\":\"\"},\"type\":\"choropleth\"}],\"contour\":[{\"colorbar\":{\"outlinewidth\":0,\"ticks\":\"\"},\"colorscale\":[[0.0,\"#0d0887\"],[0.1111111111111111,\"#46039f\"],[0.2222222222222222,\"#7201a8\"],[0.3333333333333333,\"#9c179e\"],[0.4444444444444444,\"#bd3786\"],[0.5555555555555556,\"#d8576b\"],[0.6666666666666666,\"#ed7953\"],[0.7777777777777778,\"#fb9f3a\"],[0.8888888888888888,\"#fdca26\"],[1.0,\"#f0f921\"]],\"type\":\"contour\"}],\"contourcarpet\":[{\"colorbar\":{\"outlinewidth\":0,\"ticks\":\"\"},\"type\":\"contourcarpet\"}],\"heatmap\":[{\"colorbar\":{\"outlinewidth\":0,\"ticks\":\"\"},\"colorscale\":[[0.0,\"#0d0887\"],[0.1111111111111111,\"#46039f\"],[0.2222222222222222,\"#7201a8\"],[0.3333333333333333,\"#9c179e\"],[0.4444444444444444,\"#bd3786\"],[0.5555555555555556,\"#d8576b\"],[0.6666666666666666,\"#ed7953\"],[0.7777777777777778,\"#fb9f3a\"],[0.8888888888888888,\"#fdca26\"],[1.0,\"#f0f921\"]],\"type\":\"heatmap\"}],\"heatmapgl\":[{\"colorbar\":{\"outlinewidth\":0,\"ticks\":\"\"},\"colorscale\":[[0.0,\"#0d0887\"],[0.1111111111111111,\"#46039f\"],[0.2222222222222222,\"#7201a8\"],[0.3333333333333333,\"#9c179e\"],[0.4444444444444444,\"#bd3786\"],[0.5555555555555556,\"#d8576b\"],[0.6666666666666666,\"#ed7953\"],[0.7777777777777778,\"#fb9f3a\"],[0.8888888888888888,\"#fdca26\"],[1.0,\"#f0f921\"]],\"type\":\"heatmapgl\"}],\"histogram\":[{\"marker\":{\"pattern\":{\"fillmode\":\"overlay\",\"size\":10,\"solidity\":0.2}},\"type\":\"histogram\"}],\"histogram2d\":[{\"colorbar\":{\"outlinewidth\":0,\"ticks\":\"\"},\"colorscale\":[[0.0,\"#0d0887\"],[0.1111111111111111,\"#46039f\"],[0.2222222222222222,\"#7201a8\"],[0.3333333333333333,\"#9c179e\"],[0.4444444444444444,\"#bd3786\"],[0.5555555555555556,\"#d8576b\"],[0.6666666666666666,\"#ed7953\"],[0.7777777777777778,\"#fb9f3a\"],[0.8888888888888888,\"#fdca26\"],[1.0,\"#f0f921\"]],\"type\":\"histogram2d\"}],\"histogram2dcontour\":[{\"colorbar\":{\"outlinewidth\":0,\"ticks\":\"\"},\"colorscale\":[[0.0,\"#0d0887\"],[0.1111111111111111,\"#46039f\"],[0.2222222222222222,\"#7201a8\"],[0.3333333333333333,\"#9c179e\"],[0.4444444444444444,\"#bd3786\"],[0.5555555555555556,\"#d8576b\"],[0.6666666666666666,\"#ed7953\"],[0.7777777777777778,\"#fb9f3a\"],[0.8888888888888888,\"#fdca26\"],[1.0,\"#f0f921\"]],\"type\":\"histogram2dcontour\"}],\"mesh3d\":[{\"colorbar\":{\"outlinewidth\":0,\"ticks\":\"\"},\"type\":\"mesh3d\"}],\"parcoords\":[{\"line\":{\"colorbar\":{\"outlinewidth\":0,\"ticks\":\"\"}},\"type\":\"parcoords\"}],\"pie\":[{\"automargin\":true,\"type\":\"pie\"}],\"scatter\":[{\"marker\":{\"colorbar\":{\"outlinewidth\":0,\"ticks\":\"\"}},\"type\":\"scatter\"}],\"scatter3d\":[{\"line\":{\"colorbar\":{\"outlinewidth\":0,\"ticks\":\"\"}},\"marker\":{\"colorbar\":{\"outlinewidth\":0,\"ticks\":\"\"}},\"type\":\"scatter3d\"}],\"scattercarpet\":[{\"marker\":{\"colorbar\":{\"outlinewidth\":0,\"ticks\":\"\"}},\"type\":\"scattercarpet\"}],\"scattergeo\":[{\"marker\":{\"colorbar\":{\"outlinewidth\":0,\"ticks\":\"\"}},\"type\":\"scattergeo\"}],\"scattergl\":[{\"marker\":{\"colorbar\":{\"outlinewidth\":0,\"ticks\":\"\"}},\"type\":\"scattergl\"}],\"scattermapbox\":[{\"marker\":{\"colorbar\":{\"outlinewidth\":0,\"ticks\":\"\"}},\"type\":\"scattermapbox\"}],\"scatterpolar\":[{\"marker\":{\"colorbar\":{\"outlinewidth\":0,\"ticks\":\"\"}},\"type\":\"scatterpolar\"}],\"scatterpolargl\":[{\"marker\":{\"colorbar\":{\"outlinewidth\":0,\"ticks\":\"\"}},\"type\":\"scatterpolargl\"}],\"scatterternary\":[{\"marker\":{\"colorbar\":{\"outlinewidth\":0,\"ticks\":\"\"}},\"type\":\"scatterternary\"}],\"surface\":[{\"colorbar\":{\"outlinewidth\":0,\"ticks\":\"\"},\"colorscale\":[[0.0,\"#0d0887\"],[0.1111111111111111,\"#46039f\"],[0.2222222222222222,\"#7201a8\"],[0.3333333333333333,\"#9c179e\"],[0.4444444444444444,\"#bd3786\"],[0.5555555555555556,\"#d8576b\"],[0.6666666666666666,\"#ed7953\"],[0.7777777777777778,\"#fb9f3a\"],[0.8888888888888888,\"#fdca26\"],[1.0,\"#f0f921\"]],\"type\":\"surface\"}],\"table\":[{\"cells\":{\"fill\":{\"color\":\"#EBF0F8\"},\"line\":{\"color\":\"white\"}},\"header\":{\"fill\":{\"color\":\"#C8D4E3\"},\"line\":{\"color\":\"white\"}},\"type\":\"table\"}]},\"layout\":{\"annotationdefaults\":{\"arrowcolor\":\"#2a3f5f\",\"arrowhead\":0,\"arrowwidth\":1},\"autotypenumbers\":\"strict\",\"coloraxis\":{\"colorbar\":{\"outlinewidth\":0,\"ticks\":\"\"}},\"colorscale\":{\"diverging\":[[0,\"#8e0152\"],[0.1,\"#c51b7d\"],[0.2,\"#de77ae\"],[0.3,\"#f1b6da\"],[0.4,\"#fde0ef\"],[0.5,\"#f7f7f7\"],[0.6,\"#e6f5d0\"],[0.7,\"#b8e186\"],[0.8,\"#7fbc41\"],[0.9,\"#4d9221\"],[1,\"#276419\"]],\"sequential\":[[0.0,\"#0d0887\"],[0.1111111111111111,\"#46039f\"],[0.2222222222222222,\"#7201a8\"],[0.3333333333333333,\"#9c179e\"],[0.4444444444444444,\"#bd3786\"],[0.5555555555555556,\"#d8576b\"],[0.6666666666666666,\"#ed7953\"],[0.7777777777777778,\"#fb9f3a\"],[0.8888888888888888,\"#fdca26\"],[1.0,\"#f0f921\"]],\"sequentialminus\":[[0.0,\"#0d0887\"],[0.1111111111111111,\"#46039f\"],[0.2222222222222222,\"#7201a8\"],[0.3333333333333333,\"#9c179e\"],[0.4444444444444444,\"#bd3786\"],[0.5555555555555556,\"#d8576b\"],[0.6666666666666666,\"#ed7953\"],[0.7777777777777778,\"#fb9f3a\"],[0.8888888888888888,\"#fdca26\"],[1.0,\"#f0f921\"]]},\"colorway\":[\"#636efa\",\"#EF553B\",\"#00cc96\",\"#ab63fa\",\"#FFA15A\",\"#19d3f3\",\"#FF6692\",\"#B6E880\",\"#FF97FF\",\"#FECB52\"],\"font\":{\"color\":\"#2a3f5f\"},\"geo\":{\"bgcolor\":\"white\",\"lakecolor\":\"white\",\"landcolor\":\"#E5ECF6\",\"showlakes\":true,\"showland\":true,\"subunitcolor\":\"white\"},\"hoverlabel\":{\"align\":\"left\"},\"hovermode\":\"closest\",\"mapbox\":{\"style\":\"light\"},\"paper_bgcolor\":\"white\",\"plot_bgcolor\":\"#E5ECF6\",\"polar\":{\"angularaxis\":{\"gridcolor\":\"white\",\"linecolor\":\"white\",\"ticks\":\"\"},\"bgcolor\":\"#E5ECF6\",\"radialaxis\":{\"gridcolor\":\"white\",\"linecolor\":\"white\",\"ticks\":\"\"}},\"scene\":{\"xaxis\":{\"backgroundcolor\":\"#E5ECF6\",\"gridcolor\":\"white\",\"gridwidth\":2,\"linecolor\":\"white\",\"showbackground\":true,\"ticks\":\"\",\"zerolinecolor\":\"white\"},\"yaxis\":{\"backgroundcolor\":\"#E5ECF6\",\"gridcolor\":\"white\",\"gridwidth\":2,\"linecolor\":\"white\",\"showbackground\":true,\"ticks\":\"\",\"zerolinecolor\":\"white\"},\"zaxis\":{\"backgroundcolor\":\"#E5ECF6\",\"gridcolor\":\"white\",\"gridwidth\":2,\"linecolor\":\"white\",\"showbackground\":true,\"ticks\":\"\",\"zerolinecolor\":\"white\"}},\"shapedefaults\":{\"line\":{\"color\":\"#2a3f5f\"}},\"ternary\":{\"aaxis\":{\"gridcolor\":\"white\",\"linecolor\":\"white\",\"ticks\":\"\"},\"baxis\":{\"gridcolor\":\"white\",\"linecolor\":\"white\",\"ticks\":\"\"},\"bgcolor\":\"#E5ECF6\",\"caxis\":{\"gridcolor\":\"white\",\"linecolor\":\"white\",\"ticks\":\"\"}},\"title\":{\"x\":0.05},\"xaxis\":{\"automargin\":true,\"gridcolor\":\"white\",\"linecolor\":\"white\",\"ticks\":\"\",\"title\":{\"standoff\":15},\"zerolinecolor\":\"white\",\"zerolinewidth\":2},\"yaxis\":{\"automargin\":true,\"gridcolor\":\"white\",\"linecolor\":\"white\",\"ticks\":\"\",\"title\":{\"standoff\":15},\"zerolinecolor\":\"white\",\"zerolinewidth\":2}}},\"title\":{\"font\":{\"color\":\"#4D5663\"}},\"xaxis\":{\"gridcolor\":\"#E1E5ED\",\"showgrid\":true,\"tickfont\":{\"color\":\"#4D5663\"},\"title\":{\"font\":{\"color\":\"#4D5663\"},\"text\":\"\"},\"zerolinecolor\":\"#E1E5ED\"},\"yaxis\":{\"gridcolor\":\"#E1E5ED\",\"showgrid\":true,\"tickfont\":{\"color\":\"#4D5663\"},\"title\":{\"font\":{\"color\":\"#4D5663\"},\"text\":\"\"},\"zerolinecolor\":\"#E1E5ED\"}},                        {\"showLink\": true, \"linkText\": \"Export to plot.ly\", \"plotlyServerURL\": \"https://plot.ly\", \"responsive\": true}                    ).then(function(){\n",
       "                            \n",
       "var gd = document.getElementById('7e7d2201-38bf-4629-b0c9-fda6d0f54080');\n",
       "var x = new MutationObserver(function (mutations, observer) {{\n",
       "        var display = window.getComputedStyle(gd).display;\n",
       "        if (!display || display === 'none') {{\n",
       "            console.log([gd, 'removed!']);\n",
       "            Plotly.purge(gd);\n",
       "            observer.disconnect();\n",
       "        }}\n",
       "}});\n",
       "\n",
       "// Listen for the removal of the full notebook cells\n",
       "var notebookContainer = gd.closest('#notebook-container');\n",
       "if (notebookContainer) {{\n",
       "    x.observe(notebookContainer, {childList: true});\n",
       "}}\n",
       "\n",
       "// Listen for the clearing of the current output cell\n",
       "var outputEl = gd.closest('.output');\n",
       "if (outputEl) {{\n",
       "    x.observe(outputEl, {childList: true});\n",
       "}}\n",
       "\n",
       "                        })                };                });            </script>        </div>"
      ]
     },
     "metadata": {},
     "output_type": "display_data"
    }
   ],
   "source": [
    "#iplot \n",
    "df.iplot()"
   ]
  },
  {
   "cell_type": "code",
   "execution_count": 18,
   "metadata": {},
   "outputs": [
    {
     "data": {
      "application/vnd.plotly.v1+json": {
       "config": {
        "linkText": "Export to plot.ly",
        "plotlyServerURL": "https://plot.ly",
        "showLink": true
       },
       "data": [
        {
         "line": {
          "color": "rgba(255, 153, 51, 1.0)",
          "dash": "solid",
          "shape": "linear",
          "width": 1.3
         },
         "marker": {
          "size": 12,
          "symbol": "circle"
         },
         "mode": "markers",
         "name": "B",
         "text": "",
         "type": "scatter",
         "x": [
          0.05605791357056261,
          0.460019687284693,
          0.6287518092337231,
          -0.40335735674017076,
          0.10729666753545831,
          -0.6295013494642708,
          -1.4951352553786494,
          1.0672754786555207,
          0.3598261803907446,
          -1.0166936426325441,
          -0.07666864253836506,
          0.0410685021645721,
          0.48573655430333923,
          -0.11416938422627511,
          -0.7386166413012212,
          0.7039588772816362,
          1.707845165649345,
          0.3042828542104509,
          1.1414108452743028,
          -0.1891422906682915,
          -1.0724824106218038,
          1.697912228612607,
          2.376315745461367,
          1.3285205463490388,
          0.5241455798665027,
          0.3296266350692246,
          0.893307944055857,
          0.29888277985522527,
          -0.40214756911155725,
          0.27769939748663547,
          1.7229469733657832,
          -1.0590791859078141,
          0.17677513633413716,
          -1.0751157989840059,
          -1.206163745609603,
          0.21085545930113656,
          0.28691557726486,
          0.5626865844183987,
          -0.024749798143169792,
          -1.227681486982836,
          2.3768811509212675,
          -1.5514568828774338,
          1.6112875275834087,
          -0.035511207000442,
          1.3597817860592807,
          0.6340139048174628,
          -0.9461246374711879,
          -0.5980463813946243,
          -0.11121371341266718,
          -0.7789947858694427,
          -0.7909367835488761,
          0.44597932143928465,
          -0.015829741692926957,
          0.5880978326151248,
          -1.1687690687778953,
          0.46738762470996625,
          -1.0232152012694558,
          0.019203856503362135,
          -0.2513480883458298,
          1.67760815029347,
          -0.3388913730150217,
          0.5054335631763178,
          -0.5582218465556053,
          0.09412762463803932,
          -0.269836966510378,
          -0.4229131069545643,
          -0.05562146161653577,
          0.36806445455580034,
          -0.1491590393377931,
          -1.6102639259917182,
          0.3538094719163923,
          1.2443563819434125,
          -0.5311791146417401,
          0.03025030818705174,
          2.6374187556509767,
          -0.06300359369525535,
          -0.2163986548430199,
          -1.4063465608219916,
          -0.6335377419553875,
          0.5468778943274468,
          0.22887859434644822,
          -0.0024186408660699346,
          1.051698629355191,
          -0.9869517109480603,
          -0.31987496824644224,
          -0.540174686913111,
          0.3340381390336442,
          0.7322443952033713,
          -0.9129854111412516,
          -0.18584647450385625,
          -0.9478104793799853,
          0.7151795709345523,
          -0.8542424412247567,
          -1.5265198883275757,
          0.5488311569159915,
          0.21865254089016833,
          -0.4204248699245095,
          -1.0376879604394742,
          0.24386425713090254,
          0.2897506749290084
         ],
         "y": [
          0.4908311343814552,
          0.2184294036515998,
          0.8773199756877776,
          -0.5306270595751419,
          -0.45857510326432177,
          -2.210141175194517,
          -1.1718073236010733,
          0.7655275912167271,
          0.6356541834810701,
          -1.6332828663175116,
          1.0487351561018425,
          1.43729039987702,
          -0.7409401093263623,
          -0.5906002518728066,
          -3.5822454622628177,
          1.775083894237991,
          3.153359736399895,
          -0.206360434964078,
          0.4832668240227068,
          1.4924634234884744,
          1.1303056661058593,
          0.3809413259195282,
          -0.08435249626929543,
          0.3702751991921212,
          1.3951327098969522,
          -1.7295969719787143,
          -0.44408775127808997,
          1.1487743309202474,
          -0.04902087713511538,
          -0.7120750076662782,
          0.40449471024488143,
          0.2918957958896897,
          0.5560023877190212,
          -0.16752371802339486,
          -1.716850478180125,
          0.649158426150467,
          1.1233767639252763,
          -0.814426114370307,
          0.9445349720500489,
          0.05147449020198193,
          0.8137655537705104,
          -1.2817599458106645,
          -0.14242664444260536,
          2.094452656634059,
          -0.6513378649946291,
          0.24095637290196942,
          0.6557918851124303,
          -0.3338149240064824,
          0.1969743738756663,
          -0.4912013596722006,
          1.4809601842856794,
          0.348984950814985,
          -0.4530667696706939,
          1.612914879507302,
          0.09814254220664902,
          0.1592404246273716,
          0.32301285061662766,
          -0.2110628783857944,
          -1.2090441466834407,
          0.2731259978707747,
          -0.6739588109652542,
          -1.0767813621272486,
          0.21458519274391671,
          -1.2171725576955057,
          0.9340611364054661,
          -0.3972945452157132,
          1.1575954255423209,
          -0.47619949851144905,
          2.519144683341893,
          1.2944533426663674,
          -0.9734229218001452,
          1.3682532247341346,
          -0.8496789312210303,
          -0.2649093729476989,
          0.6457170669435297,
          0.8271064006126501,
          -0.7749528988067509,
          1.001913076936737,
          0.8120002507488213,
          -0.8663830893781663,
          2.2109593730602133,
          -0.3781719075913857,
          0.015200436893985737,
          2.0796227484366914,
          0.03414309480971347,
          -0.7073025970093648,
          0.5447876540997124,
          0.15871659579090078,
          -0.060186952309339056,
          -2.040420778866945,
          -0.13855641571035474,
          -1.6961095263369388,
          -0.9299607848471094,
          0.42810125413179506,
          -0.20960566035875308,
          0.8091366866871842,
          -0.6383733130460841,
          0.03184295820309675,
          0.4099770897336773,
          0.29049798568337276
         ]
        }
       ],
       "layout": {
        "legend": {
         "bgcolor": "#F5F6F9",
         "font": {
          "color": "#4D5663"
         }
        },
        "paper_bgcolor": "#F5F6F9",
        "plot_bgcolor": "#F5F6F9",
        "template": {
         "data": {
          "bar": [
           {
            "error_x": {
             "color": "#2a3f5f"
            },
            "error_y": {
             "color": "#2a3f5f"
            },
            "marker": {
             "line": {
              "color": "#E5ECF6",
              "width": 0.5
             },
             "pattern": {
              "fillmode": "overlay",
              "size": 10,
              "solidity": 0.2
             }
            },
            "type": "bar"
           }
          ],
          "barpolar": [
           {
            "marker": {
             "line": {
              "color": "#E5ECF6",
              "width": 0.5
             },
             "pattern": {
              "fillmode": "overlay",
              "size": 10,
              "solidity": 0.2
             }
            },
            "type": "barpolar"
           }
          ],
          "carpet": [
           {
            "aaxis": {
             "endlinecolor": "#2a3f5f",
             "gridcolor": "white",
             "linecolor": "white",
             "minorgridcolor": "white",
             "startlinecolor": "#2a3f5f"
            },
            "baxis": {
             "endlinecolor": "#2a3f5f",
             "gridcolor": "white",
             "linecolor": "white",
             "minorgridcolor": "white",
             "startlinecolor": "#2a3f5f"
            },
            "type": "carpet"
           }
          ],
          "choropleth": [
           {
            "colorbar": {
             "outlinewidth": 0,
             "ticks": ""
            },
            "type": "choropleth"
           }
          ],
          "contour": [
           {
            "colorbar": {
             "outlinewidth": 0,
             "ticks": ""
            },
            "colorscale": [
             [
              0,
              "#0d0887"
             ],
             [
              0.1111111111111111,
              "#46039f"
             ],
             [
              0.2222222222222222,
              "#7201a8"
             ],
             [
              0.3333333333333333,
              "#9c179e"
             ],
             [
              0.4444444444444444,
              "#bd3786"
             ],
             [
              0.5555555555555556,
              "#d8576b"
             ],
             [
              0.6666666666666666,
              "#ed7953"
             ],
             [
              0.7777777777777778,
              "#fb9f3a"
             ],
             [
              0.8888888888888888,
              "#fdca26"
             ],
             [
              1,
              "#f0f921"
             ]
            ],
            "type": "contour"
           }
          ],
          "contourcarpet": [
           {
            "colorbar": {
             "outlinewidth": 0,
             "ticks": ""
            },
            "type": "contourcarpet"
           }
          ],
          "heatmap": [
           {
            "colorbar": {
             "outlinewidth": 0,
             "ticks": ""
            },
            "colorscale": [
             [
              0,
              "#0d0887"
             ],
             [
              0.1111111111111111,
              "#46039f"
             ],
             [
              0.2222222222222222,
              "#7201a8"
             ],
             [
              0.3333333333333333,
              "#9c179e"
             ],
             [
              0.4444444444444444,
              "#bd3786"
             ],
             [
              0.5555555555555556,
              "#d8576b"
             ],
             [
              0.6666666666666666,
              "#ed7953"
             ],
             [
              0.7777777777777778,
              "#fb9f3a"
             ],
             [
              0.8888888888888888,
              "#fdca26"
             ],
             [
              1,
              "#f0f921"
             ]
            ],
            "type": "heatmap"
           }
          ],
          "heatmapgl": [
           {
            "colorbar": {
             "outlinewidth": 0,
             "ticks": ""
            },
            "colorscale": [
             [
              0,
              "#0d0887"
             ],
             [
              0.1111111111111111,
              "#46039f"
             ],
             [
              0.2222222222222222,
              "#7201a8"
             ],
             [
              0.3333333333333333,
              "#9c179e"
             ],
             [
              0.4444444444444444,
              "#bd3786"
             ],
             [
              0.5555555555555556,
              "#d8576b"
             ],
             [
              0.6666666666666666,
              "#ed7953"
             ],
             [
              0.7777777777777778,
              "#fb9f3a"
             ],
             [
              0.8888888888888888,
              "#fdca26"
             ],
             [
              1,
              "#f0f921"
             ]
            ],
            "type": "heatmapgl"
           }
          ],
          "histogram": [
           {
            "marker": {
             "pattern": {
              "fillmode": "overlay",
              "size": 10,
              "solidity": 0.2
             }
            },
            "type": "histogram"
           }
          ],
          "histogram2d": [
           {
            "colorbar": {
             "outlinewidth": 0,
             "ticks": ""
            },
            "colorscale": [
             [
              0,
              "#0d0887"
             ],
             [
              0.1111111111111111,
              "#46039f"
             ],
             [
              0.2222222222222222,
              "#7201a8"
             ],
             [
              0.3333333333333333,
              "#9c179e"
             ],
             [
              0.4444444444444444,
              "#bd3786"
             ],
             [
              0.5555555555555556,
              "#d8576b"
             ],
             [
              0.6666666666666666,
              "#ed7953"
             ],
             [
              0.7777777777777778,
              "#fb9f3a"
             ],
             [
              0.8888888888888888,
              "#fdca26"
             ],
             [
              1,
              "#f0f921"
             ]
            ],
            "type": "histogram2d"
           }
          ],
          "histogram2dcontour": [
           {
            "colorbar": {
             "outlinewidth": 0,
             "ticks": ""
            },
            "colorscale": [
             [
              0,
              "#0d0887"
             ],
             [
              0.1111111111111111,
              "#46039f"
             ],
             [
              0.2222222222222222,
              "#7201a8"
             ],
             [
              0.3333333333333333,
              "#9c179e"
             ],
             [
              0.4444444444444444,
              "#bd3786"
             ],
             [
              0.5555555555555556,
              "#d8576b"
             ],
             [
              0.6666666666666666,
              "#ed7953"
             ],
             [
              0.7777777777777778,
              "#fb9f3a"
             ],
             [
              0.8888888888888888,
              "#fdca26"
             ],
             [
              1,
              "#f0f921"
             ]
            ],
            "type": "histogram2dcontour"
           }
          ],
          "mesh3d": [
           {
            "colorbar": {
             "outlinewidth": 0,
             "ticks": ""
            },
            "type": "mesh3d"
           }
          ],
          "parcoords": [
           {
            "line": {
             "colorbar": {
              "outlinewidth": 0,
              "ticks": ""
             }
            },
            "type": "parcoords"
           }
          ],
          "pie": [
           {
            "automargin": true,
            "type": "pie"
           }
          ],
          "scatter": [
           {
            "marker": {
             "colorbar": {
              "outlinewidth": 0,
              "ticks": ""
             }
            },
            "type": "scatter"
           }
          ],
          "scatter3d": [
           {
            "line": {
             "colorbar": {
              "outlinewidth": 0,
              "ticks": ""
             }
            },
            "marker": {
             "colorbar": {
              "outlinewidth": 0,
              "ticks": ""
             }
            },
            "type": "scatter3d"
           }
          ],
          "scattercarpet": [
           {
            "marker": {
             "colorbar": {
              "outlinewidth": 0,
              "ticks": ""
             }
            },
            "type": "scattercarpet"
           }
          ],
          "scattergeo": [
           {
            "marker": {
             "colorbar": {
              "outlinewidth": 0,
              "ticks": ""
             }
            },
            "type": "scattergeo"
           }
          ],
          "scattergl": [
           {
            "marker": {
             "colorbar": {
              "outlinewidth": 0,
              "ticks": ""
             }
            },
            "type": "scattergl"
           }
          ],
          "scattermapbox": [
           {
            "marker": {
             "colorbar": {
              "outlinewidth": 0,
              "ticks": ""
             }
            },
            "type": "scattermapbox"
           }
          ],
          "scatterpolar": [
           {
            "marker": {
             "colorbar": {
              "outlinewidth": 0,
              "ticks": ""
             }
            },
            "type": "scatterpolar"
           }
          ],
          "scatterpolargl": [
           {
            "marker": {
             "colorbar": {
              "outlinewidth": 0,
              "ticks": ""
             }
            },
            "type": "scatterpolargl"
           }
          ],
          "scatterternary": [
           {
            "marker": {
             "colorbar": {
              "outlinewidth": 0,
              "ticks": ""
             }
            },
            "type": "scatterternary"
           }
          ],
          "surface": [
           {
            "colorbar": {
             "outlinewidth": 0,
             "ticks": ""
            },
            "colorscale": [
             [
              0,
              "#0d0887"
             ],
             [
              0.1111111111111111,
              "#46039f"
             ],
             [
              0.2222222222222222,
              "#7201a8"
             ],
             [
              0.3333333333333333,
              "#9c179e"
             ],
             [
              0.4444444444444444,
              "#bd3786"
             ],
             [
              0.5555555555555556,
              "#d8576b"
             ],
             [
              0.6666666666666666,
              "#ed7953"
             ],
             [
              0.7777777777777778,
              "#fb9f3a"
             ],
             [
              0.8888888888888888,
              "#fdca26"
             ],
             [
              1,
              "#f0f921"
             ]
            ],
            "type": "surface"
           }
          ],
          "table": [
           {
            "cells": {
             "fill": {
              "color": "#EBF0F8"
             },
             "line": {
              "color": "white"
             }
            },
            "header": {
             "fill": {
              "color": "#C8D4E3"
             },
             "line": {
              "color": "white"
             }
            },
            "type": "table"
           }
          ]
         },
         "layout": {
          "annotationdefaults": {
           "arrowcolor": "#2a3f5f",
           "arrowhead": 0,
           "arrowwidth": 1
          },
          "autotypenumbers": "strict",
          "coloraxis": {
           "colorbar": {
            "outlinewidth": 0,
            "ticks": ""
           }
          },
          "colorscale": {
           "diverging": [
            [
             0,
             "#8e0152"
            ],
            [
             0.1,
             "#c51b7d"
            ],
            [
             0.2,
             "#de77ae"
            ],
            [
             0.3,
             "#f1b6da"
            ],
            [
             0.4,
             "#fde0ef"
            ],
            [
             0.5,
             "#f7f7f7"
            ],
            [
             0.6,
             "#e6f5d0"
            ],
            [
             0.7,
             "#b8e186"
            ],
            [
             0.8,
             "#7fbc41"
            ],
            [
             0.9,
             "#4d9221"
            ],
            [
             1,
             "#276419"
            ]
           ],
           "sequential": [
            [
             0,
             "#0d0887"
            ],
            [
             0.1111111111111111,
             "#46039f"
            ],
            [
             0.2222222222222222,
             "#7201a8"
            ],
            [
             0.3333333333333333,
             "#9c179e"
            ],
            [
             0.4444444444444444,
             "#bd3786"
            ],
            [
             0.5555555555555556,
             "#d8576b"
            ],
            [
             0.6666666666666666,
             "#ed7953"
            ],
            [
             0.7777777777777778,
             "#fb9f3a"
            ],
            [
             0.8888888888888888,
             "#fdca26"
            ],
            [
             1,
             "#f0f921"
            ]
           ],
           "sequentialminus": [
            [
             0,
             "#0d0887"
            ],
            [
             0.1111111111111111,
             "#46039f"
            ],
            [
             0.2222222222222222,
             "#7201a8"
            ],
            [
             0.3333333333333333,
             "#9c179e"
            ],
            [
             0.4444444444444444,
             "#bd3786"
            ],
            [
             0.5555555555555556,
             "#d8576b"
            ],
            [
             0.6666666666666666,
             "#ed7953"
            ],
            [
             0.7777777777777778,
             "#fb9f3a"
            ],
            [
             0.8888888888888888,
             "#fdca26"
            ],
            [
             1,
             "#f0f921"
            ]
           ]
          },
          "colorway": [
           "#636efa",
           "#EF553B",
           "#00cc96",
           "#ab63fa",
           "#FFA15A",
           "#19d3f3",
           "#FF6692",
           "#B6E880",
           "#FF97FF",
           "#FECB52"
          ],
          "font": {
           "color": "#2a3f5f"
          },
          "geo": {
           "bgcolor": "white",
           "lakecolor": "white",
           "landcolor": "#E5ECF6",
           "showlakes": true,
           "showland": true,
           "subunitcolor": "white"
          },
          "hoverlabel": {
           "align": "left"
          },
          "hovermode": "closest",
          "mapbox": {
           "style": "light"
          },
          "paper_bgcolor": "white",
          "plot_bgcolor": "#E5ECF6",
          "polar": {
           "angularaxis": {
            "gridcolor": "white",
            "linecolor": "white",
            "ticks": ""
           },
           "bgcolor": "#E5ECF6",
           "radialaxis": {
            "gridcolor": "white",
            "linecolor": "white",
            "ticks": ""
           }
          },
          "scene": {
           "xaxis": {
            "backgroundcolor": "#E5ECF6",
            "gridcolor": "white",
            "gridwidth": 2,
            "linecolor": "white",
            "showbackground": true,
            "ticks": "",
            "zerolinecolor": "white"
           },
           "yaxis": {
            "backgroundcolor": "#E5ECF6",
            "gridcolor": "white",
            "gridwidth": 2,
            "linecolor": "white",
            "showbackground": true,
            "ticks": "",
            "zerolinecolor": "white"
           },
           "zaxis": {
            "backgroundcolor": "#E5ECF6",
            "gridcolor": "white",
            "gridwidth": 2,
            "linecolor": "white",
            "showbackground": true,
            "ticks": "",
            "zerolinecolor": "white"
           }
          },
          "shapedefaults": {
           "line": {
            "color": "#2a3f5f"
           }
          },
          "ternary": {
           "aaxis": {
            "gridcolor": "white",
            "linecolor": "white",
            "ticks": ""
           },
           "baxis": {
            "gridcolor": "white",
            "linecolor": "white",
            "ticks": ""
           },
           "bgcolor": "#E5ECF6",
           "caxis": {
            "gridcolor": "white",
            "linecolor": "white",
            "ticks": ""
           }
          },
          "title": {
           "x": 0.05
          },
          "xaxis": {
           "automargin": true,
           "gridcolor": "white",
           "linecolor": "white",
           "ticks": "",
           "title": {
            "standoff": 15
           },
           "zerolinecolor": "white",
           "zerolinewidth": 2
          },
          "yaxis": {
           "automargin": true,
           "gridcolor": "white",
           "linecolor": "white",
           "ticks": "",
           "title": {
            "standoff": 15
           },
           "zerolinecolor": "white",
           "zerolinewidth": 2
          }
         }
        },
        "title": {
         "font": {
          "color": "#4D5663"
         }
        },
        "xaxis": {
         "gridcolor": "#E1E5ED",
         "showgrid": true,
         "tickfont": {
          "color": "#4D5663"
         },
         "title": {
          "font": {
           "color": "#4D5663"
          },
          "text": ""
         },
         "zerolinecolor": "#E1E5ED"
        },
        "yaxis": {
         "gridcolor": "#E1E5ED",
         "showgrid": true,
         "tickfont": {
          "color": "#4D5663"
         },
         "title": {
          "font": {
           "color": "#4D5663"
          },
          "text": ""
         },
         "zerolinecolor": "#E1E5ED"
        }
       }
      },
      "text/html": [
       "<div>                            <div id=\"2fb0f033-add0-46a0-b7c1-42b2e11fa8f5\" class=\"plotly-graph-div\" style=\"height:525px; width:100%;\"></div>            <script type=\"text/javascript\">                require([\"plotly\"], function(Plotly) {                    window.PLOTLYENV=window.PLOTLYENV || {};\n",
       "                    window.PLOTLYENV.BASE_URL='https://plot.ly';                                    if (document.getElementById(\"2fb0f033-add0-46a0-b7c1-42b2e11fa8f5\")) {                    Plotly.newPlot(                        \"2fb0f033-add0-46a0-b7c1-42b2e11fa8f5\",                        [{\"line\":{\"color\":\"rgba(255, 153, 51, 1.0)\",\"dash\":\"solid\",\"shape\":\"linear\",\"width\":1.3},\"marker\":{\"size\":12,\"symbol\":\"circle\"},\"mode\":\"markers\",\"name\":\"B\",\"text\":\"\",\"type\":\"scatter\",\"x\":[0.05605791357056261,0.460019687284693,0.6287518092337231,-0.40335735674017076,0.10729666753545831,-0.6295013494642708,-1.4951352553786494,1.0672754786555207,0.3598261803907446,-1.0166936426325441,-0.07666864253836506,0.0410685021645721,0.48573655430333923,-0.11416938422627511,-0.7386166413012212,0.7039588772816362,1.707845165649345,0.3042828542104509,1.1414108452743028,-0.1891422906682915,-1.0724824106218038,1.697912228612607,2.376315745461367,1.3285205463490388,0.5241455798665027,0.3296266350692246,0.893307944055857,0.29888277985522527,-0.40214756911155725,0.27769939748663547,1.7229469733657832,-1.0590791859078141,0.17677513633413716,-1.0751157989840059,-1.206163745609603,0.21085545930113656,0.28691557726486,0.5626865844183987,-0.024749798143169792,-1.227681486982836,2.3768811509212675,-1.5514568828774338,1.6112875275834087,-0.035511207000442,1.3597817860592807,0.6340139048174628,-0.9461246374711879,-0.5980463813946243,-0.11121371341266718,-0.7789947858694427,-0.7909367835488761,0.44597932143928465,-0.015829741692926957,0.5880978326151248,-1.1687690687778953,0.46738762470996625,-1.0232152012694558,0.019203856503362135,-0.2513480883458298,1.67760815029347,-0.3388913730150217,0.5054335631763178,-0.5582218465556053,0.09412762463803932,-0.269836966510378,-0.4229131069545643,-0.05562146161653577,0.36806445455580034,-0.1491590393377931,-1.6102639259917182,0.3538094719163923,1.2443563819434125,-0.5311791146417401,0.03025030818705174,2.6374187556509767,-0.06300359369525535,-0.2163986548430199,-1.4063465608219916,-0.6335377419553875,0.5468778943274468,0.22887859434644822,-0.0024186408660699346,1.051698629355191,-0.9869517109480603,-0.31987496824644224,-0.540174686913111,0.3340381390336442,0.7322443952033713,-0.9129854111412516,-0.18584647450385625,-0.9478104793799853,0.7151795709345523,-0.8542424412247567,-1.5265198883275757,0.5488311569159915,0.21865254089016833,-0.4204248699245095,-1.0376879604394742,0.24386425713090254,0.2897506749290084],\"y\":[0.4908311343814552,0.2184294036515998,0.8773199756877776,-0.5306270595751419,-0.45857510326432177,-2.210141175194517,-1.1718073236010733,0.7655275912167271,0.6356541834810701,-1.6332828663175116,1.0487351561018425,1.43729039987702,-0.7409401093263623,-0.5906002518728066,-3.5822454622628177,1.775083894237991,3.153359736399895,-0.206360434964078,0.4832668240227068,1.4924634234884744,1.1303056661058593,0.3809413259195282,-0.08435249626929543,0.3702751991921212,1.3951327098969522,-1.7295969719787143,-0.44408775127808997,1.1487743309202474,-0.04902087713511538,-0.7120750076662782,0.40449471024488143,0.2918957958896897,0.5560023877190212,-0.16752371802339486,-1.716850478180125,0.649158426150467,1.1233767639252763,-0.814426114370307,0.9445349720500489,0.05147449020198193,0.8137655537705104,-1.2817599458106645,-0.14242664444260536,2.094452656634059,-0.6513378649946291,0.24095637290196942,0.6557918851124303,-0.3338149240064824,0.1969743738756663,-0.4912013596722006,1.4809601842856794,0.348984950814985,-0.4530667696706939,1.612914879507302,0.09814254220664902,0.1592404246273716,0.32301285061662766,-0.2110628783857944,-1.2090441466834407,0.2731259978707747,-0.6739588109652542,-1.0767813621272486,0.21458519274391671,-1.2171725576955057,0.9340611364054661,-0.3972945452157132,1.1575954255423209,-0.47619949851144905,2.519144683341893,1.2944533426663674,-0.9734229218001452,1.3682532247341346,-0.8496789312210303,-0.2649093729476989,0.6457170669435297,0.8271064006126501,-0.7749528988067509,1.001913076936737,0.8120002507488213,-0.8663830893781663,2.2109593730602133,-0.3781719075913857,0.015200436893985737,2.0796227484366914,0.03414309480971347,-0.7073025970093648,0.5447876540997124,0.15871659579090078,-0.060186952309339056,-2.040420778866945,-0.13855641571035474,-1.6961095263369388,-0.9299607848471094,0.42810125413179506,-0.20960566035875308,0.8091366866871842,-0.6383733130460841,0.03184295820309675,0.4099770897336773,0.29049798568337276]}],                        {\"legend\":{\"bgcolor\":\"#F5F6F9\",\"font\":{\"color\":\"#4D5663\"}},\"paper_bgcolor\":\"#F5F6F9\",\"plot_bgcolor\":\"#F5F6F9\",\"template\":{\"data\":{\"bar\":[{\"error_x\":{\"color\":\"#2a3f5f\"},\"error_y\":{\"color\":\"#2a3f5f\"},\"marker\":{\"line\":{\"color\":\"#E5ECF6\",\"width\":0.5},\"pattern\":{\"fillmode\":\"overlay\",\"size\":10,\"solidity\":0.2}},\"type\":\"bar\"}],\"barpolar\":[{\"marker\":{\"line\":{\"color\":\"#E5ECF6\",\"width\":0.5},\"pattern\":{\"fillmode\":\"overlay\",\"size\":10,\"solidity\":0.2}},\"type\":\"barpolar\"}],\"carpet\":[{\"aaxis\":{\"endlinecolor\":\"#2a3f5f\",\"gridcolor\":\"white\",\"linecolor\":\"white\",\"minorgridcolor\":\"white\",\"startlinecolor\":\"#2a3f5f\"},\"baxis\":{\"endlinecolor\":\"#2a3f5f\",\"gridcolor\":\"white\",\"linecolor\":\"white\",\"minorgridcolor\":\"white\",\"startlinecolor\":\"#2a3f5f\"},\"type\":\"carpet\"}],\"choropleth\":[{\"colorbar\":{\"outlinewidth\":0,\"ticks\":\"\"},\"type\":\"choropleth\"}],\"contour\":[{\"colorbar\":{\"outlinewidth\":0,\"ticks\":\"\"},\"colorscale\":[[0.0,\"#0d0887\"],[0.1111111111111111,\"#46039f\"],[0.2222222222222222,\"#7201a8\"],[0.3333333333333333,\"#9c179e\"],[0.4444444444444444,\"#bd3786\"],[0.5555555555555556,\"#d8576b\"],[0.6666666666666666,\"#ed7953\"],[0.7777777777777778,\"#fb9f3a\"],[0.8888888888888888,\"#fdca26\"],[1.0,\"#f0f921\"]],\"type\":\"contour\"}],\"contourcarpet\":[{\"colorbar\":{\"outlinewidth\":0,\"ticks\":\"\"},\"type\":\"contourcarpet\"}],\"heatmap\":[{\"colorbar\":{\"outlinewidth\":0,\"ticks\":\"\"},\"colorscale\":[[0.0,\"#0d0887\"],[0.1111111111111111,\"#46039f\"],[0.2222222222222222,\"#7201a8\"],[0.3333333333333333,\"#9c179e\"],[0.4444444444444444,\"#bd3786\"],[0.5555555555555556,\"#d8576b\"],[0.6666666666666666,\"#ed7953\"],[0.7777777777777778,\"#fb9f3a\"],[0.8888888888888888,\"#fdca26\"],[1.0,\"#f0f921\"]],\"type\":\"heatmap\"}],\"heatmapgl\":[{\"colorbar\":{\"outlinewidth\":0,\"ticks\":\"\"},\"colorscale\":[[0.0,\"#0d0887\"],[0.1111111111111111,\"#46039f\"],[0.2222222222222222,\"#7201a8\"],[0.3333333333333333,\"#9c179e\"],[0.4444444444444444,\"#bd3786\"],[0.5555555555555556,\"#d8576b\"],[0.6666666666666666,\"#ed7953\"],[0.7777777777777778,\"#fb9f3a\"],[0.8888888888888888,\"#fdca26\"],[1.0,\"#f0f921\"]],\"type\":\"heatmapgl\"}],\"histogram\":[{\"marker\":{\"pattern\":{\"fillmode\":\"overlay\",\"size\":10,\"solidity\":0.2}},\"type\":\"histogram\"}],\"histogram2d\":[{\"colorbar\":{\"outlinewidth\":0,\"ticks\":\"\"},\"colorscale\":[[0.0,\"#0d0887\"],[0.1111111111111111,\"#46039f\"],[0.2222222222222222,\"#7201a8\"],[0.3333333333333333,\"#9c179e\"],[0.4444444444444444,\"#bd3786\"],[0.5555555555555556,\"#d8576b\"],[0.6666666666666666,\"#ed7953\"],[0.7777777777777778,\"#fb9f3a\"],[0.8888888888888888,\"#fdca26\"],[1.0,\"#f0f921\"]],\"type\":\"histogram2d\"}],\"histogram2dcontour\":[{\"colorbar\":{\"outlinewidth\":0,\"ticks\":\"\"},\"colorscale\":[[0.0,\"#0d0887\"],[0.1111111111111111,\"#46039f\"],[0.2222222222222222,\"#7201a8\"],[0.3333333333333333,\"#9c179e\"],[0.4444444444444444,\"#bd3786\"],[0.5555555555555556,\"#d8576b\"],[0.6666666666666666,\"#ed7953\"],[0.7777777777777778,\"#fb9f3a\"],[0.8888888888888888,\"#fdca26\"],[1.0,\"#f0f921\"]],\"type\":\"histogram2dcontour\"}],\"mesh3d\":[{\"colorbar\":{\"outlinewidth\":0,\"ticks\":\"\"},\"type\":\"mesh3d\"}],\"parcoords\":[{\"line\":{\"colorbar\":{\"outlinewidth\":0,\"ticks\":\"\"}},\"type\":\"parcoords\"}],\"pie\":[{\"automargin\":true,\"type\":\"pie\"}],\"scatter\":[{\"marker\":{\"colorbar\":{\"outlinewidth\":0,\"ticks\":\"\"}},\"type\":\"scatter\"}],\"scatter3d\":[{\"line\":{\"colorbar\":{\"outlinewidth\":0,\"ticks\":\"\"}},\"marker\":{\"colorbar\":{\"outlinewidth\":0,\"ticks\":\"\"}},\"type\":\"scatter3d\"}],\"scattercarpet\":[{\"marker\":{\"colorbar\":{\"outlinewidth\":0,\"ticks\":\"\"}},\"type\":\"scattercarpet\"}],\"scattergeo\":[{\"marker\":{\"colorbar\":{\"outlinewidth\":0,\"ticks\":\"\"}},\"type\":\"scattergeo\"}],\"scattergl\":[{\"marker\":{\"colorbar\":{\"outlinewidth\":0,\"ticks\":\"\"}},\"type\":\"scattergl\"}],\"scattermapbox\":[{\"marker\":{\"colorbar\":{\"outlinewidth\":0,\"ticks\":\"\"}},\"type\":\"scattermapbox\"}],\"scatterpolar\":[{\"marker\":{\"colorbar\":{\"outlinewidth\":0,\"ticks\":\"\"}},\"type\":\"scatterpolar\"}],\"scatterpolargl\":[{\"marker\":{\"colorbar\":{\"outlinewidth\":0,\"ticks\":\"\"}},\"type\":\"scatterpolargl\"}],\"scatterternary\":[{\"marker\":{\"colorbar\":{\"outlinewidth\":0,\"ticks\":\"\"}},\"type\":\"scatterternary\"}],\"surface\":[{\"colorbar\":{\"outlinewidth\":0,\"ticks\":\"\"},\"colorscale\":[[0.0,\"#0d0887\"],[0.1111111111111111,\"#46039f\"],[0.2222222222222222,\"#7201a8\"],[0.3333333333333333,\"#9c179e\"],[0.4444444444444444,\"#bd3786\"],[0.5555555555555556,\"#d8576b\"],[0.6666666666666666,\"#ed7953\"],[0.7777777777777778,\"#fb9f3a\"],[0.8888888888888888,\"#fdca26\"],[1.0,\"#f0f921\"]],\"type\":\"surface\"}],\"table\":[{\"cells\":{\"fill\":{\"color\":\"#EBF0F8\"},\"line\":{\"color\":\"white\"}},\"header\":{\"fill\":{\"color\":\"#C8D4E3\"},\"line\":{\"color\":\"white\"}},\"type\":\"table\"}]},\"layout\":{\"annotationdefaults\":{\"arrowcolor\":\"#2a3f5f\",\"arrowhead\":0,\"arrowwidth\":1},\"autotypenumbers\":\"strict\",\"coloraxis\":{\"colorbar\":{\"outlinewidth\":0,\"ticks\":\"\"}},\"colorscale\":{\"diverging\":[[0,\"#8e0152\"],[0.1,\"#c51b7d\"],[0.2,\"#de77ae\"],[0.3,\"#f1b6da\"],[0.4,\"#fde0ef\"],[0.5,\"#f7f7f7\"],[0.6,\"#e6f5d0\"],[0.7,\"#b8e186\"],[0.8,\"#7fbc41\"],[0.9,\"#4d9221\"],[1,\"#276419\"]],\"sequential\":[[0.0,\"#0d0887\"],[0.1111111111111111,\"#46039f\"],[0.2222222222222222,\"#7201a8\"],[0.3333333333333333,\"#9c179e\"],[0.4444444444444444,\"#bd3786\"],[0.5555555555555556,\"#d8576b\"],[0.6666666666666666,\"#ed7953\"],[0.7777777777777778,\"#fb9f3a\"],[0.8888888888888888,\"#fdca26\"],[1.0,\"#f0f921\"]],\"sequentialminus\":[[0.0,\"#0d0887\"],[0.1111111111111111,\"#46039f\"],[0.2222222222222222,\"#7201a8\"],[0.3333333333333333,\"#9c179e\"],[0.4444444444444444,\"#bd3786\"],[0.5555555555555556,\"#d8576b\"],[0.6666666666666666,\"#ed7953\"],[0.7777777777777778,\"#fb9f3a\"],[0.8888888888888888,\"#fdca26\"],[1.0,\"#f0f921\"]]},\"colorway\":[\"#636efa\",\"#EF553B\",\"#00cc96\",\"#ab63fa\",\"#FFA15A\",\"#19d3f3\",\"#FF6692\",\"#B6E880\",\"#FF97FF\",\"#FECB52\"],\"font\":{\"color\":\"#2a3f5f\"},\"geo\":{\"bgcolor\":\"white\",\"lakecolor\":\"white\",\"landcolor\":\"#E5ECF6\",\"showlakes\":true,\"showland\":true,\"subunitcolor\":\"white\"},\"hoverlabel\":{\"align\":\"left\"},\"hovermode\":\"closest\",\"mapbox\":{\"style\":\"light\"},\"paper_bgcolor\":\"white\",\"plot_bgcolor\":\"#E5ECF6\",\"polar\":{\"angularaxis\":{\"gridcolor\":\"white\",\"linecolor\":\"white\",\"ticks\":\"\"},\"bgcolor\":\"#E5ECF6\",\"radialaxis\":{\"gridcolor\":\"white\",\"linecolor\":\"white\",\"ticks\":\"\"}},\"scene\":{\"xaxis\":{\"backgroundcolor\":\"#E5ECF6\",\"gridcolor\":\"white\",\"gridwidth\":2,\"linecolor\":\"white\",\"showbackground\":true,\"ticks\":\"\",\"zerolinecolor\":\"white\"},\"yaxis\":{\"backgroundcolor\":\"#E5ECF6\",\"gridcolor\":\"white\",\"gridwidth\":2,\"linecolor\":\"white\",\"showbackground\":true,\"ticks\":\"\",\"zerolinecolor\":\"white\"},\"zaxis\":{\"backgroundcolor\":\"#E5ECF6\",\"gridcolor\":\"white\",\"gridwidth\":2,\"linecolor\":\"white\",\"showbackground\":true,\"ticks\":\"\",\"zerolinecolor\":\"white\"}},\"shapedefaults\":{\"line\":{\"color\":\"#2a3f5f\"}},\"ternary\":{\"aaxis\":{\"gridcolor\":\"white\",\"linecolor\":\"white\",\"ticks\":\"\"},\"baxis\":{\"gridcolor\":\"white\",\"linecolor\":\"white\",\"ticks\":\"\"},\"bgcolor\":\"#E5ECF6\",\"caxis\":{\"gridcolor\":\"white\",\"linecolor\":\"white\",\"ticks\":\"\"}},\"title\":{\"x\":0.05},\"xaxis\":{\"automargin\":true,\"gridcolor\":\"white\",\"linecolor\":\"white\",\"ticks\":\"\",\"title\":{\"standoff\":15},\"zerolinecolor\":\"white\",\"zerolinewidth\":2},\"yaxis\":{\"automargin\":true,\"gridcolor\":\"white\",\"linecolor\":\"white\",\"ticks\":\"\",\"title\":{\"standoff\":15},\"zerolinecolor\":\"white\",\"zerolinewidth\":2}}},\"title\":{\"font\":{\"color\":\"#4D5663\"}},\"xaxis\":{\"gridcolor\":\"#E1E5ED\",\"showgrid\":true,\"tickfont\":{\"color\":\"#4D5663\"},\"title\":{\"font\":{\"color\":\"#4D5663\"},\"text\":\"\"},\"zerolinecolor\":\"#E1E5ED\"},\"yaxis\":{\"gridcolor\":\"#E1E5ED\",\"showgrid\":true,\"tickfont\":{\"color\":\"#4D5663\"},\"title\":{\"font\":{\"color\":\"#4D5663\"},\"text\":\"\"},\"zerolinecolor\":\"#E1E5ED\"}},                        {\"showLink\": true, \"linkText\": \"Export to plot.ly\", \"plotlyServerURL\": \"https://plot.ly\", \"responsive\": true}                    ).then(function(){\n",
       "                            \n",
       "var gd = document.getElementById('2fb0f033-add0-46a0-b7c1-42b2e11fa8f5');\n",
       "var x = new MutationObserver(function (mutations, observer) {{\n",
       "        var display = window.getComputedStyle(gd).display;\n",
       "        if (!display || display === 'none') {{\n",
       "            console.log([gd, 'removed!']);\n",
       "            Plotly.purge(gd);\n",
       "            observer.disconnect();\n",
       "        }}\n",
       "}});\n",
       "\n",
       "// Listen for the removal of the full notebook cells\n",
       "var notebookContainer = gd.closest('#notebook-container');\n",
       "if (notebookContainer) {{\n",
       "    x.observe(notebookContainer, {childList: true});\n",
       "}}\n",
       "\n",
       "// Listen for the clearing of the current output cell\n",
       "var outputEl = gd.closest('.output');\n",
       "if (outputEl) {{\n",
       "    x.observe(outputEl, {childList: true});\n",
       "}}\n",
       "\n",
       "                        })                };                });            </script>        </div>"
      ]
     },
     "metadata": {},
     "output_type": "display_data"
    }
   ],
   "source": [
    "df.iplot(kind='scatter',x='A',y='B',mode='markers')"
   ]
  },
  {
   "cell_type": "code",
   "execution_count": 19,
   "metadata": {},
   "outputs": [
    {
     "data": {
      "application/vnd.plotly.v1+json": {
       "config": {
        "linkText": "Export to plot.ly",
        "plotlyServerURL": "https://plot.ly",
        "showLink": true
       },
       "data": [
        {
         "marker": {
          "color": "rgba(255, 153, 51, 0.6)",
          "line": {
           "color": "rgba(255, 153, 51, 1.0)",
           "width": 1
          }
         },
         "name": "values",
         "orientation": "v",
         "text": "",
         "type": "bar",
         "x": [
          "A",
          "B",
          "C"
         ],
         "y": [
          32,
          43,
          50
         ]
        }
       ],
       "layout": {
        "legend": {
         "bgcolor": "#F5F6F9",
         "font": {
          "color": "#4D5663"
         }
        },
        "paper_bgcolor": "#F5F6F9",
        "plot_bgcolor": "#F5F6F9",
        "template": {
         "data": {
          "bar": [
           {
            "error_x": {
             "color": "#2a3f5f"
            },
            "error_y": {
             "color": "#2a3f5f"
            },
            "marker": {
             "line": {
              "color": "#E5ECF6",
              "width": 0.5
             },
             "pattern": {
              "fillmode": "overlay",
              "size": 10,
              "solidity": 0.2
             }
            },
            "type": "bar"
           }
          ],
          "barpolar": [
           {
            "marker": {
             "line": {
              "color": "#E5ECF6",
              "width": 0.5
             },
             "pattern": {
              "fillmode": "overlay",
              "size": 10,
              "solidity": 0.2
             }
            },
            "type": "barpolar"
           }
          ],
          "carpet": [
           {
            "aaxis": {
             "endlinecolor": "#2a3f5f",
             "gridcolor": "white",
             "linecolor": "white",
             "minorgridcolor": "white",
             "startlinecolor": "#2a3f5f"
            },
            "baxis": {
             "endlinecolor": "#2a3f5f",
             "gridcolor": "white",
             "linecolor": "white",
             "minorgridcolor": "white",
             "startlinecolor": "#2a3f5f"
            },
            "type": "carpet"
           }
          ],
          "choropleth": [
           {
            "colorbar": {
             "outlinewidth": 0,
             "ticks": ""
            },
            "type": "choropleth"
           }
          ],
          "contour": [
           {
            "colorbar": {
             "outlinewidth": 0,
             "ticks": ""
            },
            "colorscale": [
             [
              0,
              "#0d0887"
             ],
             [
              0.1111111111111111,
              "#46039f"
             ],
             [
              0.2222222222222222,
              "#7201a8"
             ],
             [
              0.3333333333333333,
              "#9c179e"
             ],
             [
              0.4444444444444444,
              "#bd3786"
             ],
             [
              0.5555555555555556,
              "#d8576b"
             ],
             [
              0.6666666666666666,
              "#ed7953"
             ],
             [
              0.7777777777777778,
              "#fb9f3a"
             ],
             [
              0.8888888888888888,
              "#fdca26"
             ],
             [
              1,
              "#f0f921"
             ]
            ],
            "type": "contour"
           }
          ],
          "contourcarpet": [
           {
            "colorbar": {
             "outlinewidth": 0,
             "ticks": ""
            },
            "type": "contourcarpet"
           }
          ],
          "heatmap": [
           {
            "colorbar": {
             "outlinewidth": 0,
             "ticks": ""
            },
            "colorscale": [
             [
              0,
              "#0d0887"
             ],
             [
              0.1111111111111111,
              "#46039f"
             ],
             [
              0.2222222222222222,
              "#7201a8"
             ],
             [
              0.3333333333333333,
              "#9c179e"
             ],
             [
              0.4444444444444444,
              "#bd3786"
             ],
             [
              0.5555555555555556,
              "#d8576b"
             ],
             [
              0.6666666666666666,
              "#ed7953"
             ],
             [
              0.7777777777777778,
              "#fb9f3a"
             ],
             [
              0.8888888888888888,
              "#fdca26"
             ],
             [
              1,
              "#f0f921"
             ]
            ],
            "type": "heatmap"
           }
          ],
          "heatmapgl": [
           {
            "colorbar": {
             "outlinewidth": 0,
             "ticks": ""
            },
            "colorscale": [
             [
              0,
              "#0d0887"
             ],
             [
              0.1111111111111111,
              "#46039f"
             ],
             [
              0.2222222222222222,
              "#7201a8"
             ],
             [
              0.3333333333333333,
              "#9c179e"
             ],
             [
              0.4444444444444444,
              "#bd3786"
             ],
             [
              0.5555555555555556,
              "#d8576b"
             ],
             [
              0.6666666666666666,
              "#ed7953"
             ],
             [
              0.7777777777777778,
              "#fb9f3a"
             ],
             [
              0.8888888888888888,
              "#fdca26"
             ],
             [
              1,
              "#f0f921"
             ]
            ],
            "type": "heatmapgl"
           }
          ],
          "histogram": [
           {
            "marker": {
             "pattern": {
              "fillmode": "overlay",
              "size": 10,
              "solidity": 0.2
             }
            },
            "type": "histogram"
           }
          ],
          "histogram2d": [
           {
            "colorbar": {
             "outlinewidth": 0,
             "ticks": ""
            },
            "colorscale": [
             [
              0,
              "#0d0887"
             ],
             [
              0.1111111111111111,
              "#46039f"
             ],
             [
              0.2222222222222222,
              "#7201a8"
             ],
             [
              0.3333333333333333,
              "#9c179e"
             ],
             [
              0.4444444444444444,
              "#bd3786"
             ],
             [
              0.5555555555555556,
              "#d8576b"
             ],
             [
              0.6666666666666666,
              "#ed7953"
             ],
             [
              0.7777777777777778,
              "#fb9f3a"
             ],
             [
              0.8888888888888888,
              "#fdca26"
             ],
             [
              1,
              "#f0f921"
             ]
            ],
            "type": "histogram2d"
           }
          ],
          "histogram2dcontour": [
           {
            "colorbar": {
             "outlinewidth": 0,
             "ticks": ""
            },
            "colorscale": [
             [
              0,
              "#0d0887"
             ],
             [
              0.1111111111111111,
              "#46039f"
             ],
             [
              0.2222222222222222,
              "#7201a8"
             ],
             [
              0.3333333333333333,
              "#9c179e"
             ],
             [
              0.4444444444444444,
              "#bd3786"
             ],
             [
              0.5555555555555556,
              "#d8576b"
             ],
             [
              0.6666666666666666,
              "#ed7953"
             ],
             [
              0.7777777777777778,
              "#fb9f3a"
             ],
             [
              0.8888888888888888,
              "#fdca26"
             ],
             [
              1,
              "#f0f921"
             ]
            ],
            "type": "histogram2dcontour"
           }
          ],
          "mesh3d": [
           {
            "colorbar": {
             "outlinewidth": 0,
             "ticks": ""
            },
            "type": "mesh3d"
           }
          ],
          "parcoords": [
           {
            "line": {
             "colorbar": {
              "outlinewidth": 0,
              "ticks": ""
             }
            },
            "type": "parcoords"
           }
          ],
          "pie": [
           {
            "automargin": true,
            "type": "pie"
           }
          ],
          "scatter": [
           {
            "marker": {
             "colorbar": {
              "outlinewidth": 0,
              "ticks": ""
             }
            },
            "type": "scatter"
           }
          ],
          "scatter3d": [
           {
            "line": {
             "colorbar": {
              "outlinewidth": 0,
              "ticks": ""
             }
            },
            "marker": {
             "colorbar": {
              "outlinewidth": 0,
              "ticks": ""
             }
            },
            "type": "scatter3d"
           }
          ],
          "scattercarpet": [
           {
            "marker": {
             "colorbar": {
              "outlinewidth": 0,
              "ticks": ""
             }
            },
            "type": "scattercarpet"
           }
          ],
          "scattergeo": [
           {
            "marker": {
             "colorbar": {
              "outlinewidth": 0,
              "ticks": ""
             }
            },
            "type": "scattergeo"
           }
          ],
          "scattergl": [
           {
            "marker": {
             "colorbar": {
              "outlinewidth": 0,
              "ticks": ""
             }
            },
            "type": "scattergl"
           }
          ],
          "scattermapbox": [
           {
            "marker": {
             "colorbar": {
              "outlinewidth": 0,
              "ticks": ""
             }
            },
            "type": "scattermapbox"
           }
          ],
          "scatterpolar": [
           {
            "marker": {
             "colorbar": {
              "outlinewidth": 0,
              "ticks": ""
             }
            },
            "type": "scatterpolar"
           }
          ],
          "scatterpolargl": [
           {
            "marker": {
             "colorbar": {
              "outlinewidth": 0,
              "ticks": ""
             }
            },
            "type": "scatterpolargl"
           }
          ],
          "scatterternary": [
           {
            "marker": {
             "colorbar": {
              "outlinewidth": 0,
              "ticks": ""
             }
            },
            "type": "scatterternary"
           }
          ],
          "surface": [
           {
            "colorbar": {
             "outlinewidth": 0,
             "ticks": ""
            },
            "colorscale": [
             [
              0,
              "#0d0887"
             ],
             [
              0.1111111111111111,
              "#46039f"
             ],
             [
              0.2222222222222222,
              "#7201a8"
             ],
             [
              0.3333333333333333,
              "#9c179e"
             ],
             [
              0.4444444444444444,
              "#bd3786"
             ],
             [
              0.5555555555555556,
              "#d8576b"
             ],
             [
              0.6666666666666666,
              "#ed7953"
             ],
             [
              0.7777777777777778,
              "#fb9f3a"
             ],
             [
              0.8888888888888888,
              "#fdca26"
             ],
             [
              1,
              "#f0f921"
             ]
            ],
            "type": "surface"
           }
          ],
          "table": [
           {
            "cells": {
             "fill": {
              "color": "#EBF0F8"
             },
             "line": {
              "color": "white"
             }
            },
            "header": {
             "fill": {
              "color": "#C8D4E3"
             },
             "line": {
              "color": "white"
             }
            },
            "type": "table"
           }
          ]
         },
         "layout": {
          "annotationdefaults": {
           "arrowcolor": "#2a3f5f",
           "arrowhead": 0,
           "arrowwidth": 1
          },
          "autotypenumbers": "strict",
          "coloraxis": {
           "colorbar": {
            "outlinewidth": 0,
            "ticks": ""
           }
          },
          "colorscale": {
           "diverging": [
            [
             0,
             "#8e0152"
            ],
            [
             0.1,
             "#c51b7d"
            ],
            [
             0.2,
             "#de77ae"
            ],
            [
             0.3,
             "#f1b6da"
            ],
            [
             0.4,
             "#fde0ef"
            ],
            [
             0.5,
             "#f7f7f7"
            ],
            [
             0.6,
             "#e6f5d0"
            ],
            [
             0.7,
             "#b8e186"
            ],
            [
             0.8,
             "#7fbc41"
            ],
            [
             0.9,
             "#4d9221"
            ],
            [
             1,
             "#276419"
            ]
           ],
           "sequential": [
            [
             0,
             "#0d0887"
            ],
            [
             0.1111111111111111,
             "#46039f"
            ],
            [
             0.2222222222222222,
             "#7201a8"
            ],
            [
             0.3333333333333333,
             "#9c179e"
            ],
            [
             0.4444444444444444,
             "#bd3786"
            ],
            [
             0.5555555555555556,
             "#d8576b"
            ],
            [
             0.6666666666666666,
             "#ed7953"
            ],
            [
             0.7777777777777778,
             "#fb9f3a"
            ],
            [
             0.8888888888888888,
             "#fdca26"
            ],
            [
             1,
             "#f0f921"
            ]
           ],
           "sequentialminus": [
            [
             0,
             "#0d0887"
            ],
            [
             0.1111111111111111,
             "#46039f"
            ],
            [
             0.2222222222222222,
             "#7201a8"
            ],
            [
             0.3333333333333333,
             "#9c179e"
            ],
            [
             0.4444444444444444,
             "#bd3786"
            ],
            [
             0.5555555555555556,
             "#d8576b"
            ],
            [
             0.6666666666666666,
             "#ed7953"
            ],
            [
             0.7777777777777778,
             "#fb9f3a"
            ],
            [
             0.8888888888888888,
             "#fdca26"
            ],
            [
             1,
             "#f0f921"
            ]
           ]
          },
          "colorway": [
           "#636efa",
           "#EF553B",
           "#00cc96",
           "#ab63fa",
           "#FFA15A",
           "#19d3f3",
           "#FF6692",
           "#B6E880",
           "#FF97FF",
           "#FECB52"
          ],
          "font": {
           "color": "#2a3f5f"
          },
          "geo": {
           "bgcolor": "white",
           "lakecolor": "white",
           "landcolor": "#E5ECF6",
           "showlakes": true,
           "showland": true,
           "subunitcolor": "white"
          },
          "hoverlabel": {
           "align": "left"
          },
          "hovermode": "closest",
          "mapbox": {
           "style": "light"
          },
          "paper_bgcolor": "white",
          "plot_bgcolor": "#E5ECF6",
          "polar": {
           "angularaxis": {
            "gridcolor": "white",
            "linecolor": "white",
            "ticks": ""
           },
           "bgcolor": "#E5ECF6",
           "radialaxis": {
            "gridcolor": "white",
            "linecolor": "white",
            "ticks": ""
           }
          },
          "scene": {
           "xaxis": {
            "backgroundcolor": "#E5ECF6",
            "gridcolor": "white",
            "gridwidth": 2,
            "linecolor": "white",
            "showbackground": true,
            "ticks": "",
            "zerolinecolor": "white"
           },
           "yaxis": {
            "backgroundcolor": "#E5ECF6",
            "gridcolor": "white",
            "gridwidth": 2,
            "linecolor": "white",
            "showbackground": true,
            "ticks": "",
            "zerolinecolor": "white"
           },
           "zaxis": {
            "backgroundcolor": "#E5ECF6",
            "gridcolor": "white",
            "gridwidth": 2,
            "linecolor": "white",
            "showbackground": true,
            "ticks": "",
            "zerolinecolor": "white"
           }
          },
          "shapedefaults": {
           "line": {
            "color": "#2a3f5f"
           }
          },
          "ternary": {
           "aaxis": {
            "gridcolor": "white",
            "linecolor": "white",
            "ticks": ""
           },
           "baxis": {
            "gridcolor": "white",
            "linecolor": "white",
            "ticks": ""
           },
           "bgcolor": "#E5ECF6",
           "caxis": {
            "gridcolor": "white",
            "linecolor": "white",
            "ticks": ""
           }
          },
          "title": {
           "x": 0.05
          },
          "xaxis": {
           "automargin": true,
           "gridcolor": "white",
           "linecolor": "white",
           "ticks": "",
           "title": {
            "standoff": 15
           },
           "zerolinecolor": "white",
           "zerolinewidth": 2
          },
          "yaxis": {
           "automargin": true,
           "gridcolor": "white",
           "linecolor": "white",
           "ticks": "",
           "title": {
            "standoff": 15
           },
           "zerolinecolor": "white",
           "zerolinewidth": 2
          }
         }
        },
        "title": {
         "font": {
          "color": "#4D5663"
         }
        },
        "xaxis": {
         "gridcolor": "#E1E5ED",
         "showgrid": true,
         "tickfont": {
          "color": "#4D5663"
         },
         "title": {
          "font": {
           "color": "#4D5663"
          },
          "text": ""
         },
         "zerolinecolor": "#E1E5ED"
        },
        "yaxis": {
         "gridcolor": "#E1E5ED",
         "showgrid": true,
         "tickfont": {
          "color": "#4D5663"
         },
         "title": {
          "font": {
           "color": "#4D5663"
          },
          "text": ""
         },
         "zerolinecolor": "#E1E5ED"
        }
       }
      },
      "text/html": [
       "<div>                            <div id=\"111a5e9e-b5ad-4ad8-a9fa-475b3223471b\" class=\"plotly-graph-div\" style=\"height:525px; width:100%;\"></div>            <script type=\"text/javascript\">                require([\"plotly\"], function(Plotly) {                    window.PLOTLYENV=window.PLOTLYENV || {};\n",
       "                    window.PLOTLYENV.BASE_URL='https://plot.ly';                                    if (document.getElementById(\"111a5e9e-b5ad-4ad8-a9fa-475b3223471b\")) {                    Plotly.newPlot(                        \"111a5e9e-b5ad-4ad8-a9fa-475b3223471b\",                        [{\"marker\":{\"color\":\"rgba(255, 153, 51, 0.6)\",\"line\":{\"color\":\"rgba(255, 153, 51, 1.0)\",\"width\":1}},\"name\":\"values\",\"orientation\":\"v\",\"text\":\"\",\"type\":\"bar\",\"x\":[\"A\",\"B\",\"C\"],\"y\":[32,43,50]}],                        {\"legend\":{\"bgcolor\":\"#F5F6F9\",\"font\":{\"color\":\"#4D5663\"}},\"paper_bgcolor\":\"#F5F6F9\",\"plot_bgcolor\":\"#F5F6F9\",\"template\":{\"data\":{\"bar\":[{\"error_x\":{\"color\":\"#2a3f5f\"},\"error_y\":{\"color\":\"#2a3f5f\"},\"marker\":{\"line\":{\"color\":\"#E5ECF6\",\"width\":0.5},\"pattern\":{\"fillmode\":\"overlay\",\"size\":10,\"solidity\":0.2}},\"type\":\"bar\"}],\"barpolar\":[{\"marker\":{\"line\":{\"color\":\"#E5ECF6\",\"width\":0.5},\"pattern\":{\"fillmode\":\"overlay\",\"size\":10,\"solidity\":0.2}},\"type\":\"barpolar\"}],\"carpet\":[{\"aaxis\":{\"endlinecolor\":\"#2a3f5f\",\"gridcolor\":\"white\",\"linecolor\":\"white\",\"minorgridcolor\":\"white\",\"startlinecolor\":\"#2a3f5f\"},\"baxis\":{\"endlinecolor\":\"#2a3f5f\",\"gridcolor\":\"white\",\"linecolor\":\"white\",\"minorgridcolor\":\"white\",\"startlinecolor\":\"#2a3f5f\"},\"type\":\"carpet\"}],\"choropleth\":[{\"colorbar\":{\"outlinewidth\":0,\"ticks\":\"\"},\"type\":\"choropleth\"}],\"contour\":[{\"colorbar\":{\"outlinewidth\":0,\"ticks\":\"\"},\"colorscale\":[[0.0,\"#0d0887\"],[0.1111111111111111,\"#46039f\"],[0.2222222222222222,\"#7201a8\"],[0.3333333333333333,\"#9c179e\"],[0.4444444444444444,\"#bd3786\"],[0.5555555555555556,\"#d8576b\"],[0.6666666666666666,\"#ed7953\"],[0.7777777777777778,\"#fb9f3a\"],[0.8888888888888888,\"#fdca26\"],[1.0,\"#f0f921\"]],\"type\":\"contour\"}],\"contourcarpet\":[{\"colorbar\":{\"outlinewidth\":0,\"ticks\":\"\"},\"type\":\"contourcarpet\"}],\"heatmap\":[{\"colorbar\":{\"outlinewidth\":0,\"ticks\":\"\"},\"colorscale\":[[0.0,\"#0d0887\"],[0.1111111111111111,\"#46039f\"],[0.2222222222222222,\"#7201a8\"],[0.3333333333333333,\"#9c179e\"],[0.4444444444444444,\"#bd3786\"],[0.5555555555555556,\"#d8576b\"],[0.6666666666666666,\"#ed7953\"],[0.7777777777777778,\"#fb9f3a\"],[0.8888888888888888,\"#fdca26\"],[1.0,\"#f0f921\"]],\"type\":\"heatmap\"}],\"heatmapgl\":[{\"colorbar\":{\"outlinewidth\":0,\"ticks\":\"\"},\"colorscale\":[[0.0,\"#0d0887\"],[0.1111111111111111,\"#46039f\"],[0.2222222222222222,\"#7201a8\"],[0.3333333333333333,\"#9c179e\"],[0.4444444444444444,\"#bd3786\"],[0.5555555555555556,\"#d8576b\"],[0.6666666666666666,\"#ed7953\"],[0.7777777777777778,\"#fb9f3a\"],[0.8888888888888888,\"#fdca26\"],[1.0,\"#f0f921\"]],\"type\":\"heatmapgl\"}],\"histogram\":[{\"marker\":{\"pattern\":{\"fillmode\":\"overlay\",\"size\":10,\"solidity\":0.2}},\"type\":\"histogram\"}],\"histogram2d\":[{\"colorbar\":{\"outlinewidth\":0,\"ticks\":\"\"},\"colorscale\":[[0.0,\"#0d0887\"],[0.1111111111111111,\"#46039f\"],[0.2222222222222222,\"#7201a8\"],[0.3333333333333333,\"#9c179e\"],[0.4444444444444444,\"#bd3786\"],[0.5555555555555556,\"#d8576b\"],[0.6666666666666666,\"#ed7953\"],[0.7777777777777778,\"#fb9f3a\"],[0.8888888888888888,\"#fdca26\"],[1.0,\"#f0f921\"]],\"type\":\"histogram2d\"}],\"histogram2dcontour\":[{\"colorbar\":{\"outlinewidth\":0,\"ticks\":\"\"},\"colorscale\":[[0.0,\"#0d0887\"],[0.1111111111111111,\"#46039f\"],[0.2222222222222222,\"#7201a8\"],[0.3333333333333333,\"#9c179e\"],[0.4444444444444444,\"#bd3786\"],[0.5555555555555556,\"#d8576b\"],[0.6666666666666666,\"#ed7953\"],[0.7777777777777778,\"#fb9f3a\"],[0.8888888888888888,\"#fdca26\"],[1.0,\"#f0f921\"]],\"type\":\"histogram2dcontour\"}],\"mesh3d\":[{\"colorbar\":{\"outlinewidth\":0,\"ticks\":\"\"},\"type\":\"mesh3d\"}],\"parcoords\":[{\"line\":{\"colorbar\":{\"outlinewidth\":0,\"ticks\":\"\"}},\"type\":\"parcoords\"}],\"pie\":[{\"automargin\":true,\"type\":\"pie\"}],\"scatter\":[{\"marker\":{\"colorbar\":{\"outlinewidth\":0,\"ticks\":\"\"}},\"type\":\"scatter\"}],\"scatter3d\":[{\"line\":{\"colorbar\":{\"outlinewidth\":0,\"ticks\":\"\"}},\"marker\":{\"colorbar\":{\"outlinewidth\":0,\"ticks\":\"\"}},\"type\":\"scatter3d\"}],\"scattercarpet\":[{\"marker\":{\"colorbar\":{\"outlinewidth\":0,\"ticks\":\"\"}},\"type\":\"scattercarpet\"}],\"scattergeo\":[{\"marker\":{\"colorbar\":{\"outlinewidth\":0,\"ticks\":\"\"}},\"type\":\"scattergeo\"}],\"scattergl\":[{\"marker\":{\"colorbar\":{\"outlinewidth\":0,\"ticks\":\"\"}},\"type\":\"scattergl\"}],\"scattermapbox\":[{\"marker\":{\"colorbar\":{\"outlinewidth\":0,\"ticks\":\"\"}},\"type\":\"scattermapbox\"}],\"scatterpolar\":[{\"marker\":{\"colorbar\":{\"outlinewidth\":0,\"ticks\":\"\"}},\"type\":\"scatterpolar\"}],\"scatterpolargl\":[{\"marker\":{\"colorbar\":{\"outlinewidth\":0,\"ticks\":\"\"}},\"type\":\"scatterpolargl\"}],\"scatterternary\":[{\"marker\":{\"colorbar\":{\"outlinewidth\":0,\"ticks\":\"\"}},\"type\":\"scatterternary\"}],\"surface\":[{\"colorbar\":{\"outlinewidth\":0,\"ticks\":\"\"},\"colorscale\":[[0.0,\"#0d0887\"],[0.1111111111111111,\"#46039f\"],[0.2222222222222222,\"#7201a8\"],[0.3333333333333333,\"#9c179e\"],[0.4444444444444444,\"#bd3786\"],[0.5555555555555556,\"#d8576b\"],[0.6666666666666666,\"#ed7953\"],[0.7777777777777778,\"#fb9f3a\"],[0.8888888888888888,\"#fdca26\"],[1.0,\"#f0f921\"]],\"type\":\"surface\"}],\"table\":[{\"cells\":{\"fill\":{\"color\":\"#EBF0F8\"},\"line\":{\"color\":\"white\"}},\"header\":{\"fill\":{\"color\":\"#C8D4E3\"},\"line\":{\"color\":\"white\"}},\"type\":\"table\"}]},\"layout\":{\"annotationdefaults\":{\"arrowcolor\":\"#2a3f5f\",\"arrowhead\":0,\"arrowwidth\":1},\"autotypenumbers\":\"strict\",\"coloraxis\":{\"colorbar\":{\"outlinewidth\":0,\"ticks\":\"\"}},\"colorscale\":{\"diverging\":[[0,\"#8e0152\"],[0.1,\"#c51b7d\"],[0.2,\"#de77ae\"],[0.3,\"#f1b6da\"],[0.4,\"#fde0ef\"],[0.5,\"#f7f7f7\"],[0.6,\"#e6f5d0\"],[0.7,\"#b8e186\"],[0.8,\"#7fbc41\"],[0.9,\"#4d9221\"],[1,\"#276419\"]],\"sequential\":[[0.0,\"#0d0887\"],[0.1111111111111111,\"#46039f\"],[0.2222222222222222,\"#7201a8\"],[0.3333333333333333,\"#9c179e\"],[0.4444444444444444,\"#bd3786\"],[0.5555555555555556,\"#d8576b\"],[0.6666666666666666,\"#ed7953\"],[0.7777777777777778,\"#fb9f3a\"],[0.8888888888888888,\"#fdca26\"],[1.0,\"#f0f921\"]],\"sequentialminus\":[[0.0,\"#0d0887\"],[0.1111111111111111,\"#46039f\"],[0.2222222222222222,\"#7201a8\"],[0.3333333333333333,\"#9c179e\"],[0.4444444444444444,\"#bd3786\"],[0.5555555555555556,\"#d8576b\"],[0.6666666666666666,\"#ed7953\"],[0.7777777777777778,\"#fb9f3a\"],[0.8888888888888888,\"#fdca26\"],[1.0,\"#f0f921\"]]},\"colorway\":[\"#636efa\",\"#EF553B\",\"#00cc96\",\"#ab63fa\",\"#FFA15A\",\"#19d3f3\",\"#FF6692\",\"#B6E880\",\"#FF97FF\",\"#FECB52\"],\"font\":{\"color\":\"#2a3f5f\"},\"geo\":{\"bgcolor\":\"white\",\"lakecolor\":\"white\",\"landcolor\":\"#E5ECF6\",\"showlakes\":true,\"showland\":true,\"subunitcolor\":\"white\"},\"hoverlabel\":{\"align\":\"left\"},\"hovermode\":\"closest\",\"mapbox\":{\"style\":\"light\"},\"paper_bgcolor\":\"white\",\"plot_bgcolor\":\"#E5ECF6\",\"polar\":{\"angularaxis\":{\"gridcolor\":\"white\",\"linecolor\":\"white\",\"ticks\":\"\"},\"bgcolor\":\"#E5ECF6\",\"radialaxis\":{\"gridcolor\":\"white\",\"linecolor\":\"white\",\"ticks\":\"\"}},\"scene\":{\"xaxis\":{\"backgroundcolor\":\"#E5ECF6\",\"gridcolor\":\"white\",\"gridwidth\":2,\"linecolor\":\"white\",\"showbackground\":true,\"ticks\":\"\",\"zerolinecolor\":\"white\"},\"yaxis\":{\"backgroundcolor\":\"#E5ECF6\",\"gridcolor\":\"white\",\"gridwidth\":2,\"linecolor\":\"white\",\"showbackground\":true,\"ticks\":\"\",\"zerolinecolor\":\"white\"},\"zaxis\":{\"backgroundcolor\":\"#E5ECF6\",\"gridcolor\":\"white\",\"gridwidth\":2,\"linecolor\":\"white\",\"showbackground\":true,\"ticks\":\"\",\"zerolinecolor\":\"white\"}},\"shapedefaults\":{\"line\":{\"color\":\"#2a3f5f\"}},\"ternary\":{\"aaxis\":{\"gridcolor\":\"white\",\"linecolor\":\"white\",\"ticks\":\"\"},\"baxis\":{\"gridcolor\":\"white\",\"linecolor\":\"white\",\"ticks\":\"\"},\"bgcolor\":\"#E5ECF6\",\"caxis\":{\"gridcolor\":\"white\",\"linecolor\":\"white\",\"ticks\":\"\"}},\"title\":{\"x\":0.05},\"xaxis\":{\"automargin\":true,\"gridcolor\":\"white\",\"linecolor\":\"white\",\"ticks\":\"\",\"title\":{\"standoff\":15},\"zerolinecolor\":\"white\",\"zerolinewidth\":2},\"yaxis\":{\"automargin\":true,\"gridcolor\":\"white\",\"linecolor\":\"white\",\"ticks\":\"\",\"title\":{\"standoff\":15},\"zerolinecolor\":\"white\",\"zerolinewidth\":2}}},\"title\":{\"font\":{\"color\":\"#4D5663\"}},\"xaxis\":{\"gridcolor\":\"#E1E5ED\",\"showgrid\":true,\"tickfont\":{\"color\":\"#4D5663\"},\"title\":{\"font\":{\"color\":\"#4D5663\"},\"text\":\"\"},\"zerolinecolor\":\"#E1E5ED\"},\"yaxis\":{\"gridcolor\":\"#E1E5ED\",\"showgrid\":true,\"tickfont\":{\"color\":\"#4D5663\"},\"title\":{\"font\":{\"color\":\"#4D5663\"},\"text\":\"\"},\"zerolinecolor\":\"#E1E5ED\"}},                        {\"showLink\": true, \"linkText\": \"Export to plot.ly\", \"plotlyServerURL\": \"https://plot.ly\", \"responsive\": true}                    ).then(function(){\n",
       "                            \n",
       "var gd = document.getElementById('111a5e9e-b5ad-4ad8-a9fa-475b3223471b');\n",
       "var x = new MutationObserver(function (mutations, observer) {{\n",
       "        var display = window.getComputedStyle(gd).display;\n",
       "        if (!display || display === 'none') {{\n",
       "            console.log([gd, 'removed!']);\n",
       "            Plotly.purge(gd);\n",
       "            observer.disconnect();\n",
       "        }}\n",
       "}});\n",
       "\n",
       "// Listen for the removal of the full notebook cells\n",
       "var notebookContainer = gd.closest('#notebook-container');\n",
       "if (notebookContainer) {{\n",
       "    x.observe(notebookContainer, {childList: true});\n",
       "}}\n",
       "\n",
       "// Listen for the clearing of the current output cell\n",
       "var outputEl = gd.closest('.output');\n",
       "if (outputEl) {{\n",
       "    x.observe(outputEl, {childList: true});\n",
       "}}\n",
       "\n",
       "                        })                };                });            </script>        </div>"
      ]
     },
     "metadata": {},
     "output_type": "display_data"
    }
   ],
   "source": [
    "df2.iplot(kind='bar',x='category',y='values')"
   ]
  },
  {
   "cell_type": "code",
   "execution_count": 21,
   "metadata": {},
   "outputs": [
    {
     "data": {
      "application/vnd.plotly.v1+json": {
       "config": {
        "linkText": "Export to plot.ly",
        "plotlyServerURL": "https://plot.ly",
        "showLink": true
       },
       "data": [
        {
         "marker": {
          "color": "rgba(255, 153, 51, 0.6)",
          "line": {
           "color": "rgba(255, 153, 51, 1.0)",
           "width": 1
          }
         },
         "name": "None",
         "orientation": "v",
         "text": "",
         "type": "bar",
         "x": [
          "A",
          "B",
          "C",
          "D"
         ],
         "y": [
          5.081376723247007,
          10.924797191501142,
          13.998386829607108,
          -4.898064725864677
         ]
        }
       ],
       "layout": {
        "legend": {
         "bgcolor": "#F5F6F9",
         "font": {
          "color": "#4D5663"
         }
        },
        "paper_bgcolor": "#F5F6F9",
        "plot_bgcolor": "#F5F6F9",
        "template": {
         "data": {
          "bar": [
           {
            "error_x": {
             "color": "#2a3f5f"
            },
            "error_y": {
             "color": "#2a3f5f"
            },
            "marker": {
             "line": {
              "color": "#E5ECF6",
              "width": 0.5
             },
             "pattern": {
              "fillmode": "overlay",
              "size": 10,
              "solidity": 0.2
             }
            },
            "type": "bar"
           }
          ],
          "barpolar": [
           {
            "marker": {
             "line": {
              "color": "#E5ECF6",
              "width": 0.5
             },
             "pattern": {
              "fillmode": "overlay",
              "size": 10,
              "solidity": 0.2
             }
            },
            "type": "barpolar"
           }
          ],
          "carpet": [
           {
            "aaxis": {
             "endlinecolor": "#2a3f5f",
             "gridcolor": "white",
             "linecolor": "white",
             "minorgridcolor": "white",
             "startlinecolor": "#2a3f5f"
            },
            "baxis": {
             "endlinecolor": "#2a3f5f",
             "gridcolor": "white",
             "linecolor": "white",
             "minorgridcolor": "white",
             "startlinecolor": "#2a3f5f"
            },
            "type": "carpet"
           }
          ],
          "choropleth": [
           {
            "colorbar": {
             "outlinewidth": 0,
             "ticks": ""
            },
            "type": "choropleth"
           }
          ],
          "contour": [
           {
            "colorbar": {
             "outlinewidth": 0,
             "ticks": ""
            },
            "colorscale": [
             [
              0,
              "#0d0887"
             ],
             [
              0.1111111111111111,
              "#46039f"
             ],
             [
              0.2222222222222222,
              "#7201a8"
             ],
             [
              0.3333333333333333,
              "#9c179e"
             ],
             [
              0.4444444444444444,
              "#bd3786"
             ],
             [
              0.5555555555555556,
              "#d8576b"
             ],
             [
              0.6666666666666666,
              "#ed7953"
             ],
             [
              0.7777777777777778,
              "#fb9f3a"
             ],
             [
              0.8888888888888888,
              "#fdca26"
             ],
             [
              1,
              "#f0f921"
             ]
            ],
            "type": "contour"
           }
          ],
          "contourcarpet": [
           {
            "colorbar": {
             "outlinewidth": 0,
             "ticks": ""
            },
            "type": "contourcarpet"
           }
          ],
          "heatmap": [
           {
            "colorbar": {
             "outlinewidth": 0,
             "ticks": ""
            },
            "colorscale": [
             [
              0,
              "#0d0887"
             ],
             [
              0.1111111111111111,
              "#46039f"
             ],
             [
              0.2222222222222222,
              "#7201a8"
             ],
             [
              0.3333333333333333,
              "#9c179e"
             ],
             [
              0.4444444444444444,
              "#bd3786"
             ],
             [
              0.5555555555555556,
              "#d8576b"
             ],
             [
              0.6666666666666666,
              "#ed7953"
             ],
             [
              0.7777777777777778,
              "#fb9f3a"
             ],
             [
              0.8888888888888888,
              "#fdca26"
             ],
             [
              1,
              "#f0f921"
             ]
            ],
            "type": "heatmap"
           }
          ],
          "heatmapgl": [
           {
            "colorbar": {
             "outlinewidth": 0,
             "ticks": ""
            },
            "colorscale": [
             [
              0,
              "#0d0887"
             ],
             [
              0.1111111111111111,
              "#46039f"
             ],
             [
              0.2222222222222222,
              "#7201a8"
             ],
             [
              0.3333333333333333,
              "#9c179e"
             ],
             [
              0.4444444444444444,
              "#bd3786"
             ],
             [
              0.5555555555555556,
              "#d8576b"
             ],
             [
              0.6666666666666666,
              "#ed7953"
             ],
             [
              0.7777777777777778,
              "#fb9f3a"
             ],
             [
              0.8888888888888888,
              "#fdca26"
             ],
             [
              1,
              "#f0f921"
             ]
            ],
            "type": "heatmapgl"
           }
          ],
          "histogram": [
           {
            "marker": {
             "pattern": {
              "fillmode": "overlay",
              "size": 10,
              "solidity": 0.2
             }
            },
            "type": "histogram"
           }
          ],
          "histogram2d": [
           {
            "colorbar": {
             "outlinewidth": 0,
             "ticks": ""
            },
            "colorscale": [
             [
              0,
              "#0d0887"
             ],
             [
              0.1111111111111111,
              "#46039f"
             ],
             [
              0.2222222222222222,
              "#7201a8"
             ],
             [
              0.3333333333333333,
              "#9c179e"
             ],
             [
              0.4444444444444444,
              "#bd3786"
             ],
             [
              0.5555555555555556,
              "#d8576b"
             ],
             [
              0.6666666666666666,
              "#ed7953"
             ],
             [
              0.7777777777777778,
              "#fb9f3a"
             ],
             [
              0.8888888888888888,
              "#fdca26"
             ],
             [
              1,
              "#f0f921"
             ]
            ],
            "type": "histogram2d"
           }
          ],
          "histogram2dcontour": [
           {
            "colorbar": {
             "outlinewidth": 0,
             "ticks": ""
            },
            "colorscale": [
             [
              0,
              "#0d0887"
             ],
             [
              0.1111111111111111,
              "#46039f"
             ],
             [
              0.2222222222222222,
              "#7201a8"
             ],
             [
              0.3333333333333333,
              "#9c179e"
             ],
             [
              0.4444444444444444,
              "#bd3786"
             ],
             [
              0.5555555555555556,
              "#d8576b"
             ],
             [
              0.6666666666666666,
              "#ed7953"
             ],
             [
              0.7777777777777778,
              "#fb9f3a"
             ],
             [
              0.8888888888888888,
              "#fdca26"
             ],
             [
              1,
              "#f0f921"
             ]
            ],
            "type": "histogram2dcontour"
           }
          ],
          "mesh3d": [
           {
            "colorbar": {
             "outlinewidth": 0,
             "ticks": ""
            },
            "type": "mesh3d"
           }
          ],
          "parcoords": [
           {
            "line": {
             "colorbar": {
              "outlinewidth": 0,
              "ticks": ""
             }
            },
            "type": "parcoords"
           }
          ],
          "pie": [
           {
            "automargin": true,
            "type": "pie"
           }
          ],
          "scatter": [
           {
            "marker": {
             "colorbar": {
              "outlinewidth": 0,
              "ticks": ""
             }
            },
            "type": "scatter"
           }
          ],
          "scatter3d": [
           {
            "line": {
             "colorbar": {
              "outlinewidth": 0,
              "ticks": ""
             }
            },
            "marker": {
             "colorbar": {
              "outlinewidth": 0,
              "ticks": ""
             }
            },
            "type": "scatter3d"
           }
          ],
          "scattercarpet": [
           {
            "marker": {
             "colorbar": {
              "outlinewidth": 0,
              "ticks": ""
             }
            },
            "type": "scattercarpet"
           }
          ],
          "scattergeo": [
           {
            "marker": {
             "colorbar": {
              "outlinewidth": 0,
              "ticks": ""
             }
            },
            "type": "scattergeo"
           }
          ],
          "scattergl": [
           {
            "marker": {
             "colorbar": {
              "outlinewidth": 0,
              "ticks": ""
             }
            },
            "type": "scattergl"
           }
          ],
          "scattermapbox": [
           {
            "marker": {
             "colorbar": {
              "outlinewidth": 0,
              "ticks": ""
             }
            },
            "type": "scattermapbox"
           }
          ],
          "scatterpolar": [
           {
            "marker": {
             "colorbar": {
              "outlinewidth": 0,
              "ticks": ""
             }
            },
            "type": "scatterpolar"
           }
          ],
          "scatterpolargl": [
           {
            "marker": {
             "colorbar": {
              "outlinewidth": 0,
              "ticks": ""
             }
            },
            "type": "scatterpolargl"
           }
          ],
          "scatterternary": [
           {
            "marker": {
             "colorbar": {
              "outlinewidth": 0,
              "ticks": ""
             }
            },
            "type": "scatterternary"
           }
          ],
          "surface": [
           {
            "colorbar": {
             "outlinewidth": 0,
             "ticks": ""
            },
            "colorscale": [
             [
              0,
              "#0d0887"
             ],
             [
              0.1111111111111111,
              "#46039f"
             ],
             [
              0.2222222222222222,
              "#7201a8"
             ],
             [
              0.3333333333333333,
              "#9c179e"
             ],
             [
              0.4444444444444444,
              "#bd3786"
             ],
             [
              0.5555555555555556,
              "#d8576b"
             ],
             [
              0.6666666666666666,
              "#ed7953"
             ],
             [
              0.7777777777777778,
              "#fb9f3a"
             ],
             [
              0.8888888888888888,
              "#fdca26"
             ],
             [
              1,
              "#f0f921"
             ]
            ],
            "type": "surface"
           }
          ],
          "table": [
           {
            "cells": {
             "fill": {
              "color": "#EBF0F8"
             },
             "line": {
              "color": "white"
             }
            },
            "header": {
             "fill": {
              "color": "#C8D4E3"
             },
             "line": {
              "color": "white"
             }
            },
            "type": "table"
           }
          ]
         },
         "layout": {
          "annotationdefaults": {
           "arrowcolor": "#2a3f5f",
           "arrowhead": 0,
           "arrowwidth": 1
          },
          "autotypenumbers": "strict",
          "coloraxis": {
           "colorbar": {
            "outlinewidth": 0,
            "ticks": ""
           }
          },
          "colorscale": {
           "diverging": [
            [
             0,
             "#8e0152"
            ],
            [
             0.1,
             "#c51b7d"
            ],
            [
             0.2,
             "#de77ae"
            ],
            [
             0.3,
             "#f1b6da"
            ],
            [
             0.4,
             "#fde0ef"
            ],
            [
             0.5,
             "#f7f7f7"
            ],
            [
             0.6,
             "#e6f5d0"
            ],
            [
             0.7,
             "#b8e186"
            ],
            [
             0.8,
             "#7fbc41"
            ],
            [
             0.9,
             "#4d9221"
            ],
            [
             1,
             "#276419"
            ]
           ],
           "sequential": [
            [
             0,
             "#0d0887"
            ],
            [
             0.1111111111111111,
             "#46039f"
            ],
            [
             0.2222222222222222,
             "#7201a8"
            ],
            [
             0.3333333333333333,
             "#9c179e"
            ],
            [
             0.4444444444444444,
             "#bd3786"
            ],
            [
             0.5555555555555556,
             "#d8576b"
            ],
            [
             0.6666666666666666,
             "#ed7953"
            ],
            [
             0.7777777777777778,
             "#fb9f3a"
            ],
            [
             0.8888888888888888,
             "#fdca26"
            ],
            [
             1,
             "#f0f921"
            ]
           ],
           "sequentialminus": [
            [
             0,
             "#0d0887"
            ],
            [
             0.1111111111111111,
             "#46039f"
            ],
            [
             0.2222222222222222,
             "#7201a8"
            ],
            [
             0.3333333333333333,
             "#9c179e"
            ],
            [
             0.4444444444444444,
             "#bd3786"
            ],
            [
             0.5555555555555556,
             "#d8576b"
            ],
            [
             0.6666666666666666,
             "#ed7953"
            ],
            [
             0.7777777777777778,
             "#fb9f3a"
            ],
            [
             0.8888888888888888,
             "#fdca26"
            ],
            [
             1,
             "#f0f921"
            ]
           ]
          },
          "colorway": [
           "#636efa",
           "#EF553B",
           "#00cc96",
           "#ab63fa",
           "#FFA15A",
           "#19d3f3",
           "#FF6692",
           "#B6E880",
           "#FF97FF",
           "#FECB52"
          ],
          "font": {
           "color": "#2a3f5f"
          },
          "geo": {
           "bgcolor": "white",
           "lakecolor": "white",
           "landcolor": "#E5ECF6",
           "showlakes": true,
           "showland": true,
           "subunitcolor": "white"
          },
          "hoverlabel": {
           "align": "left"
          },
          "hovermode": "closest",
          "mapbox": {
           "style": "light"
          },
          "paper_bgcolor": "white",
          "plot_bgcolor": "#E5ECF6",
          "polar": {
           "angularaxis": {
            "gridcolor": "white",
            "linecolor": "white",
            "ticks": ""
           },
           "bgcolor": "#E5ECF6",
           "radialaxis": {
            "gridcolor": "white",
            "linecolor": "white",
            "ticks": ""
           }
          },
          "scene": {
           "xaxis": {
            "backgroundcolor": "#E5ECF6",
            "gridcolor": "white",
            "gridwidth": 2,
            "linecolor": "white",
            "showbackground": true,
            "ticks": "",
            "zerolinecolor": "white"
           },
           "yaxis": {
            "backgroundcolor": "#E5ECF6",
            "gridcolor": "white",
            "gridwidth": 2,
            "linecolor": "white",
            "showbackground": true,
            "ticks": "",
            "zerolinecolor": "white"
           },
           "zaxis": {
            "backgroundcolor": "#E5ECF6",
            "gridcolor": "white",
            "gridwidth": 2,
            "linecolor": "white",
            "showbackground": true,
            "ticks": "",
            "zerolinecolor": "white"
           }
          },
          "shapedefaults": {
           "line": {
            "color": "#2a3f5f"
           }
          },
          "ternary": {
           "aaxis": {
            "gridcolor": "white",
            "linecolor": "white",
            "ticks": ""
           },
           "baxis": {
            "gridcolor": "white",
            "linecolor": "white",
            "ticks": ""
           },
           "bgcolor": "#E5ECF6",
           "caxis": {
            "gridcolor": "white",
            "linecolor": "white",
            "ticks": ""
           }
          },
          "title": {
           "x": 0.05
          },
          "xaxis": {
           "automargin": true,
           "gridcolor": "white",
           "linecolor": "white",
           "ticks": "",
           "title": {
            "standoff": 15
           },
           "zerolinecolor": "white",
           "zerolinewidth": 2
          },
          "yaxis": {
           "automargin": true,
           "gridcolor": "white",
           "linecolor": "white",
           "ticks": "",
           "title": {
            "standoff": 15
           },
           "zerolinecolor": "white",
           "zerolinewidth": 2
          }
         }
        },
        "title": {
         "font": {
          "color": "#4D5663"
         }
        },
        "xaxis": {
         "gridcolor": "#E1E5ED",
         "showgrid": true,
         "tickfont": {
          "color": "#4D5663"
         },
         "title": {
          "font": {
           "color": "#4D5663"
          },
          "text": ""
         },
         "zerolinecolor": "#E1E5ED"
        },
        "yaxis": {
         "gridcolor": "#E1E5ED",
         "showgrid": true,
         "tickfont": {
          "color": "#4D5663"
         },
         "title": {
          "font": {
           "color": "#4D5663"
          },
          "text": ""
         },
         "zerolinecolor": "#E1E5ED"
        }
       }
      },
      "text/html": [
       "<div>                            <div id=\"982f5227-b648-409e-8083-c82a1aaac87a\" class=\"plotly-graph-div\" style=\"height:525px; width:100%;\"></div>            <script type=\"text/javascript\">                require([\"plotly\"], function(Plotly) {                    window.PLOTLYENV=window.PLOTLYENV || {};\n",
       "                    window.PLOTLYENV.BASE_URL='https://plot.ly';                                    if (document.getElementById(\"982f5227-b648-409e-8083-c82a1aaac87a\")) {                    Plotly.newPlot(                        \"982f5227-b648-409e-8083-c82a1aaac87a\",                        [{\"marker\":{\"color\":\"rgba(255, 153, 51, 0.6)\",\"line\":{\"color\":\"rgba(255, 153, 51, 1.0)\",\"width\":1}},\"name\":\"None\",\"orientation\":\"v\",\"text\":\"\",\"type\":\"bar\",\"x\":[\"A\",\"B\",\"C\",\"D\"],\"y\":[5.081376723247007,10.924797191501142,13.998386829607108,-4.898064725864677]}],                        {\"legend\":{\"bgcolor\":\"#F5F6F9\",\"font\":{\"color\":\"#4D5663\"}},\"paper_bgcolor\":\"#F5F6F9\",\"plot_bgcolor\":\"#F5F6F9\",\"template\":{\"data\":{\"bar\":[{\"error_x\":{\"color\":\"#2a3f5f\"},\"error_y\":{\"color\":\"#2a3f5f\"},\"marker\":{\"line\":{\"color\":\"#E5ECF6\",\"width\":0.5},\"pattern\":{\"fillmode\":\"overlay\",\"size\":10,\"solidity\":0.2}},\"type\":\"bar\"}],\"barpolar\":[{\"marker\":{\"line\":{\"color\":\"#E5ECF6\",\"width\":0.5},\"pattern\":{\"fillmode\":\"overlay\",\"size\":10,\"solidity\":0.2}},\"type\":\"barpolar\"}],\"carpet\":[{\"aaxis\":{\"endlinecolor\":\"#2a3f5f\",\"gridcolor\":\"white\",\"linecolor\":\"white\",\"minorgridcolor\":\"white\",\"startlinecolor\":\"#2a3f5f\"},\"baxis\":{\"endlinecolor\":\"#2a3f5f\",\"gridcolor\":\"white\",\"linecolor\":\"white\",\"minorgridcolor\":\"white\",\"startlinecolor\":\"#2a3f5f\"},\"type\":\"carpet\"}],\"choropleth\":[{\"colorbar\":{\"outlinewidth\":0,\"ticks\":\"\"},\"type\":\"choropleth\"}],\"contour\":[{\"colorbar\":{\"outlinewidth\":0,\"ticks\":\"\"},\"colorscale\":[[0.0,\"#0d0887\"],[0.1111111111111111,\"#46039f\"],[0.2222222222222222,\"#7201a8\"],[0.3333333333333333,\"#9c179e\"],[0.4444444444444444,\"#bd3786\"],[0.5555555555555556,\"#d8576b\"],[0.6666666666666666,\"#ed7953\"],[0.7777777777777778,\"#fb9f3a\"],[0.8888888888888888,\"#fdca26\"],[1.0,\"#f0f921\"]],\"type\":\"contour\"}],\"contourcarpet\":[{\"colorbar\":{\"outlinewidth\":0,\"ticks\":\"\"},\"type\":\"contourcarpet\"}],\"heatmap\":[{\"colorbar\":{\"outlinewidth\":0,\"ticks\":\"\"},\"colorscale\":[[0.0,\"#0d0887\"],[0.1111111111111111,\"#46039f\"],[0.2222222222222222,\"#7201a8\"],[0.3333333333333333,\"#9c179e\"],[0.4444444444444444,\"#bd3786\"],[0.5555555555555556,\"#d8576b\"],[0.6666666666666666,\"#ed7953\"],[0.7777777777777778,\"#fb9f3a\"],[0.8888888888888888,\"#fdca26\"],[1.0,\"#f0f921\"]],\"type\":\"heatmap\"}],\"heatmapgl\":[{\"colorbar\":{\"outlinewidth\":0,\"ticks\":\"\"},\"colorscale\":[[0.0,\"#0d0887\"],[0.1111111111111111,\"#46039f\"],[0.2222222222222222,\"#7201a8\"],[0.3333333333333333,\"#9c179e\"],[0.4444444444444444,\"#bd3786\"],[0.5555555555555556,\"#d8576b\"],[0.6666666666666666,\"#ed7953\"],[0.7777777777777778,\"#fb9f3a\"],[0.8888888888888888,\"#fdca26\"],[1.0,\"#f0f921\"]],\"type\":\"heatmapgl\"}],\"histogram\":[{\"marker\":{\"pattern\":{\"fillmode\":\"overlay\",\"size\":10,\"solidity\":0.2}},\"type\":\"histogram\"}],\"histogram2d\":[{\"colorbar\":{\"outlinewidth\":0,\"ticks\":\"\"},\"colorscale\":[[0.0,\"#0d0887\"],[0.1111111111111111,\"#46039f\"],[0.2222222222222222,\"#7201a8\"],[0.3333333333333333,\"#9c179e\"],[0.4444444444444444,\"#bd3786\"],[0.5555555555555556,\"#d8576b\"],[0.6666666666666666,\"#ed7953\"],[0.7777777777777778,\"#fb9f3a\"],[0.8888888888888888,\"#fdca26\"],[1.0,\"#f0f921\"]],\"type\":\"histogram2d\"}],\"histogram2dcontour\":[{\"colorbar\":{\"outlinewidth\":0,\"ticks\":\"\"},\"colorscale\":[[0.0,\"#0d0887\"],[0.1111111111111111,\"#46039f\"],[0.2222222222222222,\"#7201a8\"],[0.3333333333333333,\"#9c179e\"],[0.4444444444444444,\"#bd3786\"],[0.5555555555555556,\"#d8576b\"],[0.6666666666666666,\"#ed7953\"],[0.7777777777777778,\"#fb9f3a\"],[0.8888888888888888,\"#fdca26\"],[1.0,\"#f0f921\"]],\"type\":\"histogram2dcontour\"}],\"mesh3d\":[{\"colorbar\":{\"outlinewidth\":0,\"ticks\":\"\"},\"type\":\"mesh3d\"}],\"parcoords\":[{\"line\":{\"colorbar\":{\"outlinewidth\":0,\"ticks\":\"\"}},\"type\":\"parcoords\"}],\"pie\":[{\"automargin\":true,\"type\":\"pie\"}],\"scatter\":[{\"marker\":{\"colorbar\":{\"outlinewidth\":0,\"ticks\":\"\"}},\"type\":\"scatter\"}],\"scatter3d\":[{\"line\":{\"colorbar\":{\"outlinewidth\":0,\"ticks\":\"\"}},\"marker\":{\"colorbar\":{\"outlinewidth\":0,\"ticks\":\"\"}},\"type\":\"scatter3d\"}],\"scattercarpet\":[{\"marker\":{\"colorbar\":{\"outlinewidth\":0,\"ticks\":\"\"}},\"type\":\"scattercarpet\"}],\"scattergeo\":[{\"marker\":{\"colorbar\":{\"outlinewidth\":0,\"ticks\":\"\"}},\"type\":\"scattergeo\"}],\"scattergl\":[{\"marker\":{\"colorbar\":{\"outlinewidth\":0,\"ticks\":\"\"}},\"type\":\"scattergl\"}],\"scattermapbox\":[{\"marker\":{\"colorbar\":{\"outlinewidth\":0,\"ticks\":\"\"}},\"type\":\"scattermapbox\"}],\"scatterpolar\":[{\"marker\":{\"colorbar\":{\"outlinewidth\":0,\"ticks\":\"\"}},\"type\":\"scatterpolar\"}],\"scatterpolargl\":[{\"marker\":{\"colorbar\":{\"outlinewidth\":0,\"ticks\":\"\"}},\"type\":\"scatterpolargl\"}],\"scatterternary\":[{\"marker\":{\"colorbar\":{\"outlinewidth\":0,\"ticks\":\"\"}},\"type\":\"scatterternary\"}],\"surface\":[{\"colorbar\":{\"outlinewidth\":0,\"ticks\":\"\"},\"colorscale\":[[0.0,\"#0d0887\"],[0.1111111111111111,\"#46039f\"],[0.2222222222222222,\"#7201a8\"],[0.3333333333333333,\"#9c179e\"],[0.4444444444444444,\"#bd3786\"],[0.5555555555555556,\"#d8576b\"],[0.6666666666666666,\"#ed7953\"],[0.7777777777777778,\"#fb9f3a\"],[0.8888888888888888,\"#fdca26\"],[1.0,\"#f0f921\"]],\"type\":\"surface\"}],\"table\":[{\"cells\":{\"fill\":{\"color\":\"#EBF0F8\"},\"line\":{\"color\":\"white\"}},\"header\":{\"fill\":{\"color\":\"#C8D4E3\"},\"line\":{\"color\":\"white\"}},\"type\":\"table\"}]},\"layout\":{\"annotationdefaults\":{\"arrowcolor\":\"#2a3f5f\",\"arrowhead\":0,\"arrowwidth\":1},\"autotypenumbers\":\"strict\",\"coloraxis\":{\"colorbar\":{\"outlinewidth\":0,\"ticks\":\"\"}},\"colorscale\":{\"diverging\":[[0,\"#8e0152\"],[0.1,\"#c51b7d\"],[0.2,\"#de77ae\"],[0.3,\"#f1b6da\"],[0.4,\"#fde0ef\"],[0.5,\"#f7f7f7\"],[0.6,\"#e6f5d0\"],[0.7,\"#b8e186\"],[0.8,\"#7fbc41\"],[0.9,\"#4d9221\"],[1,\"#276419\"]],\"sequential\":[[0.0,\"#0d0887\"],[0.1111111111111111,\"#46039f\"],[0.2222222222222222,\"#7201a8\"],[0.3333333333333333,\"#9c179e\"],[0.4444444444444444,\"#bd3786\"],[0.5555555555555556,\"#d8576b\"],[0.6666666666666666,\"#ed7953\"],[0.7777777777777778,\"#fb9f3a\"],[0.8888888888888888,\"#fdca26\"],[1.0,\"#f0f921\"]],\"sequentialminus\":[[0.0,\"#0d0887\"],[0.1111111111111111,\"#46039f\"],[0.2222222222222222,\"#7201a8\"],[0.3333333333333333,\"#9c179e\"],[0.4444444444444444,\"#bd3786\"],[0.5555555555555556,\"#d8576b\"],[0.6666666666666666,\"#ed7953\"],[0.7777777777777778,\"#fb9f3a\"],[0.8888888888888888,\"#fdca26\"],[1.0,\"#f0f921\"]]},\"colorway\":[\"#636efa\",\"#EF553B\",\"#00cc96\",\"#ab63fa\",\"#FFA15A\",\"#19d3f3\",\"#FF6692\",\"#B6E880\",\"#FF97FF\",\"#FECB52\"],\"font\":{\"color\":\"#2a3f5f\"},\"geo\":{\"bgcolor\":\"white\",\"lakecolor\":\"white\",\"landcolor\":\"#E5ECF6\",\"showlakes\":true,\"showland\":true,\"subunitcolor\":\"white\"},\"hoverlabel\":{\"align\":\"left\"},\"hovermode\":\"closest\",\"mapbox\":{\"style\":\"light\"},\"paper_bgcolor\":\"white\",\"plot_bgcolor\":\"#E5ECF6\",\"polar\":{\"angularaxis\":{\"gridcolor\":\"white\",\"linecolor\":\"white\",\"ticks\":\"\"},\"bgcolor\":\"#E5ECF6\",\"radialaxis\":{\"gridcolor\":\"white\",\"linecolor\":\"white\",\"ticks\":\"\"}},\"scene\":{\"xaxis\":{\"backgroundcolor\":\"#E5ECF6\",\"gridcolor\":\"white\",\"gridwidth\":2,\"linecolor\":\"white\",\"showbackground\":true,\"ticks\":\"\",\"zerolinecolor\":\"white\"},\"yaxis\":{\"backgroundcolor\":\"#E5ECF6\",\"gridcolor\":\"white\",\"gridwidth\":2,\"linecolor\":\"white\",\"showbackground\":true,\"ticks\":\"\",\"zerolinecolor\":\"white\"},\"zaxis\":{\"backgroundcolor\":\"#E5ECF6\",\"gridcolor\":\"white\",\"gridwidth\":2,\"linecolor\":\"white\",\"showbackground\":true,\"ticks\":\"\",\"zerolinecolor\":\"white\"}},\"shapedefaults\":{\"line\":{\"color\":\"#2a3f5f\"}},\"ternary\":{\"aaxis\":{\"gridcolor\":\"white\",\"linecolor\":\"white\",\"ticks\":\"\"},\"baxis\":{\"gridcolor\":\"white\",\"linecolor\":\"white\",\"ticks\":\"\"},\"bgcolor\":\"#E5ECF6\",\"caxis\":{\"gridcolor\":\"white\",\"linecolor\":\"white\",\"ticks\":\"\"}},\"title\":{\"x\":0.05},\"xaxis\":{\"automargin\":true,\"gridcolor\":\"white\",\"linecolor\":\"white\",\"ticks\":\"\",\"title\":{\"standoff\":15},\"zerolinecolor\":\"white\",\"zerolinewidth\":2},\"yaxis\":{\"automargin\":true,\"gridcolor\":\"white\",\"linecolor\":\"white\",\"ticks\":\"\",\"title\":{\"standoff\":15},\"zerolinecolor\":\"white\",\"zerolinewidth\":2}}},\"title\":{\"font\":{\"color\":\"#4D5663\"}},\"xaxis\":{\"gridcolor\":\"#E1E5ED\",\"showgrid\":true,\"tickfont\":{\"color\":\"#4D5663\"},\"title\":{\"font\":{\"color\":\"#4D5663\"},\"text\":\"\"},\"zerolinecolor\":\"#E1E5ED\"},\"yaxis\":{\"gridcolor\":\"#E1E5ED\",\"showgrid\":true,\"tickfont\":{\"color\":\"#4D5663\"},\"title\":{\"font\":{\"color\":\"#4D5663\"},\"text\":\"\"},\"zerolinecolor\":\"#E1E5ED\"}},                        {\"showLink\": true, \"linkText\": \"Export to plot.ly\", \"plotlyServerURL\": \"https://plot.ly\", \"responsive\": true}                    ).then(function(){\n",
       "                            \n",
       "var gd = document.getElementById('982f5227-b648-409e-8083-c82a1aaac87a');\n",
       "var x = new MutationObserver(function (mutations, observer) {{\n",
       "        var display = window.getComputedStyle(gd).display;\n",
       "        if (!display || display === 'none') {{\n",
       "            console.log([gd, 'removed!']);\n",
       "            Plotly.purge(gd);\n",
       "            observer.disconnect();\n",
       "        }}\n",
       "}});\n",
       "\n",
       "// Listen for the removal of the full notebook cells\n",
       "var notebookContainer = gd.closest('#notebook-container');\n",
       "if (notebookContainer) {{\n",
       "    x.observe(notebookContainer, {childList: true});\n",
       "}}\n",
       "\n",
       "// Listen for the clearing of the current output cell\n",
       "var outputEl = gd.closest('.output');\n",
       "if (outputEl) {{\n",
       "    x.observe(outputEl, {childList: true});\n",
       "}}\n",
       "\n",
       "                        })                };                });            </script>        </div>"
      ]
     },
     "metadata": {},
     "output_type": "display_data"
    }
   ],
   "source": [
    "df.sum().iplot(kind='bar')"
   ]
  },
  {
   "cell_type": "code",
   "execution_count": 22,
   "metadata": {},
   "outputs": [
    {
     "data": {
      "application/vnd.plotly.v1+json": {
       "config": {
        "linkText": "Export to plot.ly",
        "plotlyServerURL": "https://plot.ly",
        "showLink": true
       },
       "data": [
        {
         "boxpoints": false,
         "line": {
          "width": 1.3
         },
         "marker": {
          "color": "rgba(255, 153, 51, 1.0)"
         },
         "name": "A",
         "orientation": "v",
         "type": "box",
         "y": [
          0.05605791357056261,
          0.460019687284693,
          0.6287518092337231,
          -0.40335735674017076,
          0.10729666753545831,
          -0.6295013494642708,
          -1.4951352553786494,
          1.0672754786555207,
          0.3598261803907446,
          -1.0166936426325441,
          -0.07666864253836506,
          0.0410685021645721,
          0.48573655430333923,
          -0.11416938422627511,
          -0.7386166413012212,
          0.7039588772816362,
          1.707845165649345,
          0.3042828542104509,
          1.1414108452743028,
          -0.1891422906682915,
          -1.0724824106218038,
          1.697912228612607,
          2.376315745461367,
          1.3285205463490388,
          0.5241455798665027,
          0.3296266350692246,
          0.893307944055857,
          0.29888277985522527,
          -0.40214756911155725,
          0.27769939748663547,
          1.7229469733657832,
          -1.0590791859078141,
          0.17677513633413716,
          -1.0751157989840059,
          -1.206163745609603,
          0.21085545930113656,
          0.28691557726486,
          0.5626865844183987,
          -0.024749798143169792,
          -1.227681486982836,
          2.3768811509212675,
          -1.5514568828774338,
          1.6112875275834087,
          -0.035511207000442,
          1.3597817860592807,
          0.6340139048174628,
          -0.9461246374711879,
          -0.5980463813946243,
          -0.11121371341266718,
          -0.7789947858694427,
          -0.7909367835488761,
          0.44597932143928465,
          -0.015829741692926957,
          0.5880978326151248,
          -1.1687690687778953,
          0.46738762470996625,
          -1.0232152012694558,
          0.019203856503362135,
          -0.2513480883458298,
          1.67760815029347,
          -0.3388913730150217,
          0.5054335631763178,
          -0.5582218465556053,
          0.09412762463803932,
          -0.269836966510378,
          -0.4229131069545643,
          -0.05562146161653577,
          0.36806445455580034,
          -0.1491590393377931,
          -1.6102639259917182,
          0.3538094719163923,
          1.2443563819434125,
          -0.5311791146417401,
          0.03025030818705174,
          2.6374187556509767,
          -0.06300359369525535,
          -0.2163986548430199,
          -1.4063465608219916,
          -0.6335377419553875,
          0.5468778943274468,
          0.22887859434644822,
          -0.0024186408660699346,
          1.051698629355191,
          -0.9869517109480603,
          -0.31987496824644224,
          -0.540174686913111,
          0.3340381390336442,
          0.7322443952033713,
          -0.9129854111412516,
          -0.18584647450385625,
          -0.9478104793799853,
          0.7151795709345523,
          -0.8542424412247567,
          -1.5265198883275757,
          0.5488311569159915,
          0.21865254089016833,
          -0.4204248699245095,
          -1.0376879604394742,
          0.24386425713090254,
          0.2897506749290084
         ]
        },
        {
         "boxpoints": false,
         "line": {
          "width": 1.3
         },
         "marker": {
          "color": "rgba(55, 128, 191, 1.0)"
         },
         "name": "B",
         "orientation": "v",
         "type": "box",
         "y": [
          0.4908311343814552,
          0.2184294036515998,
          0.8773199756877776,
          -0.5306270595751419,
          -0.45857510326432177,
          -2.210141175194517,
          -1.1718073236010733,
          0.7655275912167271,
          0.6356541834810701,
          -1.6332828663175116,
          1.0487351561018425,
          1.43729039987702,
          -0.7409401093263623,
          -0.5906002518728066,
          -3.5822454622628177,
          1.775083894237991,
          3.153359736399895,
          -0.206360434964078,
          0.4832668240227068,
          1.4924634234884744,
          1.1303056661058593,
          0.3809413259195282,
          -0.08435249626929543,
          0.3702751991921212,
          1.3951327098969522,
          -1.7295969719787143,
          -0.44408775127808997,
          1.1487743309202474,
          -0.04902087713511538,
          -0.7120750076662782,
          0.40449471024488143,
          0.2918957958896897,
          0.5560023877190212,
          -0.16752371802339486,
          -1.716850478180125,
          0.649158426150467,
          1.1233767639252763,
          -0.814426114370307,
          0.9445349720500489,
          0.05147449020198193,
          0.8137655537705104,
          -1.2817599458106645,
          -0.14242664444260536,
          2.094452656634059,
          -0.6513378649946291,
          0.24095637290196942,
          0.6557918851124303,
          -0.3338149240064824,
          0.1969743738756663,
          -0.4912013596722006,
          1.4809601842856794,
          0.348984950814985,
          -0.4530667696706939,
          1.612914879507302,
          0.09814254220664902,
          0.1592404246273716,
          0.32301285061662766,
          -0.2110628783857944,
          -1.2090441466834407,
          0.2731259978707747,
          -0.6739588109652542,
          -1.0767813621272486,
          0.21458519274391671,
          -1.2171725576955057,
          0.9340611364054661,
          -0.3972945452157132,
          1.1575954255423209,
          -0.47619949851144905,
          2.519144683341893,
          1.2944533426663674,
          -0.9734229218001452,
          1.3682532247341346,
          -0.8496789312210303,
          -0.2649093729476989,
          0.6457170669435297,
          0.8271064006126501,
          -0.7749528988067509,
          1.001913076936737,
          0.8120002507488213,
          -0.8663830893781663,
          2.2109593730602133,
          -0.3781719075913857,
          0.015200436893985737,
          2.0796227484366914,
          0.03414309480971347,
          -0.7073025970093648,
          0.5447876540997124,
          0.15871659579090078,
          -0.060186952309339056,
          -2.040420778866945,
          -0.13855641571035474,
          -1.6961095263369388,
          -0.9299607848471094,
          0.42810125413179506,
          -0.20960566035875308,
          0.8091366866871842,
          -0.6383733130460841,
          0.03184295820309675,
          0.4099770897336773,
          0.29049798568337276
         ]
        },
        {
         "boxpoints": false,
         "line": {
          "width": 1.3
         },
         "marker": {
          "color": "rgba(50, 171, 96, 1.0)"
         },
         "name": "C",
         "orientation": "v",
         "type": "box",
         "y": [
          1.24824987724467,
          0.9983689311913663,
          -1.0545690724204038,
          1.1110154458252424,
          -0.18806788243124886,
          1.6412332962784588,
          0.9976205692561707,
          -0.20563881102554485,
          0.5345206661859929,
          -0.8505885078959133,
          -1.1753042938369387,
          0.5549326737094422,
          1.0995805298123364,
          -1.0560733314055109,
          1.3277532401832361,
          1.4523608886914232,
          -0.161314534715455,
          -0.33489534535513893,
          -0.7537305268618539,
          -1.3651019723336582,
          0.15357143130152426,
          2.352502339439212,
          0.8208166600250829,
          -1.5795811113520248,
          0.9950742161653353,
          0.14579194579704557,
          0.8169337766943169,
          -1.1420317664011554,
          -0.6917161512521847,
          0.5397028580408441,
          1.2888922014575794,
          0.9645618249698433,
          2.508282884935816,
          -1.2406403110575333,
          0.6727589312788329,
          1.9535578727520735,
          2.0655850841980685,
          0.5939239517448182,
          1.5609919616111845,
          -0.7252496988828738,
          2.136310258701791,
          0.4446478384214512,
          0.7814050040605677,
          1.9400127197756265,
          -0.0625414646621362,
          -0.49897583504721527,
          0.34188695790826173,
          -0.8253166450180647,
          0.7075042946640339,
          -1.0497064659937023,
          0.6115380282026508,
          -0.042634838988535886,
          -1.613726680017053,
          -0.5108762951988812,
          -1.109847843378826,
          -0.7640949124503643,
          -1.1407668845157493,
          0.27212241625304584,
          1.0395184083143811,
          -1.5022539999450975,
          -0.9908832213910737,
          0.5194210032608014,
          -0.49037645678522157,
          1.2474633860946922,
          -1.2160380494102008,
          1.3460491818655465,
          -0.230631034046932,
          1.4089074816386598,
          -0.1579573048321106,
          -0.5160439485600161,
          -0.3648808343273896,
          -0.5257838884533907,
          0.06842469839609554,
          0.08568730169514732,
          -1.1371332137463852,
          -1.4971689928424767,
          -0.8515939238232175,
          -1.30988193953392,
          1.3795659468683439,
          -0.5130671601260106,
          0.9621516370294597,
          -0.9187135909664644,
          0.8604235269339526,
          0.37135557036266653,
          0.8614769610539936,
          -0.18904446358552046,
          -2.22437399622934,
          0.33106342755376417,
          2.549737610004259,
          -0.4618425641054059,
          -1.2889213156018071,
          0.07516728539907698,
          -0.048269396726482776,
          1.088268004436375,
          1.3079386308997538,
          -1.143496816856456,
          0.27367419166654844,
          -0.06915058726928211,
          0.4000533457112604,
          -0.021474464692848805
         ]
        },
        {
         "boxpoints": false,
         "line": {
          "width": 1.3
         },
         "marker": {
          "color": "rgba(128, 0, 128, 1.0)"
         },
         "name": "D",
         "orientation": "v",
         "type": "box",
         "y": [
          1.0342738233186355,
          0.5156610196675836,
          -0.5725259067866464,
          -0.10970870252082576,
          -1.4327145722273824,
          -0.9826239102851156,
          0.5006651139298808,
          -1.1502675055475746,
          0.6639679297637253,
          -0.07752158325123237,
          2.0158414978467887,
          -0.9955282451419247,
          -1.7210864207825824,
          0.23479523078152342,
          -0.2161324289065316,
          0.25208726701439466,
          0.01577336591237228,
          0.34882139513354027,
          -0.7238237634736284,
          -0.3501528880220865,
          1.0479828325432092,
          0.9155011350265077,
          0.20143348513930073,
          -1.5723117782905938,
          0.8329643643432065,
          -0.020518177832366917,
          0.4434169197970847,
          -0.13151662643872672,
          0.19345297335747452,
          -1.0478613936117316,
          -1.2799209471787956,
          0.9050515082873299,
          -0.9489689486425905,
          -1.091978704639964,
          0.6384162534669922,
          -0.8818576944601535,
          0.2093325649640961,
          0.8242202667089975,
          -2.8517008211626615,
          0.30367457140949283,
          0.9725263493422491,
          1.224233425644717,
          0.8635991278823429,
          0.46944638498128954,
          0.8197091528699354,
          1.0113032914201345,
          0.13748361177121818,
          1.6692510622178953,
          0.432584711062849,
          -0.29826117549858916,
          -0.4593725731326591,
          -0.17404850710223124,
          -0.9369130775604738,
          0.2507113827278272,
          0.1530612974438675,
          1.5401766900531628,
          0.8993395464011825,
          -0.32920039648177646,
          0.5914808895285231,
          -0.7853589024365782,
          0.7325306864025032,
          -1.3905132515174619,
          0.9167629257257449,
          1.0412497492462496,
          3.0885137231233815,
          -0.6518212596559126,
          0.363107114757367,
          1.7062057862485325,
          0.050858029670477874,
          1.1709220746651454,
          0.6051558226870052,
          0.4992326633715957,
          0.20317822388308163,
          0.23867508128071055,
          -1.099568926340057,
          -2.1461816017798543,
          1.3572434043105053,
          -1.5904421177027062,
          -0.0642040160364851,
          0.7931736049541596,
          -1.2157041083468376,
          -1.6847396490905608,
          -1.8683363355635891,
          -0.6734526705125173,
          -1.26830693894692,
          -0.6493342786724048,
          -0.16319043196262376,
          -0.8780734025113669,
          -1.4106890856015997,
          -1.1809037028725,
          -0.5100649158973671,
          0.3895190308583476,
          -1.2204805956483635,
          0.1847573466074172,
          -1.383240694871071,
          -0.5472801903743459,
          0.9156878096550913,
          0.4285045498957374,
          0.5691321261310297,
          -0.5463110957781203
         ]
        }
       ],
       "layout": {
        "legend": {
         "bgcolor": "#F5F6F9",
         "font": {
          "color": "#4D5663"
         }
        },
        "paper_bgcolor": "#F5F6F9",
        "plot_bgcolor": "#F5F6F9",
        "template": {
         "data": {
          "bar": [
           {
            "error_x": {
             "color": "#2a3f5f"
            },
            "error_y": {
             "color": "#2a3f5f"
            },
            "marker": {
             "line": {
              "color": "#E5ECF6",
              "width": 0.5
             },
             "pattern": {
              "fillmode": "overlay",
              "size": 10,
              "solidity": 0.2
             }
            },
            "type": "bar"
           }
          ],
          "barpolar": [
           {
            "marker": {
             "line": {
              "color": "#E5ECF6",
              "width": 0.5
             },
             "pattern": {
              "fillmode": "overlay",
              "size": 10,
              "solidity": 0.2
             }
            },
            "type": "barpolar"
           }
          ],
          "carpet": [
           {
            "aaxis": {
             "endlinecolor": "#2a3f5f",
             "gridcolor": "white",
             "linecolor": "white",
             "minorgridcolor": "white",
             "startlinecolor": "#2a3f5f"
            },
            "baxis": {
             "endlinecolor": "#2a3f5f",
             "gridcolor": "white",
             "linecolor": "white",
             "minorgridcolor": "white",
             "startlinecolor": "#2a3f5f"
            },
            "type": "carpet"
           }
          ],
          "choropleth": [
           {
            "colorbar": {
             "outlinewidth": 0,
             "ticks": ""
            },
            "type": "choropleth"
           }
          ],
          "contour": [
           {
            "colorbar": {
             "outlinewidth": 0,
             "ticks": ""
            },
            "colorscale": [
             [
              0,
              "#0d0887"
             ],
             [
              0.1111111111111111,
              "#46039f"
             ],
             [
              0.2222222222222222,
              "#7201a8"
             ],
             [
              0.3333333333333333,
              "#9c179e"
             ],
             [
              0.4444444444444444,
              "#bd3786"
             ],
             [
              0.5555555555555556,
              "#d8576b"
             ],
             [
              0.6666666666666666,
              "#ed7953"
             ],
             [
              0.7777777777777778,
              "#fb9f3a"
             ],
             [
              0.8888888888888888,
              "#fdca26"
             ],
             [
              1,
              "#f0f921"
             ]
            ],
            "type": "contour"
           }
          ],
          "contourcarpet": [
           {
            "colorbar": {
             "outlinewidth": 0,
             "ticks": ""
            },
            "type": "contourcarpet"
           }
          ],
          "heatmap": [
           {
            "colorbar": {
             "outlinewidth": 0,
             "ticks": ""
            },
            "colorscale": [
             [
              0,
              "#0d0887"
             ],
             [
              0.1111111111111111,
              "#46039f"
             ],
             [
              0.2222222222222222,
              "#7201a8"
             ],
             [
              0.3333333333333333,
              "#9c179e"
             ],
             [
              0.4444444444444444,
              "#bd3786"
             ],
             [
              0.5555555555555556,
              "#d8576b"
             ],
             [
              0.6666666666666666,
              "#ed7953"
             ],
             [
              0.7777777777777778,
              "#fb9f3a"
             ],
             [
              0.8888888888888888,
              "#fdca26"
             ],
             [
              1,
              "#f0f921"
             ]
            ],
            "type": "heatmap"
           }
          ],
          "heatmapgl": [
           {
            "colorbar": {
             "outlinewidth": 0,
             "ticks": ""
            },
            "colorscale": [
             [
              0,
              "#0d0887"
             ],
             [
              0.1111111111111111,
              "#46039f"
             ],
             [
              0.2222222222222222,
              "#7201a8"
             ],
             [
              0.3333333333333333,
              "#9c179e"
             ],
             [
              0.4444444444444444,
              "#bd3786"
             ],
             [
              0.5555555555555556,
              "#d8576b"
             ],
             [
              0.6666666666666666,
              "#ed7953"
             ],
             [
              0.7777777777777778,
              "#fb9f3a"
             ],
             [
              0.8888888888888888,
              "#fdca26"
             ],
             [
              1,
              "#f0f921"
             ]
            ],
            "type": "heatmapgl"
           }
          ],
          "histogram": [
           {
            "marker": {
             "pattern": {
              "fillmode": "overlay",
              "size": 10,
              "solidity": 0.2
             }
            },
            "type": "histogram"
           }
          ],
          "histogram2d": [
           {
            "colorbar": {
             "outlinewidth": 0,
             "ticks": ""
            },
            "colorscale": [
             [
              0,
              "#0d0887"
             ],
             [
              0.1111111111111111,
              "#46039f"
             ],
             [
              0.2222222222222222,
              "#7201a8"
             ],
             [
              0.3333333333333333,
              "#9c179e"
             ],
             [
              0.4444444444444444,
              "#bd3786"
             ],
             [
              0.5555555555555556,
              "#d8576b"
             ],
             [
              0.6666666666666666,
              "#ed7953"
             ],
             [
              0.7777777777777778,
              "#fb9f3a"
             ],
             [
              0.8888888888888888,
              "#fdca26"
             ],
             [
              1,
              "#f0f921"
             ]
            ],
            "type": "histogram2d"
           }
          ],
          "histogram2dcontour": [
           {
            "colorbar": {
             "outlinewidth": 0,
             "ticks": ""
            },
            "colorscale": [
             [
              0,
              "#0d0887"
             ],
             [
              0.1111111111111111,
              "#46039f"
             ],
             [
              0.2222222222222222,
              "#7201a8"
             ],
             [
              0.3333333333333333,
              "#9c179e"
             ],
             [
              0.4444444444444444,
              "#bd3786"
             ],
             [
              0.5555555555555556,
              "#d8576b"
             ],
             [
              0.6666666666666666,
              "#ed7953"
             ],
             [
              0.7777777777777778,
              "#fb9f3a"
             ],
             [
              0.8888888888888888,
              "#fdca26"
             ],
             [
              1,
              "#f0f921"
             ]
            ],
            "type": "histogram2dcontour"
           }
          ],
          "mesh3d": [
           {
            "colorbar": {
             "outlinewidth": 0,
             "ticks": ""
            },
            "type": "mesh3d"
           }
          ],
          "parcoords": [
           {
            "line": {
             "colorbar": {
              "outlinewidth": 0,
              "ticks": ""
             }
            },
            "type": "parcoords"
           }
          ],
          "pie": [
           {
            "automargin": true,
            "type": "pie"
           }
          ],
          "scatter": [
           {
            "marker": {
             "colorbar": {
              "outlinewidth": 0,
              "ticks": ""
             }
            },
            "type": "scatter"
           }
          ],
          "scatter3d": [
           {
            "line": {
             "colorbar": {
              "outlinewidth": 0,
              "ticks": ""
             }
            },
            "marker": {
             "colorbar": {
              "outlinewidth": 0,
              "ticks": ""
             }
            },
            "type": "scatter3d"
           }
          ],
          "scattercarpet": [
           {
            "marker": {
             "colorbar": {
              "outlinewidth": 0,
              "ticks": ""
             }
            },
            "type": "scattercarpet"
           }
          ],
          "scattergeo": [
           {
            "marker": {
             "colorbar": {
              "outlinewidth": 0,
              "ticks": ""
             }
            },
            "type": "scattergeo"
           }
          ],
          "scattergl": [
           {
            "marker": {
             "colorbar": {
              "outlinewidth": 0,
              "ticks": ""
             }
            },
            "type": "scattergl"
           }
          ],
          "scattermapbox": [
           {
            "marker": {
             "colorbar": {
              "outlinewidth": 0,
              "ticks": ""
             }
            },
            "type": "scattermapbox"
           }
          ],
          "scatterpolar": [
           {
            "marker": {
             "colorbar": {
              "outlinewidth": 0,
              "ticks": ""
             }
            },
            "type": "scatterpolar"
           }
          ],
          "scatterpolargl": [
           {
            "marker": {
             "colorbar": {
              "outlinewidth": 0,
              "ticks": ""
             }
            },
            "type": "scatterpolargl"
           }
          ],
          "scatterternary": [
           {
            "marker": {
             "colorbar": {
              "outlinewidth": 0,
              "ticks": ""
             }
            },
            "type": "scatterternary"
           }
          ],
          "surface": [
           {
            "colorbar": {
             "outlinewidth": 0,
             "ticks": ""
            },
            "colorscale": [
             [
              0,
              "#0d0887"
             ],
             [
              0.1111111111111111,
              "#46039f"
             ],
             [
              0.2222222222222222,
              "#7201a8"
             ],
             [
              0.3333333333333333,
              "#9c179e"
             ],
             [
              0.4444444444444444,
              "#bd3786"
             ],
             [
              0.5555555555555556,
              "#d8576b"
             ],
             [
              0.6666666666666666,
              "#ed7953"
             ],
             [
              0.7777777777777778,
              "#fb9f3a"
             ],
             [
              0.8888888888888888,
              "#fdca26"
             ],
             [
              1,
              "#f0f921"
             ]
            ],
            "type": "surface"
           }
          ],
          "table": [
           {
            "cells": {
             "fill": {
              "color": "#EBF0F8"
             },
             "line": {
              "color": "white"
             }
            },
            "header": {
             "fill": {
              "color": "#C8D4E3"
             },
             "line": {
              "color": "white"
             }
            },
            "type": "table"
           }
          ]
         },
         "layout": {
          "annotationdefaults": {
           "arrowcolor": "#2a3f5f",
           "arrowhead": 0,
           "arrowwidth": 1
          },
          "autotypenumbers": "strict",
          "coloraxis": {
           "colorbar": {
            "outlinewidth": 0,
            "ticks": ""
           }
          },
          "colorscale": {
           "diverging": [
            [
             0,
             "#8e0152"
            ],
            [
             0.1,
             "#c51b7d"
            ],
            [
             0.2,
             "#de77ae"
            ],
            [
             0.3,
             "#f1b6da"
            ],
            [
             0.4,
             "#fde0ef"
            ],
            [
             0.5,
             "#f7f7f7"
            ],
            [
             0.6,
             "#e6f5d0"
            ],
            [
             0.7,
             "#b8e186"
            ],
            [
             0.8,
             "#7fbc41"
            ],
            [
             0.9,
             "#4d9221"
            ],
            [
             1,
             "#276419"
            ]
           ],
           "sequential": [
            [
             0,
             "#0d0887"
            ],
            [
             0.1111111111111111,
             "#46039f"
            ],
            [
             0.2222222222222222,
             "#7201a8"
            ],
            [
             0.3333333333333333,
             "#9c179e"
            ],
            [
             0.4444444444444444,
             "#bd3786"
            ],
            [
             0.5555555555555556,
             "#d8576b"
            ],
            [
             0.6666666666666666,
             "#ed7953"
            ],
            [
             0.7777777777777778,
             "#fb9f3a"
            ],
            [
             0.8888888888888888,
             "#fdca26"
            ],
            [
             1,
             "#f0f921"
            ]
           ],
           "sequentialminus": [
            [
             0,
             "#0d0887"
            ],
            [
             0.1111111111111111,
             "#46039f"
            ],
            [
             0.2222222222222222,
             "#7201a8"
            ],
            [
             0.3333333333333333,
             "#9c179e"
            ],
            [
             0.4444444444444444,
             "#bd3786"
            ],
            [
             0.5555555555555556,
             "#d8576b"
            ],
            [
             0.6666666666666666,
             "#ed7953"
            ],
            [
             0.7777777777777778,
             "#fb9f3a"
            ],
            [
             0.8888888888888888,
             "#fdca26"
            ],
            [
             1,
             "#f0f921"
            ]
           ]
          },
          "colorway": [
           "#636efa",
           "#EF553B",
           "#00cc96",
           "#ab63fa",
           "#FFA15A",
           "#19d3f3",
           "#FF6692",
           "#B6E880",
           "#FF97FF",
           "#FECB52"
          ],
          "font": {
           "color": "#2a3f5f"
          },
          "geo": {
           "bgcolor": "white",
           "lakecolor": "white",
           "landcolor": "#E5ECF6",
           "showlakes": true,
           "showland": true,
           "subunitcolor": "white"
          },
          "hoverlabel": {
           "align": "left"
          },
          "hovermode": "closest",
          "mapbox": {
           "style": "light"
          },
          "paper_bgcolor": "white",
          "plot_bgcolor": "#E5ECF6",
          "polar": {
           "angularaxis": {
            "gridcolor": "white",
            "linecolor": "white",
            "ticks": ""
           },
           "bgcolor": "#E5ECF6",
           "radialaxis": {
            "gridcolor": "white",
            "linecolor": "white",
            "ticks": ""
           }
          },
          "scene": {
           "xaxis": {
            "backgroundcolor": "#E5ECF6",
            "gridcolor": "white",
            "gridwidth": 2,
            "linecolor": "white",
            "showbackground": true,
            "ticks": "",
            "zerolinecolor": "white"
           },
           "yaxis": {
            "backgroundcolor": "#E5ECF6",
            "gridcolor": "white",
            "gridwidth": 2,
            "linecolor": "white",
            "showbackground": true,
            "ticks": "",
            "zerolinecolor": "white"
           },
           "zaxis": {
            "backgroundcolor": "#E5ECF6",
            "gridcolor": "white",
            "gridwidth": 2,
            "linecolor": "white",
            "showbackground": true,
            "ticks": "",
            "zerolinecolor": "white"
           }
          },
          "shapedefaults": {
           "line": {
            "color": "#2a3f5f"
           }
          },
          "ternary": {
           "aaxis": {
            "gridcolor": "white",
            "linecolor": "white",
            "ticks": ""
           },
           "baxis": {
            "gridcolor": "white",
            "linecolor": "white",
            "ticks": ""
           },
           "bgcolor": "#E5ECF6",
           "caxis": {
            "gridcolor": "white",
            "linecolor": "white",
            "ticks": ""
           }
          },
          "title": {
           "x": 0.05
          },
          "xaxis": {
           "automargin": true,
           "gridcolor": "white",
           "linecolor": "white",
           "ticks": "",
           "title": {
            "standoff": 15
           },
           "zerolinecolor": "white",
           "zerolinewidth": 2
          },
          "yaxis": {
           "automargin": true,
           "gridcolor": "white",
           "linecolor": "white",
           "ticks": "",
           "title": {
            "standoff": 15
           },
           "zerolinecolor": "white",
           "zerolinewidth": 2
          }
         }
        },
        "title": {
         "font": {
          "color": "#4D5663"
         }
        },
        "xaxis": {
         "gridcolor": "#E1E5ED",
         "showgrid": true,
         "tickfont": {
          "color": "#4D5663"
         },
         "title": {
          "font": {
           "color": "#4D5663"
          },
          "text": ""
         },
         "zerolinecolor": "#E1E5ED"
        },
        "yaxis": {
         "gridcolor": "#E1E5ED",
         "showgrid": true,
         "tickfont": {
          "color": "#4D5663"
         },
         "title": {
          "font": {
           "color": "#4D5663"
          },
          "text": ""
         },
         "zerolinecolor": "#E1E5ED"
        }
       }
      },
      "text/html": [
       "<div>                            <div id=\"e57bf046-57de-4d3b-9ca6-66148db40338\" class=\"plotly-graph-div\" style=\"height:525px; width:100%;\"></div>            <script type=\"text/javascript\">                require([\"plotly\"], function(Plotly) {                    window.PLOTLYENV=window.PLOTLYENV || {};\n",
       "                    window.PLOTLYENV.BASE_URL='https://plot.ly';                                    if (document.getElementById(\"e57bf046-57de-4d3b-9ca6-66148db40338\")) {                    Plotly.newPlot(                        \"e57bf046-57de-4d3b-9ca6-66148db40338\",                        [{\"boxpoints\":false,\"line\":{\"width\":1.3},\"marker\":{\"color\":\"rgba(255, 153, 51, 1.0)\"},\"name\":\"A\",\"orientation\":\"v\",\"type\":\"box\",\"y\":[0.05605791357056261,0.460019687284693,0.6287518092337231,-0.40335735674017076,0.10729666753545831,-0.6295013494642708,-1.4951352553786494,1.0672754786555207,0.3598261803907446,-1.0166936426325441,-0.07666864253836506,0.0410685021645721,0.48573655430333923,-0.11416938422627511,-0.7386166413012212,0.7039588772816362,1.707845165649345,0.3042828542104509,1.1414108452743028,-0.1891422906682915,-1.0724824106218038,1.697912228612607,2.376315745461367,1.3285205463490388,0.5241455798665027,0.3296266350692246,0.893307944055857,0.29888277985522527,-0.40214756911155725,0.27769939748663547,1.7229469733657832,-1.0590791859078141,0.17677513633413716,-1.0751157989840059,-1.206163745609603,0.21085545930113656,0.28691557726486,0.5626865844183987,-0.024749798143169792,-1.227681486982836,2.3768811509212675,-1.5514568828774338,1.6112875275834087,-0.035511207000442,1.3597817860592807,0.6340139048174628,-0.9461246374711879,-0.5980463813946243,-0.11121371341266718,-0.7789947858694427,-0.7909367835488761,0.44597932143928465,-0.015829741692926957,0.5880978326151248,-1.1687690687778953,0.46738762470996625,-1.0232152012694558,0.019203856503362135,-0.2513480883458298,1.67760815029347,-0.3388913730150217,0.5054335631763178,-0.5582218465556053,0.09412762463803932,-0.269836966510378,-0.4229131069545643,-0.05562146161653577,0.36806445455580034,-0.1491590393377931,-1.6102639259917182,0.3538094719163923,1.2443563819434125,-0.5311791146417401,0.03025030818705174,2.6374187556509767,-0.06300359369525535,-0.2163986548430199,-1.4063465608219916,-0.6335377419553875,0.5468778943274468,0.22887859434644822,-0.0024186408660699346,1.051698629355191,-0.9869517109480603,-0.31987496824644224,-0.540174686913111,0.3340381390336442,0.7322443952033713,-0.9129854111412516,-0.18584647450385625,-0.9478104793799853,0.7151795709345523,-0.8542424412247567,-1.5265198883275757,0.5488311569159915,0.21865254089016833,-0.4204248699245095,-1.0376879604394742,0.24386425713090254,0.2897506749290084]},{\"boxpoints\":false,\"line\":{\"width\":1.3},\"marker\":{\"color\":\"rgba(55, 128, 191, 1.0)\"},\"name\":\"B\",\"orientation\":\"v\",\"type\":\"box\",\"y\":[0.4908311343814552,0.2184294036515998,0.8773199756877776,-0.5306270595751419,-0.45857510326432177,-2.210141175194517,-1.1718073236010733,0.7655275912167271,0.6356541834810701,-1.6332828663175116,1.0487351561018425,1.43729039987702,-0.7409401093263623,-0.5906002518728066,-3.5822454622628177,1.775083894237991,3.153359736399895,-0.206360434964078,0.4832668240227068,1.4924634234884744,1.1303056661058593,0.3809413259195282,-0.08435249626929543,0.3702751991921212,1.3951327098969522,-1.7295969719787143,-0.44408775127808997,1.1487743309202474,-0.04902087713511538,-0.7120750076662782,0.40449471024488143,0.2918957958896897,0.5560023877190212,-0.16752371802339486,-1.716850478180125,0.649158426150467,1.1233767639252763,-0.814426114370307,0.9445349720500489,0.05147449020198193,0.8137655537705104,-1.2817599458106645,-0.14242664444260536,2.094452656634059,-0.6513378649946291,0.24095637290196942,0.6557918851124303,-0.3338149240064824,0.1969743738756663,-0.4912013596722006,1.4809601842856794,0.348984950814985,-0.4530667696706939,1.612914879507302,0.09814254220664902,0.1592404246273716,0.32301285061662766,-0.2110628783857944,-1.2090441466834407,0.2731259978707747,-0.6739588109652542,-1.0767813621272486,0.21458519274391671,-1.2171725576955057,0.9340611364054661,-0.3972945452157132,1.1575954255423209,-0.47619949851144905,2.519144683341893,1.2944533426663674,-0.9734229218001452,1.3682532247341346,-0.8496789312210303,-0.2649093729476989,0.6457170669435297,0.8271064006126501,-0.7749528988067509,1.001913076936737,0.8120002507488213,-0.8663830893781663,2.2109593730602133,-0.3781719075913857,0.015200436893985737,2.0796227484366914,0.03414309480971347,-0.7073025970093648,0.5447876540997124,0.15871659579090078,-0.060186952309339056,-2.040420778866945,-0.13855641571035474,-1.6961095263369388,-0.9299607848471094,0.42810125413179506,-0.20960566035875308,0.8091366866871842,-0.6383733130460841,0.03184295820309675,0.4099770897336773,0.29049798568337276]},{\"boxpoints\":false,\"line\":{\"width\":1.3},\"marker\":{\"color\":\"rgba(50, 171, 96, 1.0)\"},\"name\":\"C\",\"orientation\":\"v\",\"type\":\"box\",\"y\":[1.24824987724467,0.9983689311913663,-1.0545690724204038,1.1110154458252424,-0.18806788243124886,1.6412332962784588,0.9976205692561707,-0.20563881102554485,0.5345206661859929,-0.8505885078959133,-1.1753042938369387,0.5549326737094422,1.0995805298123364,-1.0560733314055109,1.3277532401832361,1.4523608886914232,-0.161314534715455,-0.33489534535513893,-0.7537305268618539,-1.3651019723336582,0.15357143130152426,2.352502339439212,0.8208166600250829,-1.5795811113520248,0.9950742161653353,0.14579194579704557,0.8169337766943169,-1.1420317664011554,-0.6917161512521847,0.5397028580408441,1.2888922014575794,0.9645618249698433,2.508282884935816,-1.2406403110575333,0.6727589312788329,1.9535578727520735,2.0655850841980685,0.5939239517448182,1.5609919616111845,-0.7252496988828738,2.136310258701791,0.4446478384214512,0.7814050040605677,1.9400127197756265,-0.0625414646621362,-0.49897583504721527,0.34188695790826173,-0.8253166450180647,0.7075042946640339,-1.0497064659937023,0.6115380282026508,-0.042634838988535886,-1.613726680017053,-0.5108762951988812,-1.109847843378826,-0.7640949124503643,-1.1407668845157493,0.27212241625304584,1.0395184083143811,-1.5022539999450975,-0.9908832213910737,0.5194210032608014,-0.49037645678522157,1.2474633860946922,-1.2160380494102008,1.3460491818655465,-0.230631034046932,1.4089074816386598,-0.1579573048321106,-0.5160439485600161,-0.3648808343273896,-0.5257838884533907,0.06842469839609554,0.08568730169514732,-1.1371332137463852,-1.4971689928424767,-0.8515939238232175,-1.30988193953392,1.3795659468683439,-0.5130671601260106,0.9621516370294597,-0.9187135909664644,0.8604235269339526,0.37135557036266653,0.8614769610539936,-0.18904446358552046,-2.22437399622934,0.33106342755376417,2.549737610004259,-0.4618425641054059,-1.2889213156018071,0.07516728539907698,-0.048269396726482776,1.088268004436375,1.3079386308997538,-1.143496816856456,0.27367419166654844,-0.06915058726928211,0.4000533457112604,-0.021474464692848805]},{\"boxpoints\":false,\"line\":{\"width\":1.3},\"marker\":{\"color\":\"rgba(128, 0, 128, 1.0)\"},\"name\":\"D\",\"orientation\":\"v\",\"type\":\"box\",\"y\":[1.0342738233186355,0.5156610196675836,-0.5725259067866464,-0.10970870252082576,-1.4327145722273824,-0.9826239102851156,0.5006651139298808,-1.1502675055475746,0.6639679297637253,-0.07752158325123237,2.0158414978467887,-0.9955282451419247,-1.7210864207825824,0.23479523078152342,-0.2161324289065316,0.25208726701439466,0.01577336591237228,0.34882139513354027,-0.7238237634736284,-0.3501528880220865,1.0479828325432092,0.9155011350265077,0.20143348513930073,-1.5723117782905938,0.8329643643432065,-0.020518177832366917,0.4434169197970847,-0.13151662643872672,0.19345297335747452,-1.0478613936117316,-1.2799209471787956,0.9050515082873299,-0.9489689486425905,-1.091978704639964,0.6384162534669922,-0.8818576944601535,0.2093325649640961,0.8242202667089975,-2.8517008211626615,0.30367457140949283,0.9725263493422491,1.224233425644717,0.8635991278823429,0.46944638498128954,0.8197091528699354,1.0113032914201345,0.13748361177121818,1.6692510622178953,0.432584711062849,-0.29826117549858916,-0.4593725731326591,-0.17404850710223124,-0.9369130775604738,0.2507113827278272,0.1530612974438675,1.5401766900531628,0.8993395464011825,-0.32920039648177646,0.5914808895285231,-0.7853589024365782,0.7325306864025032,-1.3905132515174619,0.9167629257257449,1.0412497492462496,3.0885137231233815,-0.6518212596559126,0.363107114757367,1.7062057862485325,0.050858029670477874,1.1709220746651454,0.6051558226870052,0.4992326633715957,0.20317822388308163,0.23867508128071055,-1.099568926340057,-2.1461816017798543,1.3572434043105053,-1.5904421177027062,-0.0642040160364851,0.7931736049541596,-1.2157041083468376,-1.6847396490905608,-1.8683363355635891,-0.6734526705125173,-1.26830693894692,-0.6493342786724048,-0.16319043196262376,-0.8780734025113669,-1.4106890856015997,-1.1809037028725,-0.5100649158973671,0.3895190308583476,-1.2204805956483635,0.1847573466074172,-1.383240694871071,-0.5472801903743459,0.9156878096550913,0.4285045498957374,0.5691321261310297,-0.5463110957781203]}],                        {\"legend\":{\"bgcolor\":\"#F5F6F9\",\"font\":{\"color\":\"#4D5663\"}},\"paper_bgcolor\":\"#F5F6F9\",\"plot_bgcolor\":\"#F5F6F9\",\"template\":{\"data\":{\"bar\":[{\"error_x\":{\"color\":\"#2a3f5f\"},\"error_y\":{\"color\":\"#2a3f5f\"},\"marker\":{\"line\":{\"color\":\"#E5ECF6\",\"width\":0.5},\"pattern\":{\"fillmode\":\"overlay\",\"size\":10,\"solidity\":0.2}},\"type\":\"bar\"}],\"barpolar\":[{\"marker\":{\"line\":{\"color\":\"#E5ECF6\",\"width\":0.5},\"pattern\":{\"fillmode\":\"overlay\",\"size\":10,\"solidity\":0.2}},\"type\":\"barpolar\"}],\"carpet\":[{\"aaxis\":{\"endlinecolor\":\"#2a3f5f\",\"gridcolor\":\"white\",\"linecolor\":\"white\",\"minorgridcolor\":\"white\",\"startlinecolor\":\"#2a3f5f\"},\"baxis\":{\"endlinecolor\":\"#2a3f5f\",\"gridcolor\":\"white\",\"linecolor\":\"white\",\"minorgridcolor\":\"white\",\"startlinecolor\":\"#2a3f5f\"},\"type\":\"carpet\"}],\"choropleth\":[{\"colorbar\":{\"outlinewidth\":0,\"ticks\":\"\"},\"type\":\"choropleth\"}],\"contour\":[{\"colorbar\":{\"outlinewidth\":0,\"ticks\":\"\"},\"colorscale\":[[0.0,\"#0d0887\"],[0.1111111111111111,\"#46039f\"],[0.2222222222222222,\"#7201a8\"],[0.3333333333333333,\"#9c179e\"],[0.4444444444444444,\"#bd3786\"],[0.5555555555555556,\"#d8576b\"],[0.6666666666666666,\"#ed7953\"],[0.7777777777777778,\"#fb9f3a\"],[0.8888888888888888,\"#fdca26\"],[1.0,\"#f0f921\"]],\"type\":\"contour\"}],\"contourcarpet\":[{\"colorbar\":{\"outlinewidth\":0,\"ticks\":\"\"},\"type\":\"contourcarpet\"}],\"heatmap\":[{\"colorbar\":{\"outlinewidth\":0,\"ticks\":\"\"},\"colorscale\":[[0.0,\"#0d0887\"],[0.1111111111111111,\"#46039f\"],[0.2222222222222222,\"#7201a8\"],[0.3333333333333333,\"#9c179e\"],[0.4444444444444444,\"#bd3786\"],[0.5555555555555556,\"#d8576b\"],[0.6666666666666666,\"#ed7953\"],[0.7777777777777778,\"#fb9f3a\"],[0.8888888888888888,\"#fdca26\"],[1.0,\"#f0f921\"]],\"type\":\"heatmap\"}],\"heatmapgl\":[{\"colorbar\":{\"outlinewidth\":0,\"ticks\":\"\"},\"colorscale\":[[0.0,\"#0d0887\"],[0.1111111111111111,\"#46039f\"],[0.2222222222222222,\"#7201a8\"],[0.3333333333333333,\"#9c179e\"],[0.4444444444444444,\"#bd3786\"],[0.5555555555555556,\"#d8576b\"],[0.6666666666666666,\"#ed7953\"],[0.7777777777777778,\"#fb9f3a\"],[0.8888888888888888,\"#fdca26\"],[1.0,\"#f0f921\"]],\"type\":\"heatmapgl\"}],\"histogram\":[{\"marker\":{\"pattern\":{\"fillmode\":\"overlay\",\"size\":10,\"solidity\":0.2}},\"type\":\"histogram\"}],\"histogram2d\":[{\"colorbar\":{\"outlinewidth\":0,\"ticks\":\"\"},\"colorscale\":[[0.0,\"#0d0887\"],[0.1111111111111111,\"#46039f\"],[0.2222222222222222,\"#7201a8\"],[0.3333333333333333,\"#9c179e\"],[0.4444444444444444,\"#bd3786\"],[0.5555555555555556,\"#d8576b\"],[0.6666666666666666,\"#ed7953\"],[0.7777777777777778,\"#fb9f3a\"],[0.8888888888888888,\"#fdca26\"],[1.0,\"#f0f921\"]],\"type\":\"histogram2d\"}],\"histogram2dcontour\":[{\"colorbar\":{\"outlinewidth\":0,\"ticks\":\"\"},\"colorscale\":[[0.0,\"#0d0887\"],[0.1111111111111111,\"#46039f\"],[0.2222222222222222,\"#7201a8\"],[0.3333333333333333,\"#9c179e\"],[0.4444444444444444,\"#bd3786\"],[0.5555555555555556,\"#d8576b\"],[0.6666666666666666,\"#ed7953\"],[0.7777777777777778,\"#fb9f3a\"],[0.8888888888888888,\"#fdca26\"],[1.0,\"#f0f921\"]],\"type\":\"histogram2dcontour\"}],\"mesh3d\":[{\"colorbar\":{\"outlinewidth\":0,\"ticks\":\"\"},\"type\":\"mesh3d\"}],\"parcoords\":[{\"line\":{\"colorbar\":{\"outlinewidth\":0,\"ticks\":\"\"}},\"type\":\"parcoords\"}],\"pie\":[{\"automargin\":true,\"type\":\"pie\"}],\"scatter\":[{\"marker\":{\"colorbar\":{\"outlinewidth\":0,\"ticks\":\"\"}},\"type\":\"scatter\"}],\"scatter3d\":[{\"line\":{\"colorbar\":{\"outlinewidth\":0,\"ticks\":\"\"}},\"marker\":{\"colorbar\":{\"outlinewidth\":0,\"ticks\":\"\"}},\"type\":\"scatter3d\"}],\"scattercarpet\":[{\"marker\":{\"colorbar\":{\"outlinewidth\":0,\"ticks\":\"\"}},\"type\":\"scattercarpet\"}],\"scattergeo\":[{\"marker\":{\"colorbar\":{\"outlinewidth\":0,\"ticks\":\"\"}},\"type\":\"scattergeo\"}],\"scattergl\":[{\"marker\":{\"colorbar\":{\"outlinewidth\":0,\"ticks\":\"\"}},\"type\":\"scattergl\"}],\"scattermapbox\":[{\"marker\":{\"colorbar\":{\"outlinewidth\":0,\"ticks\":\"\"}},\"type\":\"scattermapbox\"}],\"scatterpolar\":[{\"marker\":{\"colorbar\":{\"outlinewidth\":0,\"ticks\":\"\"}},\"type\":\"scatterpolar\"}],\"scatterpolargl\":[{\"marker\":{\"colorbar\":{\"outlinewidth\":0,\"ticks\":\"\"}},\"type\":\"scatterpolargl\"}],\"scatterternary\":[{\"marker\":{\"colorbar\":{\"outlinewidth\":0,\"ticks\":\"\"}},\"type\":\"scatterternary\"}],\"surface\":[{\"colorbar\":{\"outlinewidth\":0,\"ticks\":\"\"},\"colorscale\":[[0.0,\"#0d0887\"],[0.1111111111111111,\"#46039f\"],[0.2222222222222222,\"#7201a8\"],[0.3333333333333333,\"#9c179e\"],[0.4444444444444444,\"#bd3786\"],[0.5555555555555556,\"#d8576b\"],[0.6666666666666666,\"#ed7953\"],[0.7777777777777778,\"#fb9f3a\"],[0.8888888888888888,\"#fdca26\"],[1.0,\"#f0f921\"]],\"type\":\"surface\"}],\"table\":[{\"cells\":{\"fill\":{\"color\":\"#EBF0F8\"},\"line\":{\"color\":\"white\"}},\"header\":{\"fill\":{\"color\":\"#C8D4E3\"},\"line\":{\"color\":\"white\"}},\"type\":\"table\"}]},\"layout\":{\"annotationdefaults\":{\"arrowcolor\":\"#2a3f5f\",\"arrowhead\":0,\"arrowwidth\":1},\"autotypenumbers\":\"strict\",\"coloraxis\":{\"colorbar\":{\"outlinewidth\":0,\"ticks\":\"\"}},\"colorscale\":{\"diverging\":[[0,\"#8e0152\"],[0.1,\"#c51b7d\"],[0.2,\"#de77ae\"],[0.3,\"#f1b6da\"],[0.4,\"#fde0ef\"],[0.5,\"#f7f7f7\"],[0.6,\"#e6f5d0\"],[0.7,\"#b8e186\"],[0.8,\"#7fbc41\"],[0.9,\"#4d9221\"],[1,\"#276419\"]],\"sequential\":[[0.0,\"#0d0887\"],[0.1111111111111111,\"#46039f\"],[0.2222222222222222,\"#7201a8\"],[0.3333333333333333,\"#9c179e\"],[0.4444444444444444,\"#bd3786\"],[0.5555555555555556,\"#d8576b\"],[0.6666666666666666,\"#ed7953\"],[0.7777777777777778,\"#fb9f3a\"],[0.8888888888888888,\"#fdca26\"],[1.0,\"#f0f921\"]],\"sequentialminus\":[[0.0,\"#0d0887\"],[0.1111111111111111,\"#46039f\"],[0.2222222222222222,\"#7201a8\"],[0.3333333333333333,\"#9c179e\"],[0.4444444444444444,\"#bd3786\"],[0.5555555555555556,\"#d8576b\"],[0.6666666666666666,\"#ed7953\"],[0.7777777777777778,\"#fb9f3a\"],[0.8888888888888888,\"#fdca26\"],[1.0,\"#f0f921\"]]},\"colorway\":[\"#636efa\",\"#EF553B\",\"#00cc96\",\"#ab63fa\",\"#FFA15A\",\"#19d3f3\",\"#FF6692\",\"#B6E880\",\"#FF97FF\",\"#FECB52\"],\"font\":{\"color\":\"#2a3f5f\"},\"geo\":{\"bgcolor\":\"white\",\"lakecolor\":\"white\",\"landcolor\":\"#E5ECF6\",\"showlakes\":true,\"showland\":true,\"subunitcolor\":\"white\"},\"hoverlabel\":{\"align\":\"left\"},\"hovermode\":\"closest\",\"mapbox\":{\"style\":\"light\"},\"paper_bgcolor\":\"white\",\"plot_bgcolor\":\"#E5ECF6\",\"polar\":{\"angularaxis\":{\"gridcolor\":\"white\",\"linecolor\":\"white\",\"ticks\":\"\"},\"bgcolor\":\"#E5ECF6\",\"radialaxis\":{\"gridcolor\":\"white\",\"linecolor\":\"white\",\"ticks\":\"\"}},\"scene\":{\"xaxis\":{\"backgroundcolor\":\"#E5ECF6\",\"gridcolor\":\"white\",\"gridwidth\":2,\"linecolor\":\"white\",\"showbackground\":true,\"ticks\":\"\",\"zerolinecolor\":\"white\"},\"yaxis\":{\"backgroundcolor\":\"#E5ECF6\",\"gridcolor\":\"white\",\"gridwidth\":2,\"linecolor\":\"white\",\"showbackground\":true,\"ticks\":\"\",\"zerolinecolor\":\"white\"},\"zaxis\":{\"backgroundcolor\":\"#E5ECF6\",\"gridcolor\":\"white\",\"gridwidth\":2,\"linecolor\":\"white\",\"showbackground\":true,\"ticks\":\"\",\"zerolinecolor\":\"white\"}},\"shapedefaults\":{\"line\":{\"color\":\"#2a3f5f\"}},\"ternary\":{\"aaxis\":{\"gridcolor\":\"white\",\"linecolor\":\"white\",\"ticks\":\"\"},\"baxis\":{\"gridcolor\":\"white\",\"linecolor\":\"white\",\"ticks\":\"\"},\"bgcolor\":\"#E5ECF6\",\"caxis\":{\"gridcolor\":\"white\",\"linecolor\":\"white\",\"ticks\":\"\"}},\"title\":{\"x\":0.05},\"xaxis\":{\"automargin\":true,\"gridcolor\":\"white\",\"linecolor\":\"white\",\"ticks\":\"\",\"title\":{\"standoff\":15},\"zerolinecolor\":\"white\",\"zerolinewidth\":2},\"yaxis\":{\"automargin\":true,\"gridcolor\":\"white\",\"linecolor\":\"white\",\"ticks\":\"\",\"title\":{\"standoff\":15},\"zerolinecolor\":\"white\",\"zerolinewidth\":2}}},\"title\":{\"font\":{\"color\":\"#4D5663\"}},\"xaxis\":{\"gridcolor\":\"#E1E5ED\",\"showgrid\":true,\"tickfont\":{\"color\":\"#4D5663\"},\"title\":{\"font\":{\"color\":\"#4D5663\"},\"text\":\"\"},\"zerolinecolor\":\"#E1E5ED\"},\"yaxis\":{\"gridcolor\":\"#E1E5ED\",\"showgrid\":true,\"tickfont\":{\"color\":\"#4D5663\"},\"title\":{\"font\":{\"color\":\"#4D5663\"},\"text\":\"\"},\"zerolinecolor\":\"#E1E5ED\"}},                        {\"showLink\": true, \"linkText\": \"Export to plot.ly\", \"plotlyServerURL\": \"https://plot.ly\", \"responsive\": true}                    ).then(function(){\n",
       "                            \n",
       "var gd = document.getElementById('e57bf046-57de-4d3b-9ca6-66148db40338');\n",
       "var x = new MutationObserver(function (mutations, observer) {{\n",
       "        var display = window.getComputedStyle(gd).display;\n",
       "        if (!display || display === 'none') {{\n",
       "            console.log([gd, 'removed!']);\n",
       "            Plotly.purge(gd);\n",
       "            observer.disconnect();\n",
       "        }}\n",
       "}});\n",
       "\n",
       "// Listen for the removal of the full notebook cells\n",
       "var notebookContainer = gd.closest('#notebook-container');\n",
       "if (notebookContainer) {{\n",
       "    x.observe(notebookContainer, {childList: true});\n",
       "}}\n",
       "\n",
       "// Listen for the clearing of the current output cell\n",
       "var outputEl = gd.closest('.output');\n",
       "if (outputEl) {{\n",
       "    x.observe(outputEl, {childList: true});\n",
       "}}\n",
       "\n",
       "                        })                };                });            </script>        </div>"
      ]
     },
     "metadata": {},
     "output_type": "display_data"
    }
   ],
   "source": [
    "df.iplot(kind='box')"
   ]
  },
  {
   "cell_type": "code",
   "execution_count": 23,
   "metadata": {},
   "outputs": [],
   "source": [
    "#new dataframe\n",
    "df3=pd.DataFrame({'x':[1,2,3,4,5],'y':[10,20,30,40,50],'z':[100,200,300,400,500]})"
   ]
  },
  {
   "cell_type": "code",
   "execution_count": 24,
   "metadata": {},
   "outputs": [
    {
     "data": {
      "text/html": [
       "<div>\n",
       "<style scoped>\n",
       "    .dataframe tbody tr th:only-of-type {\n",
       "        vertical-align: middle;\n",
       "    }\n",
       "\n",
       "    .dataframe tbody tr th {\n",
       "        vertical-align: top;\n",
       "    }\n",
       "\n",
       "    .dataframe thead th {\n",
       "        text-align: right;\n",
       "    }\n",
       "</style>\n",
       "<table border=\"1\" class=\"dataframe\">\n",
       "  <thead>\n",
       "    <tr style=\"text-align: right;\">\n",
       "      <th></th>\n",
       "      <th>x</th>\n",
       "      <th>y</th>\n",
       "      <th>z</th>\n",
       "    </tr>\n",
       "  </thead>\n",
       "  <tbody>\n",
       "    <tr>\n",
       "      <th>0</th>\n",
       "      <td>1</td>\n",
       "      <td>10</td>\n",
       "      <td>100</td>\n",
       "    </tr>\n",
       "    <tr>\n",
       "      <th>1</th>\n",
       "      <td>2</td>\n",
       "      <td>20</td>\n",
       "      <td>200</td>\n",
       "    </tr>\n",
       "    <tr>\n",
       "      <th>2</th>\n",
       "      <td>3</td>\n",
       "      <td>30</td>\n",
       "      <td>300</td>\n",
       "    </tr>\n",
       "    <tr>\n",
       "      <th>3</th>\n",
       "      <td>4</td>\n",
       "      <td>40</td>\n",
       "      <td>400</td>\n",
       "    </tr>\n",
       "    <tr>\n",
       "      <th>4</th>\n",
       "      <td>5</td>\n",
       "      <td>50</td>\n",
       "      <td>500</td>\n",
       "    </tr>\n",
       "  </tbody>\n",
       "</table>\n",
       "</div>"
      ],
      "text/plain": [
       "   x   y    z\n",
       "0  1  10  100\n",
       "1  2  20  200\n",
       "2  3  30  300\n",
       "3  4  40  400\n",
       "4  5  50  500"
      ]
     },
     "execution_count": 24,
     "metadata": {},
     "output_type": "execute_result"
    }
   ],
   "source": [
    "df3"
   ]
  },
  {
   "cell_type": "code",
   "execution_count": 27,
   "metadata": {},
   "outputs": [
    {
     "data": {
      "application/vnd.plotly.v1+json": {
       "config": {
        "linkText": "Export to plot.ly",
        "plotlyServerURL": "https://plot.ly",
        "showLink": true
       },
       "data": [
        {
         "colorscale": [
          [
           0,
           "rgb(255, 153, 51)"
          ],
          [
           0.1111111111111111,
           "rgb(55, 128, 191)"
          ],
          [
           0.2222222222222222,
           "rgb(50, 171, 96)"
          ],
          [
           0.3333333333333333,
           "rgb(128, 0, 128)"
          ],
          [
           0.4444444444444444,
           "rgb(219, 64, 82)"
          ],
          [
           0.5555555555555556,
           "rgb(0, 128, 128)"
          ],
          [
           0.6666666666666666,
           "rgb(255, 255, 51)"
          ],
          [
           0.7777777777777778,
           "rgb(128, 128, 0)"
          ],
          [
           0.8888888888888888,
           "rgb(251, 128, 114)"
          ],
          [
           1,
           "rgb(128, 177, 211)"
          ]
         ],
         "type": "surface",
         "x": [
          0,
          1,
          2,
          3,
          4
         ],
         "y": [
          "x",
          "y",
          "z"
         ],
         "z": [
          [
           1,
           2,
           3,
           4,
           5
          ],
          [
           10,
           20,
           30,
           40,
           50
          ],
          [
           100,
           200,
           300,
           400,
           500
          ]
         ]
        }
       ],
       "layout": {
        "legend": {
         "bgcolor": "#F5F6F9",
         "font": {
          "color": "#4D5663"
         }
        },
        "paper_bgcolor": "#F5F6F9",
        "plot_bgcolor": "#F5F6F9",
        "template": {
         "data": {
          "bar": [
           {
            "error_x": {
             "color": "#2a3f5f"
            },
            "error_y": {
             "color": "#2a3f5f"
            },
            "marker": {
             "line": {
              "color": "#E5ECF6",
              "width": 0.5
             },
             "pattern": {
              "fillmode": "overlay",
              "size": 10,
              "solidity": 0.2
             }
            },
            "type": "bar"
           }
          ],
          "barpolar": [
           {
            "marker": {
             "line": {
              "color": "#E5ECF6",
              "width": 0.5
             },
             "pattern": {
              "fillmode": "overlay",
              "size": 10,
              "solidity": 0.2
             }
            },
            "type": "barpolar"
           }
          ],
          "carpet": [
           {
            "aaxis": {
             "endlinecolor": "#2a3f5f",
             "gridcolor": "white",
             "linecolor": "white",
             "minorgridcolor": "white",
             "startlinecolor": "#2a3f5f"
            },
            "baxis": {
             "endlinecolor": "#2a3f5f",
             "gridcolor": "white",
             "linecolor": "white",
             "minorgridcolor": "white",
             "startlinecolor": "#2a3f5f"
            },
            "type": "carpet"
           }
          ],
          "choropleth": [
           {
            "colorbar": {
             "outlinewidth": 0,
             "ticks": ""
            },
            "type": "choropleth"
           }
          ],
          "contour": [
           {
            "colorbar": {
             "outlinewidth": 0,
             "ticks": ""
            },
            "colorscale": [
             [
              0,
              "#0d0887"
             ],
             [
              0.1111111111111111,
              "#46039f"
             ],
             [
              0.2222222222222222,
              "#7201a8"
             ],
             [
              0.3333333333333333,
              "#9c179e"
             ],
             [
              0.4444444444444444,
              "#bd3786"
             ],
             [
              0.5555555555555556,
              "#d8576b"
             ],
             [
              0.6666666666666666,
              "#ed7953"
             ],
             [
              0.7777777777777778,
              "#fb9f3a"
             ],
             [
              0.8888888888888888,
              "#fdca26"
             ],
             [
              1,
              "#f0f921"
             ]
            ],
            "type": "contour"
           }
          ],
          "contourcarpet": [
           {
            "colorbar": {
             "outlinewidth": 0,
             "ticks": ""
            },
            "type": "contourcarpet"
           }
          ],
          "heatmap": [
           {
            "colorbar": {
             "outlinewidth": 0,
             "ticks": ""
            },
            "colorscale": [
             [
              0,
              "#0d0887"
             ],
             [
              0.1111111111111111,
              "#46039f"
             ],
             [
              0.2222222222222222,
              "#7201a8"
             ],
             [
              0.3333333333333333,
              "#9c179e"
             ],
             [
              0.4444444444444444,
              "#bd3786"
             ],
             [
              0.5555555555555556,
              "#d8576b"
             ],
             [
              0.6666666666666666,
              "#ed7953"
             ],
             [
              0.7777777777777778,
              "#fb9f3a"
             ],
             [
              0.8888888888888888,
              "#fdca26"
             ],
             [
              1,
              "#f0f921"
             ]
            ],
            "type": "heatmap"
           }
          ],
          "heatmapgl": [
           {
            "colorbar": {
             "outlinewidth": 0,
             "ticks": ""
            },
            "colorscale": [
             [
              0,
              "#0d0887"
             ],
             [
              0.1111111111111111,
              "#46039f"
             ],
             [
              0.2222222222222222,
              "#7201a8"
             ],
             [
              0.3333333333333333,
              "#9c179e"
             ],
             [
              0.4444444444444444,
              "#bd3786"
             ],
             [
              0.5555555555555556,
              "#d8576b"
             ],
             [
              0.6666666666666666,
              "#ed7953"
             ],
             [
              0.7777777777777778,
              "#fb9f3a"
             ],
             [
              0.8888888888888888,
              "#fdca26"
             ],
             [
              1,
              "#f0f921"
             ]
            ],
            "type": "heatmapgl"
           }
          ],
          "histogram": [
           {
            "marker": {
             "pattern": {
              "fillmode": "overlay",
              "size": 10,
              "solidity": 0.2
             }
            },
            "type": "histogram"
           }
          ],
          "histogram2d": [
           {
            "colorbar": {
             "outlinewidth": 0,
             "ticks": ""
            },
            "colorscale": [
             [
              0,
              "#0d0887"
             ],
             [
              0.1111111111111111,
              "#46039f"
             ],
             [
              0.2222222222222222,
              "#7201a8"
             ],
             [
              0.3333333333333333,
              "#9c179e"
             ],
             [
              0.4444444444444444,
              "#bd3786"
             ],
             [
              0.5555555555555556,
              "#d8576b"
             ],
             [
              0.6666666666666666,
              "#ed7953"
             ],
             [
              0.7777777777777778,
              "#fb9f3a"
             ],
             [
              0.8888888888888888,
              "#fdca26"
             ],
             [
              1,
              "#f0f921"
             ]
            ],
            "type": "histogram2d"
           }
          ],
          "histogram2dcontour": [
           {
            "colorbar": {
             "outlinewidth": 0,
             "ticks": ""
            },
            "colorscale": [
             [
              0,
              "#0d0887"
             ],
             [
              0.1111111111111111,
              "#46039f"
             ],
             [
              0.2222222222222222,
              "#7201a8"
             ],
             [
              0.3333333333333333,
              "#9c179e"
             ],
             [
              0.4444444444444444,
              "#bd3786"
             ],
             [
              0.5555555555555556,
              "#d8576b"
             ],
             [
              0.6666666666666666,
              "#ed7953"
             ],
             [
              0.7777777777777778,
              "#fb9f3a"
             ],
             [
              0.8888888888888888,
              "#fdca26"
             ],
             [
              1,
              "#f0f921"
             ]
            ],
            "type": "histogram2dcontour"
           }
          ],
          "mesh3d": [
           {
            "colorbar": {
             "outlinewidth": 0,
             "ticks": ""
            },
            "type": "mesh3d"
           }
          ],
          "parcoords": [
           {
            "line": {
             "colorbar": {
              "outlinewidth": 0,
              "ticks": ""
             }
            },
            "type": "parcoords"
           }
          ],
          "pie": [
           {
            "automargin": true,
            "type": "pie"
           }
          ],
          "scatter": [
           {
            "marker": {
             "colorbar": {
              "outlinewidth": 0,
              "ticks": ""
             }
            },
            "type": "scatter"
           }
          ],
          "scatter3d": [
           {
            "line": {
             "colorbar": {
              "outlinewidth": 0,
              "ticks": ""
             }
            },
            "marker": {
             "colorbar": {
              "outlinewidth": 0,
              "ticks": ""
             }
            },
            "type": "scatter3d"
           }
          ],
          "scattercarpet": [
           {
            "marker": {
             "colorbar": {
              "outlinewidth": 0,
              "ticks": ""
             }
            },
            "type": "scattercarpet"
           }
          ],
          "scattergeo": [
           {
            "marker": {
             "colorbar": {
              "outlinewidth": 0,
              "ticks": ""
             }
            },
            "type": "scattergeo"
           }
          ],
          "scattergl": [
           {
            "marker": {
             "colorbar": {
              "outlinewidth": 0,
              "ticks": ""
             }
            },
            "type": "scattergl"
           }
          ],
          "scattermapbox": [
           {
            "marker": {
             "colorbar": {
              "outlinewidth": 0,
              "ticks": ""
             }
            },
            "type": "scattermapbox"
           }
          ],
          "scatterpolar": [
           {
            "marker": {
             "colorbar": {
              "outlinewidth": 0,
              "ticks": ""
             }
            },
            "type": "scatterpolar"
           }
          ],
          "scatterpolargl": [
           {
            "marker": {
             "colorbar": {
              "outlinewidth": 0,
              "ticks": ""
             }
            },
            "type": "scatterpolargl"
           }
          ],
          "scatterternary": [
           {
            "marker": {
             "colorbar": {
              "outlinewidth": 0,
              "ticks": ""
             }
            },
            "type": "scatterternary"
           }
          ],
          "surface": [
           {
            "colorbar": {
             "outlinewidth": 0,
             "ticks": ""
            },
            "colorscale": [
             [
              0,
              "#0d0887"
             ],
             [
              0.1111111111111111,
              "#46039f"
             ],
             [
              0.2222222222222222,
              "#7201a8"
             ],
             [
              0.3333333333333333,
              "#9c179e"
             ],
             [
              0.4444444444444444,
              "#bd3786"
             ],
             [
              0.5555555555555556,
              "#d8576b"
             ],
             [
              0.6666666666666666,
              "#ed7953"
             ],
             [
              0.7777777777777778,
              "#fb9f3a"
             ],
             [
              0.8888888888888888,
              "#fdca26"
             ],
             [
              1,
              "#f0f921"
             ]
            ],
            "type": "surface"
           }
          ],
          "table": [
           {
            "cells": {
             "fill": {
              "color": "#EBF0F8"
             },
             "line": {
              "color": "white"
             }
            },
            "header": {
             "fill": {
              "color": "#C8D4E3"
             },
             "line": {
              "color": "white"
             }
            },
            "type": "table"
           }
          ]
         },
         "layout": {
          "annotationdefaults": {
           "arrowcolor": "#2a3f5f",
           "arrowhead": 0,
           "arrowwidth": 1
          },
          "autotypenumbers": "strict",
          "coloraxis": {
           "colorbar": {
            "outlinewidth": 0,
            "ticks": ""
           }
          },
          "colorscale": {
           "diverging": [
            [
             0,
             "#8e0152"
            ],
            [
             0.1,
             "#c51b7d"
            ],
            [
             0.2,
             "#de77ae"
            ],
            [
             0.3,
             "#f1b6da"
            ],
            [
             0.4,
             "#fde0ef"
            ],
            [
             0.5,
             "#f7f7f7"
            ],
            [
             0.6,
             "#e6f5d0"
            ],
            [
             0.7,
             "#b8e186"
            ],
            [
             0.8,
             "#7fbc41"
            ],
            [
             0.9,
             "#4d9221"
            ],
            [
             1,
             "#276419"
            ]
           ],
           "sequential": [
            [
             0,
             "#0d0887"
            ],
            [
             0.1111111111111111,
             "#46039f"
            ],
            [
             0.2222222222222222,
             "#7201a8"
            ],
            [
             0.3333333333333333,
             "#9c179e"
            ],
            [
             0.4444444444444444,
             "#bd3786"
            ],
            [
             0.5555555555555556,
             "#d8576b"
            ],
            [
             0.6666666666666666,
             "#ed7953"
            ],
            [
             0.7777777777777778,
             "#fb9f3a"
            ],
            [
             0.8888888888888888,
             "#fdca26"
            ],
            [
             1,
             "#f0f921"
            ]
           ],
           "sequentialminus": [
            [
             0,
             "#0d0887"
            ],
            [
             0.1111111111111111,
             "#46039f"
            ],
            [
             0.2222222222222222,
             "#7201a8"
            ],
            [
             0.3333333333333333,
             "#9c179e"
            ],
            [
             0.4444444444444444,
             "#bd3786"
            ],
            [
             0.5555555555555556,
             "#d8576b"
            ],
            [
             0.6666666666666666,
             "#ed7953"
            ],
            [
             0.7777777777777778,
             "#fb9f3a"
            ],
            [
             0.8888888888888888,
             "#fdca26"
            ],
            [
             1,
             "#f0f921"
            ]
           ]
          },
          "colorway": [
           "#636efa",
           "#EF553B",
           "#00cc96",
           "#ab63fa",
           "#FFA15A",
           "#19d3f3",
           "#FF6692",
           "#B6E880",
           "#FF97FF",
           "#FECB52"
          ],
          "font": {
           "color": "#2a3f5f"
          },
          "geo": {
           "bgcolor": "white",
           "lakecolor": "white",
           "landcolor": "#E5ECF6",
           "showlakes": true,
           "showland": true,
           "subunitcolor": "white"
          },
          "hoverlabel": {
           "align": "left"
          },
          "hovermode": "closest",
          "mapbox": {
           "style": "light"
          },
          "paper_bgcolor": "white",
          "plot_bgcolor": "#E5ECF6",
          "polar": {
           "angularaxis": {
            "gridcolor": "white",
            "linecolor": "white",
            "ticks": ""
           },
           "bgcolor": "#E5ECF6",
           "radialaxis": {
            "gridcolor": "white",
            "linecolor": "white",
            "ticks": ""
           }
          },
          "scene": {
           "xaxis": {
            "backgroundcolor": "#E5ECF6",
            "gridcolor": "white",
            "gridwidth": 2,
            "linecolor": "white",
            "showbackground": true,
            "ticks": "",
            "zerolinecolor": "white"
           },
           "yaxis": {
            "backgroundcolor": "#E5ECF6",
            "gridcolor": "white",
            "gridwidth": 2,
            "linecolor": "white",
            "showbackground": true,
            "ticks": "",
            "zerolinecolor": "white"
           },
           "zaxis": {
            "backgroundcolor": "#E5ECF6",
            "gridcolor": "white",
            "gridwidth": 2,
            "linecolor": "white",
            "showbackground": true,
            "ticks": "",
            "zerolinecolor": "white"
           }
          },
          "shapedefaults": {
           "line": {
            "color": "#2a3f5f"
           }
          },
          "ternary": {
           "aaxis": {
            "gridcolor": "white",
            "linecolor": "white",
            "ticks": ""
           },
           "baxis": {
            "gridcolor": "white",
            "linecolor": "white",
            "ticks": ""
           },
           "bgcolor": "#E5ECF6",
           "caxis": {
            "gridcolor": "white",
            "linecolor": "white",
            "ticks": ""
           }
          },
          "title": {
           "x": 0.05
          },
          "xaxis": {
           "automargin": true,
           "gridcolor": "white",
           "linecolor": "white",
           "ticks": "",
           "title": {
            "standoff": 15
           },
           "zerolinecolor": "white",
           "zerolinewidth": 2
          },
          "yaxis": {
           "automargin": true,
           "gridcolor": "white",
           "linecolor": "white",
           "ticks": "",
           "title": {
            "standoff": 15
           },
           "zerolinecolor": "white",
           "zerolinewidth": 2
          }
         }
        },
        "title": {
         "font": {
          "color": "#4D5663"
         }
        },
        "xaxis": {
         "gridcolor": "#E1E5ED",
         "showgrid": true,
         "tickfont": {
          "color": "#4D5663"
         },
         "title": {
          "font": {
           "color": "#4D5663"
          },
          "text": ""
         },
         "zerolinecolor": "#E1E5ED"
        },
        "yaxis": {
         "gridcolor": "#E1E5ED",
         "showgrid": true,
         "tickfont": {
          "color": "#4D5663"
         },
         "title": {
          "font": {
           "color": "#4D5663"
          },
          "text": ""
         },
         "zerolinecolor": "#E1E5ED"
        }
       }
      },
      "text/html": [
       "<div>                            <div id=\"81a02d81-c726-449d-b3fe-a31a6bf77253\" class=\"plotly-graph-div\" style=\"height:525px; width:100%;\"></div>            <script type=\"text/javascript\">                require([\"plotly\"], function(Plotly) {                    window.PLOTLYENV=window.PLOTLYENV || {};\n",
       "                    window.PLOTLYENV.BASE_URL='https://plot.ly';                                    if (document.getElementById(\"81a02d81-c726-449d-b3fe-a31a6bf77253\")) {                    Plotly.newPlot(                        \"81a02d81-c726-449d-b3fe-a31a6bf77253\",                        [{\"colorscale\":[[0.0,\"rgb(255, 153, 51)\"],[0.1111111111111111,\"rgb(55, 128, 191)\"],[0.2222222222222222,\"rgb(50, 171, 96)\"],[0.3333333333333333,\"rgb(128, 0, 128)\"],[0.4444444444444444,\"rgb(219, 64, 82)\"],[0.5555555555555556,\"rgb(0, 128, 128)\"],[0.6666666666666666,\"rgb(255, 255, 51)\"],[0.7777777777777778,\"rgb(128, 128, 0)\"],[0.8888888888888888,\"rgb(251, 128, 114)\"],[1.0,\"rgb(128, 177, 211)\"]],\"type\":\"surface\",\"x\":[0,1,2,3,4],\"y\":[\"x\",\"y\",\"z\"],\"z\":[[1,2,3,4,5],[10,20,30,40,50],[100,200,300,400,500]]}],                        {\"legend\":{\"bgcolor\":\"#F5F6F9\",\"font\":{\"color\":\"#4D5663\"}},\"paper_bgcolor\":\"#F5F6F9\",\"plot_bgcolor\":\"#F5F6F9\",\"template\":{\"data\":{\"bar\":[{\"error_x\":{\"color\":\"#2a3f5f\"},\"error_y\":{\"color\":\"#2a3f5f\"},\"marker\":{\"line\":{\"color\":\"#E5ECF6\",\"width\":0.5},\"pattern\":{\"fillmode\":\"overlay\",\"size\":10,\"solidity\":0.2}},\"type\":\"bar\"}],\"barpolar\":[{\"marker\":{\"line\":{\"color\":\"#E5ECF6\",\"width\":0.5},\"pattern\":{\"fillmode\":\"overlay\",\"size\":10,\"solidity\":0.2}},\"type\":\"barpolar\"}],\"carpet\":[{\"aaxis\":{\"endlinecolor\":\"#2a3f5f\",\"gridcolor\":\"white\",\"linecolor\":\"white\",\"minorgridcolor\":\"white\",\"startlinecolor\":\"#2a3f5f\"},\"baxis\":{\"endlinecolor\":\"#2a3f5f\",\"gridcolor\":\"white\",\"linecolor\":\"white\",\"minorgridcolor\":\"white\",\"startlinecolor\":\"#2a3f5f\"},\"type\":\"carpet\"}],\"choropleth\":[{\"colorbar\":{\"outlinewidth\":0,\"ticks\":\"\"},\"type\":\"choropleth\"}],\"contour\":[{\"colorbar\":{\"outlinewidth\":0,\"ticks\":\"\"},\"colorscale\":[[0.0,\"#0d0887\"],[0.1111111111111111,\"#46039f\"],[0.2222222222222222,\"#7201a8\"],[0.3333333333333333,\"#9c179e\"],[0.4444444444444444,\"#bd3786\"],[0.5555555555555556,\"#d8576b\"],[0.6666666666666666,\"#ed7953\"],[0.7777777777777778,\"#fb9f3a\"],[0.8888888888888888,\"#fdca26\"],[1.0,\"#f0f921\"]],\"type\":\"contour\"}],\"contourcarpet\":[{\"colorbar\":{\"outlinewidth\":0,\"ticks\":\"\"},\"type\":\"contourcarpet\"}],\"heatmap\":[{\"colorbar\":{\"outlinewidth\":0,\"ticks\":\"\"},\"colorscale\":[[0.0,\"#0d0887\"],[0.1111111111111111,\"#46039f\"],[0.2222222222222222,\"#7201a8\"],[0.3333333333333333,\"#9c179e\"],[0.4444444444444444,\"#bd3786\"],[0.5555555555555556,\"#d8576b\"],[0.6666666666666666,\"#ed7953\"],[0.7777777777777778,\"#fb9f3a\"],[0.8888888888888888,\"#fdca26\"],[1.0,\"#f0f921\"]],\"type\":\"heatmap\"}],\"heatmapgl\":[{\"colorbar\":{\"outlinewidth\":0,\"ticks\":\"\"},\"colorscale\":[[0.0,\"#0d0887\"],[0.1111111111111111,\"#46039f\"],[0.2222222222222222,\"#7201a8\"],[0.3333333333333333,\"#9c179e\"],[0.4444444444444444,\"#bd3786\"],[0.5555555555555556,\"#d8576b\"],[0.6666666666666666,\"#ed7953\"],[0.7777777777777778,\"#fb9f3a\"],[0.8888888888888888,\"#fdca26\"],[1.0,\"#f0f921\"]],\"type\":\"heatmapgl\"}],\"histogram\":[{\"marker\":{\"pattern\":{\"fillmode\":\"overlay\",\"size\":10,\"solidity\":0.2}},\"type\":\"histogram\"}],\"histogram2d\":[{\"colorbar\":{\"outlinewidth\":0,\"ticks\":\"\"},\"colorscale\":[[0.0,\"#0d0887\"],[0.1111111111111111,\"#46039f\"],[0.2222222222222222,\"#7201a8\"],[0.3333333333333333,\"#9c179e\"],[0.4444444444444444,\"#bd3786\"],[0.5555555555555556,\"#d8576b\"],[0.6666666666666666,\"#ed7953\"],[0.7777777777777778,\"#fb9f3a\"],[0.8888888888888888,\"#fdca26\"],[1.0,\"#f0f921\"]],\"type\":\"histogram2d\"}],\"histogram2dcontour\":[{\"colorbar\":{\"outlinewidth\":0,\"ticks\":\"\"},\"colorscale\":[[0.0,\"#0d0887\"],[0.1111111111111111,\"#46039f\"],[0.2222222222222222,\"#7201a8\"],[0.3333333333333333,\"#9c179e\"],[0.4444444444444444,\"#bd3786\"],[0.5555555555555556,\"#d8576b\"],[0.6666666666666666,\"#ed7953\"],[0.7777777777777778,\"#fb9f3a\"],[0.8888888888888888,\"#fdca26\"],[1.0,\"#f0f921\"]],\"type\":\"histogram2dcontour\"}],\"mesh3d\":[{\"colorbar\":{\"outlinewidth\":0,\"ticks\":\"\"},\"type\":\"mesh3d\"}],\"parcoords\":[{\"line\":{\"colorbar\":{\"outlinewidth\":0,\"ticks\":\"\"}},\"type\":\"parcoords\"}],\"pie\":[{\"automargin\":true,\"type\":\"pie\"}],\"scatter\":[{\"marker\":{\"colorbar\":{\"outlinewidth\":0,\"ticks\":\"\"}},\"type\":\"scatter\"}],\"scatter3d\":[{\"line\":{\"colorbar\":{\"outlinewidth\":0,\"ticks\":\"\"}},\"marker\":{\"colorbar\":{\"outlinewidth\":0,\"ticks\":\"\"}},\"type\":\"scatter3d\"}],\"scattercarpet\":[{\"marker\":{\"colorbar\":{\"outlinewidth\":0,\"ticks\":\"\"}},\"type\":\"scattercarpet\"}],\"scattergeo\":[{\"marker\":{\"colorbar\":{\"outlinewidth\":0,\"ticks\":\"\"}},\"type\":\"scattergeo\"}],\"scattergl\":[{\"marker\":{\"colorbar\":{\"outlinewidth\":0,\"ticks\":\"\"}},\"type\":\"scattergl\"}],\"scattermapbox\":[{\"marker\":{\"colorbar\":{\"outlinewidth\":0,\"ticks\":\"\"}},\"type\":\"scattermapbox\"}],\"scatterpolar\":[{\"marker\":{\"colorbar\":{\"outlinewidth\":0,\"ticks\":\"\"}},\"type\":\"scatterpolar\"}],\"scatterpolargl\":[{\"marker\":{\"colorbar\":{\"outlinewidth\":0,\"ticks\":\"\"}},\"type\":\"scatterpolargl\"}],\"scatterternary\":[{\"marker\":{\"colorbar\":{\"outlinewidth\":0,\"ticks\":\"\"}},\"type\":\"scatterternary\"}],\"surface\":[{\"colorbar\":{\"outlinewidth\":0,\"ticks\":\"\"},\"colorscale\":[[0.0,\"#0d0887\"],[0.1111111111111111,\"#46039f\"],[0.2222222222222222,\"#7201a8\"],[0.3333333333333333,\"#9c179e\"],[0.4444444444444444,\"#bd3786\"],[0.5555555555555556,\"#d8576b\"],[0.6666666666666666,\"#ed7953\"],[0.7777777777777778,\"#fb9f3a\"],[0.8888888888888888,\"#fdca26\"],[1.0,\"#f0f921\"]],\"type\":\"surface\"}],\"table\":[{\"cells\":{\"fill\":{\"color\":\"#EBF0F8\"},\"line\":{\"color\":\"white\"}},\"header\":{\"fill\":{\"color\":\"#C8D4E3\"},\"line\":{\"color\":\"white\"}},\"type\":\"table\"}]},\"layout\":{\"annotationdefaults\":{\"arrowcolor\":\"#2a3f5f\",\"arrowhead\":0,\"arrowwidth\":1},\"autotypenumbers\":\"strict\",\"coloraxis\":{\"colorbar\":{\"outlinewidth\":0,\"ticks\":\"\"}},\"colorscale\":{\"diverging\":[[0,\"#8e0152\"],[0.1,\"#c51b7d\"],[0.2,\"#de77ae\"],[0.3,\"#f1b6da\"],[0.4,\"#fde0ef\"],[0.5,\"#f7f7f7\"],[0.6,\"#e6f5d0\"],[0.7,\"#b8e186\"],[0.8,\"#7fbc41\"],[0.9,\"#4d9221\"],[1,\"#276419\"]],\"sequential\":[[0.0,\"#0d0887\"],[0.1111111111111111,\"#46039f\"],[0.2222222222222222,\"#7201a8\"],[0.3333333333333333,\"#9c179e\"],[0.4444444444444444,\"#bd3786\"],[0.5555555555555556,\"#d8576b\"],[0.6666666666666666,\"#ed7953\"],[0.7777777777777778,\"#fb9f3a\"],[0.8888888888888888,\"#fdca26\"],[1.0,\"#f0f921\"]],\"sequentialminus\":[[0.0,\"#0d0887\"],[0.1111111111111111,\"#46039f\"],[0.2222222222222222,\"#7201a8\"],[0.3333333333333333,\"#9c179e\"],[0.4444444444444444,\"#bd3786\"],[0.5555555555555556,\"#d8576b\"],[0.6666666666666666,\"#ed7953\"],[0.7777777777777778,\"#fb9f3a\"],[0.8888888888888888,\"#fdca26\"],[1.0,\"#f0f921\"]]},\"colorway\":[\"#636efa\",\"#EF553B\",\"#00cc96\",\"#ab63fa\",\"#FFA15A\",\"#19d3f3\",\"#FF6692\",\"#B6E880\",\"#FF97FF\",\"#FECB52\"],\"font\":{\"color\":\"#2a3f5f\"},\"geo\":{\"bgcolor\":\"white\",\"lakecolor\":\"white\",\"landcolor\":\"#E5ECF6\",\"showlakes\":true,\"showland\":true,\"subunitcolor\":\"white\"},\"hoverlabel\":{\"align\":\"left\"},\"hovermode\":\"closest\",\"mapbox\":{\"style\":\"light\"},\"paper_bgcolor\":\"white\",\"plot_bgcolor\":\"#E5ECF6\",\"polar\":{\"angularaxis\":{\"gridcolor\":\"white\",\"linecolor\":\"white\",\"ticks\":\"\"},\"bgcolor\":\"#E5ECF6\",\"radialaxis\":{\"gridcolor\":\"white\",\"linecolor\":\"white\",\"ticks\":\"\"}},\"scene\":{\"xaxis\":{\"backgroundcolor\":\"#E5ECF6\",\"gridcolor\":\"white\",\"gridwidth\":2,\"linecolor\":\"white\",\"showbackground\":true,\"ticks\":\"\",\"zerolinecolor\":\"white\"},\"yaxis\":{\"backgroundcolor\":\"#E5ECF6\",\"gridcolor\":\"white\",\"gridwidth\":2,\"linecolor\":\"white\",\"showbackground\":true,\"ticks\":\"\",\"zerolinecolor\":\"white\"},\"zaxis\":{\"backgroundcolor\":\"#E5ECF6\",\"gridcolor\":\"white\",\"gridwidth\":2,\"linecolor\":\"white\",\"showbackground\":true,\"ticks\":\"\",\"zerolinecolor\":\"white\"}},\"shapedefaults\":{\"line\":{\"color\":\"#2a3f5f\"}},\"ternary\":{\"aaxis\":{\"gridcolor\":\"white\",\"linecolor\":\"white\",\"ticks\":\"\"},\"baxis\":{\"gridcolor\":\"white\",\"linecolor\":\"white\",\"ticks\":\"\"},\"bgcolor\":\"#E5ECF6\",\"caxis\":{\"gridcolor\":\"white\",\"linecolor\":\"white\",\"ticks\":\"\"}},\"title\":{\"x\":0.05},\"xaxis\":{\"automargin\":true,\"gridcolor\":\"white\",\"linecolor\":\"white\",\"ticks\":\"\",\"title\":{\"standoff\":15},\"zerolinecolor\":\"white\",\"zerolinewidth\":2},\"yaxis\":{\"automargin\":true,\"gridcolor\":\"white\",\"linecolor\":\"white\",\"ticks\":\"\",\"title\":{\"standoff\":15},\"zerolinecolor\":\"white\",\"zerolinewidth\":2}}},\"title\":{\"font\":{\"color\":\"#4D5663\"}},\"xaxis\":{\"gridcolor\":\"#E1E5ED\",\"showgrid\":true,\"tickfont\":{\"color\":\"#4D5663\"},\"title\":{\"font\":{\"color\":\"#4D5663\"},\"text\":\"\"},\"zerolinecolor\":\"#E1E5ED\"},\"yaxis\":{\"gridcolor\":\"#E1E5ED\",\"showgrid\":true,\"tickfont\":{\"color\":\"#4D5663\"},\"title\":{\"font\":{\"color\":\"#4D5663\"},\"text\":\"\"},\"zerolinecolor\":\"#E1E5ED\"}},                        {\"showLink\": true, \"linkText\": \"Export to plot.ly\", \"plotlyServerURL\": \"https://plot.ly\", \"responsive\": true}                    ).then(function(){\n",
       "                            \n",
       "var gd = document.getElementById('81a02d81-c726-449d-b3fe-a31a6bf77253');\n",
       "var x = new MutationObserver(function (mutations, observer) {{\n",
       "        var display = window.getComputedStyle(gd).display;\n",
       "        if (!display || display === 'none') {{\n",
       "            console.log([gd, 'removed!']);\n",
       "            Plotly.purge(gd);\n",
       "            observer.disconnect();\n",
       "        }}\n",
       "}});\n",
       "\n",
       "// Listen for the removal of the full notebook cells\n",
       "var notebookContainer = gd.closest('#notebook-container');\n",
       "if (notebookContainer) {{\n",
       "    x.observe(notebookContainer, {childList: true});\n",
       "}}\n",
       "\n",
       "// Listen for the clearing of the current output cell\n",
       "var outputEl = gd.closest('.output');\n",
       "if (outputEl) {{\n",
       "    x.observe(outputEl, {childList: true});\n",
       "}}\n",
       "\n",
       "                        })                };                });            </script>        </div>"
      ]
     },
     "metadata": {},
     "output_type": "display_data"
    }
   ],
   "source": [
    "#3 dimensional surface plt\n",
    "\n",
    "df3.iplot(kind='surface')"
   ]
  },
  {
   "cell_type": "code",
   "execution_count": 30,
   "metadata": {},
   "outputs": [
    {
     "data": {
      "application/vnd.plotly.v1+json": {
       "config": {
        "linkText": "Export to plot.ly",
        "plotlyServerURL": "https://plot.ly",
        "showLink": true
       },
       "data": [
        {
         "histfunc": "count",
         "histnorm": "",
         "marker": {
          "color": "rgba(255, 153, 51, 1.0)",
          "line": {
           "color": "#4D5663",
           "width": 1.3
          }
         },
         "name": "A",
         "nbinsx": 10,
         "opacity": 0.8,
         "orientation": "v",
         "type": "histogram",
         "x": [
          0.05605791357056261,
          0.460019687284693,
          0.6287518092337231,
          -0.40335735674017076,
          0.10729666753545831,
          -0.6295013494642708,
          -1.4951352553786494,
          1.0672754786555207,
          0.3598261803907446,
          -1.0166936426325441,
          -0.07666864253836506,
          0.0410685021645721,
          0.48573655430333923,
          -0.11416938422627511,
          -0.7386166413012212,
          0.7039588772816362,
          1.707845165649345,
          0.3042828542104509,
          1.1414108452743028,
          -0.1891422906682915,
          -1.0724824106218038,
          1.697912228612607,
          2.376315745461367,
          1.3285205463490388,
          0.5241455798665027,
          0.3296266350692246,
          0.893307944055857,
          0.29888277985522527,
          -0.40214756911155725,
          0.27769939748663547,
          1.7229469733657832,
          -1.0590791859078141,
          0.17677513633413716,
          -1.0751157989840059,
          -1.206163745609603,
          0.21085545930113656,
          0.28691557726486,
          0.5626865844183987,
          -0.024749798143169792,
          -1.227681486982836,
          2.3768811509212675,
          -1.5514568828774338,
          1.6112875275834087,
          -0.035511207000442,
          1.3597817860592807,
          0.6340139048174628,
          -0.9461246374711879,
          -0.5980463813946243,
          -0.11121371341266718,
          -0.7789947858694427,
          -0.7909367835488761,
          0.44597932143928465,
          -0.015829741692926957,
          0.5880978326151248,
          -1.1687690687778953,
          0.46738762470996625,
          -1.0232152012694558,
          0.019203856503362135,
          -0.2513480883458298,
          1.67760815029347,
          -0.3388913730150217,
          0.5054335631763178,
          -0.5582218465556053,
          0.09412762463803932,
          -0.269836966510378,
          -0.4229131069545643,
          -0.05562146161653577,
          0.36806445455580034,
          -0.1491590393377931,
          -1.6102639259917182,
          0.3538094719163923,
          1.2443563819434125,
          -0.5311791146417401,
          0.03025030818705174,
          2.6374187556509767,
          -0.06300359369525535,
          -0.2163986548430199,
          -1.4063465608219916,
          -0.6335377419553875,
          0.5468778943274468,
          0.22887859434644822,
          -0.0024186408660699346,
          1.051698629355191,
          -0.9869517109480603,
          -0.31987496824644224,
          -0.540174686913111,
          0.3340381390336442,
          0.7322443952033713,
          -0.9129854111412516,
          -0.18584647450385625,
          -0.9478104793799853,
          0.7151795709345523,
          -0.8542424412247567,
          -1.5265198883275757,
          0.5488311569159915,
          0.21865254089016833,
          -0.4204248699245095,
          -1.0376879604394742,
          0.24386425713090254,
          0.2897506749290084
         ]
        }
       ],
       "layout": {
        "barmode": "overlay",
        "legend": {
         "bgcolor": "#F5F6F9",
         "font": {
          "color": "#4D5663"
         }
        },
        "paper_bgcolor": "#F5F6F9",
        "plot_bgcolor": "#F5F6F9",
        "template": {
         "data": {
          "bar": [
           {
            "error_x": {
             "color": "#2a3f5f"
            },
            "error_y": {
             "color": "#2a3f5f"
            },
            "marker": {
             "line": {
              "color": "#E5ECF6",
              "width": 0.5
             },
             "pattern": {
              "fillmode": "overlay",
              "size": 10,
              "solidity": 0.2
             }
            },
            "type": "bar"
           }
          ],
          "barpolar": [
           {
            "marker": {
             "line": {
              "color": "#E5ECF6",
              "width": 0.5
             },
             "pattern": {
              "fillmode": "overlay",
              "size": 10,
              "solidity": 0.2
             }
            },
            "type": "barpolar"
           }
          ],
          "carpet": [
           {
            "aaxis": {
             "endlinecolor": "#2a3f5f",
             "gridcolor": "white",
             "linecolor": "white",
             "minorgridcolor": "white",
             "startlinecolor": "#2a3f5f"
            },
            "baxis": {
             "endlinecolor": "#2a3f5f",
             "gridcolor": "white",
             "linecolor": "white",
             "minorgridcolor": "white",
             "startlinecolor": "#2a3f5f"
            },
            "type": "carpet"
           }
          ],
          "choropleth": [
           {
            "colorbar": {
             "outlinewidth": 0,
             "ticks": ""
            },
            "type": "choropleth"
           }
          ],
          "contour": [
           {
            "colorbar": {
             "outlinewidth": 0,
             "ticks": ""
            },
            "colorscale": [
             [
              0,
              "#0d0887"
             ],
             [
              0.1111111111111111,
              "#46039f"
             ],
             [
              0.2222222222222222,
              "#7201a8"
             ],
             [
              0.3333333333333333,
              "#9c179e"
             ],
             [
              0.4444444444444444,
              "#bd3786"
             ],
             [
              0.5555555555555556,
              "#d8576b"
             ],
             [
              0.6666666666666666,
              "#ed7953"
             ],
             [
              0.7777777777777778,
              "#fb9f3a"
             ],
             [
              0.8888888888888888,
              "#fdca26"
             ],
             [
              1,
              "#f0f921"
             ]
            ],
            "type": "contour"
           }
          ],
          "contourcarpet": [
           {
            "colorbar": {
             "outlinewidth": 0,
             "ticks": ""
            },
            "type": "contourcarpet"
           }
          ],
          "heatmap": [
           {
            "colorbar": {
             "outlinewidth": 0,
             "ticks": ""
            },
            "colorscale": [
             [
              0,
              "#0d0887"
             ],
             [
              0.1111111111111111,
              "#46039f"
             ],
             [
              0.2222222222222222,
              "#7201a8"
             ],
             [
              0.3333333333333333,
              "#9c179e"
             ],
             [
              0.4444444444444444,
              "#bd3786"
             ],
             [
              0.5555555555555556,
              "#d8576b"
             ],
             [
              0.6666666666666666,
              "#ed7953"
             ],
             [
              0.7777777777777778,
              "#fb9f3a"
             ],
             [
              0.8888888888888888,
              "#fdca26"
             ],
             [
              1,
              "#f0f921"
             ]
            ],
            "type": "heatmap"
           }
          ],
          "heatmapgl": [
           {
            "colorbar": {
             "outlinewidth": 0,
             "ticks": ""
            },
            "colorscale": [
             [
              0,
              "#0d0887"
             ],
             [
              0.1111111111111111,
              "#46039f"
             ],
             [
              0.2222222222222222,
              "#7201a8"
             ],
             [
              0.3333333333333333,
              "#9c179e"
             ],
             [
              0.4444444444444444,
              "#bd3786"
             ],
             [
              0.5555555555555556,
              "#d8576b"
             ],
             [
              0.6666666666666666,
              "#ed7953"
             ],
             [
              0.7777777777777778,
              "#fb9f3a"
             ],
             [
              0.8888888888888888,
              "#fdca26"
             ],
             [
              1,
              "#f0f921"
             ]
            ],
            "type": "heatmapgl"
           }
          ],
          "histogram": [
           {
            "marker": {
             "pattern": {
              "fillmode": "overlay",
              "size": 10,
              "solidity": 0.2
             }
            },
            "type": "histogram"
           }
          ],
          "histogram2d": [
           {
            "colorbar": {
             "outlinewidth": 0,
             "ticks": ""
            },
            "colorscale": [
             [
              0,
              "#0d0887"
             ],
             [
              0.1111111111111111,
              "#46039f"
             ],
             [
              0.2222222222222222,
              "#7201a8"
             ],
             [
              0.3333333333333333,
              "#9c179e"
             ],
             [
              0.4444444444444444,
              "#bd3786"
             ],
             [
              0.5555555555555556,
              "#d8576b"
             ],
             [
              0.6666666666666666,
              "#ed7953"
             ],
             [
              0.7777777777777778,
              "#fb9f3a"
             ],
             [
              0.8888888888888888,
              "#fdca26"
             ],
             [
              1,
              "#f0f921"
             ]
            ],
            "type": "histogram2d"
           }
          ],
          "histogram2dcontour": [
           {
            "colorbar": {
             "outlinewidth": 0,
             "ticks": ""
            },
            "colorscale": [
             [
              0,
              "#0d0887"
             ],
             [
              0.1111111111111111,
              "#46039f"
             ],
             [
              0.2222222222222222,
              "#7201a8"
             ],
             [
              0.3333333333333333,
              "#9c179e"
             ],
             [
              0.4444444444444444,
              "#bd3786"
             ],
             [
              0.5555555555555556,
              "#d8576b"
             ],
             [
              0.6666666666666666,
              "#ed7953"
             ],
             [
              0.7777777777777778,
              "#fb9f3a"
             ],
             [
              0.8888888888888888,
              "#fdca26"
             ],
             [
              1,
              "#f0f921"
             ]
            ],
            "type": "histogram2dcontour"
           }
          ],
          "mesh3d": [
           {
            "colorbar": {
             "outlinewidth": 0,
             "ticks": ""
            },
            "type": "mesh3d"
           }
          ],
          "parcoords": [
           {
            "line": {
             "colorbar": {
              "outlinewidth": 0,
              "ticks": ""
             }
            },
            "type": "parcoords"
           }
          ],
          "pie": [
           {
            "automargin": true,
            "type": "pie"
           }
          ],
          "scatter": [
           {
            "marker": {
             "colorbar": {
              "outlinewidth": 0,
              "ticks": ""
             }
            },
            "type": "scatter"
           }
          ],
          "scatter3d": [
           {
            "line": {
             "colorbar": {
              "outlinewidth": 0,
              "ticks": ""
             }
            },
            "marker": {
             "colorbar": {
              "outlinewidth": 0,
              "ticks": ""
             }
            },
            "type": "scatter3d"
           }
          ],
          "scattercarpet": [
           {
            "marker": {
             "colorbar": {
              "outlinewidth": 0,
              "ticks": ""
             }
            },
            "type": "scattercarpet"
           }
          ],
          "scattergeo": [
           {
            "marker": {
             "colorbar": {
              "outlinewidth": 0,
              "ticks": ""
             }
            },
            "type": "scattergeo"
           }
          ],
          "scattergl": [
           {
            "marker": {
             "colorbar": {
              "outlinewidth": 0,
              "ticks": ""
             }
            },
            "type": "scattergl"
           }
          ],
          "scattermapbox": [
           {
            "marker": {
             "colorbar": {
              "outlinewidth": 0,
              "ticks": ""
             }
            },
            "type": "scattermapbox"
           }
          ],
          "scatterpolar": [
           {
            "marker": {
             "colorbar": {
              "outlinewidth": 0,
              "ticks": ""
             }
            },
            "type": "scatterpolar"
           }
          ],
          "scatterpolargl": [
           {
            "marker": {
             "colorbar": {
              "outlinewidth": 0,
              "ticks": ""
             }
            },
            "type": "scatterpolargl"
           }
          ],
          "scatterternary": [
           {
            "marker": {
             "colorbar": {
              "outlinewidth": 0,
              "ticks": ""
             }
            },
            "type": "scatterternary"
           }
          ],
          "surface": [
           {
            "colorbar": {
             "outlinewidth": 0,
             "ticks": ""
            },
            "colorscale": [
             [
              0,
              "#0d0887"
             ],
             [
              0.1111111111111111,
              "#46039f"
             ],
             [
              0.2222222222222222,
              "#7201a8"
             ],
             [
              0.3333333333333333,
              "#9c179e"
             ],
             [
              0.4444444444444444,
              "#bd3786"
             ],
             [
              0.5555555555555556,
              "#d8576b"
             ],
             [
              0.6666666666666666,
              "#ed7953"
             ],
             [
              0.7777777777777778,
              "#fb9f3a"
             ],
             [
              0.8888888888888888,
              "#fdca26"
             ],
             [
              1,
              "#f0f921"
             ]
            ],
            "type": "surface"
           }
          ],
          "table": [
           {
            "cells": {
             "fill": {
              "color": "#EBF0F8"
             },
             "line": {
              "color": "white"
             }
            },
            "header": {
             "fill": {
              "color": "#C8D4E3"
             },
             "line": {
              "color": "white"
             }
            },
            "type": "table"
           }
          ]
         },
         "layout": {
          "annotationdefaults": {
           "arrowcolor": "#2a3f5f",
           "arrowhead": 0,
           "arrowwidth": 1
          },
          "autotypenumbers": "strict",
          "coloraxis": {
           "colorbar": {
            "outlinewidth": 0,
            "ticks": ""
           }
          },
          "colorscale": {
           "diverging": [
            [
             0,
             "#8e0152"
            ],
            [
             0.1,
             "#c51b7d"
            ],
            [
             0.2,
             "#de77ae"
            ],
            [
             0.3,
             "#f1b6da"
            ],
            [
             0.4,
             "#fde0ef"
            ],
            [
             0.5,
             "#f7f7f7"
            ],
            [
             0.6,
             "#e6f5d0"
            ],
            [
             0.7,
             "#b8e186"
            ],
            [
             0.8,
             "#7fbc41"
            ],
            [
             0.9,
             "#4d9221"
            ],
            [
             1,
             "#276419"
            ]
           ],
           "sequential": [
            [
             0,
             "#0d0887"
            ],
            [
             0.1111111111111111,
             "#46039f"
            ],
            [
             0.2222222222222222,
             "#7201a8"
            ],
            [
             0.3333333333333333,
             "#9c179e"
            ],
            [
             0.4444444444444444,
             "#bd3786"
            ],
            [
             0.5555555555555556,
             "#d8576b"
            ],
            [
             0.6666666666666666,
             "#ed7953"
            ],
            [
             0.7777777777777778,
             "#fb9f3a"
            ],
            [
             0.8888888888888888,
             "#fdca26"
            ],
            [
             1,
             "#f0f921"
            ]
           ],
           "sequentialminus": [
            [
             0,
             "#0d0887"
            ],
            [
             0.1111111111111111,
             "#46039f"
            ],
            [
             0.2222222222222222,
             "#7201a8"
            ],
            [
             0.3333333333333333,
             "#9c179e"
            ],
            [
             0.4444444444444444,
             "#bd3786"
            ],
            [
             0.5555555555555556,
             "#d8576b"
            ],
            [
             0.6666666666666666,
             "#ed7953"
            ],
            [
             0.7777777777777778,
             "#fb9f3a"
            ],
            [
             0.8888888888888888,
             "#fdca26"
            ],
            [
             1,
             "#f0f921"
            ]
           ]
          },
          "colorway": [
           "#636efa",
           "#EF553B",
           "#00cc96",
           "#ab63fa",
           "#FFA15A",
           "#19d3f3",
           "#FF6692",
           "#B6E880",
           "#FF97FF",
           "#FECB52"
          ],
          "font": {
           "color": "#2a3f5f"
          },
          "geo": {
           "bgcolor": "white",
           "lakecolor": "white",
           "landcolor": "#E5ECF6",
           "showlakes": true,
           "showland": true,
           "subunitcolor": "white"
          },
          "hoverlabel": {
           "align": "left"
          },
          "hovermode": "closest",
          "mapbox": {
           "style": "light"
          },
          "paper_bgcolor": "white",
          "plot_bgcolor": "#E5ECF6",
          "polar": {
           "angularaxis": {
            "gridcolor": "white",
            "linecolor": "white",
            "ticks": ""
           },
           "bgcolor": "#E5ECF6",
           "radialaxis": {
            "gridcolor": "white",
            "linecolor": "white",
            "ticks": ""
           }
          },
          "scene": {
           "xaxis": {
            "backgroundcolor": "#E5ECF6",
            "gridcolor": "white",
            "gridwidth": 2,
            "linecolor": "white",
            "showbackground": true,
            "ticks": "",
            "zerolinecolor": "white"
           },
           "yaxis": {
            "backgroundcolor": "#E5ECF6",
            "gridcolor": "white",
            "gridwidth": 2,
            "linecolor": "white",
            "showbackground": true,
            "ticks": "",
            "zerolinecolor": "white"
           },
           "zaxis": {
            "backgroundcolor": "#E5ECF6",
            "gridcolor": "white",
            "gridwidth": 2,
            "linecolor": "white",
            "showbackground": true,
            "ticks": "",
            "zerolinecolor": "white"
           }
          },
          "shapedefaults": {
           "line": {
            "color": "#2a3f5f"
           }
          },
          "ternary": {
           "aaxis": {
            "gridcolor": "white",
            "linecolor": "white",
            "ticks": ""
           },
           "baxis": {
            "gridcolor": "white",
            "linecolor": "white",
            "ticks": ""
           },
           "bgcolor": "#E5ECF6",
           "caxis": {
            "gridcolor": "white",
            "linecolor": "white",
            "ticks": ""
           }
          },
          "title": {
           "x": 0.05
          },
          "xaxis": {
           "automargin": true,
           "gridcolor": "white",
           "linecolor": "white",
           "ticks": "",
           "title": {
            "standoff": 15
           },
           "zerolinecolor": "white",
           "zerolinewidth": 2
          },
          "yaxis": {
           "automargin": true,
           "gridcolor": "white",
           "linecolor": "white",
           "ticks": "",
           "title": {
            "standoff": 15
           },
           "zerolinecolor": "white",
           "zerolinewidth": 2
          }
         }
        },
        "title": {
         "font": {
          "color": "#4D5663"
         }
        },
        "xaxis": {
         "gridcolor": "#E1E5ED",
         "showgrid": true,
         "tickfont": {
          "color": "#4D5663"
         },
         "title": {
          "font": {
           "color": "#4D5663"
          },
          "text": ""
         },
         "zerolinecolor": "#E1E5ED"
        },
        "yaxis": {
         "gridcolor": "#E1E5ED",
         "showgrid": true,
         "tickfont": {
          "color": "#4D5663"
         },
         "title": {
          "font": {
           "color": "#4D5663"
          },
          "text": ""
         },
         "zerolinecolor": "#E1E5ED"
        }
       }
      },
      "text/html": [
       "<div>                            <div id=\"74e9aa86-41bd-4665-b664-cd7d37c09c88\" class=\"plotly-graph-div\" style=\"height:525px; width:100%;\"></div>            <script type=\"text/javascript\">                require([\"plotly\"], function(Plotly) {                    window.PLOTLYENV=window.PLOTLYENV || {};\n",
       "                    window.PLOTLYENV.BASE_URL='https://plot.ly';                                    if (document.getElementById(\"74e9aa86-41bd-4665-b664-cd7d37c09c88\")) {                    Plotly.newPlot(                        \"74e9aa86-41bd-4665-b664-cd7d37c09c88\",                        [{\"histfunc\":\"count\",\"histnorm\":\"\",\"marker\":{\"color\":\"rgba(255, 153, 51, 1.0)\",\"line\":{\"color\":\"#4D5663\",\"width\":1.3}},\"name\":\"A\",\"nbinsx\":10,\"opacity\":0.8,\"orientation\":\"v\",\"type\":\"histogram\",\"x\":[0.05605791357056261,0.460019687284693,0.6287518092337231,-0.40335735674017076,0.10729666753545831,-0.6295013494642708,-1.4951352553786494,1.0672754786555207,0.3598261803907446,-1.0166936426325441,-0.07666864253836506,0.0410685021645721,0.48573655430333923,-0.11416938422627511,-0.7386166413012212,0.7039588772816362,1.707845165649345,0.3042828542104509,1.1414108452743028,-0.1891422906682915,-1.0724824106218038,1.697912228612607,2.376315745461367,1.3285205463490388,0.5241455798665027,0.3296266350692246,0.893307944055857,0.29888277985522527,-0.40214756911155725,0.27769939748663547,1.7229469733657832,-1.0590791859078141,0.17677513633413716,-1.0751157989840059,-1.206163745609603,0.21085545930113656,0.28691557726486,0.5626865844183987,-0.024749798143169792,-1.227681486982836,2.3768811509212675,-1.5514568828774338,1.6112875275834087,-0.035511207000442,1.3597817860592807,0.6340139048174628,-0.9461246374711879,-0.5980463813946243,-0.11121371341266718,-0.7789947858694427,-0.7909367835488761,0.44597932143928465,-0.015829741692926957,0.5880978326151248,-1.1687690687778953,0.46738762470996625,-1.0232152012694558,0.019203856503362135,-0.2513480883458298,1.67760815029347,-0.3388913730150217,0.5054335631763178,-0.5582218465556053,0.09412762463803932,-0.269836966510378,-0.4229131069545643,-0.05562146161653577,0.36806445455580034,-0.1491590393377931,-1.6102639259917182,0.3538094719163923,1.2443563819434125,-0.5311791146417401,0.03025030818705174,2.6374187556509767,-0.06300359369525535,-0.2163986548430199,-1.4063465608219916,-0.6335377419553875,0.5468778943274468,0.22887859434644822,-0.0024186408660699346,1.051698629355191,-0.9869517109480603,-0.31987496824644224,-0.540174686913111,0.3340381390336442,0.7322443952033713,-0.9129854111412516,-0.18584647450385625,-0.9478104793799853,0.7151795709345523,-0.8542424412247567,-1.5265198883275757,0.5488311569159915,0.21865254089016833,-0.4204248699245095,-1.0376879604394742,0.24386425713090254,0.2897506749290084]}],                        {\"barmode\":\"overlay\",\"legend\":{\"bgcolor\":\"#F5F6F9\",\"font\":{\"color\":\"#4D5663\"}},\"paper_bgcolor\":\"#F5F6F9\",\"plot_bgcolor\":\"#F5F6F9\",\"template\":{\"data\":{\"bar\":[{\"error_x\":{\"color\":\"#2a3f5f\"},\"error_y\":{\"color\":\"#2a3f5f\"},\"marker\":{\"line\":{\"color\":\"#E5ECF6\",\"width\":0.5},\"pattern\":{\"fillmode\":\"overlay\",\"size\":10,\"solidity\":0.2}},\"type\":\"bar\"}],\"barpolar\":[{\"marker\":{\"line\":{\"color\":\"#E5ECF6\",\"width\":0.5},\"pattern\":{\"fillmode\":\"overlay\",\"size\":10,\"solidity\":0.2}},\"type\":\"barpolar\"}],\"carpet\":[{\"aaxis\":{\"endlinecolor\":\"#2a3f5f\",\"gridcolor\":\"white\",\"linecolor\":\"white\",\"minorgridcolor\":\"white\",\"startlinecolor\":\"#2a3f5f\"},\"baxis\":{\"endlinecolor\":\"#2a3f5f\",\"gridcolor\":\"white\",\"linecolor\":\"white\",\"minorgridcolor\":\"white\",\"startlinecolor\":\"#2a3f5f\"},\"type\":\"carpet\"}],\"choropleth\":[{\"colorbar\":{\"outlinewidth\":0,\"ticks\":\"\"},\"type\":\"choropleth\"}],\"contour\":[{\"colorbar\":{\"outlinewidth\":0,\"ticks\":\"\"},\"colorscale\":[[0.0,\"#0d0887\"],[0.1111111111111111,\"#46039f\"],[0.2222222222222222,\"#7201a8\"],[0.3333333333333333,\"#9c179e\"],[0.4444444444444444,\"#bd3786\"],[0.5555555555555556,\"#d8576b\"],[0.6666666666666666,\"#ed7953\"],[0.7777777777777778,\"#fb9f3a\"],[0.8888888888888888,\"#fdca26\"],[1.0,\"#f0f921\"]],\"type\":\"contour\"}],\"contourcarpet\":[{\"colorbar\":{\"outlinewidth\":0,\"ticks\":\"\"},\"type\":\"contourcarpet\"}],\"heatmap\":[{\"colorbar\":{\"outlinewidth\":0,\"ticks\":\"\"},\"colorscale\":[[0.0,\"#0d0887\"],[0.1111111111111111,\"#46039f\"],[0.2222222222222222,\"#7201a8\"],[0.3333333333333333,\"#9c179e\"],[0.4444444444444444,\"#bd3786\"],[0.5555555555555556,\"#d8576b\"],[0.6666666666666666,\"#ed7953\"],[0.7777777777777778,\"#fb9f3a\"],[0.8888888888888888,\"#fdca26\"],[1.0,\"#f0f921\"]],\"type\":\"heatmap\"}],\"heatmapgl\":[{\"colorbar\":{\"outlinewidth\":0,\"ticks\":\"\"},\"colorscale\":[[0.0,\"#0d0887\"],[0.1111111111111111,\"#46039f\"],[0.2222222222222222,\"#7201a8\"],[0.3333333333333333,\"#9c179e\"],[0.4444444444444444,\"#bd3786\"],[0.5555555555555556,\"#d8576b\"],[0.6666666666666666,\"#ed7953\"],[0.7777777777777778,\"#fb9f3a\"],[0.8888888888888888,\"#fdca26\"],[1.0,\"#f0f921\"]],\"type\":\"heatmapgl\"}],\"histogram\":[{\"marker\":{\"pattern\":{\"fillmode\":\"overlay\",\"size\":10,\"solidity\":0.2}},\"type\":\"histogram\"}],\"histogram2d\":[{\"colorbar\":{\"outlinewidth\":0,\"ticks\":\"\"},\"colorscale\":[[0.0,\"#0d0887\"],[0.1111111111111111,\"#46039f\"],[0.2222222222222222,\"#7201a8\"],[0.3333333333333333,\"#9c179e\"],[0.4444444444444444,\"#bd3786\"],[0.5555555555555556,\"#d8576b\"],[0.6666666666666666,\"#ed7953\"],[0.7777777777777778,\"#fb9f3a\"],[0.8888888888888888,\"#fdca26\"],[1.0,\"#f0f921\"]],\"type\":\"histogram2d\"}],\"histogram2dcontour\":[{\"colorbar\":{\"outlinewidth\":0,\"ticks\":\"\"},\"colorscale\":[[0.0,\"#0d0887\"],[0.1111111111111111,\"#46039f\"],[0.2222222222222222,\"#7201a8\"],[0.3333333333333333,\"#9c179e\"],[0.4444444444444444,\"#bd3786\"],[0.5555555555555556,\"#d8576b\"],[0.6666666666666666,\"#ed7953\"],[0.7777777777777778,\"#fb9f3a\"],[0.8888888888888888,\"#fdca26\"],[1.0,\"#f0f921\"]],\"type\":\"histogram2dcontour\"}],\"mesh3d\":[{\"colorbar\":{\"outlinewidth\":0,\"ticks\":\"\"},\"type\":\"mesh3d\"}],\"parcoords\":[{\"line\":{\"colorbar\":{\"outlinewidth\":0,\"ticks\":\"\"}},\"type\":\"parcoords\"}],\"pie\":[{\"automargin\":true,\"type\":\"pie\"}],\"scatter\":[{\"marker\":{\"colorbar\":{\"outlinewidth\":0,\"ticks\":\"\"}},\"type\":\"scatter\"}],\"scatter3d\":[{\"line\":{\"colorbar\":{\"outlinewidth\":0,\"ticks\":\"\"}},\"marker\":{\"colorbar\":{\"outlinewidth\":0,\"ticks\":\"\"}},\"type\":\"scatter3d\"}],\"scattercarpet\":[{\"marker\":{\"colorbar\":{\"outlinewidth\":0,\"ticks\":\"\"}},\"type\":\"scattercarpet\"}],\"scattergeo\":[{\"marker\":{\"colorbar\":{\"outlinewidth\":0,\"ticks\":\"\"}},\"type\":\"scattergeo\"}],\"scattergl\":[{\"marker\":{\"colorbar\":{\"outlinewidth\":0,\"ticks\":\"\"}},\"type\":\"scattergl\"}],\"scattermapbox\":[{\"marker\":{\"colorbar\":{\"outlinewidth\":0,\"ticks\":\"\"}},\"type\":\"scattermapbox\"}],\"scatterpolar\":[{\"marker\":{\"colorbar\":{\"outlinewidth\":0,\"ticks\":\"\"}},\"type\":\"scatterpolar\"}],\"scatterpolargl\":[{\"marker\":{\"colorbar\":{\"outlinewidth\":0,\"ticks\":\"\"}},\"type\":\"scatterpolargl\"}],\"scatterternary\":[{\"marker\":{\"colorbar\":{\"outlinewidth\":0,\"ticks\":\"\"}},\"type\":\"scatterternary\"}],\"surface\":[{\"colorbar\":{\"outlinewidth\":0,\"ticks\":\"\"},\"colorscale\":[[0.0,\"#0d0887\"],[0.1111111111111111,\"#46039f\"],[0.2222222222222222,\"#7201a8\"],[0.3333333333333333,\"#9c179e\"],[0.4444444444444444,\"#bd3786\"],[0.5555555555555556,\"#d8576b\"],[0.6666666666666666,\"#ed7953\"],[0.7777777777777778,\"#fb9f3a\"],[0.8888888888888888,\"#fdca26\"],[1.0,\"#f0f921\"]],\"type\":\"surface\"}],\"table\":[{\"cells\":{\"fill\":{\"color\":\"#EBF0F8\"},\"line\":{\"color\":\"white\"}},\"header\":{\"fill\":{\"color\":\"#C8D4E3\"},\"line\":{\"color\":\"white\"}},\"type\":\"table\"}]},\"layout\":{\"annotationdefaults\":{\"arrowcolor\":\"#2a3f5f\",\"arrowhead\":0,\"arrowwidth\":1},\"autotypenumbers\":\"strict\",\"coloraxis\":{\"colorbar\":{\"outlinewidth\":0,\"ticks\":\"\"}},\"colorscale\":{\"diverging\":[[0,\"#8e0152\"],[0.1,\"#c51b7d\"],[0.2,\"#de77ae\"],[0.3,\"#f1b6da\"],[0.4,\"#fde0ef\"],[0.5,\"#f7f7f7\"],[0.6,\"#e6f5d0\"],[0.7,\"#b8e186\"],[0.8,\"#7fbc41\"],[0.9,\"#4d9221\"],[1,\"#276419\"]],\"sequential\":[[0.0,\"#0d0887\"],[0.1111111111111111,\"#46039f\"],[0.2222222222222222,\"#7201a8\"],[0.3333333333333333,\"#9c179e\"],[0.4444444444444444,\"#bd3786\"],[0.5555555555555556,\"#d8576b\"],[0.6666666666666666,\"#ed7953\"],[0.7777777777777778,\"#fb9f3a\"],[0.8888888888888888,\"#fdca26\"],[1.0,\"#f0f921\"]],\"sequentialminus\":[[0.0,\"#0d0887\"],[0.1111111111111111,\"#46039f\"],[0.2222222222222222,\"#7201a8\"],[0.3333333333333333,\"#9c179e\"],[0.4444444444444444,\"#bd3786\"],[0.5555555555555556,\"#d8576b\"],[0.6666666666666666,\"#ed7953\"],[0.7777777777777778,\"#fb9f3a\"],[0.8888888888888888,\"#fdca26\"],[1.0,\"#f0f921\"]]},\"colorway\":[\"#636efa\",\"#EF553B\",\"#00cc96\",\"#ab63fa\",\"#FFA15A\",\"#19d3f3\",\"#FF6692\",\"#B6E880\",\"#FF97FF\",\"#FECB52\"],\"font\":{\"color\":\"#2a3f5f\"},\"geo\":{\"bgcolor\":\"white\",\"lakecolor\":\"white\",\"landcolor\":\"#E5ECF6\",\"showlakes\":true,\"showland\":true,\"subunitcolor\":\"white\"},\"hoverlabel\":{\"align\":\"left\"},\"hovermode\":\"closest\",\"mapbox\":{\"style\":\"light\"},\"paper_bgcolor\":\"white\",\"plot_bgcolor\":\"#E5ECF6\",\"polar\":{\"angularaxis\":{\"gridcolor\":\"white\",\"linecolor\":\"white\",\"ticks\":\"\"},\"bgcolor\":\"#E5ECF6\",\"radialaxis\":{\"gridcolor\":\"white\",\"linecolor\":\"white\",\"ticks\":\"\"}},\"scene\":{\"xaxis\":{\"backgroundcolor\":\"#E5ECF6\",\"gridcolor\":\"white\",\"gridwidth\":2,\"linecolor\":\"white\",\"showbackground\":true,\"ticks\":\"\",\"zerolinecolor\":\"white\"},\"yaxis\":{\"backgroundcolor\":\"#E5ECF6\",\"gridcolor\":\"white\",\"gridwidth\":2,\"linecolor\":\"white\",\"showbackground\":true,\"ticks\":\"\",\"zerolinecolor\":\"white\"},\"zaxis\":{\"backgroundcolor\":\"#E5ECF6\",\"gridcolor\":\"white\",\"gridwidth\":2,\"linecolor\":\"white\",\"showbackground\":true,\"ticks\":\"\",\"zerolinecolor\":\"white\"}},\"shapedefaults\":{\"line\":{\"color\":\"#2a3f5f\"}},\"ternary\":{\"aaxis\":{\"gridcolor\":\"white\",\"linecolor\":\"white\",\"ticks\":\"\"},\"baxis\":{\"gridcolor\":\"white\",\"linecolor\":\"white\",\"ticks\":\"\"},\"bgcolor\":\"#E5ECF6\",\"caxis\":{\"gridcolor\":\"white\",\"linecolor\":\"white\",\"ticks\":\"\"}},\"title\":{\"x\":0.05},\"xaxis\":{\"automargin\":true,\"gridcolor\":\"white\",\"linecolor\":\"white\",\"ticks\":\"\",\"title\":{\"standoff\":15},\"zerolinecolor\":\"white\",\"zerolinewidth\":2},\"yaxis\":{\"automargin\":true,\"gridcolor\":\"white\",\"linecolor\":\"white\",\"ticks\":\"\",\"title\":{\"standoff\":15},\"zerolinecolor\":\"white\",\"zerolinewidth\":2}}},\"title\":{\"font\":{\"color\":\"#4D5663\"}},\"xaxis\":{\"gridcolor\":\"#E1E5ED\",\"showgrid\":true,\"tickfont\":{\"color\":\"#4D5663\"},\"title\":{\"font\":{\"color\":\"#4D5663\"},\"text\":\"\"},\"zerolinecolor\":\"#E1E5ED\"},\"yaxis\":{\"gridcolor\":\"#E1E5ED\",\"showgrid\":true,\"tickfont\":{\"color\":\"#4D5663\"},\"title\":{\"font\":{\"color\":\"#4D5663\"},\"text\":\"\"},\"zerolinecolor\":\"#E1E5ED\"}},                        {\"showLink\": true, \"linkText\": \"Export to plot.ly\", \"plotlyServerURL\": \"https://plot.ly\", \"responsive\": true}                    ).then(function(){\n",
       "                            \n",
       "var gd = document.getElementById('74e9aa86-41bd-4665-b664-cd7d37c09c88');\n",
       "var x = new MutationObserver(function (mutations, observer) {{\n",
       "        var display = window.getComputedStyle(gd).display;\n",
       "        if (!display || display === 'none') {{\n",
       "            console.log([gd, 'removed!']);\n",
       "            Plotly.purge(gd);\n",
       "            observer.disconnect();\n",
       "        }}\n",
       "}});\n",
       "\n",
       "// Listen for the removal of the full notebook cells\n",
       "var notebookContainer = gd.closest('#notebook-container');\n",
       "if (notebookContainer) {{\n",
       "    x.observe(notebookContainer, {childList: true});\n",
       "}}\n",
       "\n",
       "// Listen for the clearing of the current output cell\n",
       "var outputEl = gd.closest('.output');\n",
       "if (outputEl) {{\n",
       "    x.observe(outputEl, {childList: true});\n",
       "}}\n",
       "\n",
       "                        })                };                });            </script>        </div>"
      ]
     },
     "metadata": {},
     "output_type": "display_data"
    }
   ],
   "source": [
    "#histogram\n",
    "df['A'].iplot(kind='hist',bins=10)"
   ]
  },
  {
   "cell_type": "code",
   "execution_count": 32,
   "metadata": {},
   "outputs": [
    {
     "data": {
      "application/vnd.plotly.v1+json": {
       "config": {
        "linkText": "Export to plot.ly",
        "plotlyServerURL": "https://plot.ly",
        "showLink": true
       },
       "data": [
        {
         "histfunc": "count",
         "histnorm": "",
         "marker": {
          "color": "rgba(255, 153, 51, 1.0)",
          "line": {
           "color": "#4D5663",
           "width": 1.3
          }
         },
         "name": "A",
         "opacity": 0.8,
         "orientation": "v",
         "type": "histogram",
         "x": [
          0.05605791357056261,
          0.460019687284693,
          0.6287518092337231,
          -0.40335735674017076,
          0.10729666753545831,
          -0.6295013494642708,
          -1.4951352553786494,
          1.0672754786555207,
          0.3598261803907446,
          -1.0166936426325441,
          -0.07666864253836506,
          0.0410685021645721,
          0.48573655430333923,
          -0.11416938422627511,
          -0.7386166413012212,
          0.7039588772816362,
          1.707845165649345,
          0.3042828542104509,
          1.1414108452743028,
          -0.1891422906682915,
          -1.0724824106218038,
          1.697912228612607,
          2.376315745461367,
          1.3285205463490388,
          0.5241455798665027,
          0.3296266350692246,
          0.893307944055857,
          0.29888277985522527,
          -0.40214756911155725,
          0.27769939748663547,
          1.7229469733657832,
          -1.0590791859078141,
          0.17677513633413716,
          -1.0751157989840059,
          -1.206163745609603,
          0.21085545930113656,
          0.28691557726486,
          0.5626865844183987,
          -0.024749798143169792,
          -1.227681486982836,
          2.3768811509212675,
          -1.5514568828774338,
          1.6112875275834087,
          -0.035511207000442,
          1.3597817860592807,
          0.6340139048174628,
          -0.9461246374711879,
          -0.5980463813946243,
          -0.11121371341266718,
          -0.7789947858694427,
          -0.7909367835488761,
          0.44597932143928465,
          -0.015829741692926957,
          0.5880978326151248,
          -1.1687690687778953,
          0.46738762470996625,
          -1.0232152012694558,
          0.019203856503362135,
          -0.2513480883458298,
          1.67760815029347,
          -0.3388913730150217,
          0.5054335631763178,
          -0.5582218465556053,
          0.09412762463803932,
          -0.269836966510378,
          -0.4229131069545643,
          -0.05562146161653577,
          0.36806445455580034,
          -0.1491590393377931,
          -1.6102639259917182,
          0.3538094719163923,
          1.2443563819434125,
          -0.5311791146417401,
          0.03025030818705174,
          2.6374187556509767,
          -0.06300359369525535,
          -0.2163986548430199,
          -1.4063465608219916,
          -0.6335377419553875,
          0.5468778943274468,
          0.22887859434644822,
          -0.0024186408660699346,
          1.051698629355191,
          -0.9869517109480603,
          -0.31987496824644224,
          -0.540174686913111,
          0.3340381390336442,
          0.7322443952033713,
          -0.9129854111412516,
          -0.18584647450385625,
          -0.9478104793799853,
          0.7151795709345523,
          -0.8542424412247567,
          -1.5265198883275757,
          0.5488311569159915,
          0.21865254089016833,
          -0.4204248699245095,
          -1.0376879604394742,
          0.24386425713090254,
          0.2897506749290084
         ]
        },
        {
         "histfunc": "count",
         "histnorm": "",
         "marker": {
          "color": "rgba(55, 128, 191, 1.0)",
          "line": {
           "color": "#4D5663",
           "width": 1.3
          }
         },
         "name": "B",
         "opacity": 0.8,
         "orientation": "v",
         "type": "histogram",
         "x": [
          0.4908311343814552,
          0.2184294036515998,
          0.8773199756877776,
          -0.5306270595751419,
          -0.45857510326432177,
          -2.210141175194517,
          -1.1718073236010733,
          0.7655275912167271,
          0.6356541834810701,
          -1.6332828663175116,
          1.0487351561018425,
          1.43729039987702,
          -0.7409401093263623,
          -0.5906002518728066,
          -3.5822454622628177,
          1.775083894237991,
          3.153359736399895,
          -0.206360434964078,
          0.4832668240227068,
          1.4924634234884744,
          1.1303056661058593,
          0.3809413259195282,
          -0.08435249626929543,
          0.3702751991921212,
          1.3951327098969522,
          -1.7295969719787143,
          -0.44408775127808997,
          1.1487743309202474,
          -0.04902087713511538,
          -0.7120750076662782,
          0.40449471024488143,
          0.2918957958896897,
          0.5560023877190212,
          -0.16752371802339486,
          -1.716850478180125,
          0.649158426150467,
          1.1233767639252763,
          -0.814426114370307,
          0.9445349720500489,
          0.05147449020198193,
          0.8137655537705104,
          -1.2817599458106645,
          -0.14242664444260536,
          2.094452656634059,
          -0.6513378649946291,
          0.24095637290196942,
          0.6557918851124303,
          -0.3338149240064824,
          0.1969743738756663,
          -0.4912013596722006,
          1.4809601842856794,
          0.348984950814985,
          -0.4530667696706939,
          1.612914879507302,
          0.09814254220664902,
          0.1592404246273716,
          0.32301285061662766,
          -0.2110628783857944,
          -1.2090441466834407,
          0.2731259978707747,
          -0.6739588109652542,
          -1.0767813621272486,
          0.21458519274391671,
          -1.2171725576955057,
          0.9340611364054661,
          -0.3972945452157132,
          1.1575954255423209,
          -0.47619949851144905,
          2.519144683341893,
          1.2944533426663674,
          -0.9734229218001452,
          1.3682532247341346,
          -0.8496789312210303,
          -0.2649093729476989,
          0.6457170669435297,
          0.8271064006126501,
          -0.7749528988067509,
          1.001913076936737,
          0.8120002507488213,
          -0.8663830893781663,
          2.2109593730602133,
          -0.3781719075913857,
          0.015200436893985737,
          2.0796227484366914,
          0.03414309480971347,
          -0.7073025970093648,
          0.5447876540997124,
          0.15871659579090078,
          -0.060186952309339056,
          -2.040420778866945,
          -0.13855641571035474,
          -1.6961095263369388,
          -0.9299607848471094,
          0.42810125413179506,
          -0.20960566035875308,
          0.8091366866871842,
          -0.6383733130460841,
          0.03184295820309675,
          0.4099770897336773,
          0.29049798568337276
         ]
        },
        {
         "histfunc": "count",
         "histnorm": "",
         "marker": {
          "color": "rgba(50, 171, 96, 1.0)",
          "line": {
           "color": "#4D5663",
           "width": 1.3
          }
         },
         "name": "C",
         "opacity": 0.8,
         "orientation": "v",
         "type": "histogram",
         "x": [
          1.24824987724467,
          0.9983689311913663,
          -1.0545690724204038,
          1.1110154458252424,
          -0.18806788243124886,
          1.6412332962784588,
          0.9976205692561707,
          -0.20563881102554485,
          0.5345206661859929,
          -0.8505885078959133,
          -1.1753042938369387,
          0.5549326737094422,
          1.0995805298123364,
          -1.0560733314055109,
          1.3277532401832361,
          1.4523608886914232,
          -0.161314534715455,
          -0.33489534535513893,
          -0.7537305268618539,
          -1.3651019723336582,
          0.15357143130152426,
          2.352502339439212,
          0.8208166600250829,
          -1.5795811113520248,
          0.9950742161653353,
          0.14579194579704557,
          0.8169337766943169,
          -1.1420317664011554,
          -0.6917161512521847,
          0.5397028580408441,
          1.2888922014575794,
          0.9645618249698433,
          2.508282884935816,
          -1.2406403110575333,
          0.6727589312788329,
          1.9535578727520735,
          2.0655850841980685,
          0.5939239517448182,
          1.5609919616111845,
          -0.7252496988828738,
          2.136310258701791,
          0.4446478384214512,
          0.7814050040605677,
          1.9400127197756265,
          -0.0625414646621362,
          -0.49897583504721527,
          0.34188695790826173,
          -0.8253166450180647,
          0.7075042946640339,
          -1.0497064659937023,
          0.6115380282026508,
          -0.042634838988535886,
          -1.613726680017053,
          -0.5108762951988812,
          -1.109847843378826,
          -0.7640949124503643,
          -1.1407668845157493,
          0.27212241625304584,
          1.0395184083143811,
          -1.5022539999450975,
          -0.9908832213910737,
          0.5194210032608014,
          -0.49037645678522157,
          1.2474633860946922,
          -1.2160380494102008,
          1.3460491818655465,
          -0.230631034046932,
          1.4089074816386598,
          -0.1579573048321106,
          -0.5160439485600161,
          -0.3648808343273896,
          -0.5257838884533907,
          0.06842469839609554,
          0.08568730169514732,
          -1.1371332137463852,
          -1.4971689928424767,
          -0.8515939238232175,
          -1.30988193953392,
          1.3795659468683439,
          -0.5130671601260106,
          0.9621516370294597,
          -0.9187135909664644,
          0.8604235269339526,
          0.37135557036266653,
          0.8614769610539936,
          -0.18904446358552046,
          -2.22437399622934,
          0.33106342755376417,
          2.549737610004259,
          -0.4618425641054059,
          -1.2889213156018071,
          0.07516728539907698,
          -0.048269396726482776,
          1.088268004436375,
          1.3079386308997538,
          -1.143496816856456,
          0.27367419166654844,
          -0.06915058726928211,
          0.4000533457112604,
          -0.021474464692848805
         ]
        },
        {
         "histfunc": "count",
         "histnorm": "",
         "marker": {
          "color": "rgba(128, 0, 128, 1.0)",
          "line": {
           "color": "#4D5663",
           "width": 1.3
          }
         },
         "name": "D",
         "opacity": 0.8,
         "orientation": "v",
         "type": "histogram",
         "x": [
          1.0342738233186355,
          0.5156610196675836,
          -0.5725259067866464,
          -0.10970870252082576,
          -1.4327145722273824,
          -0.9826239102851156,
          0.5006651139298808,
          -1.1502675055475746,
          0.6639679297637253,
          -0.07752158325123237,
          2.0158414978467887,
          -0.9955282451419247,
          -1.7210864207825824,
          0.23479523078152342,
          -0.2161324289065316,
          0.25208726701439466,
          0.01577336591237228,
          0.34882139513354027,
          -0.7238237634736284,
          -0.3501528880220865,
          1.0479828325432092,
          0.9155011350265077,
          0.20143348513930073,
          -1.5723117782905938,
          0.8329643643432065,
          -0.020518177832366917,
          0.4434169197970847,
          -0.13151662643872672,
          0.19345297335747452,
          -1.0478613936117316,
          -1.2799209471787956,
          0.9050515082873299,
          -0.9489689486425905,
          -1.091978704639964,
          0.6384162534669922,
          -0.8818576944601535,
          0.2093325649640961,
          0.8242202667089975,
          -2.8517008211626615,
          0.30367457140949283,
          0.9725263493422491,
          1.224233425644717,
          0.8635991278823429,
          0.46944638498128954,
          0.8197091528699354,
          1.0113032914201345,
          0.13748361177121818,
          1.6692510622178953,
          0.432584711062849,
          -0.29826117549858916,
          -0.4593725731326591,
          -0.17404850710223124,
          -0.9369130775604738,
          0.2507113827278272,
          0.1530612974438675,
          1.5401766900531628,
          0.8993395464011825,
          -0.32920039648177646,
          0.5914808895285231,
          -0.7853589024365782,
          0.7325306864025032,
          -1.3905132515174619,
          0.9167629257257449,
          1.0412497492462496,
          3.0885137231233815,
          -0.6518212596559126,
          0.363107114757367,
          1.7062057862485325,
          0.050858029670477874,
          1.1709220746651454,
          0.6051558226870052,
          0.4992326633715957,
          0.20317822388308163,
          0.23867508128071055,
          -1.099568926340057,
          -2.1461816017798543,
          1.3572434043105053,
          -1.5904421177027062,
          -0.0642040160364851,
          0.7931736049541596,
          -1.2157041083468376,
          -1.6847396490905608,
          -1.8683363355635891,
          -0.6734526705125173,
          -1.26830693894692,
          -0.6493342786724048,
          -0.16319043196262376,
          -0.8780734025113669,
          -1.4106890856015997,
          -1.1809037028725,
          -0.5100649158973671,
          0.3895190308583476,
          -1.2204805956483635,
          0.1847573466074172,
          -1.383240694871071,
          -0.5472801903743459,
          0.9156878096550913,
          0.4285045498957374,
          0.5691321261310297,
          -0.5463110957781203
         ]
        }
       ],
       "layout": {
        "barmode": "overlay",
        "legend": {
         "bgcolor": "#F5F6F9",
         "font": {
          "color": "#4D5663"
         }
        },
        "paper_bgcolor": "#F5F6F9",
        "plot_bgcolor": "#F5F6F9",
        "template": {
         "data": {
          "bar": [
           {
            "error_x": {
             "color": "#2a3f5f"
            },
            "error_y": {
             "color": "#2a3f5f"
            },
            "marker": {
             "line": {
              "color": "#E5ECF6",
              "width": 0.5
             },
             "pattern": {
              "fillmode": "overlay",
              "size": 10,
              "solidity": 0.2
             }
            },
            "type": "bar"
           }
          ],
          "barpolar": [
           {
            "marker": {
             "line": {
              "color": "#E5ECF6",
              "width": 0.5
             },
             "pattern": {
              "fillmode": "overlay",
              "size": 10,
              "solidity": 0.2
             }
            },
            "type": "barpolar"
           }
          ],
          "carpet": [
           {
            "aaxis": {
             "endlinecolor": "#2a3f5f",
             "gridcolor": "white",
             "linecolor": "white",
             "minorgridcolor": "white",
             "startlinecolor": "#2a3f5f"
            },
            "baxis": {
             "endlinecolor": "#2a3f5f",
             "gridcolor": "white",
             "linecolor": "white",
             "minorgridcolor": "white",
             "startlinecolor": "#2a3f5f"
            },
            "type": "carpet"
           }
          ],
          "choropleth": [
           {
            "colorbar": {
             "outlinewidth": 0,
             "ticks": ""
            },
            "type": "choropleth"
           }
          ],
          "contour": [
           {
            "colorbar": {
             "outlinewidth": 0,
             "ticks": ""
            },
            "colorscale": [
             [
              0,
              "#0d0887"
             ],
             [
              0.1111111111111111,
              "#46039f"
             ],
             [
              0.2222222222222222,
              "#7201a8"
             ],
             [
              0.3333333333333333,
              "#9c179e"
             ],
             [
              0.4444444444444444,
              "#bd3786"
             ],
             [
              0.5555555555555556,
              "#d8576b"
             ],
             [
              0.6666666666666666,
              "#ed7953"
             ],
             [
              0.7777777777777778,
              "#fb9f3a"
             ],
             [
              0.8888888888888888,
              "#fdca26"
             ],
             [
              1,
              "#f0f921"
             ]
            ],
            "type": "contour"
           }
          ],
          "contourcarpet": [
           {
            "colorbar": {
             "outlinewidth": 0,
             "ticks": ""
            },
            "type": "contourcarpet"
           }
          ],
          "heatmap": [
           {
            "colorbar": {
             "outlinewidth": 0,
             "ticks": ""
            },
            "colorscale": [
             [
              0,
              "#0d0887"
             ],
             [
              0.1111111111111111,
              "#46039f"
             ],
             [
              0.2222222222222222,
              "#7201a8"
             ],
             [
              0.3333333333333333,
              "#9c179e"
             ],
             [
              0.4444444444444444,
              "#bd3786"
             ],
             [
              0.5555555555555556,
              "#d8576b"
             ],
             [
              0.6666666666666666,
              "#ed7953"
             ],
             [
              0.7777777777777778,
              "#fb9f3a"
             ],
             [
              0.8888888888888888,
              "#fdca26"
             ],
             [
              1,
              "#f0f921"
             ]
            ],
            "type": "heatmap"
           }
          ],
          "heatmapgl": [
           {
            "colorbar": {
             "outlinewidth": 0,
             "ticks": ""
            },
            "colorscale": [
             [
              0,
              "#0d0887"
             ],
             [
              0.1111111111111111,
              "#46039f"
             ],
             [
              0.2222222222222222,
              "#7201a8"
             ],
             [
              0.3333333333333333,
              "#9c179e"
             ],
             [
              0.4444444444444444,
              "#bd3786"
             ],
             [
              0.5555555555555556,
              "#d8576b"
             ],
             [
              0.6666666666666666,
              "#ed7953"
             ],
             [
              0.7777777777777778,
              "#fb9f3a"
             ],
             [
              0.8888888888888888,
              "#fdca26"
             ],
             [
              1,
              "#f0f921"
             ]
            ],
            "type": "heatmapgl"
           }
          ],
          "histogram": [
           {
            "marker": {
             "pattern": {
              "fillmode": "overlay",
              "size": 10,
              "solidity": 0.2
             }
            },
            "type": "histogram"
           }
          ],
          "histogram2d": [
           {
            "colorbar": {
             "outlinewidth": 0,
             "ticks": ""
            },
            "colorscale": [
             [
              0,
              "#0d0887"
             ],
             [
              0.1111111111111111,
              "#46039f"
             ],
             [
              0.2222222222222222,
              "#7201a8"
             ],
             [
              0.3333333333333333,
              "#9c179e"
             ],
             [
              0.4444444444444444,
              "#bd3786"
             ],
             [
              0.5555555555555556,
              "#d8576b"
             ],
             [
              0.6666666666666666,
              "#ed7953"
             ],
             [
              0.7777777777777778,
              "#fb9f3a"
             ],
             [
              0.8888888888888888,
              "#fdca26"
             ],
             [
              1,
              "#f0f921"
             ]
            ],
            "type": "histogram2d"
           }
          ],
          "histogram2dcontour": [
           {
            "colorbar": {
             "outlinewidth": 0,
             "ticks": ""
            },
            "colorscale": [
             [
              0,
              "#0d0887"
             ],
             [
              0.1111111111111111,
              "#46039f"
             ],
             [
              0.2222222222222222,
              "#7201a8"
             ],
             [
              0.3333333333333333,
              "#9c179e"
             ],
             [
              0.4444444444444444,
              "#bd3786"
             ],
             [
              0.5555555555555556,
              "#d8576b"
             ],
             [
              0.6666666666666666,
              "#ed7953"
             ],
             [
              0.7777777777777778,
              "#fb9f3a"
             ],
             [
              0.8888888888888888,
              "#fdca26"
             ],
             [
              1,
              "#f0f921"
             ]
            ],
            "type": "histogram2dcontour"
           }
          ],
          "mesh3d": [
           {
            "colorbar": {
             "outlinewidth": 0,
             "ticks": ""
            },
            "type": "mesh3d"
           }
          ],
          "parcoords": [
           {
            "line": {
             "colorbar": {
              "outlinewidth": 0,
              "ticks": ""
             }
            },
            "type": "parcoords"
           }
          ],
          "pie": [
           {
            "automargin": true,
            "type": "pie"
           }
          ],
          "scatter": [
           {
            "marker": {
             "colorbar": {
              "outlinewidth": 0,
              "ticks": ""
             }
            },
            "type": "scatter"
           }
          ],
          "scatter3d": [
           {
            "line": {
             "colorbar": {
              "outlinewidth": 0,
              "ticks": ""
             }
            },
            "marker": {
             "colorbar": {
              "outlinewidth": 0,
              "ticks": ""
             }
            },
            "type": "scatter3d"
           }
          ],
          "scattercarpet": [
           {
            "marker": {
             "colorbar": {
              "outlinewidth": 0,
              "ticks": ""
             }
            },
            "type": "scattercarpet"
           }
          ],
          "scattergeo": [
           {
            "marker": {
             "colorbar": {
              "outlinewidth": 0,
              "ticks": ""
             }
            },
            "type": "scattergeo"
           }
          ],
          "scattergl": [
           {
            "marker": {
             "colorbar": {
              "outlinewidth": 0,
              "ticks": ""
             }
            },
            "type": "scattergl"
           }
          ],
          "scattermapbox": [
           {
            "marker": {
             "colorbar": {
              "outlinewidth": 0,
              "ticks": ""
             }
            },
            "type": "scattermapbox"
           }
          ],
          "scatterpolar": [
           {
            "marker": {
             "colorbar": {
              "outlinewidth": 0,
              "ticks": ""
             }
            },
            "type": "scatterpolar"
           }
          ],
          "scatterpolargl": [
           {
            "marker": {
             "colorbar": {
              "outlinewidth": 0,
              "ticks": ""
             }
            },
            "type": "scatterpolargl"
           }
          ],
          "scatterternary": [
           {
            "marker": {
             "colorbar": {
              "outlinewidth": 0,
              "ticks": ""
             }
            },
            "type": "scatterternary"
           }
          ],
          "surface": [
           {
            "colorbar": {
             "outlinewidth": 0,
             "ticks": ""
            },
            "colorscale": [
             [
              0,
              "#0d0887"
             ],
             [
              0.1111111111111111,
              "#46039f"
             ],
             [
              0.2222222222222222,
              "#7201a8"
             ],
             [
              0.3333333333333333,
              "#9c179e"
             ],
             [
              0.4444444444444444,
              "#bd3786"
             ],
             [
              0.5555555555555556,
              "#d8576b"
             ],
             [
              0.6666666666666666,
              "#ed7953"
             ],
             [
              0.7777777777777778,
              "#fb9f3a"
             ],
             [
              0.8888888888888888,
              "#fdca26"
             ],
             [
              1,
              "#f0f921"
             ]
            ],
            "type": "surface"
           }
          ],
          "table": [
           {
            "cells": {
             "fill": {
              "color": "#EBF0F8"
             },
             "line": {
              "color": "white"
             }
            },
            "header": {
             "fill": {
              "color": "#C8D4E3"
             },
             "line": {
              "color": "white"
             }
            },
            "type": "table"
           }
          ]
         },
         "layout": {
          "annotationdefaults": {
           "arrowcolor": "#2a3f5f",
           "arrowhead": 0,
           "arrowwidth": 1
          },
          "autotypenumbers": "strict",
          "coloraxis": {
           "colorbar": {
            "outlinewidth": 0,
            "ticks": ""
           }
          },
          "colorscale": {
           "diverging": [
            [
             0,
             "#8e0152"
            ],
            [
             0.1,
             "#c51b7d"
            ],
            [
             0.2,
             "#de77ae"
            ],
            [
             0.3,
             "#f1b6da"
            ],
            [
             0.4,
             "#fde0ef"
            ],
            [
             0.5,
             "#f7f7f7"
            ],
            [
             0.6,
             "#e6f5d0"
            ],
            [
             0.7,
             "#b8e186"
            ],
            [
             0.8,
             "#7fbc41"
            ],
            [
             0.9,
             "#4d9221"
            ],
            [
             1,
             "#276419"
            ]
           ],
           "sequential": [
            [
             0,
             "#0d0887"
            ],
            [
             0.1111111111111111,
             "#46039f"
            ],
            [
             0.2222222222222222,
             "#7201a8"
            ],
            [
             0.3333333333333333,
             "#9c179e"
            ],
            [
             0.4444444444444444,
             "#bd3786"
            ],
            [
             0.5555555555555556,
             "#d8576b"
            ],
            [
             0.6666666666666666,
             "#ed7953"
            ],
            [
             0.7777777777777778,
             "#fb9f3a"
            ],
            [
             0.8888888888888888,
             "#fdca26"
            ],
            [
             1,
             "#f0f921"
            ]
           ],
           "sequentialminus": [
            [
             0,
             "#0d0887"
            ],
            [
             0.1111111111111111,
             "#46039f"
            ],
            [
             0.2222222222222222,
             "#7201a8"
            ],
            [
             0.3333333333333333,
             "#9c179e"
            ],
            [
             0.4444444444444444,
             "#bd3786"
            ],
            [
             0.5555555555555556,
             "#d8576b"
            ],
            [
             0.6666666666666666,
             "#ed7953"
            ],
            [
             0.7777777777777778,
             "#fb9f3a"
            ],
            [
             0.8888888888888888,
             "#fdca26"
            ],
            [
             1,
             "#f0f921"
            ]
           ]
          },
          "colorway": [
           "#636efa",
           "#EF553B",
           "#00cc96",
           "#ab63fa",
           "#FFA15A",
           "#19d3f3",
           "#FF6692",
           "#B6E880",
           "#FF97FF",
           "#FECB52"
          ],
          "font": {
           "color": "#2a3f5f"
          },
          "geo": {
           "bgcolor": "white",
           "lakecolor": "white",
           "landcolor": "#E5ECF6",
           "showlakes": true,
           "showland": true,
           "subunitcolor": "white"
          },
          "hoverlabel": {
           "align": "left"
          },
          "hovermode": "closest",
          "mapbox": {
           "style": "light"
          },
          "paper_bgcolor": "white",
          "plot_bgcolor": "#E5ECF6",
          "polar": {
           "angularaxis": {
            "gridcolor": "white",
            "linecolor": "white",
            "ticks": ""
           },
           "bgcolor": "#E5ECF6",
           "radialaxis": {
            "gridcolor": "white",
            "linecolor": "white",
            "ticks": ""
           }
          },
          "scene": {
           "xaxis": {
            "backgroundcolor": "#E5ECF6",
            "gridcolor": "white",
            "gridwidth": 2,
            "linecolor": "white",
            "showbackground": true,
            "ticks": "",
            "zerolinecolor": "white"
           },
           "yaxis": {
            "backgroundcolor": "#E5ECF6",
            "gridcolor": "white",
            "gridwidth": 2,
            "linecolor": "white",
            "showbackground": true,
            "ticks": "",
            "zerolinecolor": "white"
           },
           "zaxis": {
            "backgroundcolor": "#E5ECF6",
            "gridcolor": "white",
            "gridwidth": 2,
            "linecolor": "white",
            "showbackground": true,
            "ticks": "",
            "zerolinecolor": "white"
           }
          },
          "shapedefaults": {
           "line": {
            "color": "#2a3f5f"
           }
          },
          "ternary": {
           "aaxis": {
            "gridcolor": "white",
            "linecolor": "white",
            "ticks": ""
           },
           "baxis": {
            "gridcolor": "white",
            "linecolor": "white",
            "ticks": ""
           },
           "bgcolor": "#E5ECF6",
           "caxis": {
            "gridcolor": "white",
            "linecolor": "white",
            "ticks": ""
           }
          },
          "title": {
           "x": 0.05
          },
          "xaxis": {
           "automargin": true,
           "gridcolor": "white",
           "linecolor": "white",
           "ticks": "",
           "title": {
            "standoff": 15
           },
           "zerolinecolor": "white",
           "zerolinewidth": 2
          },
          "yaxis": {
           "automargin": true,
           "gridcolor": "white",
           "linecolor": "white",
           "ticks": "",
           "title": {
            "standoff": 15
           },
           "zerolinecolor": "white",
           "zerolinewidth": 2
          }
         }
        },
        "title": {
         "font": {
          "color": "#4D5663"
         }
        },
        "xaxis": {
         "gridcolor": "#E1E5ED",
         "showgrid": true,
         "tickfont": {
          "color": "#4D5663"
         },
         "title": {
          "font": {
           "color": "#4D5663"
          },
          "text": ""
         },
         "zerolinecolor": "#E1E5ED"
        },
        "yaxis": {
         "gridcolor": "#E1E5ED",
         "showgrid": true,
         "tickfont": {
          "color": "#4D5663"
         },
         "title": {
          "font": {
           "color": "#4D5663"
          },
          "text": ""
         },
         "zerolinecolor": "#E1E5ED"
        }
       }
      },
      "text/html": [
       "<div>                            <div id=\"3fe909df-9449-4d9f-a408-9237af3157b4\" class=\"plotly-graph-div\" style=\"height:525px; width:100%;\"></div>            <script type=\"text/javascript\">                require([\"plotly\"], function(Plotly) {                    window.PLOTLYENV=window.PLOTLYENV || {};\n",
       "                    window.PLOTLYENV.BASE_URL='https://plot.ly';                                    if (document.getElementById(\"3fe909df-9449-4d9f-a408-9237af3157b4\")) {                    Plotly.newPlot(                        \"3fe909df-9449-4d9f-a408-9237af3157b4\",                        [{\"histfunc\":\"count\",\"histnorm\":\"\",\"marker\":{\"color\":\"rgba(255, 153, 51, 1.0)\",\"line\":{\"color\":\"#4D5663\",\"width\":1.3}},\"name\":\"A\",\"opacity\":0.8,\"orientation\":\"v\",\"type\":\"histogram\",\"x\":[0.05605791357056261,0.460019687284693,0.6287518092337231,-0.40335735674017076,0.10729666753545831,-0.6295013494642708,-1.4951352553786494,1.0672754786555207,0.3598261803907446,-1.0166936426325441,-0.07666864253836506,0.0410685021645721,0.48573655430333923,-0.11416938422627511,-0.7386166413012212,0.7039588772816362,1.707845165649345,0.3042828542104509,1.1414108452743028,-0.1891422906682915,-1.0724824106218038,1.697912228612607,2.376315745461367,1.3285205463490388,0.5241455798665027,0.3296266350692246,0.893307944055857,0.29888277985522527,-0.40214756911155725,0.27769939748663547,1.7229469733657832,-1.0590791859078141,0.17677513633413716,-1.0751157989840059,-1.206163745609603,0.21085545930113656,0.28691557726486,0.5626865844183987,-0.024749798143169792,-1.227681486982836,2.3768811509212675,-1.5514568828774338,1.6112875275834087,-0.035511207000442,1.3597817860592807,0.6340139048174628,-0.9461246374711879,-0.5980463813946243,-0.11121371341266718,-0.7789947858694427,-0.7909367835488761,0.44597932143928465,-0.015829741692926957,0.5880978326151248,-1.1687690687778953,0.46738762470996625,-1.0232152012694558,0.019203856503362135,-0.2513480883458298,1.67760815029347,-0.3388913730150217,0.5054335631763178,-0.5582218465556053,0.09412762463803932,-0.269836966510378,-0.4229131069545643,-0.05562146161653577,0.36806445455580034,-0.1491590393377931,-1.6102639259917182,0.3538094719163923,1.2443563819434125,-0.5311791146417401,0.03025030818705174,2.6374187556509767,-0.06300359369525535,-0.2163986548430199,-1.4063465608219916,-0.6335377419553875,0.5468778943274468,0.22887859434644822,-0.0024186408660699346,1.051698629355191,-0.9869517109480603,-0.31987496824644224,-0.540174686913111,0.3340381390336442,0.7322443952033713,-0.9129854111412516,-0.18584647450385625,-0.9478104793799853,0.7151795709345523,-0.8542424412247567,-1.5265198883275757,0.5488311569159915,0.21865254089016833,-0.4204248699245095,-1.0376879604394742,0.24386425713090254,0.2897506749290084]},{\"histfunc\":\"count\",\"histnorm\":\"\",\"marker\":{\"color\":\"rgba(55, 128, 191, 1.0)\",\"line\":{\"color\":\"#4D5663\",\"width\":1.3}},\"name\":\"B\",\"opacity\":0.8,\"orientation\":\"v\",\"type\":\"histogram\",\"x\":[0.4908311343814552,0.2184294036515998,0.8773199756877776,-0.5306270595751419,-0.45857510326432177,-2.210141175194517,-1.1718073236010733,0.7655275912167271,0.6356541834810701,-1.6332828663175116,1.0487351561018425,1.43729039987702,-0.7409401093263623,-0.5906002518728066,-3.5822454622628177,1.775083894237991,3.153359736399895,-0.206360434964078,0.4832668240227068,1.4924634234884744,1.1303056661058593,0.3809413259195282,-0.08435249626929543,0.3702751991921212,1.3951327098969522,-1.7295969719787143,-0.44408775127808997,1.1487743309202474,-0.04902087713511538,-0.7120750076662782,0.40449471024488143,0.2918957958896897,0.5560023877190212,-0.16752371802339486,-1.716850478180125,0.649158426150467,1.1233767639252763,-0.814426114370307,0.9445349720500489,0.05147449020198193,0.8137655537705104,-1.2817599458106645,-0.14242664444260536,2.094452656634059,-0.6513378649946291,0.24095637290196942,0.6557918851124303,-0.3338149240064824,0.1969743738756663,-0.4912013596722006,1.4809601842856794,0.348984950814985,-0.4530667696706939,1.612914879507302,0.09814254220664902,0.1592404246273716,0.32301285061662766,-0.2110628783857944,-1.2090441466834407,0.2731259978707747,-0.6739588109652542,-1.0767813621272486,0.21458519274391671,-1.2171725576955057,0.9340611364054661,-0.3972945452157132,1.1575954255423209,-0.47619949851144905,2.519144683341893,1.2944533426663674,-0.9734229218001452,1.3682532247341346,-0.8496789312210303,-0.2649093729476989,0.6457170669435297,0.8271064006126501,-0.7749528988067509,1.001913076936737,0.8120002507488213,-0.8663830893781663,2.2109593730602133,-0.3781719075913857,0.015200436893985737,2.0796227484366914,0.03414309480971347,-0.7073025970093648,0.5447876540997124,0.15871659579090078,-0.060186952309339056,-2.040420778866945,-0.13855641571035474,-1.6961095263369388,-0.9299607848471094,0.42810125413179506,-0.20960566035875308,0.8091366866871842,-0.6383733130460841,0.03184295820309675,0.4099770897336773,0.29049798568337276]},{\"histfunc\":\"count\",\"histnorm\":\"\",\"marker\":{\"color\":\"rgba(50, 171, 96, 1.0)\",\"line\":{\"color\":\"#4D5663\",\"width\":1.3}},\"name\":\"C\",\"opacity\":0.8,\"orientation\":\"v\",\"type\":\"histogram\",\"x\":[1.24824987724467,0.9983689311913663,-1.0545690724204038,1.1110154458252424,-0.18806788243124886,1.6412332962784588,0.9976205692561707,-0.20563881102554485,0.5345206661859929,-0.8505885078959133,-1.1753042938369387,0.5549326737094422,1.0995805298123364,-1.0560733314055109,1.3277532401832361,1.4523608886914232,-0.161314534715455,-0.33489534535513893,-0.7537305268618539,-1.3651019723336582,0.15357143130152426,2.352502339439212,0.8208166600250829,-1.5795811113520248,0.9950742161653353,0.14579194579704557,0.8169337766943169,-1.1420317664011554,-0.6917161512521847,0.5397028580408441,1.2888922014575794,0.9645618249698433,2.508282884935816,-1.2406403110575333,0.6727589312788329,1.9535578727520735,2.0655850841980685,0.5939239517448182,1.5609919616111845,-0.7252496988828738,2.136310258701791,0.4446478384214512,0.7814050040605677,1.9400127197756265,-0.0625414646621362,-0.49897583504721527,0.34188695790826173,-0.8253166450180647,0.7075042946640339,-1.0497064659937023,0.6115380282026508,-0.042634838988535886,-1.613726680017053,-0.5108762951988812,-1.109847843378826,-0.7640949124503643,-1.1407668845157493,0.27212241625304584,1.0395184083143811,-1.5022539999450975,-0.9908832213910737,0.5194210032608014,-0.49037645678522157,1.2474633860946922,-1.2160380494102008,1.3460491818655465,-0.230631034046932,1.4089074816386598,-0.1579573048321106,-0.5160439485600161,-0.3648808343273896,-0.5257838884533907,0.06842469839609554,0.08568730169514732,-1.1371332137463852,-1.4971689928424767,-0.8515939238232175,-1.30988193953392,1.3795659468683439,-0.5130671601260106,0.9621516370294597,-0.9187135909664644,0.8604235269339526,0.37135557036266653,0.8614769610539936,-0.18904446358552046,-2.22437399622934,0.33106342755376417,2.549737610004259,-0.4618425641054059,-1.2889213156018071,0.07516728539907698,-0.048269396726482776,1.088268004436375,1.3079386308997538,-1.143496816856456,0.27367419166654844,-0.06915058726928211,0.4000533457112604,-0.021474464692848805]},{\"histfunc\":\"count\",\"histnorm\":\"\",\"marker\":{\"color\":\"rgba(128, 0, 128, 1.0)\",\"line\":{\"color\":\"#4D5663\",\"width\":1.3}},\"name\":\"D\",\"opacity\":0.8,\"orientation\":\"v\",\"type\":\"histogram\",\"x\":[1.0342738233186355,0.5156610196675836,-0.5725259067866464,-0.10970870252082576,-1.4327145722273824,-0.9826239102851156,0.5006651139298808,-1.1502675055475746,0.6639679297637253,-0.07752158325123237,2.0158414978467887,-0.9955282451419247,-1.7210864207825824,0.23479523078152342,-0.2161324289065316,0.25208726701439466,0.01577336591237228,0.34882139513354027,-0.7238237634736284,-0.3501528880220865,1.0479828325432092,0.9155011350265077,0.20143348513930073,-1.5723117782905938,0.8329643643432065,-0.020518177832366917,0.4434169197970847,-0.13151662643872672,0.19345297335747452,-1.0478613936117316,-1.2799209471787956,0.9050515082873299,-0.9489689486425905,-1.091978704639964,0.6384162534669922,-0.8818576944601535,0.2093325649640961,0.8242202667089975,-2.8517008211626615,0.30367457140949283,0.9725263493422491,1.224233425644717,0.8635991278823429,0.46944638498128954,0.8197091528699354,1.0113032914201345,0.13748361177121818,1.6692510622178953,0.432584711062849,-0.29826117549858916,-0.4593725731326591,-0.17404850710223124,-0.9369130775604738,0.2507113827278272,0.1530612974438675,1.5401766900531628,0.8993395464011825,-0.32920039648177646,0.5914808895285231,-0.7853589024365782,0.7325306864025032,-1.3905132515174619,0.9167629257257449,1.0412497492462496,3.0885137231233815,-0.6518212596559126,0.363107114757367,1.7062057862485325,0.050858029670477874,1.1709220746651454,0.6051558226870052,0.4992326633715957,0.20317822388308163,0.23867508128071055,-1.099568926340057,-2.1461816017798543,1.3572434043105053,-1.5904421177027062,-0.0642040160364851,0.7931736049541596,-1.2157041083468376,-1.6847396490905608,-1.8683363355635891,-0.6734526705125173,-1.26830693894692,-0.6493342786724048,-0.16319043196262376,-0.8780734025113669,-1.4106890856015997,-1.1809037028725,-0.5100649158973671,0.3895190308583476,-1.2204805956483635,0.1847573466074172,-1.383240694871071,-0.5472801903743459,0.9156878096550913,0.4285045498957374,0.5691321261310297,-0.5463110957781203]}],                        {\"barmode\":\"overlay\",\"legend\":{\"bgcolor\":\"#F5F6F9\",\"font\":{\"color\":\"#4D5663\"}},\"paper_bgcolor\":\"#F5F6F9\",\"plot_bgcolor\":\"#F5F6F9\",\"template\":{\"data\":{\"bar\":[{\"error_x\":{\"color\":\"#2a3f5f\"},\"error_y\":{\"color\":\"#2a3f5f\"},\"marker\":{\"line\":{\"color\":\"#E5ECF6\",\"width\":0.5},\"pattern\":{\"fillmode\":\"overlay\",\"size\":10,\"solidity\":0.2}},\"type\":\"bar\"}],\"barpolar\":[{\"marker\":{\"line\":{\"color\":\"#E5ECF6\",\"width\":0.5},\"pattern\":{\"fillmode\":\"overlay\",\"size\":10,\"solidity\":0.2}},\"type\":\"barpolar\"}],\"carpet\":[{\"aaxis\":{\"endlinecolor\":\"#2a3f5f\",\"gridcolor\":\"white\",\"linecolor\":\"white\",\"minorgridcolor\":\"white\",\"startlinecolor\":\"#2a3f5f\"},\"baxis\":{\"endlinecolor\":\"#2a3f5f\",\"gridcolor\":\"white\",\"linecolor\":\"white\",\"minorgridcolor\":\"white\",\"startlinecolor\":\"#2a3f5f\"},\"type\":\"carpet\"}],\"choropleth\":[{\"colorbar\":{\"outlinewidth\":0,\"ticks\":\"\"},\"type\":\"choropleth\"}],\"contour\":[{\"colorbar\":{\"outlinewidth\":0,\"ticks\":\"\"},\"colorscale\":[[0.0,\"#0d0887\"],[0.1111111111111111,\"#46039f\"],[0.2222222222222222,\"#7201a8\"],[0.3333333333333333,\"#9c179e\"],[0.4444444444444444,\"#bd3786\"],[0.5555555555555556,\"#d8576b\"],[0.6666666666666666,\"#ed7953\"],[0.7777777777777778,\"#fb9f3a\"],[0.8888888888888888,\"#fdca26\"],[1.0,\"#f0f921\"]],\"type\":\"contour\"}],\"contourcarpet\":[{\"colorbar\":{\"outlinewidth\":0,\"ticks\":\"\"},\"type\":\"contourcarpet\"}],\"heatmap\":[{\"colorbar\":{\"outlinewidth\":0,\"ticks\":\"\"},\"colorscale\":[[0.0,\"#0d0887\"],[0.1111111111111111,\"#46039f\"],[0.2222222222222222,\"#7201a8\"],[0.3333333333333333,\"#9c179e\"],[0.4444444444444444,\"#bd3786\"],[0.5555555555555556,\"#d8576b\"],[0.6666666666666666,\"#ed7953\"],[0.7777777777777778,\"#fb9f3a\"],[0.8888888888888888,\"#fdca26\"],[1.0,\"#f0f921\"]],\"type\":\"heatmap\"}],\"heatmapgl\":[{\"colorbar\":{\"outlinewidth\":0,\"ticks\":\"\"},\"colorscale\":[[0.0,\"#0d0887\"],[0.1111111111111111,\"#46039f\"],[0.2222222222222222,\"#7201a8\"],[0.3333333333333333,\"#9c179e\"],[0.4444444444444444,\"#bd3786\"],[0.5555555555555556,\"#d8576b\"],[0.6666666666666666,\"#ed7953\"],[0.7777777777777778,\"#fb9f3a\"],[0.8888888888888888,\"#fdca26\"],[1.0,\"#f0f921\"]],\"type\":\"heatmapgl\"}],\"histogram\":[{\"marker\":{\"pattern\":{\"fillmode\":\"overlay\",\"size\":10,\"solidity\":0.2}},\"type\":\"histogram\"}],\"histogram2d\":[{\"colorbar\":{\"outlinewidth\":0,\"ticks\":\"\"},\"colorscale\":[[0.0,\"#0d0887\"],[0.1111111111111111,\"#46039f\"],[0.2222222222222222,\"#7201a8\"],[0.3333333333333333,\"#9c179e\"],[0.4444444444444444,\"#bd3786\"],[0.5555555555555556,\"#d8576b\"],[0.6666666666666666,\"#ed7953\"],[0.7777777777777778,\"#fb9f3a\"],[0.8888888888888888,\"#fdca26\"],[1.0,\"#f0f921\"]],\"type\":\"histogram2d\"}],\"histogram2dcontour\":[{\"colorbar\":{\"outlinewidth\":0,\"ticks\":\"\"},\"colorscale\":[[0.0,\"#0d0887\"],[0.1111111111111111,\"#46039f\"],[0.2222222222222222,\"#7201a8\"],[0.3333333333333333,\"#9c179e\"],[0.4444444444444444,\"#bd3786\"],[0.5555555555555556,\"#d8576b\"],[0.6666666666666666,\"#ed7953\"],[0.7777777777777778,\"#fb9f3a\"],[0.8888888888888888,\"#fdca26\"],[1.0,\"#f0f921\"]],\"type\":\"histogram2dcontour\"}],\"mesh3d\":[{\"colorbar\":{\"outlinewidth\":0,\"ticks\":\"\"},\"type\":\"mesh3d\"}],\"parcoords\":[{\"line\":{\"colorbar\":{\"outlinewidth\":0,\"ticks\":\"\"}},\"type\":\"parcoords\"}],\"pie\":[{\"automargin\":true,\"type\":\"pie\"}],\"scatter\":[{\"marker\":{\"colorbar\":{\"outlinewidth\":0,\"ticks\":\"\"}},\"type\":\"scatter\"}],\"scatter3d\":[{\"line\":{\"colorbar\":{\"outlinewidth\":0,\"ticks\":\"\"}},\"marker\":{\"colorbar\":{\"outlinewidth\":0,\"ticks\":\"\"}},\"type\":\"scatter3d\"}],\"scattercarpet\":[{\"marker\":{\"colorbar\":{\"outlinewidth\":0,\"ticks\":\"\"}},\"type\":\"scattercarpet\"}],\"scattergeo\":[{\"marker\":{\"colorbar\":{\"outlinewidth\":0,\"ticks\":\"\"}},\"type\":\"scattergeo\"}],\"scattergl\":[{\"marker\":{\"colorbar\":{\"outlinewidth\":0,\"ticks\":\"\"}},\"type\":\"scattergl\"}],\"scattermapbox\":[{\"marker\":{\"colorbar\":{\"outlinewidth\":0,\"ticks\":\"\"}},\"type\":\"scattermapbox\"}],\"scatterpolar\":[{\"marker\":{\"colorbar\":{\"outlinewidth\":0,\"ticks\":\"\"}},\"type\":\"scatterpolar\"}],\"scatterpolargl\":[{\"marker\":{\"colorbar\":{\"outlinewidth\":0,\"ticks\":\"\"}},\"type\":\"scatterpolargl\"}],\"scatterternary\":[{\"marker\":{\"colorbar\":{\"outlinewidth\":0,\"ticks\":\"\"}},\"type\":\"scatterternary\"}],\"surface\":[{\"colorbar\":{\"outlinewidth\":0,\"ticks\":\"\"},\"colorscale\":[[0.0,\"#0d0887\"],[0.1111111111111111,\"#46039f\"],[0.2222222222222222,\"#7201a8\"],[0.3333333333333333,\"#9c179e\"],[0.4444444444444444,\"#bd3786\"],[0.5555555555555556,\"#d8576b\"],[0.6666666666666666,\"#ed7953\"],[0.7777777777777778,\"#fb9f3a\"],[0.8888888888888888,\"#fdca26\"],[1.0,\"#f0f921\"]],\"type\":\"surface\"}],\"table\":[{\"cells\":{\"fill\":{\"color\":\"#EBF0F8\"},\"line\":{\"color\":\"white\"}},\"header\":{\"fill\":{\"color\":\"#C8D4E3\"},\"line\":{\"color\":\"white\"}},\"type\":\"table\"}]},\"layout\":{\"annotationdefaults\":{\"arrowcolor\":\"#2a3f5f\",\"arrowhead\":0,\"arrowwidth\":1},\"autotypenumbers\":\"strict\",\"coloraxis\":{\"colorbar\":{\"outlinewidth\":0,\"ticks\":\"\"}},\"colorscale\":{\"diverging\":[[0,\"#8e0152\"],[0.1,\"#c51b7d\"],[0.2,\"#de77ae\"],[0.3,\"#f1b6da\"],[0.4,\"#fde0ef\"],[0.5,\"#f7f7f7\"],[0.6,\"#e6f5d0\"],[0.7,\"#b8e186\"],[0.8,\"#7fbc41\"],[0.9,\"#4d9221\"],[1,\"#276419\"]],\"sequential\":[[0.0,\"#0d0887\"],[0.1111111111111111,\"#46039f\"],[0.2222222222222222,\"#7201a8\"],[0.3333333333333333,\"#9c179e\"],[0.4444444444444444,\"#bd3786\"],[0.5555555555555556,\"#d8576b\"],[0.6666666666666666,\"#ed7953\"],[0.7777777777777778,\"#fb9f3a\"],[0.8888888888888888,\"#fdca26\"],[1.0,\"#f0f921\"]],\"sequentialminus\":[[0.0,\"#0d0887\"],[0.1111111111111111,\"#46039f\"],[0.2222222222222222,\"#7201a8\"],[0.3333333333333333,\"#9c179e\"],[0.4444444444444444,\"#bd3786\"],[0.5555555555555556,\"#d8576b\"],[0.6666666666666666,\"#ed7953\"],[0.7777777777777778,\"#fb9f3a\"],[0.8888888888888888,\"#fdca26\"],[1.0,\"#f0f921\"]]},\"colorway\":[\"#636efa\",\"#EF553B\",\"#00cc96\",\"#ab63fa\",\"#FFA15A\",\"#19d3f3\",\"#FF6692\",\"#B6E880\",\"#FF97FF\",\"#FECB52\"],\"font\":{\"color\":\"#2a3f5f\"},\"geo\":{\"bgcolor\":\"white\",\"lakecolor\":\"white\",\"landcolor\":\"#E5ECF6\",\"showlakes\":true,\"showland\":true,\"subunitcolor\":\"white\"},\"hoverlabel\":{\"align\":\"left\"},\"hovermode\":\"closest\",\"mapbox\":{\"style\":\"light\"},\"paper_bgcolor\":\"white\",\"plot_bgcolor\":\"#E5ECF6\",\"polar\":{\"angularaxis\":{\"gridcolor\":\"white\",\"linecolor\":\"white\",\"ticks\":\"\"},\"bgcolor\":\"#E5ECF6\",\"radialaxis\":{\"gridcolor\":\"white\",\"linecolor\":\"white\",\"ticks\":\"\"}},\"scene\":{\"xaxis\":{\"backgroundcolor\":\"#E5ECF6\",\"gridcolor\":\"white\",\"gridwidth\":2,\"linecolor\":\"white\",\"showbackground\":true,\"ticks\":\"\",\"zerolinecolor\":\"white\"},\"yaxis\":{\"backgroundcolor\":\"#E5ECF6\",\"gridcolor\":\"white\",\"gridwidth\":2,\"linecolor\":\"white\",\"showbackground\":true,\"ticks\":\"\",\"zerolinecolor\":\"white\"},\"zaxis\":{\"backgroundcolor\":\"#E5ECF6\",\"gridcolor\":\"white\",\"gridwidth\":2,\"linecolor\":\"white\",\"showbackground\":true,\"ticks\":\"\",\"zerolinecolor\":\"white\"}},\"shapedefaults\":{\"line\":{\"color\":\"#2a3f5f\"}},\"ternary\":{\"aaxis\":{\"gridcolor\":\"white\",\"linecolor\":\"white\",\"ticks\":\"\"},\"baxis\":{\"gridcolor\":\"white\",\"linecolor\":\"white\",\"ticks\":\"\"},\"bgcolor\":\"#E5ECF6\",\"caxis\":{\"gridcolor\":\"white\",\"linecolor\":\"white\",\"ticks\":\"\"}},\"title\":{\"x\":0.05},\"xaxis\":{\"automargin\":true,\"gridcolor\":\"white\",\"linecolor\":\"white\",\"ticks\":\"\",\"title\":{\"standoff\":15},\"zerolinecolor\":\"white\",\"zerolinewidth\":2},\"yaxis\":{\"automargin\":true,\"gridcolor\":\"white\",\"linecolor\":\"white\",\"ticks\":\"\",\"title\":{\"standoff\":15},\"zerolinecolor\":\"white\",\"zerolinewidth\":2}}},\"title\":{\"font\":{\"color\":\"#4D5663\"}},\"xaxis\":{\"gridcolor\":\"#E1E5ED\",\"showgrid\":true,\"tickfont\":{\"color\":\"#4D5663\"},\"title\":{\"font\":{\"color\":\"#4D5663\"},\"text\":\"\"},\"zerolinecolor\":\"#E1E5ED\"},\"yaxis\":{\"gridcolor\":\"#E1E5ED\",\"showgrid\":true,\"tickfont\":{\"color\":\"#4D5663\"},\"title\":{\"font\":{\"color\":\"#4D5663\"},\"text\":\"\"},\"zerolinecolor\":\"#E1E5ED\"}},                        {\"showLink\": true, \"linkText\": \"Export to plot.ly\", \"plotlyServerURL\": \"https://plot.ly\", \"responsive\": true}                    ).then(function(){\n",
       "                            \n",
       "var gd = document.getElementById('3fe909df-9449-4d9f-a408-9237af3157b4');\n",
       "var x = new MutationObserver(function (mutations, observer) {{\n",
       "        var display = window.getComputedStyle(gd).display;\n",
       "        if (!display || display === 'none') {{\n",
       "            console.log([gd, 'removed!']);\n",
       "            Plotly.purge(gd);\n",
       "            observer.disconnect();\n",
       "        }}\n",
       "}});\n",
       "\n",
       "// Listen for the removal of the full notebook cells\n",
       "var notebookContainer = gd.closest('#notebook-container');\n",
       "if (notebookContainer) {{\n",
       "    x.observe(notebookContainer, {childList: true});\n",
       "}}\n",
       "\n",
       "// Listen for the clearing of the current output cell\n",
       "var outputEl = gd.closest('.output');\n",
       "if (outputEl) {{\n",
       "    x.observe(outputEl, {childList: true});\n",
       "}}\n",
       "\n",
       "                        })                };                });            </script>        </div>"
      ]
     },
     "metadata": {},
     "output_type": "display_data"
    }
   ],
   "source": [
    "#overlapping plot can be customized to keep specific data points\n",
    "df.iplot(kind='hist')"
   ]
  },
  {
   "cell_type": "code",
   "execution_count": 33,
   "metadata": {},
   "outputs": [
    {
     "name": "stderr",
     "output_type": "stream",
     "text": [
      "C:\\Users\\Raghu\\anaconda3\\lib\\site-packages\\cufflinks\\plotlytools.py:849: FutureWarning:\n",
      "\n",
      "The pandas.np module is deprecated and will be removed from pandas in a future version. Import numpy directly instead\n",
      "\n",
      "C:\\Users\\Raghu\\anaconda3\\lib\\site-packages\\cufflinks\\plotlytools.py:850: FutureWarning:\n",
      "\n",
      "The pandas.np module is deprecated and will be removed from pandas in a future version. Import numpy directly instead\n",
      "\n"
     ]
    },
    {
     "data": {
      "application/vnd.plotly.v1+json": {
       "config": {
        "linkText": "Export to plot.ly",
        "plotlyServerURL": "https://plot.ly",
        "showLink": true
       },
       "data": [
        {
         "line": {
          "color": "rgba(255, 153, 51, 1.0)",
          "dash": "solid",
          "shape": "linear",
          "width": 1.3
         },
         "mode": "lines",
         "name": "A",
         "text": "",
         "type": "scatter",
         "x": [
          0,
          1,
          2,
          3,
          4,
          5,
          6,
          7,
          8,
          9,
          10,
          11,
          12,
          13,
          14,
          15,
          16,
          17,
          18,
          19,
          20,
          21,
          22,
          23,
          24,
          25,
          26,
          27,
          28,
          29,
          30,
          31,
          32,
          33,
          34,
          35,
          36,
          37,
          38,
          39,
          40,
          41,
          42,
          43,
          44,
          45,
          46,
          47,
          48,
          49,
          50,
          51,
          52,
          53,
          54,
          55,
          56,
          57,
          58,
          59,
          60,
          61,
          62,
          63,
          64,
          65,
          66,
          67,
          68,
          69,
          70,
          71,
          72,
          73,
          74,
          75,
          76,
          77,
          78,
          79,
          80,
          81,
          82,
          83,
          84,
          85,
          86,
          87,
          88,
          89,
          90,
          91,
          92,
          93,
          94,
          95,
          96,
          97,
          98,
          99
         ],
         "y": [
          0.05605791357056261,
          0.460019687284693,
          0.6287518092337231,
          -0.40335735674017076,
          0.10729666753545831,
          -0.6295013494642708,
          -1.4951352553786494,
          1.0672754786555207,
          0.3598261803907446,
          -1.0166936426325441,
          -0.07666864253836506,
          0.0410685021645721,
          0.48573655430333923,
          -0.11416938422627511,
          -0.7386166413012212,
          0.7039588772816362,
          1.707845165649345,
          0.3042828542104509,
          1.1414108452743028,
          -0.1891422906682915,
          -1.0724824106218038,
          1.697912228612607,
          2.376315745461367,
          1.3285205463490388,
          0.5241455798665027,
          0.3296266350692246,
          0.893307944055857,
          0.29888277985522527,
          -0.40214756911155725,
          0.27769939748663547,
          1.7229469733657832,
          -1.0590791859078141,
          0.17677513633413716,
          -1.0751157989840059,
          -1.206163745609603,
          0.21085545930113656,
          0.28691557726486,
          0.5626865844183987,
          -0.024749798143169792,
          -1.227681486982836,
          2.3768811509212675,
          -1.5514568828774338,
          1.6112875275834087,
          -0.035511207000442,
          1.3597817860592807,
          0.6340139048174628,
          -0.9461246374711879,
          -0.5980463813946243,
          -0.11121371341266718,
          -0.7789947858694427,
          -0.7909367835488761,
          0.44597932143928465,
          -0.015829741692926957,
          0.5880978326151248,
          -1.1687690687778953,
          0.46738762470996625,
          -1.0232152012694558,
          0.019203856503362135,
          -0.2513480883458298,
          1.67760815029347,
          -0.3388913730150217,
          0.5054335631763178,
          -0.5582218465556053,
          0.09412762463803932,
          -0.269836966510378,
          -0.4229131069545643,
          -0.05562146161653577,
          0.36806445455580034,
          -0.1491590393377931,
          -1.6102639259917182,
          0.3538094719163923,
          1.2443563819434125,
          -0.5311791146417401,
          0.03025030818705174,
          2.6374187556509767,
          -0.06300359369525535,
          -0.2163986548430199,
          -1.4063465608219916,
          -0.6335377419553875,
          0.5468778943274468,
          0.22887859434644822,
          -0.0024186408660699346,
          1.051698629355191,
          -0.9869517109480603,
          -0.31987496824644224,
          -0.540174686913111,
          0.3340381390336442,
          0.7322443952033713,
          -0.9129854111412516,
          -0.18584647450385625,
          -0.9478104793799853,
          0.7151795709345523,
          -0.8542424412247567,
          -1.5265198883275757,
          0.5488311569159915,
          0.21865254089016833,
          -0.4204248699245095,
          -1.0376879604394742,
          0.24386425713090254,
          0.2897506749290084
         ]
        },
        {
         "line": {
          "color": "rgba(55, 128, 191, 1.0)",
          "dash": "solid",
          "shape": "linear",
          "width": 1.3
         },
         "mode": "lines",
         "name": "B",
         "text": "",
         "type": "scatter",
         "x": [
          0,
          1,
          2,
          3,
          4,
          5,
          6,
          7,
          8,
          9,
          10,
          11,
          12,
          13,
          14,
          15,
          16,
          17,
          18,
          19,
          20,
          21,
          22,
          23,
          24,
          25,
          26,
          27,
          28,
          29,
          30,
          31,
          32,
          33,
          34,
          35,
          36,
          37,
          38,
          39,
          40,
          41,
          42,
          43,
          44,
          45,
          46,
          47,
          48,
          49,
          50,
          51,
          52,
          53,
          54,
          55,
          56,
          57,
          58,
          59,
          60,
          61,
          62,
          63,
          64,
          65,
          66,
          67,
          68,
          69,
          70,
          71,
          72,
          73,
          74,
          75,
          76,
          77,
          78,
          79,
          80,
          81,
          82,
          83,
          84,
          85,
          86,
          87,
          88,
          89,
          90,
          91,
          92,
          93,
          94,
          95,
          96,
          97,
          98,
          99
         ],
         "y": [
          0.4908311343814552,
          0.2184294036515998,
          0.8773199756877776,
          -0.5306270595751419,
          -0.45857510326432177,
          -2.210141175194517,
          -1.1718073236010733,
          0.7655275912167271,
          0.6356541834810701,
          -1.6332828663175116,
          1.0487351561018425,
          1.43729039987702,
          -0.7409401093263623,
          -0.5906002518728066,
          -3.5822454622628177,
          1.775083894237991,
          3.153359736399895,
          -0.206360434964078,
          0.4832668240227068,
          1.4924634234884744,
          1.1303056661058593,
          0.3809413259195282,
          -0.08435249626929543,
          0.3702751991921212,
          1.3951327098969522,
          -1.7295969719787143,
          -0.44408775127808997,
          1.1487743309202474,
          -0.04902087713511538,
          -0.7120750076662782,
          0.40449471024488143,
          0.2918957958896897,
          0.5560023877190212,
          -0.16752371802339486,
          -1.716850478180125,
          0.649158426150467,
          1.1233767639252763,
          -0.814426114370307,
          0.9445349720500489,
          0.05147449020198193,
          0.8137655537705104,
          -1.2817599458106645,
          -0.14242664444260536,
          2.094452656634059,
          -0.6513378649946291,
          0.24095637290196942,
          0.6557918851124303,
          -0.3338149240064824,
          0.1969743738756663,
          -0.4912013596722006,
          1.4809601842856794,
          0.348984950814985,
          -0.4530667696706939,
          1.612914879507302,
          0.09814254220664902,
          0.1592404246273716,
          0.32301285061662766,
          -0.2110628783857944,
          -1.2090441466834407,
          0.2731259978707747,
          -0.6739588109652542,
          -1.0767813621272486,
          0.21458519274391671,
          -1.2171725576955057,
          0.9340611364054661,
          -0.3972945452157132,
          1.1575954255423209,
          -0.47619949851144905,
          2.519144683341893,
          1.2944533426663674,
          -0.9734229218001452,
          1.3682532247341346,
          -0.8496789312210303,
          -0.2649093729476989,
          0.6457170669435297,
          0.8271064006126501,
          -0.7749528988067509,
          1.001913076936737,
          0.8120002507488213,
          -0.8663830893781663,
          2.2109593730602133,
          -0.3781719075913857,
          0.015200436893985737,
          2.0796227484366914,
          0.03414309480971347,
          -0.7073025970093648,
          0.5447876540997124,
          0.15871659579090078,
          -0.060186952309339056,
          -2.040420778866945,
          -0.13855641571035474,
          -1.6961095263369388,
          -0.9299607848471094,
          0.42810125413179506,
          -0.20960566035875308,
          0.8091366866871842,
          -0.6383733130460841,
          0.03184295820309675,
          0.4099770897336773,
          0.29049798568337276
         ]
        },
        {
         "connectgaps": false,
         "fill": "tozeroy",
         "line": {
          "color": "green",
          "dash": "solid",
          "shape": "linear",
          "width": 0.5
         },
         "mode": "lines",
         "name": "Spread",
         "showlegend": false,
         "type": "scatter",
         "x": [
          0,
          1,
          2,
          3,
          4,
          5,
          6,
          7,
          8,
          9,
          10,
          11,
          12,
          13,
          14,
          15,
          16,
          17,
          18,
          19,
          20,
          21,
          22,
          23,
          24,
          25,
          26,
          27,
          28,
          29,
          30,
          31,
          32,
          33,
          34,
          35,
          36,
          37,
          38,
          39,
          40,
          41,
          42,
          43,
          44,
          45,
          46,
          47,
          48,
          49,
          50,
          51,
          52,
          53,
          54,
          55,
          56,
          57,
          58,
          59,
          60,
          61,
          62,
          63,
          64,
          65,
          66,
          67,
          68,
          69,
          70,
          71,
          72,
          73,
          74,
          75,
          76,
          77,
          78,
          79,
          80,
          81,
          82,
          83,
          84,
          85,
          86,
          87,
          88,
          89,
          90,
          91,
          92,
          93,
          94,
          95,
          96,
          97,
          98,
          99
         ],
         "xaxis": "x2",
         "y": [
          "",
          0.2415902836330932,
          "",
          0.12726970283497113,
          0.5658717707997801,
          1.580639825730246,
          "",
          0.30174788743879366,
          "",
          0.6165892236849675,
          "",
          "",
          1.2266766636297015,
          0.47643086764653153,
          2.8436288209615963,
          "",
          "",
          0.510643289174529,
          0.658144021251596,
          "",
          "",
          1.3169709026930787,
          2.4606682417306622,
          0.9582453471569177,
          "",
          2.059223607047939,
          1.337395695333947,
          "",
          "",
          0.9897744051529136,
          1.3184522631209017,
          "",
          "",
          "",
          0.510686732570522,
          "",
          "",
          1.3771126987887057,
          "",
          "",
          1.563115597150757,
          "",
          1.753714172026014,
          "",
          2.0111196510539098,
          0.39305753191549336,
          "",
          "",
          "",
          "",
          "",
          0.09699437062429966,
          0.437237027977767,
          "",
          "",
          0.30814720008259466,
          "",
          0.23026673488915655,
          0.957696058337611,
          1.4044821524226954,
          0.3350674379502325,
          1.5822149253035664,
          "",
          1.311300182333545,
          "",
          "",
          "",
          0.8442639530672493,
          "",
          "",
          1.3272323937165376,
          "",
          0.3184998165792903,
          0.29515968113475066,
          1.991701688707447,
          "",
          0.558554243963731,
          "",
          "",
          1.4132609837056131,
          "",
          0.3757532667253158,
          1.0364981924612053,
          "",
          "",
          0.16712791009625383,
          "",
          0.5735277994124705,
          "",
          1.8545743043630887,
          "",
          2.4112890972714913,
          0.07571834362235275,
          "",
          0.7584368172747445,
          "",
          0.21794844312157463,
          "",
          "",
          ""
         ],
         "yaxis": "y2"
        },
        {
         "connectgaps": false,
         "fill": "tozeroy",
         "line": {
          "color": "red",
          "dash": "solid",
          "shape": "linear",
          "width": 0.5
         },
         "mode": "lines",
         "name": "Spread",
         "showlegend": false,
         "type": "scatter",
         "x": [
          0,
          1,
          2,
          3,
          4,
          5,
          6,
          7,
          8,
          9,
          10,
          11,
          12,
          13,
          14,
          15,
          16,
          17,
          18,
          19,
          20,
          21,
          22,
          23,
          24,
          25,
          26,
          27,
          28,
          29,
          30,
          31,
          32,
          33,
          34,
          35,
          36,
          37,
          38,
          39,
          40,
          41,
          42,
          43,
          44,
          45,
          46,
          47,
          48,
          49,
          50,
          51,
          52,
          53,
          54,
          55,
          56,
          57,
          58,
          59,
          60,
          61,
          62,
          63,
          64,
          65,
          66,
          67,
          68,
          69,
          70,
          71,
          72,
          73,
          74,
          75,
          76,
          77,
          78,
          79,
          80,
          81,
          82,
          83,
          84,
          85,
          86,
          87,
          88,
          89,
          90,
          91,
          92,
          93,
          94,
          95,
          96,
          97,
          98,
          99
         ],
         "xaxis": "x2",
         "y": [
          -0.4347732208108926,
          "",
          -0.24856816645405455,
          "",
          "",
          "",
          -0.3233279317775761,
          "",
          -0.27582800309032546,
          "",
          -1.1254037986402077,
          -1.3962218977124479,
          "",
          "",
          "",
          -1.0711250169563549,
          -1.44551457075055,
          "",
          "",
          -1.681605714156766,
          -2.2027880767276633,
          "",
          "",
          "",
          -0.8709871300304495,
          "",
          "",
          -0.8498915510650221,
          -0.35312669197644186,
          "",
          "",
          -1.3509749817975039,
          -0.37922725138488406,
          -0.9075920809606111,
          "",
          -0.43830296684933046,
          -0.8364611866604164,
          "",
          -0.9692847701932187,
          -1.279155977184818,
          "",
          -0.2696969370667692,
          "",
          -2.1299638636345013,
          "",
          "",
          -1.6019165225836183,
          -0.2642314573881419,
          -0.30818808728833347,
          -0.28779342619724213,
          -2.2718969678345555,
          "",
          "",
          -1.0248170468921773,
          -1.2669116109845444,
          "",
          -1.3462280518860834,
          "",
          "",
          "",
          "",
          "",
          -0.772807039299522,
          "",
          -1.203898102915844,
          -0.025618561738851076,
          -1.2132168871588567,
          "",
          -2.668303722679686,
          -2.9047172686580858,
          "",
          -0.1238968427907221,
          "",
          "",
          "",
          -0.8901099943079054,
          "",
          -2.4082596377587286,
          -1.445537992704209,
          "",
          -1.982080778713765,
          "",
          "",
          -3.0665744593847517,
          -0.3540180630561557,
          "",
          -0.2107495150660682,
          "",
          -0.8527984588319126,
          "",
          -0.8092540636696306,
          "",
          "",
          -1.9546211424593707,
          "",
          -0.5904841457970158,
          "",
          -1.069530918642571,
          -0.16611283260277476,
          -0.0007473107543643498
         ],
         "yaxis": "y2"
        }
       ],
       "layout": {
        "hovermode": "x",
        "legend": {
         "bgcolor": "#F5F6F9",
         "font": {
          "color": "#4D5663"
         }
        },
        "paper_bgcolor": "#F5F6F9",
        "plot_bgcolor": "#F5F6F9",
        "template": {
         "data": {
          "bar": [
           {
            "error_x": {
             "color": "#2a3f5f"
            },
            "error_y": {
             "color": "#2a3f5f"
            },
            "marker": {
             "line": {
              "color": "#E5ECF6",
              "width": 0.5
             },
             "pattern": {
              "fillmode": "overlay",
              "size": 10,
              "solidity": 0.2
             }
            },
            "type": "bar"
           }
          ],
          "barpolar": [
           {
            "marker": {
             "line": {
              "color": "#E5ECF6",
              "width": 0.5
             },
             "pattern": {
              "fillmode": "overlay",
              "size": 10,
              "solidity": 0.2
             }
            },
            "type": "barpolar"
           }
          ],
          "carpet": [
           {
            "aaxis": {
             "endlinecolor": "#2a3f5f",
             "gridcolor": "white",
             "linecolor": "white",
             "minorgridcolor": "white",
             "startlinecolor": "#2a3f5f"
            },
            "baxis": {
             "endlinecolor": "#2a3f5f",
             "gridcolor": "white",
             "linecolor": "white",
             "minorgridcolor": "white",
             "startlinecolor": "#2a3f5f"
            },
            "type": "carpet"
           }
          ],
          "choropleth": [
           {
            "colorbar": {
             "outlinewidth": 0,
             "ticks": ""
            },
            "type": "choropleth"
           }
          ],
          "contour": [
           {
            "colorbar": {
             "outlinewidth": 0,
             "ticks": ""
            },
            "colorscale": [
             [
              0,
              "#0d0887"
             ],
             [
              0.1111111111111111,
              "#46039f"
             ],
             [
              0.2222222222222222,
              "#7201a8"
             ],
             [
              0.3333333333333333,
              "#9c179e"
             ],
             [
              0.4444444444444444,
              "#bd3786"
             ],
             [
              0.5555555555555556,
              "#d8576b"
             ],
             [
              0.6666666666666666,
              "#ed7953"
             ],
             [
              0.7777777777777778,
              "#fb9f3a"
             ],
             [
              0.8888888888888888,
              "#fdca26"
             ],
             [
              1,
              "#f0f921"
             ]
            ],
            "type": "contour"
           }
          ],
          "contourcarpet": [
           {
            "colorbar": {
             "outlinewidth": 0,
             "ticks": ""
            },
            "type": "contourcarpet"
           }
          ],
          "heatmap": [
           {
            "colorbar": {
             "outlinewidth": 0,
             "ticks": ""
            },
            "colorscale": [
             [
              0,
              "#0d0887"
             ],
             [
              0.1111111111111111,
              "#46039f"
             ],
             [
              0.2222222222222222,
              "#7201a8"
             ],
             [
              0.3333333333333333,
              "#9c179e"
             ],
             [
              0.4444444444444444,
              "#bd3786"
             ],
             [
              0.5555555555555556,
              "#d8576b"
             ],
             [
              0.6666666666666666,
              "#ed7953"
             ],
             [
              0.7777777777777778,
              "#fb9f3a"
             ],
             [
              0.8888888888888888,
              "#fdca26"
             ],
             [
              1,
              "#f0f921"
             ]
            ],
            "type": "heatmap"
           }
          ],
          "heatmapgl": [
           {
            "colorbar": {
             "outlinewidth": 0,
             "ticks": ""
            },
            "colorscale": [
             [
              0,
              "#0d0887"
             ],
             [
              0.1111111111111111,
              "#46039f"
             ],
             [
              0.2222222222222222,
              "#7201a8"
             ],
             [
              0.3333333333333333,
              "#9c179e"
             ],
             [
              0.4444444444444444,
              "#bd3786"
             ],
             [
              0.5555555555555556,
              "#d8576b"
             ],
             [
              0.6666666666666666,
              "#ed7953"
             ],
             [
              0.7777777777777778,
              "#fb9f3a"
             ],
             [
              0.8888888888888888,
              "#fdca26"
             ],
             [
              1,
              "#f0f921"
             ]
            ],
            "type": "heatmapgl"
           }
          ],
          "histogram": [
           {
            "marker": {
             "pattern": {
              "fillmode": "overlay",
              "size": 10,
              "solidity": 0.2
             }
            },
            "type": "histogram"
           }
          ],
          "histogram2d": [
           {
            "colorbar": {
             "outlinewidth": 0,
             "ticks": ""
            },
            "colorscale": [
             [
              0,
              "#0d0887"
             ],
             [
              0.1111111111111111,
              "#46039f"
             ],
             [
              0.2222222222222222,
              "#7201a8"
             ],
             [
              0.3333333333333333,
              "#9c179e"
             ],
             [
              0.4444444444444444,
              "#bd3786"
             ],
             [
              0.5555555555555556,
              "#d8576b"
             ],
             [
              0.6666666666666666,
              "#ed7953"
             ],
             [
              0.7777777777777778,
              "#fb9f3a"
             ],
             [
              0.8888888888888888,
              "#fdca26"
             ],
             [
              1,
              "#f0f921"
             ]
            ],
            "type": "histogram2d"
           }
          ],
          "histogram2dcontour": [
           {
            "colorbar": {
             "outlinewidth": 0,
             "ticks": ""
            },
            "colorscale": [
             [
              0,
              "#0d0887"
             ],
             [
              0.1111111111111111,
              "#46039f"
             ],
             [
              0.2222222222222222,
              "#7201a8"
             ],
             [
              0.3333333333333333,
              "#9c179e"
             ],
             [
              0.4444444444444444,
              "#bd3786"
             ],
             [
              0.5555555555555556,
              "#d8576b"
             ],
             [
              0.6666666666666666,
              "#ed7953"
             ],
             [
              0.7777777777777778,
              "#fb9f3a"
             ],
             [
              0.8888888888888888,
              "#fdca26"
             ],
             [
              1,
              "#f0f921"
             ]
            ],
            "type": "histogram2dcontour"
           }
          ],
          "mesh3d": [
           {
            "colorbar": {
             "outlinewidth": 0,
             "ticks": ""
            },
            "type": "mesh3d"
           }
          ],
          "parcoords": [
           {
            "line": {
             "colorbar": {
              "outlinewidth": 0,
              "ticks": ""
             }
            },
            "type": "parcoords"
           }
          ],
          "pie": [
           {
            "automargin": true,
            "type": "pie"
           }
          ],
          "scatter": [
           {
            "marker": {
             "colorbar": {
              "outlinewidth": 0,
              "ticks": ""
             }
            },
            "type": "scatter"
           }
          ],
          "scatter3d": [
           {
            "line": {
             "colorbar": {
              "outlinewidth": 0,
              "ticks": ""
             }
            },
            "marker": {
             "colorbar": {
              "outlinewidth": 0,
              "ticks": ""
             }
            },
            "type": "scatter3d"
           }
          ],
          "scattercarpet": [
           {
            "marker": {
             "colorbar": {
              "outlinewidth": 0,
              "ticks": ""
             }
            },
            "type": "scattercarpet"
           }
          ],
          "scattergeo": [
           {
            "marker": {
             "colorbar": {
              "outlinewidth": 0,
              "ticks": ""
             }
            },
            "type": "scattergeo"
           }
          ],
          "scattergl": [
           {
            "marker": {
             "colorbar": {
              "outlinewidth": 0,
              "ticks": ""
             }
            },
            "type": "scattergl"
           }
          ],
          "scattermapbox": [
           {
            "marker": {
             "colorbar": {
              "outlinewidth": 0,
              "ticks": ""
             }
            },
            "type": "scattermapbox"
           }
          ],
          "scatterpolar": [
           {
            "marker": {
             "colorbar": {
              "outlinewidth": 0,
              "ticks": ""
             }
            },
            "type": "scatterpolar"
           }
          ],
          "scatterpolargl": [
           {
            "marker": {
             "colorbar": {
              "outlinewidth": 0,
              "ticks": ""
             }
            },
            "type": "scatterpolargl"
           }
          ],
          "scatterternary": [
           {
            "marker": {
             "colorbar": {
              "outlinewidth": 0,
              "ticks": ""
             }
            },
            "type": "scatterternary"
           }
          ],
          "surface": [
           {
            "colorbar": {
             "outlinewidth": 0,
             "ticks": ""
            },
            "colorscale": [
             [
              0,
              "#0d0887"
             ],
             [
              0.1111111111111111,
              "#46039f"
             ],
             [
              0.2222222222222222,
              "#7201a8"
             ],
             [
              0.3333333333333333,
              "#9c179e"
             ],
             [
              0.4444444444444444,
              "#bd3786"
             ],
             [
              0.5555555555555556,
              "#d8576b"
             ],
             [
              0.6666666666666666,
              "#ed7953"
             ],
             [
              0.7777777777777778,
              "#fb9f3a"
             ],
             [
              0.8888888888888888,
              "#fdca26"
             ],
             [
              1,
              "#f0f921"
             ]
            ],
            "type": "surface"
           }
          ],
          "table": [
           {
            "cells": {
             "fill": {
              "color": "#EBF0F8"
             },
             "line": {
              "color": "white"
             }
            },
            "header": {
             "fill": {
              "color": "#C8D4E3"
             },
             "line": {
              "color": "white"
             }
            },
            "type": "table"
           }
          ]
         },
         "layout": {
          "annotationdefaults": {
           "arrowcolor": "#2a3f5f",
           "arrowhead": 0,
           "arrowwidth": 1
          },
          "autotypenumbers": "strict",
          "coloraxis": {
           "colorbar": {
            "outlinewidth": 0,
            "ticks": ""
           }
          },
          "colorscale": {
           "diverging": [
            [
             0,
             "#8e0152"
            ],
            [
             0.1,
             "#c51b7d"
            ],
            [
             0.2,
             "#de77ae"
            ],
            [
             0.3,
             "#f1b6da"
            ],
            [
             0.4,
             "#fde0ef"
            ],
            [
             0.5,
             "#f7f7f7"
            ],
            [
             0.6,
             "#e6f5d0"
            ],
            [
             0.7,
             "#b8e186"
            ],
            [
             0.8,
             "#7fbc41"
            ],
            [
             0.9,
             "#4d9221"
            ],
            [
             1,
             "#276419"
            ]
           ],
           "sequential": [
            [
             0,
             "#0d0887"
            ],
            [
             0.1111111111111111,
             "#46039f"
            ],
            [
             0.2222222222222222,
             "#7201a8"
            ],
            [
             0.3333333333333333,
             "#9c179e"
            ],
            [
             0.4444444444444444,
             "#bd3786"
            ],
            [
             0.5555555555555556,
             "#d8576b"
            ],
            [
             0.6666666666666666,
             "#ed7953"
            ],
            [
             0.7777777777777778,
             "#fb9f3a"
            ],
            [
             0.8888888888888888,
             "#fdca26"
            ],
            [
             1,
             "#f0f921"
            ]
           ],
           "sequentialminus": [
            [
             0,
             "#0d0887"
            ],
            [
             0.1111111111111111,
             "#46039f"
            ],
            [
             0.2222222222222222,
             "#7201a8"
            ],
            [
             0.3333333333333333,
             "#9c179e"
            ],
            [
             0.4444444444444444,
             "#bd3786"
            ],
            [
             0.5555555555555556,
             "#d8576b"
            ],
            [
             0.6666666666666666,
             "#ed7953"
            ],
            [
             0.7777777777777778,
             "#fb9f3a"
            ],
            [
             0.8888888888888888,
             "#fdca26"
            ],
            [
             1,
             "#f0f921"
            ]
           ]
          },
          "colorway": [
           "#636efa",
           "#EF553B",
           "#00cc96",
           "#ab63fa",
           "#FFA15A",
           "#19d3f3",
           "#FF6692",
           "#B6E880",
           "#FF97FF",
           "#FECB52"
          ],
          "font": {
           "color": "#2a3f5f"
          },
          "geo": {
           "bgcolor": "white",
           "lakecolor": "white",
           "landcolor": "#E5ECF6",
           "showlakes": true,
           "showland": true,
           "subunitcolor": "white"
          },
          "hoverlabel": {
           "align": "left"
          },
          "hovermode": "closest",
          "mapbox": {
           "style": "light"
          },
          "paper_bgcolor": "white",
          "plot_bgcolor": "#E5ECF6",
          "polar": {
           "angularaxis": {
            "gridcolor": "white",
            "linecolor": "white",
            "ticks": ""
           },
           "bgcolor": "#E5ECF6",
           "radialaxis": {
            "gridcolor": "white",
            "linecolor": "white",
            "ticks": ""
           }
          },
          "scene": {
           "xaxis": {
            "backgroundcolor": "#E5ECF6",
            "gridcolor": "white",
            "gridwidth": 2,
            "linecolor": "white",
            "showbackground": true,
            "ticks": "",
            "zerolinecolor": "white"
           },
           "yaxis": {
            "backgroundcolor": "#E5ECF6",
            "gridcolor": "white",
            "gridwidth": 2,
            "linecolor": "white",
            "showbackground": true,
            "ticks": "",
            "zerolinecolor": "white"
           },
           "zaxis": {
            "backgroundcolor": "#E5ECF6",
            "gridcolor": "white",
            "gridwidth": 2,
            "linecolor": "white",
            "showbackground": true,
            "ticks": "",
            "zerolinecolor": "white"
           }
          },
          "shapedefaults": {
           "line": {
            "color": "#2a3f5f"
           }
          },
          "ternary": {
           "aaxis": {
            "gridcolor": "white",
            "linecolor": "white",
            "ticks": ""
           },
           "baxis": {
            "gridcolor": "white",
            "linecolor": "white",
            "ticks": ""
           },
           "bgcolor": "#E5ECF6",
           "caxis": {
            "gridcolor": "white",
            "linecolor": "white",
            "ticks": ""
           }
          },
          "title": {
           "x": 0.05
          },
          "xaxis": {
           "automargin": true,
           "gridcolor": "white",
           "linecolor": "white",
           "ticks": "",
           "title": {
            "standoff": 15
           },
           "zerolinecolor": "white",
           "zerolinewidth": 2
          },
          "yaxis": {
           "automargin": true,
           "gridcolor": "white",
           "linecolor": "white",
           "ticks": "",
           "title": {
            "standoff": 15
           },
           "zerolinecolor": "white",
           "zerolinewidth": 2
          }
         }
        },
        "title": {
         "font": {
          "color": "#4D5663"
         }
        },
        "xaxis": {
         "gridcolor": "#E1E5ED",
         "showgrid": true,
         "tickfont": {
          "color": "#4D5663"
         },
         "title": {
          "font": {
           "color": "#4D5663"
          },
          "text": ""
         },
         "zerolinecolor": "#E1E5ED"
        },
        "xaxis2": {
         "anchor": "y2",
         "gridcolor": "#E1E5ED",
         "showgrid": true,
         "showticklabels": false,
         "tickfont": {
          "color": "#4D5663"
         },
         "title": {
          "font": {
           "color": "#4D5663"
          },
          "text": ""
         },
         "zerolinecolor": "#E1E5ED"
        },
        "yaxis": {
         "domain": [
          0.3,
          1
         ],
         "gridcolor": "#E1E5ED",
         "showgrid": true,
         "tickfont": {
          "color": "#4D5663"
         },
         "title": {
          "font": {
           "color": "#4D5663"
          },
          "text": ""
         },
         "zerolinecolor": "#E1E5ED"
        },
        "yaxis2": {
         "domain": [
          0,
          0.25
         ],
         "gridcolor": "#E1E5ED",
         "showgrid": true,
         "tickfont": {
          "color": "#4D5663"
         },
         "title": {
          "font": {
           "color": "#4D5663"
          },
          "text": "Spread"
         },
         "zerolinecolor": "#E1E5ED"
        }
       }
      },
      "text/html": [
       "<div>                            <div id=\"9d8ed623-57b6-46d3-bde3-aaaf185d0e22\" class=\"plotly-graph-div\" style=\"height:525px; width:100%;\"></div>            <script type=\"text/javascript\">                require([\"plotly\"], function(Plotly) {                    window.PLOTLYENV=window.PLOTLYENV || {};\n",
       "                    window.PLOTLYENV.BASE_URL='https://plot.ly';                                    if (document.getElementById(\"9d8ed623-57b6-46d3-bde3-aaaf185d0e22\")) {                    Plotly.newPlot(                        \"9d8ed623-57b6-46d3-bde3-aaaf185d0e22\",                        [{\"line\":{\"color\":\"rgba(255, 153, 51, 1.0)\",\"dash\":\"solid\",\"shape\":\"linear\",\"width\":1.3},\"mode\":\"lines\",\"name\":\"A\",\"text\":\"\",\"type\":\"scatter\",\"x\":[0,1,2,3,4,5,6,7,8,9,10,11,12,13,14,15,16,17,18,19,20,21,22,23,24,25,26,27,28,29,30,31,32,33,34,35,36,37,38,39,40,41,42,43,44,45,46,47,48,49,50,51,52,53,54,55,56,57,58,59,60,61,62,63,64,65,66,67,68,69,70,71,72,73,74,75,76,77,78,79,80,81,82,83,84,85,86,87,88,89,90,91,92,93,94,95,96,97,98,99],\"y\":[0.05605791357056261,0.460019687284693,0.6287518092337231,-0.40335735674017076,0.10729666753545831,-0.6295013494642708,-1.4951352553786494,1.0672754786555207,0.3598261803907446,-1.0166936426325441,-0.07666864253836506,0.0410685021645721,0.48573655430333923,-0.11416938422627511,-0.7386166413012212,0.7039588772816362,1.707845165649345,0.3042828542104509,1.1414108452743028,-0.1891422906682915,-1.0724824106218038,1.697912228612607,2.376315745461367,1.3285205463490388,0.5241455798665027,0.3296266350692246,0.893307944055857,0.29888277985522527,-0.40214756911155725,0.27769939748663547,1.7229469733657832,-1.0590791859078141,0.17677513633413716,-1.0751157989840059,-1.206163745609603,0.21085545930113656,0.28691557726486,0.5626865844183987,-0.024749798143169792,-1.227681486982836,2.3768811509212675,-1.5514568828774338,1.6112875275834087,-0.035511207000442,1.3597817860592807,0.6340139048174628,-0.9461246374711879,-0.5980463813946243,-0.11121371341266718,-0.7789947858694427,-0.7909367835488761,0.44597932143928465,-0.015829741692926957,0.5880978326151248,-1.1687690687778953,0.46738762470996625,-1.0232152012694558,0.019203856503362135,-0.2513480883458298,1.67760815029347,-0.3388913730150217,0.5054335631763178,-0.5582218465556053,0.09412762463803932,-0.269836966510378,-0.4229131069545643,-0.05562146161653577,0.36806445455580034,-0.1491590393377931,-1.6102639259917182,0.3538094719163923,1.2443563819434125,-0.5311791146417401,0.03025030818705174,2.6374187556509767,-0.06300359369525535,-0.2163986548430199,-1.4063465608219916,-0.6335377419553875,0.5468778943274468,0.22887859434644822,-0.0024186408660699346,1.051698629355191,-0.9869517109480603,-0.31987496824644224,-0.540174686913111,0.3340381390336442,0.7322443952033713,-0.9129854111412516,-0.18584647450385625,-0.9478104793799853,0.7151795709345523,-0.8542424412247567,-1.5265198883275757,0.5488311569159915,0.21865254089016833,-0.4204248699245095,-1.0376879604394742,0.24386425713090254,0.2897506749290084]},{\"line\":{\"color\":\"rgba(55, 128, 191, 1.0)\",\"dash\":\"solid\",\"shape\":\"linear\",\"width\":1.3},\"mode\":\"lines\",\"name\":\"B\",\"text\":\"\",\"type\":\"scatter\",\"x\":[0,1,2,3,4,5,6,7,8,9,10,11,12,13,14,15,16,17,18,19,20,21,22,23,24,25,26,27,28,29,30,31,32,33,34,35,36,37,38,39,40,41,42,43,44,45,46,47,48,49,50,51,52,53,54,55,56,57,58,59,60,61,62,63,64,65,66,67,68,69,70,71,72,73,74,75,76,77,78,79,80,81,82,83,84,85,86,87,88,89,90,91,92,93,94,95,96,97,98,99],\"y\":[0.4908311343814552,0.2184294036515998,0.8773199756877776,-0.5306270595751419,-0.45857510326432177,-2.210141175194517,-1.1718073236010733,0.7655275912167271,0.6356541834810701,-1.6332828663175116,1.0487351561018425,1.43729039987702,-0.7409401093263623,-0.5906002518728066,-3.5822454622628177,1.775083894237991,3.153359736399895,-0.206360434964078,0.4832668240227068,1.4924634234884744,1.1303056661058593,0.3809413259195282,-0.08435249626929543,0.3702751991921212,1.3951327098969522,-1.7295969719787143,-0.44408775127808997,1.1487743309202474,-0.04902087713511538,-0.7120750076662782,0.40449471024488143,0.2918957958896897,0.5560023877190212,-0.16752371802339486,-1.716850478180125,0.649158426150467,1.1233767639252763,-0.814426114370307,0.9445349720500489,0.05147449020198193,0.8137655537705104,-1.2817599458106645,-0.14242664444260536,2.094452656634059,-0.6513378649946291,0.24095637290196942,0.6557918851124303,-0.3338149240064824,0.1969743738756663,-0.4912013596722006,1.4809601842856794,0.348984950814985,-0.4530667696706939,1.612914879507302,0.09814254220664902,0.1592404246273716,0.32301285061662766,-0.2110628783857944,-1.2090441466834407,0.2731259978707747,-0.6739588109652542,-1.0767813621272486,0.21458519274391671,-1.2171725576955057,0.9340611364054661,-0.3972945452157132,1.1575954255423209,-0.47619949851144905,2.519144683341893,1.2944533426663674,-0.9734229218001452,1.3682532247341346,-0.8496789312210303,-0.2649093729476989,0.6457170669435297,0.8271064006126501,-0.7749528988067509,1.001913076936737,0.8120002507488213,-0.8663830893781663,2.2109593730602133,-0.3781719075913857,0.015200436893985737,2.0796227484366914,0.03414309480971347,-0.7073025970093648,0.5447876540997124,0.15871659579090078,-0.060186952309339056,-2.040420778866945,-0.13855641571035474,-1.6961095263369388,-0.9299607848471094,0.42810125413179506,-0.20960566035875308,0.8091366866871842,-0.6383733130460841,0.03184295820309675,0.4099770897336773,0.29049798568337276]},{\"connectgaps\":false,\"fill\":\"tozeroy\",\"line\":{\"color\":\"green\",\"dash\":\"solid\",\"shape\":\"linear\",\"width\":0.5},\"mode\":\"lines\",\"name\":\"Spread\",\"showlegend\":false,\"type\":\"scatter\",\"x\":[0,1,2,3,4,5,6,7,8,9,10,11,12,13,14,15,16,17,18,19,20,21,22,23,24,25,26,27,28,29,30,31,32,33,34,35,36,37,38,39,40,41,42,43,44,45,46,47,48,49,50,51,52,53,54,55,56,57,58,59,60,61,62,63,64,65,66,67,68,69,70,71,72,73,74,75,76,77,78,79,80,81,82,83,84,85,86,87,88,89,90,91,92,93,94,95,96,97,98,99],\"xaxis\":\"x2\",\"y\":[\"\",0.2415902836330932,\"\",0.12726970283497113,0.5658717707997801,1.580639825730246,\"\",0.30174788743879366,\"\",0.6165892236849675,\"\",\"\",1.2266766636297015,0.47643086764653153,2.8436288209615963,\"\",\"\",0.510643289174529,0.658144021251596,\"\",\"\",1.3169709026930787,2.4606682417306622,0.9582453471569177,\"\",2.059223607047939,1.337395695333947,\"\",\"\",0.9897744051529136,1.3184522631209017,\"\",\"\",\"\",0.510686732570522,\"\",\"\",1.3771126987887057,\"\",\"\",1.563115597150757,\"\",1.753714172026014,\"\",2.0111196510539098,0.39305753191549336,\"\",\"\",\"\",\"\",\"\",0.09699437062429966,0.437237027977767,\"\",\"\",0.30814720008259466,\"\",0.23026673488915655,0.957696058337611,1.4044821524226954,0.3350674379502325,1.5822149253035664,\"\",1.311300182333545,\"\",\"\",\"\",0.8442639530672493,\"\",\"\",1.3272323937165376,\"\",0.3184998165792903,0.29515968113475066,1.991701688707447,\"\",0.558554243963731,\"\",\"\",1.4132609837056131,\"\",0.3757532667253158,1.0364981924612053,\"\",\"\",0.16712791009625383,\"\",0.5735277994124705,\"\",1.8545743043630887,\"\",2.4112890972714913,0.07571834362235275,\"\",0.7584368172747445,\"\",0.21794844312157463,\"\",\"\",\"\"],\"yaxis\":\"y2\"},{\"connectgaps\":false,\"fill\":\"tozeroy\",\"line\":{\"color\":\"red\",\"dash\":\"solid\",\"shape\":\"linear\",\"width\":0.5},\"mode\":\"lines\",\"name\":\"Spread\",\"showlegend\":false,\"type\":\"scatter\",\"x\":[0,1,2,3,4,5,6,7,8,9,10,11,12,13,14,15,16,17,18,19,20,21,22,23,24,25,26,27,28,29,30,31,32,33,34,35,36,37,38,39,40,41,42,43,44,45,46,47,48,49,50,51,52,53,54,55,56,57,58,59,60,61,62,63,64,65,66,67,68,69,70,71,72,73,74,75,76,77,78,79,80,81,82,83,84,85,86,87,88,89,90,91,92,93,94,95,96,97,98,99],\"xaxis\":\"x2\",\"y\":[-0.4347732208108926,\"\",-0.24856816645405455,\"\",\"\",\"\",-0.3233279317775761,\"\",-0.27582800309032546,\"\",-1.1254037986402077,-1.3962218977124479,\"\",\"\",\"\",-1.0711250169563549,-1.44551457075055,\"\",\"\",-1.681605714156766,-2.2027880767276633,\"\",\"\",\"\",-0.8709871300304495,\"\",\"\",-0.8498915510650221,-0.35312669197644186,\"\",\"\",-1.3509749817975039,-0.37922725138488406,-0.9075920809606111,\"\",-0.43830296684933046,-0.8364611866604164,\"\",-0.9692847701932187,-1.279155977184818,\"\",-0.2696969370667692,\"\",-2.1299638636345013,\"\",\"\",-1.6019165225836183,-0.2642314573881419,-0.30818808728833347,-0.28779342619724213,-2.2718969678345555,\"\",\"\",-1.0248170468921773,-1.2669116109845444,\"\",-1.3462280518860834,\"\",\"\",\"\",\"\",\"\",-0.772807039299522,\"\",-1.203898102915844,-0.025618561738851076,-1.2132168871588567,\"\",-2.668303722679686,-2.9047172686580858,\"\",-0.1238968427907221,\"\",\"\",\"\",-0.8901099943079054,\"\",-2.4082596377587286,-1.445537992704209,\"\",-1.982080778713765,\"\",\"\",-3.0665744593847517,-0.3540180630561557,\"\",-0.2107495150660682,\"\",-0.8527984588319126,\"\",-0.8092540636696306,\"\",\"\",-1.9546211424593707,\"\",-0.5904841457970158,\"\",-1.069530918642571,-0.16611283260277476,-0.0007473107543643498],\"yaxis\":\"y2\"}],                        {\"hovermode\":\"x\",\"legend\":{\"bgcolor\":\"#F5F6F9\",\"font\":{\"color\":\"#4D5663\"}},\"paper_bgcolor\":\"#F5F6F9\",\"plot_bgcolor\":\"#F5F6F9\",\"template\":{\"data\":{\"bar\":[{\"error_x\":{\"color\":\"#2a3f5f\"},\"error_y\":{\"color\":\"#2a3f5f\"},\"marker\":{\"line\":{\"color\":\"#E5ECF6\",\"width\":0.5},\"pattern\":{\"fillmode\":\"overlay\",\"size\":10,\"solidity\":0.2}},\"type\":\"bar\"}],\"barpolar\":[{\"marker\":{\"line\":{\"color\":\"#E5ECF6\",\"width\":0.5},\"pattern\":{\"fillmode\":\"overlay\",\"size\":10,\"solidity\":0.2}},\"type\":\"barpolar\"}],\"carpet\":[{\"aaxis\":{\"endlinecolor\":\"#2a3f5f\",\"gridcolor\":\"white\",\"linecolor\":\"white\",\"minorgridcolor\":\"white\",\"startlinecolor\":\"#2a3f5f\"},\"baxis\":{\"endlinecolor\":\"#2a3f5f\",\"gridcolor\":\"white\",\"linecolor\":\"white\",\"minorgridcolor\":\"white\",\"startlinecolor\":\"#2a3f5f\"},\"type\":\"carpet\"}],\"choropleth\":[{\"colorbar\":{\"outlinewidth\":0,\"ticks\":\"\"},\"type\":\"choropleth\"}],\"contour\":[{\"colorbar\":{\"outlinewidth\":0,\"ticks\":\"\"},\"colorscale\":[[0.0,\"#0d0887\"],[0.1111111111111111,\"#46039f\"],[0.2222222222222222,\"#7201a8\"],[0.3333333333333333,\"#9c179e\"],[0.4444444444444444,\"#bd3786\"],[0.5555555555555556,\"#d8576b\"],[0.6666666666666666,\"#ed7953\"],[0.7777777777777778,\"#fb9f3a\"],[0.8888888888888888,\"#fdca26\"],[1.0,\"#f0f921\"]],\"type\":\"contour\"}],\"contourcarpet\":[{\"colorbar\":{\"outlinewidth\":0,\"ticks\":\"\"},\"type\":\"contourcarpet\"}],\"heatmap\":[{\"colorbar\":{\"outlinewidth\":0,\"ticks\":\"\"},\"colorscale\":[[0.0,\"#0d0887\"],[0.1111111111111111,\"#46039f\"],[0.2222222222222222,\"#7201a8\"],[0.3333333333333333,\"#9c179e\"],[0.4444444444444444,\"#bd3786\"],[0.5555555555555556,\"#d8576b\"],[0.6666666666666666,\"#ed7953\"],[0.7777777777777778,\"#fb9f3a\"],[0.8888888888888888,\"#fdca26\"],[1.0,\"#f0f921\"]],\"type\":\"heatmap\"}],\"heatmapgl\":[{\"colorbar\":{\"outlinewidth\":0,\"ticks\":\"\"},\"colorscale\":[[0.0,\"#0d0887\"],[0.1111111111111111,\"#46039f\"],[0.2222222222222222,\"#7201a8\"],[0.3333333333333333,\"#9c179e\"],[0.4444444444444444,\"#bd3786\"],[0.5555555555555556,\"#d8576b\"],[0.6666666666666666,\"#ed7953\"],[0.7777777777777778,\"#fb9f3a\"],[0.8888888888888888,\"#fdca26\"],[1.0,\"#f0f921\"]],\"type\":\"heatmapgl\"}],\"histogram\":[{\"marker\":{\"pattern\":{\"fillmode\":\"overlay\",\"size\":10,\"solidity\":0.2}},\"type\":\"histogram\"}],\"histogram2d\":[{\"colorbar\":{\"outlinewidth\":0,\"ticks\":\"\"},\"colorscale\":[[0.0,\"#0d0887\"],[0.1111111111111111,\"#46039f\"],[0.2222222222222222,\"#7201a8\"],[0.3333333333333333,\"#9c179e\"],[0.4444444444444444,\"#bd3786\"],[0.5555555555555556,\"#d8576b\"],[0.6666666666666666,\"#ed7953\"],[0.7777777777777778,\"#fb9f3a\"],[0.8888888888888888,\"#fdca26\"],[1.0,\"#f0f921\"]],\"type\":\"histogram2d\"}],\"histogram2dcontour\":[{\"colorbar\":{\"outlinewidth\":0,\"ticks\":\"\"},\"colorscale\":[[0.0,\"#0d0887\"],[0.1111111111111111,\"#46039f\"],[0.2222222222222222,\"#7201a8\"],[0.3333333333333333,\"#9c179e\"],[0.4444444444444444,\"#bd3786\"],[0.5555555555555556,\"#d8576b\"],[0.6666666666666666,\"#ed7953\"],[0.7777777777777778,\"#fb9f3a\"],[0.8888888888888888,\"#fdca26\"],[1.0,\"#f0f921\"]],\"type\":\"histogram2dcontour\"}],\"mesh3d\":[{\"colorbar\":{\"outlinewidth\":0,\"ticks\":\"\"},\"type\":\"mesh3d\"}],\"parcoords\":[{\"line\":{\"colorbar\":{\"outlinewidth\":0,\"ticks\":\"\"}},\"type\":\"parcoords\"}],\"pie\":[{\"automargin\":true,\"type\":\"pie\"}],\"scatter\":[{\"marker\":{\"colorbar\":{\"outlinewidth\":0,\"ticks\":\"\"}},\"type\":\"scatter\"}],\"scatter3d\":[{\"line\":{\"colorbar\":{\"outlinewidth\":0,\"ticks\":\"\"}},\"marker\":{\"colorbar\":{\"outlinewidth\":0,\"ticks\":\"\"}},\"type\":\"scatter3d\"}],\"scattercarpet\":[{\"marker\":{\"colorbar\":{\"outlinewidth\":0,\"ticks\":\"\"}},\"type\":\"scattercarpet\"}],\"scattergeo\":[{\"marker\":{\"colorbar\":{\"outlinewidth\":0,\"ticks\":\"\"}},\"type\":\"scattergeo\"}],\"scattergl\":[{\"marker\":{\"colorbar\":{\"outlinewidth\":0,\"ticks\":\"\"}},\"type\":\"scattergl\"}],\"scattermapbox\":[{\"marker\":{\"colorbar\":{\"outlinewidth\":0,\"ticks\":\"\"}},\"type\":\"scattermapbox\"}],\"scatterpolar\":[{\"marker\":{\"colorbar\":{\"outlinewidth\":0,\"ticks\":\"\"}},\"type\":\"scatterpolar\"}],\"scatterpolargl\":[{\"marker\":{\"colorbar\":{\"outlinewidth\":0,\"ticks\":\"\"}},\"type\":\"scatterpolargl\"}],\"scatterternary\":[{\"marker\":{\"colorbar\":{\"outlinewidth\":0,\"ticks\":\"\"}},\"type\":\"scatterternary\"}],\"surface\":[{\"colorbar\":{\"outlinewidth\":0,\"ticks\":\"\"},\"colorscale\":[[0.0,\"#0d0887\"],[0.1111111111111111,\"#46039f\"],[0.2222222222222222,\"#7201a8\"],[0.3333333333333333,\"#9c179e\"],[0.4444444444444444,\"#bd3786\"],[0.5555555555555556,\"#d8576b\"],[0.6666666666666666,\"#ed7953\"],[0.7777777777777778,\"#fb9f3a\"],[0.8888888888888888,\"#fdca26\"],[1.0,\"#f0f921\"]],\"type\":\"surface\"}],\"table\":[{\"cells\":{\"fill\":{\"color\":\"#EBF0F8\"},\"line\":{\"color\":\"white\"}},\"header\":{\"fill\":{\"color\":\"#C8D4E3\"},\"line\":{\"color\":\"white\"}},\"type\":\"table\"}]},\"layout\":{\"annotationdefaults\":{\"arrowcolor\":\"#2a3f5f\",\"arrowhead\":0,\"arrowwidth\":1},\"autotypenumbers\":\"strict\",\"coloraxis\":{\"colorbar\":{\"outlinewidth\":0,\"ticks\":\"\"}},\"colorscale\":{\"diverging\":[[0,\"#8e0152\"],[0.1,\"#c51b7d\"],[0.2,\"#de77ae\"],[0.3,\"#f1b6da\"],[0.4,\"#fde0ef\"],[0.5,\"#f7f7f7\"],[0.6,\"#e6f5d0\"],[0.7,\"#b8e186\"],[0.8,\"#7fbc41\"],[0.9,\"#4d9221\"],[1,\"#276419\"]],\"sequential\":[[0.0,\"#0d0887\"],[0.1111111111111111,\"#46039f\"],[0.2222222222222222,\"#7201a8\"],[0.3333333333333333,\"#9c179e\"],[0.4444444444444444,\"#bd3786\"],[0.5555555555555556,\"#d8576b\"],[0.6666666666666666,\"#ed7953\"],[0.7777777777777778,\"#fb9f3a\"],[0.8888888888888888,\"#fdca26\"],[1.0,\"#f0f921\"]],\"sequentialminus\":[[0.0,\"#0d0887\"],[0.1111111111111111,\"#46039f\"],[0.2222222222222222,\"#7201a8\"],[0.3333333333333333,\"#9c179e\"],[0.4444444444444444,\"#bd3786\"],[0.5555555555555556,\"#d8576b\"],[0.6666666666666666,\"#ed7953\"],[0.7777777777777778,\"#fb9f3a\"],[0.8888888888888888,\"#fdca26\"],[1.0,\"#f0f921\"]]},\"colorway\":[\"#636efa\",\"#EF553B\",\"#00cc96\",\"#ab63fa\",\"#FFA15A\",\"#19d3f3\",\"#FF6692\",\"#B6E880\",\"#FF97FF\",\"#FECB52\"],\"font\":{\"color\":\"#2a3f5f\"},\"geo\":{\"bgcolor\":\"white\",\"lakecolor\":\"white\",\"landcolor\":\"#E5ECF6\",\"showlakes\":true,\"showland\":true,\"subunitcolor\":\"white\"},\"hoverlabel\":{\"align\":\"left\"},\"hovermode\":\"closest\",\"mapbox\":{\"style\":\"light\"},\"paper_bgcolor\":\"white\",\"plot_bgcolor\":\"#E5ECF6\",\"polar\":{\"angularaxis\":{\"gridcolor\":\"white\",\"linecolor\":\"white\",\"ticks\":\"\"},\"bgcolor\":\"#E5ECF6\",\"radialaxis\":{\"gridcolor\":\"white\",\"linecolor\":\"white\",\"ticks\":\"\"}},\"scene\":{\"xaxis\":{\"backgroundcolor\":\"#E5ECF6\",\"gridcolor\":\"white\",\"gridwidth\":2,\"linecolor\":\"white\",\"showbackground\":true,\"ticks\":\"\",\"zerolinecolor\":\"white\"},\"yaxis\":{\"backgroundcolor\":\"#E5ECF6\",\"gridcolor\":\"white\",\"gridwidth\":2,\"linecolor\":\"white\",\"showbackground\":true,\"ticks\":\"\",\"zerolinecolor\":\"white\"},\"zaxis\":{\"backgroundcolor\":\"#E5ECF6\",\"gridcolor\":\"white\",\"gridwidth\":2,\"linecolor\":\"white\",\"showbackground\":true,\"ticks\":\"\",\"zerolinecolor\":\"white\"}},\"shapedefaults\":{\"line\":{\"color\":\"#2a3f5f\"}},\"ternary\":{\"aaxis\":{\"gridcolor\":\"white\",\"linecolor\":\"white\",\"ticks\":\"\"},\"baxis\":{\"gridcolor\":\"white\",\"linecolor\":\"white\",\"ticks\":\"\"},\"bgcolor\":\"#E5ECF6\",\"caxis\":{\"gridcolor\":\"white\",\"linecolor\":\"white\",\"ticks\":\"\"}},\"title\":{\"x\":0.05},\"xaxis\":{\"automargin\":true,\"gridcolor\":\"white\",\"linecolor\":\"white\",\"ticks\":\"\",\"title\":{\"standoff\":15},\"zerolinecolor\":\"white\",\"zerolinewidth\":2},\"yaxis\":{\"automargin\":true,\"gridcolor\":\"white\",\"linecolor\":\"white\",\"ticks\":\"\",\"title\":{\"standoff\":15},\"zerolinecolor\":\"white\",\"zerolinewidth\":2}}},\"title\":{\"font\":{\"color\":\"#4D5663\"}},\"xaxis\":{\"gridcolor\":\"#E1E5ED\",\"showgrid\":true,\"tickfont\":{\"color\":\"#4D5663\"},\"title\":{\"font\":{\"color\":\"#4D5663\"},\"text\":\"\"},\"zerolinecolor\":\"#E1E5ED\"},\"xaxis2\":{\"anchor\":\"y2\",\"gridcolor\":\"#E1E5ED\",\"showgrid\":true,\"showticklabels\":false,\"tickfont\":{\"color\":\"#4D5663\"},\"title\":{\"font\":{\"color\":\"#4D5663\"},\"text\":\"\"},\"zerolinecolor\":\"#E1E5ED\"},\"yaxis\":{\"domain\":[0.3,1],\"gridcolor\":\"#E1E5ED\",\"showgrid\":true,\"tickfont\":{\"color\":\"#4D5663\"},\"title\":{\"font\":{\"color\":\"#4D5663\"},\"text\":\"\"},\"zerolinecolor\":\"#E1E5ED\"},\"yaxis2\":{\"domain\":[0,0.25],\"gridcolor\":\"#E1E5ED\",\"showgrid\":true,\"tickfont\":{\"color\":\"#4D5663\"},\"title\":{\"font\":{\"color\":\"#4D5663\"},\"text\":\"Spread\"},\"zerolinecolor\":\"#E1E5ED\"}},                        {\"showLink\": true, \"linkText\": \"Export to plot.ly\", \"plotlyServerURL\": \"https://plot.ly\", \"responsive\": true}                    ).then(function(){\n",
       "                            \n",
       "var gd = document.getElementById('9d8ed623-57b6-46d3-bde3-aaaf185d0e22');\n",
       "var x = new MutationObserver(function (mutations, observer) {{\n",
       "        var display = window.getComputedStyle(gd).display;\n",
       "        if (!display || display === 'none') {{\n",
       "            console.log([gd, 'removed!']);\n",
       "            Plotly.purge(gd);\n",
       "            observer.disconnect();\n",
       "        }}\n",
       "}});\n",
       "\n",
       "// Listen for the removal of the full notebook cells\n",
       "var notebookContainer = gd.closest('#notebook-container');\n",
       "if (notebookContainer) {{\n",
       "    x.observe(notebookContainer, {childList: true});\n",
       "}}\n",
       "\n",
       "// Listen for the clearing of the current output cell\n",
       "var outputEl = gd.closest('.output');\n",
       "if (outputEl) {{\n",
       "    x.observe(outputEl, {childList: true});\n",
       "}}\n",
       "\n",
       "                        })                };                });            </script>        </div>"
      ]
     },
     "metadata": {},
     "output_type": "display_data"
    }
   ],
   "source": [
    "# spread plot for the data\n",
    "df[['A','B']].iplot(kind='spread')"
   ]
  },
  {
   "cell_type": "code",
   "execution_count": 36,
   "metadata": {},
   "outputs": [
    {
     "data": {
      "application/vnd.plotly.v1+json": {
       "config": {
        "linkText": "Export to plot.ly",
        "plotlyServerURL": "https://plot.ly",
        "showLink": true
       },
       "data": [
        {
         "marker": {
          "color": [
           "black",
           "black",
           "black",
           "black",
           "black",
           "black",
           "black",
           "black",
           "black",
           "black",
           "black",
           "black",
           "black",
           "black",
           "black",
           "black",
           "black",
           "black",
           "black",
           "black",
           "black",
           "black",
           "black",
           "black",
           "black",
           "black",
           "black",
           "black",
           "black",
           "black",
           "black",
           "black",
           "black",
           "black",
           "black",
           "black",
           "black",
           "black",
           "black",
           "black",
           "black",
           "black",
           "black",
           "black",
           "black",
           "black",
           "black",
           "black",
           "black",
           "black",
           "black",
           "black",
           "black",
           "black",
           "black",
           "black",
           "black",
           "black",
           "black",
           "black",
           "black",
           "black",
           "black",
           "black",
           "black",
           "black",
           "black",
           "black",
           "black",
           "black",
           "black",
           "black",
           "black",
           "black",
           "black",
           "black",
           "black",
           "black",
           "black",
           "black",
           "black",
           "black",
           "black",
           "black",
           "black",
           "black",
           "black",
           "black",
           "black",
           "black",
           "black",
           "black",
           "black",
           "black",
           "black",
           "black",
           "black",
           "black",
           "black",
           "black"
          ],
          "line": {
           "width": 1.3
          },
          "size": [
           84,
           79,
           36,
           81,
           54,
           92,
           79,
           54,
           69,
           40,
           33,
           70,
           81,
           36,
           86,
           89,
           55,
           51,
           42,
           29,
           61,
           107,
           75,
           25,
           79,
           61,
           75,
           34,
           44,
           69,
           85,
           78,
           111,
           32,
           72,
           99,
           101,
           71,
           91,
           43,
           103,
           67,
           74,
           99,
           57,
           48,
           65,
           41,
           73,
           36,
           71,
           57,
           24,
           47,
           35,
           42,
           34,
           64,
           80,
           27,
           37,
           69,
           48,
           84,
           33,
           86,
           53,
           88,
           55,
           47,
           50,
           47,
           60,
           60,
           34,
           27,
           40,
           31,
           87,
           47,
           78,
           39,
           76,
           66,
           76,
           54,
           12,
           65,
           112,
           48,
           31,
           60,
           57,
           81,
           85,
           34,
           64,
           57,
           66,
           58
          ],
          "symbol": "circle"
         },
         "mode": "markers",
         "text": "",
         "type": "scatter",
         "x": [
          0.05605791357056261,
          0.460019687284693,
          0.6287518092337231,
          -0.40335735674017076,
          0.10729666753545831,
          -0.6295013494642708,
          -1.4951352553786494,
          1.0672754786555207,
          0.3598261803907446,
          -1.0166936426325441,
          -0.07666864253836506,
          0.0410685021645721,
          0.48573655430333923,
          -0.11416938422627511,
          -0.7386166413012212,
          0.7039588772816362,
          1.707845165649345,
          0.3042828542104509,
          1.1414108452743028,
          -0.1891422906682915,
          -1.0724824106218038,
          1.697912228612607,
          2.376315745461367,
          1.3285205463490388,
          0.5241455798665027,
          0.3296266350692246,
          0.893307944055857,
          0.29888277985522527,
          -0.40214756911155725,
          0.27769939748663547,
          1.7229469733657832,
          -1.0590791859078141,
          0.17677513633413716,
          -1.0751157989840059,
          -1.206163745609603,
          0.21085545930113656,
          0.28691557726486,
          0.5626865844183987,
          -0.024749798143169792,
          -1.227681486982836,
          2.3768811509212675,
          -1.5514568828774338,
          1.6112875275834087,
          -0.035511207000442,
          1.3597817860592807,
          0.6340139048174628,
          -0.9461246374711879,
          -0.5980463813946243,
          -0.11121371341266718,
          -0.7789947858694427,
          -0.7909367835488761,
          0.44597932143928465,
          -0.015829741692926957,
          0.5880978326151248,
          -1.1687690687778953,
          0.46738762470996625,
          -1.0232152012694558,
          0.019203856503362135,
          -0.2513480883458298,
          1.67760815029347,
          -0.3388913730150217,
          0.5054335631763178,
          -0.5582218465556053,
          0.09412762463803932,
          -0.269836966510378,
          -0.4229131069545643,
          -0.05562146161653577,
          0.36806445455580034,
          -0.1491590393377931,
          -1.6102639259917182,
          0.3538094719163923,
          1.2443563819434125,
          -0.5311791146417401,
          0.03025030818705174,
          2.6374187556509767,
          -0.06300359369525535,
          -0.2163986548430199,
          -1.4063465608219916,
          -0.6335377419553875,
          0.5468778943274468,
          0.22887859434644822,
          -0.0024186408660699346,
          1.051698629355191,
          -0.9869517109480603,
          -0.31987496824644224,
          -0.540174686913111,
          0.3340381390336442,
          0.7322443952033713,
          -0.9129854111412516,
          -0.18584647450385625,
          -0.9478104793799853,
          0.7151795709345523,
          -0.8542424412247567,
          -1.5265198883275757,
          0.5488311569159915,
          0.21865254089016833,
          -0.4204248699245095,
          -1.0376879604394742,
          0.24386425713090254,
          0.2897506749290084
         ],
         "y": [
          0.4908311343814552,
          0.2184294036515998,
          0.8773199756877776,
          -0.5306270595751419,
          -0.45857510326432177,
          -2.210141175194517,
          -1.1718073236010733,
          0.7655275912167271,
          0.6356541834810701,
          -1.6332828663175116,
          1.0487351561018425,
          1.43729039987702,
          -0.7409401093263623,
          -0.5906002518728066,
          -3.5822454622628177,
          1.775083894237991,
          3.153359736399895,
          -0.206360434964078,
          0.4832668240227068,
          1.4924634234884744,
          1.1303056661058593,
          0.3809413259195282,
          -0.08435249626929543,
          0.3702751991921212,
          1.3951327098969522,
          -1.7295969719787143,
          -0.44408775127808997,
          1.1487743309202474,
          -0.04902087713511538,
          -0.7120750076662782,
          0.40449471024488143,
          0.2918957958896897,
          0.5560023877190212,
          -0.16752371802339486,
          -1.716850478180125,
          0.649158426150467,
          1.1233767639252763,
          -0.814426114370307,
          0.9445349720500489,
          0.05147449020198193,
          0.8137655537705104,
          -1.2817599458106645,
          -0.14242664444260536,
          2.094452656634059,
          -0.6513378649946291,
          0.24095637290196942,
          0.6557918851124303,
          -0.3338149240064824,
          0.1969743738756663,
          -0.4912013596722006,
          1.4809601842856794,
          0.348984950814985,
          -0.4530667696706939,
          1.612914879507302,
          0.09814254220664902,
          0.1592404246273716,
          0.32301285061662766,
          -0.2110628783857944,
          -1.2090441466834407,
          0.2731259978707747,
          -0.6739588109652542,
          -1.0767813621272486,
          0.21458519274391671,
          -1.2171725576955057,
          0.9340611364054661,
          -0.3972945452157132,
          1.1575954255423209,
          -0.47619949851144905,
          2.519144683341893,
          1.2944533426663674,
          -0.9734229218001452,
          1.3682532247341346,
          -0.8496789312210303,
          -0.2649093729476989,
          0.6457170669435297,
          0.8271064006126501,
          -0.7749528988067509,
          1.001913076936737,
          0.8120002507488213,
          -0.8663830893781663,
          2.2109593730602133,
          -0.3781719075913857,
          0.015200436893985737,
          2.0796227484366914,
          0.03414309480971347,
          -0.7073025970093648,
          0.5447876540997124,
          0.15871659579090078,
          -0.060186952309339056,
          -2.040420778866945,
          -0.13855641571035474,
          -1.6961095263369388,
          -0.9299607848471094,
          0.42810125413179506,
          -0.20960566035875308,
          0.8091366866871842,
          -0.6383733130460841,
          0.03184295820309675,
          0.4099770897336773,
          0.29049798568337276
         ]
        }
       ],
       "layout": {
        "legend": {
         "bgcolor": "#F5F6F9",
         "font": {
          "color": "#4D5663"
         }
        },
        "paper_bgcolor": "#F5F6F9",
        "plot_bgcolor": "#F5F6F9",
        "template": {
         "data": {
          "bar": [
           {
            "error_x": {
             "color": "#2a3f5f"
            },
            "error_y": {
             "color": "#2a3f5f"
            },
            "marker": {
             "line": {
              "color": "#E5ECF6",
              "width": 0.5
             },
             "pattern": {
              "fillmode": "overlay",
              "size": 10,
              "solidity": 0.2
             }
            },
            "type": "bar"
           }
          ],
          "barpolar": [
           {
            "marker": {
             "line": {
              "color": "#E5ECF6",
              "width": 0.5
             },
             "pattern": {
              "fillmode": "overlay",
              "size": 10,
              "solidity": 0.2
             }
            },
            "type": "barpolar"
           }
          ],
          "carpet": [
           {
            "aaxis": {
             "endlinecolor": "#2a3f5f",
             "gridcolor": "white",
             "linecolor": "white",
             "minorgridcolor": "white",
             "startlinecolor": "#2a3f5f"
            },
            "baxis": {
             "endlinecolor": "#2a3f5f",
             "gridcolor": "white",
             "linecolor": "white",
             "minorgridcolor": "white",
             "startlinecolor": "#2a3f5f"
            },
            "type": "carpet"
           }
          ],
          "choropleth": [
           {
            "colorbar": {
             "outlinewidth": 0,
             "ticks": ""
            },
            "type": "choropleth"
           }
          ],
          "contour": [
           {
            "colorbar": {
             "outlinewidth": 0,
             "ticks": ""
            },
            "colorscale": [
             [
              0,
              "#0d0887"
             ],
             [
              0.1111111111111111,
              "#46039f"
             ],
             [
              0.2222222222222222,
              "#7201a8"
             ],
             [
              0.3333333333333333,
              "#9c179e"
             ],
             [
              0.4444444444444444,
              "#bd3786"
             ],
             [
              0.5555555555555556,
              "#d8576b"
             ],
             [
              0.6666666666666666,
              "#ed7953"
             ],
             [
              0.7777777777777778,
              "#fb9f3a"
             ],
             [
              0.8888888888888888,
              "#fdca26"
             ],
             [
              1,
              "#f0f921"
             ]
            ],
            "type": "contour"
           }
          ],
          "contourcarpet": [
           {
            "colorbar": {
             "outlinewidth": 0,
             "ticks": ""
            },
            "type": "contourcarpet"
           }
          ],
          "heatmap": [
           {
            "colorbar": {
             "outlinewidth": 0,
             "ticks": ""
            },
            "colorscale": [
             [
              0,
              "#0d0887"
             ],
             [
              0.1111111111111111,
              "#46039f"
             ],
             [
              0.2222222222222222,
              "#7201a8"
             ],
             [
              0.3333333333333333,
              "#9c179e"
             ],
             [
              0.4444444444444444,
              "#bd3786"
             ],
             [
              0.5555555555555556,
              "#d8576b"
             ],
             [
              0.6666666666666666,
              "#ed7953"
             ],
             [
              0.7777777777777778,
              "#fb9f3a"
             ],
             [
              0.8888888888888888,
              "#fdca26"
             ],
             [
              1,
              "#f0f921"
             ]
            ],
            "type": "heatmap"
           }
          ],
          "heatmapgl": [
           {
            "colorbar": {
             "outlinewidth": 0,
             "ticks": ""
            },
            "colorscale": [
             [
              0,
              "#0d0887"
             ],
             [
              0.1111111111111111,
              "#46039f"
             ],
             [
              0.2222222222222222,
              "#7201a8"
             ],
             [
              0.3333333333333333,
              "#9c179e"
             ],
             [
              0.4444444444444444,
              "#bd3786"
             ],
             [
              0.5555555555555556,
              "#d8576b"
             ],
             [
              0.6666666666666666,
              "#ed7953"
             ],
             [
              0.7777777777777778,
              "#fb9f3a"
             ],
             [
              0.8888888888888888,
              "#fdca26"
             ],
             [
              1,
              "#f0f921"
             ]
            ],
            "type": "heatmapgl"
           }
          ],
          "histogram": [
           {
            "marker": {
             "pattern": {
              "fillmode": "overlay",
              "size": 10,
              "solidity": 0.2
             }
            },
            "type": "histogram"
           }
          ],
          "histogram2d": [
           {
            "colorbar": {
             "outlinewidth": 0,
             "ticks": ""
            },
            "colorscale": [
             [
              0,
              "#0d0887"
             ],
             [
              0.1111111111111111,
              "#46039f"
             ],
             [
              0.2222222222222222,
              "#7201a8"
             ],
             [
              0.3333333333333333,
              "#9c179e"
             ],
             [
              0.4444444444444444,
              "#bd3786"
             ],
             [
              0.5555555555555556,
              "#d8576b"
             ],
             [
              0.6666666666666666,
              "#ed7953"
             ],
             [
              0.7777777777777778,
              "#fb9f3a"
             ],
             [
              0.8888888888888888,
              "#fdca26"
             ],
             [
              1,
              "#f0f921"
             ]
            ],
            "type": "histogram2d"
           }
          ],
          "histogram2dcontour": [
           {
            "colorbar": {
             "outlinewidth": 0,
             "ticks": ""
            },
            "colorscale": [
             [
              0,
              "#0d0887"
             ],
             [
              0.1111111111111111,
              "#46039f"
             ],
             [
              0.2222222222222222,
              "#7201a8"
             ],
             [
              0.3333333333333333,
              "#9c179e"
             ],
             [
              0.4444444444444444,
              "#bd3786"
             ],
             [
              0.5555555555555556,
              "#d8576b"
             ],
             [
              0.6666666666666666,
              "#ed7953"
             ],
             [
              0.7777777777777778,
              "#fb9f3a"
             ],
             [
              0.8888888888888888,
              "#fdca26"
             ],
             [
              1,
              "#f0f921"
             ]
            ],
            "type": "histogram2dcontour"
           }
          ],
          "mesh3d": [
           {
            "colorbar": {
             "outlinewidth": 0,
             "ticks": ""
            },
            "type": "mesh3d"
           }
          ],
          "parcoords": [
           {
            "line": {
             "colorbar": {
              "outlinewidth": 0,
              "ticks": ""
             }
            },
            "type": "parcoords"
           }
          ],
          "pie": [
           {
            "automargin": true,
            "type": "pie"
           }
          ],
          "scatter": [
           {
            "marker": {
             "colorbar": {
              "outlinewidth": 0,
              "ticks": ""
             }
            },
            "type": "scatter"
           }
          ],
          "scatter3d": [
           {
            "line": {
             "colorbar": {
              "outlinewidth": 0,
              "ticks": ""
             }
            },
            "marker": {
             "colorbar": {
              "outlinewidth": 0,
              "ticks": ""
             }
            },
            "type": "scatter3d"
           }
          ],
          "scattercarpet": [
           {
            "marker": {
             "colorbar": {
              "outlinewidth": 0,
              "ticks": ""
             }
            },
            "type": "scattercarpet"
           }
          ],
          "scattergeo": [
           {
            "marker": {
             "colorbar": {
              "outlinewidth": 0,
              "ticks": ""
             }
            },
            "type": "scattergeo"
           }
          ],
          "scattergl": [
           {
            "marker": {
             "colorbar": {
              "outlinewidth": 0,
              "ticks": ""
             }
            },
            "type": "scattergl"
           }
          ],
          "scattermapbox": [
           {
            "marker": {
             "colorbar": {
              "outlinewidth": 0,
              "ticks": ""
             }
            },
            "type": "scattermapbox"
           }
          ],
          "scatterpolar": [
           {
            "marker": {
             "colorbar": {
              "outlinewidth": 0,
              "ticks": ""
             }
            },
            "type": "scatterpolar"
           }
          ],
          "scatterpolargl": [
           {
            "marker": {
             "colorbar": {
              "outlinewidth": 0,
              "ticks": ""
             }
            },
            "type": "scatterpolargl"
           }
          ],
          "scatterternary": [
           {
            "marker": {
             "colorbar": {
              "outlinewidth": 0,
              "ticks": ""
             }
            },
            "type": "scatterternary"
           }
          ],
          "surface": [
           {
            "colorbar": {
             "outlinewidth": 0,
             "ticks": ""
            },
            "colorscale": [
             [
              0,
              "#0d0887"
             ],
             [
              0.1111111111111111,
              "#46039f"
             ],
             [
              0.2222222222222222,
              "#7201a8"
             ],
             [
              0.3333333333333333,
              "#9c179e"
             ],
             [
              0.4444444444444444,
              "#bd3786"
             ],
             [
              0.5555555555555556,
              "#d8576b"
             ],
             [
              0.6666666666666666,
              "#ed7953"
             ],
             [
              0.7777777777777778,
              "#fb9f3a"
             ],
             [
              0.8888888888888888,
              "#fdca26"
             ],
             [
              1,
              "#f0f921"
             ]
            ],
            "type": "surface"
           }
          ],
          "table": [
           {
            "cells": {
             "fill": {
              "color": "#EBF0F8"
             },
             "line": {
              "color": "white"
             }
            },
            "header": {
             "fill": {
              "color": "#C8D4E3"
             },
             "line": {
              "color": "white"
             }
            },
            "type": "table"
           }
          ]
         },
         "layout": {
          "annotationdefaults": {
           "arrowcolor": "#2a3f5f",
           "arrowhead": 0,
           "arrowwidth": 1
          },
          "autotypenumbers": "strict",
          "coloraxis": {
           "colorbar": {
            "outlinewidth": 0,
            "ticks": ""
           }
          },
          "colorscale": {
           "diverging": [
            [
             0,
             "#8e0152"
            ],
            [
             0.1,
             "#c51b7d"
            ],
            [
             0.2,
             "#de77ae"
            ],
            [
             0.3,
             "#f1b6da"
            ],
            [
             0.4,
             "#fde0ef"
            ],
            [
             0.5,
             "#f7f7f7"
            ],
            [
             0.6,
             "#e6f5d0"
            ],
            [
             0.7,
             "#b8e186"
            ],
            [
             0.8,
             "#7fbc41"
            ],
            [
             0.9,
             "#4d9221"
            ],
            [
             1,
             "#276419"
            ]
           ],
           "sequential": [
            [
             0,
             "#0d0887"
            ],
            [
             0.1111111111111111,
             "#46039f"
            ],
            [
             0.2222222222222222,
             "#7201a8"
            ],
            [
             0.3333333333333333,
             "#9c179e"
            ],
            [
             0.4444444444444444,
             "#bd3786"
            ],
            [
             0.5555555555555556,
             "#d8576b"
            ],
            [
             0.6666666666666666,
             "#ed7953"
            ],
            [
             0.7777777777777778,
             "#fb9f3a"
            ],
            [
             0.8888888888888888,
             "#fdca26"
            ],
            [
             1,
             "#f0f921"
            ]
           ],
           "sequentialminus": [
            [
             0,
             "#0d0887"
            ],
            [
             0.1111111111111111,
             "#46039f"
            ],
            [
             0.2222222222222222,
             "#7201a8"
            ],
            [
             0.3333333333333333,
             "#9c179e"
            ],
            [
             0.4444444444444444,
             "#bd3786"
            ],
            [
             0.5555555555555556,
             "#d8576b"
            ],
            [
             0.6666666666666666,
             "#ed7953"
            ],
            [
             0.7777777777777778,
             "#fb9f3a"
            ],
            [
             0.8888888888888888,
             "#fdca26"
            ],
            [
             1,
             "#f0f921"
            ]
           ]
          },
          "colorway": [
           "#636efa",
           "#EF553B",
           "#00cc96",
           "#ab63fa",
           "#FFA15A",
           "#19d3f3",
           "#FF6692",
           "#B6E880",
           "#FF97FF",
           "#FECB52"
          ],
          "font": {
           "color": "#2a3f5f"
          },
          "geo": {
           "bgcolor": "white",
           "lakecolor": "white",
           "landcolor": "#E5ECF6",
           "showlakes": true,
           "showland": true,
           "subunitcolor": "white"
          },
          "hoverlabel": {
           "align": "left"
          },
          "hovermode": "closest",
          "mapbox": {
           "style": "light"
          },
          "paper_bgcolor": "white",
          "plot_bgcolor": "#E5ECF6",
          "polar": {
           "angularaxis": {
            "gridcolor": "white",
            "linecolor": "white",
            "ticks": ""
           },
           "bgcolor": "#E5ECF6",
           "radialaxis": {
            "gridcolor": "white",
            "linecolor": "white",
            "ticks": ""
           }
          },
          "scene": {
           "xaxis": {
            "backgroundcolor": "#E5ECF6",
            "gridcolor": "white",
            "gridwidth": 2,
            "linecolor": "white",
            "showbackground": true,
            "ticks": "",
            "zerolinecolor": "white"
           },
           "yaxis": {
            "backgroundcolor": "#E5ECF6",
            "gridcolor": "white",
            "gridwidth": 2,
            "linecolor": "white",
            "showbackground": true,
            "ticks": "",
            "zerolinecolor": "white"
           },
           "zaxis": {
            "backgroundcolor": "#E5ECF6",
            "gridcolor": "white",
            "gridwidth": 2,
            "linecolor": "white",
            "showbackground": true,
            "ticks": "",
            "zerolinecolor": "white"
           }
          },
          "shapedefaults": {
           "line": {
            "color": "#2a3f5f"
           }
          },
          "ternary": {
           "aaxis": {
            "gridcolor": "white",
            "linecolor": "white",
            "ticks": ""
           },
           "baxis": {
            "gridcolor": "white",
            "linecolor": "white",
            "ticks": ""
           },
           "bgcolor": "#E5ECF6",
           "caxis": {
            "gridcolor": "white",
            "linecolor": "white",
            "ticks": ""
           }
          },
          "title": {
           "x": 0.05
          },
          "xaxis": {
           "automargin": true,
           "gridcolor": "white",
           "linecolor": "white",
           "ticks": "",
           "title": {
            "standoff": 15
           },
           "zerolinecolor": "white",
           "zerolinewidth": 2
          },
          "yaxis": {
           "automargin": true,
           "gridcolor": "white",
           "linecolor": "white",
           "ticks": "",
           "title": {
            "standoff": 15
           },
           "zerolinecolor": "white",
           "zerolinewidth": 2
          }
         }
        },
        "title": {
         "font": {
          "color": "#4D5663"
         }
        },
        "xaxis": {
         "gridcolor": "#E1E5ED",
         "showgrid": true,
         "tickfont": {
          "color": "#4D5663"
         },
         "title": {
          "font": {
           "color": "#4D5663"
          },
          "text": ""
         },
         "zerolinecolor": "#E1E5ED"
        },
        "yaxis": {
         "gridcolor": "#E1E5ED",
         "showgrid": true,
         "tickfont": {
          "color": "#4D5663"
         },
         "title": {
          "font": {
           "color": "#4D5663"
          },
          "text": ""
         },
         "zerolinecolor": "#E1E5ED"
        }
       }
      },
      "text/html": [
       "<div>                            <div id=\"b0fce22e-b9e5-455c-a3f2-8bf4681fef2e\" class=\"plotly-graph-div\" style=\"height:525px; width:100%;\"></div>            <script type=\"text/javascript\">                require([\"plotly\"], function(Plotly) {                    window.PLOTLYENV=window.PLOTLYENV || {};\n",
       "                    window.PLOTLYENV.BASE_URL='https://plot.ly';                                    if (document.getElementById(\"b0fce22e-b9e5-455c-a3f2-8bf4681fef2e\")) {                    Plotly.newPlot(                        \"b0fce22e-b9e5-455c-a3f2-8bf4681fef2e\",                        [{\"marker\":{\"color\":[\"black\",\"black\",\"black\",\"black\",\"black\",\"black\",\"black\",\"black\",\"black\",\"black\",\"black\",\"black\",\"black\",\"black\",\"black\",\"black\",\"black\",\"black\",\"black\",\"black\",\"black\",\"black\",\"black\",\"black\",\"black\",\"black\",\"black\",\"black\",\"black\",\"black\",\"black\",\"black\",\"black\",\"black\",\"black\",\"black\",\"black\",\"black\",\"black\",\"black\",\"black\",\"black\",\"black\",\"black\",\"black\",\"black\",\"black\",\"black\",\"black\",\"black\",\"black\",\"black\",\"black\",\"black\",\"black\",\"black\",\"black\",\"black\",\"black\",\"black\",\"black\",\"black\",\"black\",\"black\",\"black\",\"black\",\"black\",\"black\",\"black\",\"black\",\"black\",\"black\",\"black\",\"black\",\"black\",\"black\",\"black\",\"black\",\"black\",\"black\",\"black\",\"black\",\"black\",\"black\",\"black\",\"black\",\"black\",\"black\",\"black\",\"black\",\"black\",\"black\",\"black\",\"black\",\"black\",\"black\",\"black\",\"black\",\"black\",\"black\"],\"line\":{\"width\":1.3},\"size\":[84,79,36,81,54,92,79,54,69,40,33,70,81,36,86,89,55,51,42,29,61,107,75,25,79,61,75,34,44,69,85,78,111,32,72,99,101,71,91,43,103,67,74,99,57,48,65,41,73,36,71,57,24,47,35,42,34,64,80,27,37,69,48,84,33,86,53,88,55,47,50,47,60,60,34,27,40,31,87,47,78,39,76,66,76,54,12,65,112,48,31,60,57,81,85,34,64,57,66,58],\"symbol\":\"circle\"},\"mode\":\"markers\",\"text\":\"\",\"type\":\"scatter\",\"x\":[0.05605791357056261,0.460019687284693,0.6287518092337231,-0.40335735674017076,0.10729666753545831,-0.6295013494642708,-1.4951352553786494,1.0672754786555207,0.3598261803907446,-1.0166936426325441,-0.07666864253836506,0.0410685021645721,0.48573655430333923,-0.11416938422627511,-0.7386166413012212,0.7039588772816362,1.707845165649345,0.3042828542104509,1.1414108452743028,-0.1891422906682915,-1.0724824106218038,1.697912228612607,2.376315745461367,1.3285205463490388,0.5241455798665027,0.3296266350692246,0.893307944055857,0.29888277985522527,-0.40214756911155725,0.27769939748663547,1.7229469733657832,-1.0590791859078141,0.17677513633413716,-1.0751157989840059,-1.206163745609603,0.21085545930113656,0.28691557726486,0.5626865844183987,-0.024749798143169792,-1.227681486982836,2.3768811509212675,-1.5514568828774338,1.6112875275834087,-0.035511207000442,1.3597817860592807,0.6340139048174628,-0.9461246374711879,-0.5980463813946243,-0.11121371341266718,-0.7789947858694427,-0.7909367835488761,0.44597932143928465,-0.015829741692926957,0.5880978326151248,-1.1687690687778953,0.46738762470996625,-1.0232152012694558,0.019203856503362135,-0.2513480883458298,1.67760815029347,-0.3388913730150217,0.5054335631763178,-0.5582218465556053,0.09412762463803932,-0.269836966510378,-0.4229131069545643,-0.05562146161653577,0.36806445455580034,-0.1491590393377931,-1.6102639259917182,0.3538094719163923,1.2443563819434125,-0.5311791146417401,0.03025030818705174,2.6374187556509767,-0.06300359369525535,-0.2163986548430199,-1.4063465608219916,-0.6335377419553875,0.5468778943274468,0.22887859434644822,-0.0024186408660699346,1.051698629355191,-0.9869517109480603,-0.31987496824644224,-0.540174686913111,0.3340381390336442,0.7322443952033713,-0.9129854111412516,-0.18584647450385625,-0.9478104793799853,0.7151795709345523,-0.8542424412247567,-1.5265198883275757,0.5488311569159915,0.21865254089016833,-0.4204248699245095,-1.0376879604394742,0.24386425713090254,0.2897506749290084],\"y\":[0.4908311343814552,0.2184294036515998,0.8773199756877776,-0.5306270595751419,-0.45857510326432177,-2.210141175194517,-1.1718073236010733,0.7655275912167271,0.6356541834810701,-1.6332828663175116,1.0487351561018425,1.43729039987702,-0.7409401093263623,-0.5906002518728066,-3.5822454622628177,1.775083894237991,3.153359736399895,-0.206360434964078,0.4832668240227068,1.4924634234884744,1.1303056661058593,0.3809413259195282,-0.08435249626929543,0.3702751991921212,1.3951327098969522,-1.7295969719787143,-0.44408775127808997,1.1487743309202474,-0.04902087713511538,-0.7120750076662782,0.40449471024488143,0.2918957958896897,0.5560023877190212,-0.16752371802339486,-1.716850478180125,0.649158426150467,1.1233767639252763,-0.814426114370307,0.9445349720500489,0.05147449020198193,0.8137655537705104,-1.2817599458106645,-0.14242664444260536,2.094452656634059,-0.6513378649946291,0.24095637290196942,0.6557918851124303,-0.3338149240064824,0.1969743738756663,-0.4912013596722006,1.4809601842856794,0.348984950814985,-0.4530667696706939,1.612914879507302,0.09814254220664902,0.1592404246273716,0.32301285061662766,-0.2110628783857944,-1.2090441466834407,0.2731259978707747,-0.6739588109652542,-1.0767813621272486,0.21458519274391671,-1.2171725576955057,0.9340611364054661,-0.3972945452157132,1.1575954255423209,-0.47619949851144905,2.519144683341893,1.2944533426663674,-0.9734229218001452,1.3682532247341346,-0.8496789312210303,-0.2649093729476989,0.6457170669435297,0.8271064006126501,-0.7749528988067509,1.001913076936737,0.8120002507488213,-0.8663830893781663,2.2109593730602133,-0.3781719075913857,0.015200436893985737,2.0796227484366914,0.03414309480971347,-0.7073025970093648,0.5447876540997124,0.15871659579090078,-0.060186952309339056,-2.040420778866945,-0.13855641571035474,-1.6961095263369388,-0.9299607848471094,0.42810125413179506,-0.20960566035875308,0.8091366866871842,-0.6383733130460841,0.03184295820309675,0.4099770897336773,0.29049798568337276]}],                        {\"legend\":{\"bgcolor\":\"#F5F6F9\",\"font\":{\"color\":\"#4D5663\"}},\"paper_bgcolor\":\"#F5F6F9\",\"plot_bgcolor\":\"#F5F6F9\",\"template\":{\"data\":{\"bar\":[{\"error_x\":{\"color\":\"#2a3f5f\"},\"error_y\":{\"color\":\"#2a3f5f\"},\"marker\":{\"line\":{\"color\":\"#E5ECF6\",\"width\":0.5},\"pattern\":{\"fillmode\":\"overlay\",\"size\":10,\"solidity\":0.2}},\"type\":\"bar\"}],\"barpolar\":[{\"marker\":{\"line\":{\"color\":\"#E5ECF6\",\"width\":0.5},\"pattern\":{\"fillmode\":\"overlay\",\"size\":10,\"solidity\":0.2}},\"type\":\"barpolar\"}],\"carpet\":[{\"aaxis\":{\"endlinecolor\":\"#2a3f5f\",\"gridcolor\":\"white\",\"linecolor\":\"white\",\"minorgridcolor\":\"white\",\"startlinecolor\":\"#2a3f5f\"},\"baxis\":{\"endlinecolor\":\"#2a3f5f\",\"gridcolor\":\"white\",\"linecolor\":\"white\",\"minorgridcolor\":\"white\",\"startlinecolor\":\"#2a3f5f\"},\"type\":\"carpet\"}],\"choropleth\":[{\"colorbar\":{\"outlinewidth\":0,\"ticks\":\"\"},\"type\":\"choropleth\"}],\"contour\":[{\"colorbar\":{\"outlinewidth\":0,\"ticks\":\"\"},\"colorscale\":[[0.0,\"#0d0887\"],[0.1111111111111111,\"#46039f\"],[0.2222222222222222,\"#7201a8\"],[0.3333333333333333,\"#9c179e\"],[0.4444444444444444,\"#bd3786\"],[0.5555555555555556,\"#d8576b\"],[0.6666666666666666,\"#ed7953\"],[0.7777777777777778,\"#fb9f3a\"],[0.8888888888888888,\"#fdca26\"],[1.0,\"#f0f921\"]],\"type\":\"contour\"}],\"contourcarpet\":[{\"colorbar\":{\"outlinewidth\":0,\"ticks\":\"\"},\"type\":\"contourcarpet\"}],\"heatmap\":[{\"colorbar\":{\"outlinewidth\":0,\"ticks\":\"\"},\"colorscale\":[[0.0,\"#0d0887\"],[0.1111111111111111,\"#46039f\"],[0.2222222222222222,\"#7201a8\"],[0.3333333333333333,\"#9c179e\"],[0.4444444444444444,\"#bd3786\"],[0.5555555555555556,\"#d8576b\"],[0.6666666666666666,\"#ed7953\"],[0.7777777777777778,\"#fb9f3a\"],[0.8888888888888888,\"#fdca26\"],[1.0,\"#f0f921\"]],\"type\":\"heatmap\"}],\"heatmapgl\":[{\"colorbar\":{\"outlinewidth\":0,\"ticks\":\"\"},\"colorscale\":[[0.0,\"#0d0887\"],[0.1111111111111111,\"#46039f\"],[0.2222222222222222,\"#7201a8\"],[0.3333333333333333,\"#9c179e\"],[0.4444444444444444,\"#bd3786\"],[0.5555555555555556,\"#d8576b\"],[0.6666666666666666,\"#ed7953\"],[0.7777777777777778,\"#fb9f3a\"],[0.8888888888888888,\"#fdca26\"],[1.0,\"#f0f921\"]],\"type\":\"heatmapgl\"}],\"histogram\":[{\"marker\":{\"pattern\":{\"fillmode\":\"overlay\",\"size\":10,\"solidity\":0.2}},\"type\":\"histogram\"}],\"histogram2d\":[{\"colorbar\":{\"outlinewidth\":0,\"ticks\":\"\"},\"colorscale\":[[0.0,\"#0d0887\"],[0.1111111111111111,\"#46039f\"],[0.2222222222222222,\"#7201a8\"],[0.3333333333333333,\"#9c179e\"],[0.4444444444444444,\"#bd3786\"],[0.5555555555555556,\"#d8576b\"],[0.6666666666666666,\"#ed7953\"],[0.7777777777777778,\"#fb9f3a\"],[0.8888888888888888,\"#fdca26\"],[1.0,\"#f0f921\"]],\"type\":\"histogram2d\"}],\"histogram2dcontour\":[{\"colorbar\":{\"outlinewidth\":0,\"ticks\":\"\"},\"colorscale\":[[0.0,\"#0d0887\"],[0.1111111111111111,\"#46039f\"],[0.2222222222222222,\"#7201a8\"],[0.3333333333333333,\"#9c179e\"],[0.4444444444444444,\"#bd3786\"],[0.5555555555555556,\"#d8576b\"],[0.6666666666666666,\"#ed7953\"],[0.7777777777777778,\"#fb9f3a\"],[0.8888888888888888,\"#fdca26\"],[1.0,\"#f0f921\"]],\"type\":\"histogram2dcontour\"}],\"mesh3d\":[{\"colorbar\":{\"outlinewidth\":0,\"ticks\":\"\"},\"type\":\"mesh3d\"}],\"parcoords\":[{\"line\":{\"colorbar\":{\"outlinewidth\":0,\"ticks\":\"\"}},\"type\":\"parcoords\"}],\"pie\":[{\"automargin\":true,\"type\":\"pie\"}],\"scatter\":[{\"marker\":{\"colorbar\":{\"outlinewidth\":0,\"ticks\":\"\"}},\"type\":\"scatter\"}],\"scatter3d\":[{\"line\":{\"colorbar\":{\"outlinewidth\":0,\"ticks\":\"\"}},\"marker\":{\"colorbar\":{\"outlinewidth\":0,\"ticks\":\"\"}},\"type\":\"scatter3d\"}],\"scattercarpet\":[{\"marker\":{\"colorbar\":{\"outlinewidth\":0,\"ticks\":\"\"}},\"type\":\"scattercarpet\"}],\"scattergeo\":[{\"marker\":{\"colorbar\":{\"outlinewidth\":0,\"ticks\":\"\"}},\"type\":\"scattergeo\"}],\"scattergl\":[{\"marker\":{\"colorbar\":{\"outlinewidth\":0,\"ticks\":\"\"}},\"type\":\"scattergl\"}],\"scattermapbox\":[{\"marker\":{\"colorbar\":{\"outlinewidth\":0,\"ticks\":\"\"}},\"type\":\"scattermapbox\"}],\"scatterpolar\":[{\"marker\":{\"colorbar\":{\"outlinewidth\":0,\"ticks\":\"\"}},\"type\":\"scatterpolar\"}],\"scatterpolargl\":[{\"marker\":{\"colorbar\":{\"outlinewidth\":0,\"ticks\":\"\"}},\"type\":\"scatterpolargl\"}],\"scatterternary\":[{\"marker\":{\"colorbar\":{\"outlinewidth\":0,\"ticks\":\"\"}},\"type\":\"scatterternary\"}],\"surface\":[{\"colorbar\":{\"outlinewidth\":0,\"ticks\":\"\"},\"colorscale\":[[0.0,\"#0d0887\"],[0.1111111111111111,\"#46039f\"],[0.2222222222222222,\"#7201a8\"],[0.3333333333333333,\"#9c179e\"],[0.4444444444444444,\"#bd3786\"],[0.5555555555555556,\"#d8576b\"],[0.6666666666666666,\"#ed7953\"],[0.7777777777777778,\"#fb9f3a\"],[0.8888888888888888,\"#fdca26\"],[1.0,\"#f0f921\"]],\"type\":\"surface\"}],\"table\":[{\"cells\":{\"fill\":{\"color\":\"#EBF0F8\"},\"line\":{\"color\":\"white\"}},\"header\":{\"fill\":{\"color\":\"#C8D4E3\"},\"line\":{\"color\":\"white\"}},\"type\":\"table\"}]},\"layout\":{\"annotationdefaults\":{\"arrowcolor\":\"#2a3f5f\",\"arrowhead\":0,\"arrowwidth\":1},\"autotypenumbers\":\"strict\",\"coloraxis\":{\"colorbar\":{\"outlinewidth\":0,\"ticks\":\"\"}},\"colorscale\":{\"diverging\":[[0,\"#8e0152\"],[0.1,\"#c51b7d\"],[0.2,\"#de77ae\"],[0.3,\"#f1b6da\"],[0.4,\"#fde0ef\"],[0.5,\"#f7f7f7\"],[0.6,\"#e6f5d0\"],[0.7,\"#b8e186\"],[0.8,\"#7fbc41\"],[0.9,\"#4d9221\"],[1,\"#276419\"]],\"sequential\":[[0.0,\"#0d0887\"],[0.1111111111111111,\"#46039f\"],[0.2222222222222222,\"#7201a8\"],[0.3333333333333333,\"#9c179e\"],[0.4444444444444444,\"#bd3786\"],[0.5555555555555556,\"#d8576b\"],[0.6666666666666666,\"#ed7953\"],[0.7777777777777778,\"#fb9f3a\"],[0.8888888888888888,\"#fdca26\"],[1.0,\"#f0f921\"]],\"sequentialminus\":[[0.0,\"#0d0887\"],[0.1111111111111111,\"#46039f\"],[0.2222222222222222,\"#7201a8\"],[0.3333333333333333,\"#9c179e\"],[0.4444444444444444,\"#bd3786\"],[0.5555555555555556,\"#d8576b\"],[0.6666666666666666,\"#ed7953\"],[0.7777777777777778,\"#fb9f3a\"],[0.8888888888888888,\"#fdca26\"],[1.0,\"#f0f921\"]]},\"colorway\":[\"#636efa\",\"#EF553B\",\"#00cc96\",\"#ab63fa\",\"#FFA15A\",\"#19d3f3\",\"#FF6692\",\"#B6E880\",\"#FF97FF\",\"#FECB52\"],\"font\":{\"color\":\"#2a3f5f\"},\"geo\":{\"bgcolor\":\"white\",\"lakecolor\":\"white\",\"landcolor\":\"#E5ECF6\",\"showlakes\":true,\"showland\":true,\"subunitcolor\":\"white\"},\"hoverlabel\":{\"align\":\"left\"},\"hovermode\":\"closest\",\"mapbox\":{\"style\":\"light\"},\"paper_bgcolor\":\"white\",\"plot_bgcolor\":\"#E5ECF6\",\"polar\":{\"angularaxis\":{\"gridcolor\":\"white\",\"linecolor\":\"white\",\"ticks\":\"\"},\"bgcolor\":\"#E5ECF6\",\"radialaxis\":{\"gridcolor\":\"white\",\"linecolor\":\"white\",\"ticks\":\"\"}},\"scene\":{\"xaxis\":{\"backgroundcolor\":\"#E5ECF6\",\"gridcolor\":\"white\",\"gridwidth\":2,\"linecolor\":\"white\",\"showbackground\":true,\"ticks\":\"\",\"zerolinecolor\":\"white\"},\"yaxis\":{\"backgroundcolor\":\"#E5ECF6\",\"gridcolor\":\"white\",\"gridwidth\":2,\"linecolor\":\"white\",\"showbackground\":true,\"ticks\":\"\",\"zerolinecolor\":\"white\"},\"zaxis\":{\"backgroundcolor\":\"#E5ECF6\",\"gridcolor\":\"white\",\"gridwidth\":2,\"linecolor\":\"white\",\"showbackground\":true,\"ticks\":\"\",\"zerolinecolor\":\"white\"}},\"shapedefaults\":{\"line\":{\"color\":\"#2a3f5f\"}},\"ternary\":{\"aaxis\":{\"gridcolor\":\"white\",\"linecolor\":\"white\",\"ticks\":\"\"},\"baxis\":{\"gridcolor\":\"white\",\"linecolor\":\"white\",\"ticks\":\"\"},\"bgcolor\":\"#E5ECF6\",\"caxis\":{\"gridcolor\":\"white\",\"linecolor\":\"white\",\"ticks\":\"\"}},\"title\":{\"x\":0.05},\"xaxis\":{\"automargin\":true,\"gridcolor\":\"white\",\"linecolor\":\"white\",\"ticks\":\"\",\"title\":{\"standoff\":15},\"zerolinecolor\":\"white\",\"zerolinewidth\":2},\"yaxis\":{\"automargin\":true,\"gridcolor\":\"white\",\"linecolor\":\"white\",\"ticks\":\"\",\"title\":{\"standoff\":15},\"zerolinecolor\":\"white\",\"zerolinewidth\":2}}},\"title\":{\"font\":{\"color\":\"#4D5663\"}},\"xaxis\":{\"gridcolor\":\"#E1E5ED\",\"showgrid\":true,\"tickfont\":{\"color\":\"#4D5663\"},\"title\":{\"font\":{\"color\":\"#4D5663\"},\"text\":\"\"},\"zerolinecolor\":\"#E1E5ED\"},\"yaxis\":{\"gridcolor\":\"#E1E5ED\",\"showgrid\":true,\"tickfont\":{\"color\":\"#4D5663\"},\"title\":{\"font\":{\"color\":\"#4D5663\"},\"text\":\"\"},\"zerolinecolor\":\"#E1E5ED\"}},                        {\"showLink\": true, \"linkText\": \"Export to plot.ly\", \"plotlyServerURL\": \"https://plot.ly\", \"responsive\": true}                    ).then(function(){\n",
       "                            \n",
       "var gd = document.getElementById('b0fce22e-b9e5-455c-a3f2-8bf4681fef2e');\n",
       "var x = new MutationObserver(function (mutations, observer) {{\n",
       "        var display = window.getComputedStyle(gd).display;\n",
       "        if (!display || display === 'none') {{\n",
       "            console.log([gd, 'removed!']);\n",
       "            Plotly.purge(gd);\n",
       "            observer.disconnect();\n",
       "        }}\n",
       "}});\n",
       "\n",
       "// Listen for the removal of the full notebook cells\n",
       "var notebookContainer = gd.closest('#notebook-container');\n",
       "if (notebookContainer) {{\n",
       "    x.observe(notebookContainer, {childList: true});\n",
       "}}\n",
       "\n",
       "// Listen for the clearing of the current output cell\n",
       "var outputEl = gd.closest('.output');\n",
       "if (outputEl) {{\n",
       "    x.observe(outputEl, {childList: true});\n",
       "}}\n",
       "\n",
       "                        })                };                });            </script>        </div>"
      ]
     },
     "metadata": {},
     "output_type": "display_data"
    }
   ],
   "source": [
    "# bubble plot for x and y with column-C as bubble size\n",
    "\n",
    "df.iplot(kind='bubble',x='A',y='B',size='C',color='black')"
   ]
  },
  {
   "cell_type": "code",
   "execution_count": 37,
   "metadata": {},
   "outputs": [
    {
     "data": {
      "application/vnd.plotly.v1+json": {
       "config": {
        "linkText": "Export to plot.ly",
        "plotlyServerURL": "https://plot.ly",
        "showLink": true
       },
       "data": [
        {
         "histfunc": "count",
         "histnorm": "",
         "marker": {
          "color": "rgba(255, 153, 51, 1.0)",
          "line": {
           "color": "#4D5663",
           "width": 1.3
          }
         },
         "name": "A",
         "nbinsx": 10,
         "opacity": 0.8,
         "orientation": "v",
         "type": "histogram",
         "x": [
          0.05605791357056261,
          0.460019687284693,
          0.6287518092337231,
          -0.40335735674017076,
          0.10729666753545831,
          -0.6295013494642708,
          -1.4951352553786494,
          1.0672754786555207,
          0.3598261803907446,
          -1.0166936426325441,
          -0.07666864253836506,
          0.0410685021645721,
          0.48573655430333923,
          -0.11416938422627511,
          -0.7386166413012212,
          0.7039588772816362,
          1.707845165649345,
          0.3042828542104509,
          1.1414108452743028,
          -0.1891422906682915,
          -1.0724824106218038,
          1.697912228612607,
          2.376315745461367,
          1.3285205463490388,
          0.5241455798665027,
          0.3296266350692246,
          0.893307944055857,
          0.29888277985522527,
          -0.40214756911155725,
          0.27769939748663547,
          1.7229469733657832,
          -1.0590791859078141,
          0.17677513633413716,
          -1.0751157989840059,
          -1.206163745609603,
          0.21085545930113656,
          0.28691557726486,
          0.5626865844183987,
          -0.024749798143169792,
          -1.227681486982836,
          2.3768811509212675,
          -1.5514568828774338,
          1.6112875275834087,
          -0.035511207000442,
          1.3597817860592807,
          0.6340139048174628,
          -0.9461246374711879,
          -0.5980463813946243,
          -0.11121371341266718,
          -0.7789947858694427,
          -0.7909367835488761,
          0.44597932143928465,
          -0.015829741692926957,
          0.5880978326151248,
          -1.1687690687778953,
          0.46738762470996625,
          -1.0232152012694558,
          0.019203856503362135,
          -0.2513480883458298,
          1.67760815029347,
          -0.3388913730150217,
          0.5054335631763178,
          -0.5582218465556053,
          0.09412762463803932,
          -0.269836966510378,
          -0.4229131069545643,
          -0.05562146161653577,
          0.36806445455580034,
          -0.1491590393377931,
          -1.6102639259917182,
          0.3538094719163923,
          1.2443563819434125,
          -0.5311791146417401,
          0.03025030818705174,
          2.6374187556509767,
          -0.06300359369525535,
          -0.2163986548430199,
          -1.4063465608219916,
          -0.6335377419553875,
          0.5468778943274468,
          0.22887859434644822,
          -0.0024186408660699346,
          1.051698629355191,
          -0.9869517109480603,
          -0.31987496824644224,
          -0.540174686913111,
          0.3340381390336442,
          0.7322443952033713,
          -0.9129854111412516,
          -0.18584647450385625,
          -0.9478104793799853,
          0.7151795709345523,
          -0.8542424412247567,
          -1.5265198883275757,
          0.5488311569159915,
          0.21865254089016833,
          -0.4204248699245095,
          -1.0376879604394742,
          0.24386425713090254,
          0.2897506749290084
         ],
         "xaxis": "x",
         "yaxis": "y"
        },
        {
         "line": {
          "color": "rgba(128, 128, 128, 1.0)",
          "dash": "solid",
          "shape": "linear",
          "width": 1.3
         },
         "marker": {
          "size": 2,
          "symbol": "circle"
         },
         "mode": "markers",
         "name": "A",
         "text": "",
         "type": "scatter",
         "x": [
          0.4908311343814552,
          0.2184294036515998,
          0.8773199756877776,
          -0.5306270595751419,
          -0.45857510326432177,
          -2.210141175194517,
          -1.1718073236010733,
          0.7655275912167271,
          0.6356541834810701,
          -1.6332828663175116,
          1.0487351561018425,
          1.43729039987702,
          -0.7409401093263623,
          -0.5906002518728066,
          -3.5822454622628177,
          1.775083894237991,
          3.153359736399895,
          -0.206360434964078,
          0.4832668240227068,
          1.4924634234884744,
          1.1303056661058593,
          0.3809413259195282,
          -0.08435249626929543,
          0.3702751991921212,
          1.3951327098969522,
          -1.7295969719787143,
          -0.44408775127808997,
          1.1487743309202474,
          -0.04902087713511538,
          -0.7120750076662782,
          0.40449471024488143,
          0.2918957958896897,
          0.5560023877190212,
          -0.16752371802339486,
          -1.716850478180125,
          0.649158426150467,
          1.1233767639252763,
          -0.814426114370307,
          0.9445349720500489,
          0.05147449020198193,
          0.8137655537705104,
          -1.2817599458106645,
          -0.14242664444260536,
          2.094452656634059,
          -0.6513378649946291,
          0.24095637290196942,
          0.6557918851124303,
          -0.3338149240064824,
          0.1969743738756663,
          -0.4912013596722006,
          1.4809601842856794,
          0.348984950814985,
          -0.4530667696706939,
          1.612914879507302,
          0.09814254220664902,
          0.1592404246273716,
          0.32301285061662766,
          -0.2110628783857944,
          -1.2090441466834407,
          0.2731259978707747,
          -0.6739588109652542,
          -1.0767813621272486,
          0.21458519274391671,
          -1.2171725576955057,
          0.9340611364054661,
          -0.3972945452157132,
          1.1575954255423209,
          -0.47619949851144905,
          2.519144683341893,
          1.2944533426663674,
          -0.9734229218001452,
          1.3682532247341346,
          -0.8496789312210303,
          -0.2649093729476989,
          0.6457170669435297,
          0.8271064006126501,
          -0.7749528988067509,
          1.001913076936737,
          0.8120002507488213,
          -0.8663830893781663,
          2.2109593730602133,
          -0.3781719075913857,
          0.015200436893985737,
          2.0796227484366914,
          0.03414309480971347,
          -0.7073025970093648,
          0.5447876540997124,
          0.15871659579090078,
          -0.060186952309339056,
          -2.040420778866945,
          -0.13855641571035474,
          -1.6961095263369388,
          -0.9299607848471094,
          0.42810125413179506,
          -0.20960566035875308,
          0.8091366866871842,
          -0.6383733130460841,
          0.03184295820309675,
          0.4099770897336773,
          0.29049798568337276
         ],
         "xaxis": "x2",
         "y": [
          0.05605791357056261,
          0.460019687284693,
          0.6287518092337231,
          -0.40335735674017076,
          0.10729666753545831,
          -0.6295013494642708,
          -1.4951352553786494,
          1.0672754786555207,
          0.3598261803907446,
          -1.0166936426325441,
          -0.07666864253836506,
          0.0410685021645721,
          0.48573655430333923,
          -0.11416938422627511,
          -0.7386166413012212,
          0.7039588772816362,
          1.707845165649345,
          0.3042828542104509,
          1.1414108452743028,
          -0.1891422906682915,
          -1.0724824106218038,
          1.697912228612607,
          2.376315745461367,
          1.3285205463490388,
          0.5241455798665027,
          0.3296266350692246,
          0.893307944055857,
          0.29888277985522527,
          -0.40214756911155725,
          0.27769939748663547,
          1.7229469733657832,
          -1.0590791859078141,
          0.17677513633413716,
          -1.0751157989840059,
          -1.206163745609603,
          0.21085545930113656,
          0.28691557726486,
          0.5626865844183987,
          -0.024749798143169792,
          -1.227681486982836,
          2.3768811509212675,
          -1.5514568828774338,
          1.6112875275834087,
          -0.035511207000442,
          1.3597817860592807,
          0.6340139048174628,
          -0.9461246374711879,
          -0.5980463813946243,
          -0.11121371341266718,
          -0.7789947858694427,
          -0.7909367835488761,
          0.44597932143928465,
          -0.015829741692926957,
          0.5880978326151248,
          -1.1687690687778953,
          0.46738762470996625,
          -1.0232152012694558,
          0.019203856503362135,
          -0.2513480883458298,
          1.67760815029347,
          -0.3388913730150217,
          0.5054335631763178,
          -0.5582218465556053,
          0.09412762463803932,
          -0.269836966510378,
          -0.4229131069545643,
          -0.05562146161653577,
          0.36806445455580034,
          -0.1491590393377931,
          -1.6102639259917182,
          0.3538094719163923,
          1.2443563819434125,
          -0.5311791146417401,
          0.03025030818705174,
          2.6374187556509767,
          -0.06300359369525535,
          -0.2163986548430199,
          -1.4063465608219916,
          -0.6335377419553875,
          0.5468778943274468,
          0.22887859434644822,
          -0.0024186408660699346,
          1.051698629355191,
          -0.9869517109480603,
          -0.31987496824644224,
          -0.540174686913111,
          0.3340381390336442,
          0.7322443952033713,
          -0.9129854111412516,
          -0.18584647450385625,
          -0.9478104793799853,
          0.7151795709345523,
          -0.8542424412247567,
          -1.5265198883275757,
          0.5488311569159915,
          0.21865254089016833,
          -0.4204248699245095,
          -1.0376879604394742,
          0.24386425713090254,
          0.2897506749290084
         ],
         "yaxis": "y2"
        },
        {
         "line": {
          "color": "rgba(128, 128, 128, 1.0)",
          "dash": "solid",
          "shape": "linear",
          "width": 1.3
         },
         "marker": {
          "size": 2,
          "symbol": "circle"
         },
         "mode": "markers",
         "name": "A",
         "text": "",
         "type": "scatter",
         "x": [
          1.24824987724467,
          0.9983689311913663,
          -1.0545690724204038,
          1.1110154458252424,
          -0.18806788243124886,
          1.6412332962784588,
          0.9976205692561707,
          -0.20563881102554485,
          0.5345206661859929,
          -0.8505885078959133,
          -1.1753042938369387,
          0.5549326737094422,
          1.0995805298123364,
          -1.0560733314055109,
          1.3277532401832361,
          1.4523608886914232,
          -0.161314534715455,
          -0.33489534535513893,
          -0.7537305268618539,
          -1.3651019723336582,
          0.15357143130152426,
          2.352502339439212,
          0.8208166600250829,
          -1.5795811113520248,
          0.9950742161653353,
          0.14579194579704557,
          0.8169337766943169,
          -1.1420317664011554,
          -0.6917161512521847,
          0.5397028580408441,
          1.2888922014575794,
          0.9645618249698433,
          2.508282884935816,
          -1.2406403110575333,
          0.6727589312788329,
          1.9535578727520735,
          2.0655850841980685,
          0.5939239517448182,
          1.5609919616111845,
          -0.7252496988828738,
          2.136310258701791,
          0.4446478384214512,
          0.7814050040605677,
          1.9400127197756265,
          -0.0625414646621362,
          -0.49897583504721527,
          0.34188695790826173,
          -0.8253166450180647,
          0.7075042946640339,
          -1.0497064659937023,
          0.6115380282026508,
          -0.042634838988535886,
          -1.613726680017053,
          -0.5108762951988812,
          -1.109847843378826,
          -0.7640949124503643,
          -1.1407668845157493,
          0.27212241625304584,
          1.0395184083143811,
          -1.5022539999450975,
          -0.9908832213910737,
          0.5194210032608014,
          -0.49037645678522157,
          1.2474633860946922,
          -1.2160380494102008,
          1.3460491818655465,
          -0.230631034046932,
          1.4089074816386598,
          -0.1579573048321106,
          -0.5160439485600161,
          -0.3648808343273896,
          -0.5257838884533907,
          0.06842469839609554,
          0.08568730169514732,
          -1.1371332137463852,
          -1.4971689928424767,
          -0.8515939238232175,
          -1.30988193953392,
          1.3795659468683439,
          -0.5130671601260106,
          0.9621516370294597,
          -0.9187135909664644,
          0.8604235269339526,
          0.37135557036266653,
          0.8614769610539936,
          -0.18904446358552046,
          -2.22437399622934,
          0.33106342755376417,
          2.549737610004259,
          -0.4618425641054059,
          -1.2889213156018071,
          0.07516728539907698,
          -0.048269396726482776,
          1.088268004436375,
          1.3079386308997538,
          -1.143496816856456,
          0.27367419166654844,
          -0.06915058726928211,
          0.4000533457112604,
          -0.021474464692848805
         ],
         "xaxis": "x3",
         "y": [
          0.05605791357056261,
          0.460019687284693,
          0.6287518092337231,
          -0.40335735674017076,
          0.10729666753545831,
          -0.6295013494642708,
          -1.4951352553786494,
          1.0672754786555207,
          0.3598261803907446,
          -1.0166936426325441,
          -0.07666864253836506,
          0.0410685021645721,
          0.48573655430333923,
          -0.11416938422627511,
          -0.7386166413012212,
          0.7039588772816362,
          1.707845165649345,
          0.3042828542104509,
          1.1414108452743028,
          -0.1891422906682915,
          -1.0724824106218038,
          1.697912228612607,
          2.376315745461367,
          1.3285205463490388,
          0.5241455798665027,
          0.3296266350692246,
          0.893307944055857,
          0.29888277985522527,
          -0.40214756911155725,
          0.27769939748663547,
          1.7229469733657832,
          -1.0590791859078141,
          0.17677513633413716,
          -1.0751157989840059,
          -1.206163745609603,
          0.21085545930113656,
          0.28691557726486,
          0.5626865844183987,
          -0.024749798143169792,
          -1.227681486982836,
          2.3768811509212675,
          -1.5514568828774338,
          1.6112875275834087,
          -0.035511207000442,
          1.3597817860592807,
          0.6340139048174628,
          -0.9461246374711879,
          -0.5980463813946243,
          -0.11121371341266718,
          -0.7789947858694427,
          -0.7909367835488761,
          0.44597932143928465,
          -0.015829741692926957,
          0.5880978326151248,
          -1.1687690687778953,
          0.46738762470996625,
          -1.0232152012694558,
          0.019203856503362135,
          -0.2513480883458298,
          1.67760815029347,
          -0.3388913730150217,
          0.5054335631763178,
          -0.5582218465556053,
          0.09412762463803932,
          -0.269836966510378,
          -0.4229131069545643,
          -0.05562146161653577,
          0.36806445455580034,
          -0.1491590393377931,
          -1.6102639259917182,
          0.3538094719163923,
          1.2443563819434125,
          -0.5311791146417401,
          0.03025030818705174,
          2.6374187556509767,
          -0.06300359369525535,
          -0.2163986548430199,
          -1.4063465608219916,
          -0.6335377419553875,
          0.5468778943274468,
          0.22887859434644822,
          -0.0024186408660699346,
          1.051698629355191,
          -0.9869517109480603,
          -0.31987496824644224,
          -0.540174686913111,
          0.3340381390336442,
          0.7322443952033713,
          -0.9129854111412516,
          -0.18584647450385625,
          -0.9478104793799853,
          0.7151795709345523,
          -0.8542424412247567,
          -1.5265198883275757,
          0.5488311569159915,
          0.21865254089016833,
          -0.4204248699245095,
          -1.0376879604394742,
          0.24386425713090254,
          0.2897506749290084
         ],
         "yaxis": "y3"
        },
        {
         "line": {
          "color": "rgba(128, 128, 128, 1.0)",
          "dash": "solid",
          "shape": "linear",
          "width": 1.3
         },
         "marker": {
          "size": 2,
          "symbol": "circle"
         },
         "mode": "markers",
         "name": "A",
         "text": "",
         "type": "scatter",
         "x": [
          1.0342738233186355,
          0.5156610196675836,
          -0.5725259067866464,
          -0.10970870252082576,
          -1.4327145722273824,
          -0.9826239102851156,
          0.5006651139298808,
          -1.1502675055475746,
          0.6639679297637253,
          -0.07752158325123237,
          2.0158414978467887,
          -0.9955282451419247,
          -1.7210864207825824,
          0.23479523078152342,
          -0.2161324289065316,
          0.25208726701439466,
          0.01577336591237228,
          0.34882139513354027,
          -0.7238237634736284,
          -0.3501528880220865,
          1.0479828325432092,
          0.9155011350265077,
          0.20143348513930073,
          -1.5723117782905938,
          0.8329643643432065,
          -0.020518177832366917,
          0.4434169197970847,
          -0.13151662643872672,
          0.19345297335747452,
          -1.0478613936117316,
          -1.2799209471787956,
          0.9050515082873299,
          -0.9489689486425905,
          -1.091978704639964,
          0.6384162534669922,
          -0.8818576944601535,
          0.2093325649640961,
          0.8242202667089975,
          -2.8517008211626615,
          0.30367457140949283,
          0.9725263493422491,
          1.224233425644717,
          0.8635991278823429,
          0.46944638498128954,
          0.8197091528699354,
          1.0113032914201345,
          0.13748361177121818,
          1.6692510622178953,
          0.432584711062849,
          -0.29826117549858916,
          -0.4593725731326591,
          -0.17404850710223124,
          -0.9369130775604738,
          0.2507113827278272,
          0.1530612974438675,
          1.5401766900531628,
          0.8993395464011825,
          -0.32920039648177646,
          0.5914808895285231,
          -0.7853589024365782,
          0.7325306864025032,
          -1.3905132515174619,
          0.9167629257257449,
          1.0412497492462496,
          3.0885137231233815,
          -0.6518212596559126,
          0.363107114757367,
          1.7062057862485325,
          0.050858029670477874,
          1.1709220746651454,
          0.6051558226870052,
          0.4992326633715957,
          0.20317822388308163,
          0.23867508128071055,
          -1.099568926340057,
          -2.1461816017798543,
          1.3572434043105053,
          -1.5904421177027062,
          -0.0642040160364851,
          0.7931736049541596,
          -1.2157041083468376,
          -1.6847396490905608,
          -1.8683363355635891,
          -0.6734526705125173,
          -1.26830693894692,
          -0.6493342786724048,
          -0.16319043196262376,
          -0.8780734025113669,
          -1.4106890856015997,
          -1.1809037028725,
          -0.5100649158973671,
          0.3895190308583476,
          -1.2204805956483635,
          0.1847573466074172,
          -1.383240694871071,
          -0.5472801903743459,
          0.9156878096550913,
          0.4285045498957374,
          0.5691321261310297,
          -0.5463110957781203
         ],
         "xaxis": "x4",
         "y": [
          0.05605791357056261,
          0.460019687284693,
          0.6287518092337231,
          -0.40335735674017076,
          0.10729666753545831,
          -0.6295013494642708,
          -1.4951352553786494,
          1.0672754786555207,
          0.3598261803907446,
          -1.0166936426325441,
          -0.07666864253836506,
          0.0410685021645721,
          0.48573655430333923,
          -0.11416938422627511,
          -0.7386166413012212,
          0.7039588772816362,
          1.707845165649345,
          0.3042828542104509,
          1.1414108452743028,
          -0.1891422906682915,
          -1.0724824106218038,
          1.697912228612607,
          2.376315745461367,
          1.3285205463490388,
          0.5241455798665027,
          0.3296266350692246,
          0.893307944055857,
          0.29888277985522527,
          -0.40214756911155725,
          0.27769939748663547,
          1.7229469733657832,
          -1.0590791859078141,
          0.17677513633413716,
          -1.0751157989840059,
          -1.206163745609603,
          0.21085545930113656,
          0.28691557726486,
          0.5626865844183987,
          -0.024749798143169792,
          -1.227681486982836,
          2.3768811509212675,
          -1.5514568828774338,
          1.6112875275834087,
          -0.035511207000442,
          1.3597817860592807,
          0.6340139048174628,
          -0.9461246374711879,
          -0.5980463813946243,
          -0.11121371341266718,
          -0.7789947858694427,
          -0.7909367835488761,
          0.44597932143928465,
          -0.015829741692926957,
          0.5880978326151248,
          -1.1687690687778953,
          0.46738762470996625,
          -1.0232152012694558,
          0.019203856503362135,
          -0.2513480883458298,
          1.67760815029347,
          -0.3388913730150217,
          0.5054335631763178,
          -0.5582218465556053,
          0.09412762463803932,
          -0.269836966510378,
          -0.4229131069545643,
          -0.05562146161653577,
          0.36806445455580034,
          -0.1491590393377931,
          -1.6102639259917182,
          0.3538094719163923,
          1.2443563819434125,
          -0.5311791146417401,
          0.03025030818705174,
          2.6374187556509767,
          -0.06300359369525535,
          -0.2163986548430199,
          -1.4063465608219916,
          -0.6335377419553875,
          0.5468778943274468,
          0.22887859434644822,
          -0.0024186408660699346,
          1.051698629355191,
          -0.9869517109480603,
          -0.31987496824644224,
          -0.540174686913111,
          0.3340381390336442,
          0.7322443952033713,
          -0.9129854111412516,
          -0.18584647450385625,
          -0.9478104793799853,
          0.7151795709345523,
          -0.8542424412247567,
          -1.5265198883275757,
          0.5488311569159915,
          0.21865254089016833,
          -0.4204248699245095,
          -1.0376879604394742,
          0.24386425713090254,
          0.2897506749290084
         ],
         "yaxis": "y4"
        },
        {
         "line": {
          "color": "rgba(128, 128, 128, 1.0)",
          "dash": "solid",
          "shape": "linear",
          "width": 1.3
         },
         "marker": {
          "size": 2,
          "symbol": "circle"
         },
         "mode": "markers",
         "name": "B",
         "text": "",
         "type": "scatter",
         "x": [
          0.05605791357056261,
          0.460019687284693,
          0.6287518092337231,
          -0.40335735674017076,
          0.10729666753545831,
          -0.6295013494642708,
          -1.4951352553786494,
          1.0672754786555207,
          0.3598261803907446,
          -1.0166936426325441,
          -0.07666864253836506,
          0.0410685021645721,
          0.48573655430333923,
          -0.11416938422627511,
          -0.7386166413012212,
          0.7039588772816362,
          1.707845165649345,
          0.3042828542104509,
          1.1414108452743028,
          -0.1891422906682915,
          -1.0724824106218038,
          1.697912228612607,
          2.376315745461367,
          1.3285205463490388,
          0.5241455798665027,
          0.3296266350692246,
          0.893307944055857,
          0.29888277985522527,
          -0.40214756911155725,
          0.27769939748663547,
          1.7229469733657832,
          -1.0590791859078141,
          0.17677513633413716,
          -1.0751157989840059,
          -1.206163745609603,
          0.21085545930113656,
          0.28691557726486,
          0.5626865844183987,
          -0.024749798143169792,
          -1.227681486982836,
          2.3768811509212675,
          -1.5514568828774338,
          1.6112875275834087,
          -0.035511207000442,
          1.3597817860592807,
          0.6340139048174628,
          -0.9461246374711879,
          -0.5980463813946243,
          -0.11121371341266718,
          -0.7789947858694427,
          -0.7909367835488761,
          0.44597932143928465,
          -0.015829741692926957,
          0.5880978326151248,
          -1.1687690687778953,
          0.46738762470996625,
          -1.0232152012694558,
          0.019203856503362135,
          -0.2513480883458298,
          1.67760815029347,
          -0.3388913730150217,
          0.5054335631763178,
          -0.5582218465556053,
          0.09412762463803932,
          -0.269836966510378,
          -0.4229131069545643,
          -0.05562146161653577,
          0.36806445455580034,
          -0.1491590393377931,
          -1.6102639259917182,
          0.3538094719163923,
          1.2443563819434125,
          -0.5311791146417401,
          0.03025030818705174,
          2.6374187556509767,
          -0.06300359369525535,
          -0.2163986548430199,
          -1.4063465608219916,
          -0.6335377419553875,
          0.5468778943274468,
          0.22887859434644822,
          -0.0024186408660699346,
          1.051698629355191,
          -0.9869517109480603,
          -0.31987496824644224,
          -0.540174686913111,
          0.3340381390336442,
          0.7322443952033713,
          -0.9129854111412516,
          -0.18584647450385625,
          -0.9478104793799853,
          0.7151795709345523,
          -0.8542424412247567,
          -1.5265198883275757,
          0.5488311569159915,
          0.21865254089016833,
          -0.4204248699245095,
          -1.0376879604394742,
          0.24386425713090254,
          0.2897506749290084
         ],
         "xaxis": "x5",
         "y": [
          0.4908311343814552,
          0.2184294036515998,
          0.8773199756877776,
          -0.5306270595751419,
          -0.45857510326432177,
          -2.210141175194517,
          -1.1718073236010733,
          0.7655275912167271,
          0.6356541834810701,
          -1.6332828663175116,
          1.0487351561018425,
          1.43729039987702,
          -0.7409401093263623,
          -0.5906002518728066,
          -3.5822454622628177,
          1.775083894237991,
          3.153359736399895,
          -0.206360434964078,
          0.4832668240227068,
          1.4924634234884744,
          1.1303056661058593,
          0.3809413259195282,
          -0.08435249626929543,
          0.3702751991921212,
          1.3951327098969522,
          -1.7295969719787143,
          -0.44408775127808997,
          1.1487743309202474,
          -0.04902087713511538,
          -0.7120750076662782,
          0.40449471024488143,
          0.2918957958896897,
          0.5560023877190212,
          -0.16752371802339486,
          -1.716850478180125,
          0.649158426150467,
          1.1233767639252763,
          -0.814426114370307,
          0.9445349720500489,
          0.05147449020198193,
          0.8137655537705104,
          -1.2817599458106645,
          -0.14242664444260536,
          2.094452656634059,
          -0.6513378649946291,
          0.24095637290196942,
          0.6557918851124303,
          -0.3338149240064824,
          0.1969743738756663,
          -0.4912013596722006,
          1.4809601842856794,
          0.348984950814985,
          -0.4530667696706939,
          1.612914879507302,
          0.09814254220664902,
          0.1592404246273716,
          0.32301285061662766,
          -0.2110628783857944,
          -1.2090441466834407,
          0.2731259978707747,
          -0.6739588109652542,
          -1.0767813621272486,
          0.21458519274391671,
          -1.2171725576955057,
          0.9340611364054661,
          -0.3972945452157132,
          1.1575954255423209,
          -0.47619949851144905,
          2.519144683341893,
          1.2944533426663674,
          -0.9734229218001452,
          1.3682532247341346,
          -0.8496789312210303,
          -0.2649093729476989,
          0.6457170669435297,
          0.8271064006126501,
          -0.7749528988067509,
          1.001913076936737,
          0.8120002507488213,
          -0.8663830893781663,
          2.2109593730602133,
          -0.3781719075913857,
          0.015200436893985737,
          2.0796227484366914,
          0.03414309480971347,
          -0.7073025970093648,
          0.5447876540997124,
          0.15871659579090078,
          -0.060186952309339056,
          -2.040420778866945,
          -0.13855641571035474,
          -1.6961095263369388,
          -0.9299607848471094,
          0.42810125413179506,
          -0.20960566035875308,
          0.8091366866871842,
          -0.6383733130460841,
          0.03184295820309675,
          0.4099770897336773,
          0.29049798568337276
         ],
         "yaxis": "y5"
        },
        {
         "histfunc": "count",
         "histnorm": "",
         "marker": {
          "color": "rgba(55, 128, 191, 1.0)",
          "line": {
           "color": "#4D5663",
           "width": 1.3
          }
         },
         "name": "B",
         "nbinsx": 10,
         "opacity": 0.8,
         "orientation": "v",
         "type": "histogram",
         "x": [
          0.4908311343814552,
          0.2184294036515998,
          0.8773199756877776,
          -0.5306270595751419,
          -0.45857510326432177,
          -2.210141175194517,
          -1.1718073236010733,
          0.7655275912167271,
          0.6356541834810701,
          -1.6332828663175116,
          1.0487351561018425,
          1.43729039987702,
          -0.7409401093263623,
          -0.5906002518728066,
          -3.5822454622628177,
          1.775083894237991,
          3.153359736399895,
          -0.206360434964078,
          0.4832668240227068,
          1.4924634234884744,
          1.1303056661058593,
          0.3809413259195282,
          -0.08435249626929543,
          0.3702751991921212,
          1.3951327098969522,
          -1.7295969719787143,
          -0.44408775127808997,
          1.1487743309202474,
          -0.04902087713511538,
          -0.7120750076662782,
          0.40449471024488143,
          0.2918957958896897,
          0.5560023877190212,
          -0.16752371802339486,
          -1.716850478180125,
          0.649158426150467,
          1.1233767639252763,
          -0.814426114370307,
          0.9445349720500489,
          0.05147449020198193,
          0.8137655537705104,
          -1.2817599458106645,
          -0.14242664444260536,
          2.094452656634059,
          -0.6513378649946291,
          0.24095637290196942,
          0.6557918851124303,
          -0.3338149240064824,
          0.1969743738756663,
          -0.4912013596722006,
          1.4809601842856794,
          0.348984950814985,
          -0.4530667696706939,
          1.612914879507302,
          0.09814254220664902,
          0.1592404246273716,
          0.32301285061662766,
          -0.2110628783857944,
          -1.2090441466834407,
          0.2731259978707747,
          -0.6739588109652542,
          -1.0767813621272486,
          0.21458519274391671,
          -1.2171725576955057,
          0.9340611364054661,
          -0.3972945452157132,
          1.1575954255423209,
          -0.47619949851144905,
          2.519144683341893,
          1.2944533426663674,
          -0.9734229218001452,
          1.3682532247341346,
          -0.8496789312210303,
          -0.2649093729476989,
          0.6457170669435297,
          0.8271064006126501,
          -0.7749528988067509,
          1.001913076936737,
          0.8120002507488213,
          -0.8663830893781663,
          2.2109593730602133,
          -0.3781719075913857,
          0.015200436893985737,
          2.0796227484366914,
          0.03414309480971347,
          -0.7073025970093648,
          0.5447876540997124,
          0.15871659579090078,
          -0.060186952309339056,
          -2.040420778866945,
          -0.13855641571035474,
          -1.6961095263369388,
          -0.9299607848471094,
          0.42810125413179506,
          -0.20960566035875308,
          0.8091366866871842,
          -0.6383733130460841,
          0.03184295820309675,
          0.4099770897336773,
          0.29049798568337276
         ],
         "xaxis": "x6",
         "yaxis": "y6"
        },
        {
         "line": {
          "color": "rgba(128, 128, 128, 1.0)",
          "dash": "solid",
          "shape": "linear",
          "width": 1.3
         },
         "marker": {
          "size": 2,
          "symbol": "circle"
         },
         "mode": "markers",
         "name": "B",
         "text": "",
         "type": "scatter",
         "x": [
          1.24824987724467,
          0.9983689311913663,
          -1.0545690724204038,
          1.1110154458252424,
          -0.18806788243124886,
          1.6412332962784588,
          0.9976205692561707,
          -0.20563881102554485,
          0.5345206661859929,
          -0.8505885078959133,
          -1.1753042938369387,
          0.5549326737094422,
          1.0995805298123364,
          -1.0560733314055109,
          1.3277532401832361,
          1.4523608886914232,
          -0.161314534715455,
          -0.33489534535513893,
          -0.7537305268618539,
          -1.3651019723336582,
          0.15357143130152426,
          2.352502339439212,
          0.8208166600250829,
          -1.5795811113520248,
          0.9950742161653353,
          0.14579194579704557,
          0.8169337766943169,
          -1.1420317664011554,
          -0.6917161512521847,
          0.5397028580408441,
          1.2888922014575794,
          0.9645618249698433,
          2.508282884935816,
          -1.2406403110575333,
          0.6727589312788329,
          1.9535578727520735,
          2.0655850841980685,
          0.5939239517448182,
          1.5609919616111845,
          -0.7252496988828738,
          2.136310258701791,
          0.4446478384214512,
          0.7814050040605677,
          1.9400127197756265,
          -0.0625414646621362,
          -0.49897583504721527,
          0.34188695790826173,
          -0.8253166450180647,
          0.7075042946640339,
          -1.0497064659937023,
          0.6115380282026508,
          -0.042634838988535886,
          -1.613726680017053,
          -0.5108762951988812,
          -1.109847843378826,
          -0.7640949124503643,
          -1.1407668845157493,
          0.27212241625304584,
          1.0395184083143811,
          -1.5022539999450975,
          -0.9908832213910737,
          0.5194210032608014,
          -0.49037645678522157,
          1.2474633860946922,
          -1.2160380494102008,
          1.3460491818655465,
          -0.230631034046932,
          1.4089074816386598,
          -0.1579573048321106,
          -0.5160439485600161,
          -0.3648808343273896,
          -0.5257838884533907,
          0.06842469839609554,
          0.08568730169514732,
          -1.1371332137463852,
          -1.4971689928424767,
          -0.8515939238232175,
          -1.30988193953392,
          1.3795659468683439,
          -0.5130671601260106,
          0.9621516370294597,
          -0.9187135909664644,
          0.8604235269339526,
          0.37135557036266653,
          0.8614769610539936,
          -0.18904446358552046,
          -2.22437399622934,
          0.33106342755376417,
          2.549737610004259,
          -0.4618425641054059,
          -1.2889213156018071,
          0.07516728539907698,
          -0.048269396726482776,
          1.088268004436375,
          1.3079386308997538,
          -1.143496816856456,
          0.27367419166654844,
          -0.06915058726928211,
          0.4000533457112604,
          -0.021474464692848805
         ],
         "xaxis": "x7",
         "y": [
          0.4908311343814552,
          0.2184294036515998,
          0.8773199756877776,
          -0.5306270595751419,
          -0.45857510326432177,
          -2.210141175194517,
          -1.1718073236010733,
          0.7655275912167271,
          0.6356541834810701,
          -1.6332828663175116,
          1.0487351561018425,
          1.43729039987702,
          -0.7409401093263623,
          -0.5906002518728066,
          -3.5822454622628177,
          1.775083894237991,
          3.153359736399895,
          -0.206360434964078,
          0.4832668240227068,
          1.4924634234884744,
          1.1303056661058593,
          0.3809413259195282,
          -0.08435249626929543,
          0.3702751991921212,
          1.3951327098969522,
          -1.7295969719787143,
          -0.44408775127808997,
          1.1487743309202474,
          -0.04902087713511538,
          -0.7120750076662782,
          0.40449471024488143,
          0.2918957958896897,
          0.5560023877190212,
          -0.16752371802339486,
          -1.716850478180125,
          0.649158426150467,
          1.1233767639252763,
          -0.814426114370307,
          0.9445349720500489,
          0.05147449020198193,
          0.8137655537705104,
          -1.2817599458106645,
          -0.14242664444260536,
          2.094452656634059,
          -0.6513378649946291,
          0.24095637290196942,
          0.6557918851124303,
          -0.3338149240064824,
          0.1969743738756663,
          -0.4912013596722006,
          1.4809601842856794,
          0.348984950814985,
          -0.4530667696706939,
          1.612914879507302,
          0.09814254220664902,
          0.1592404246273716,
          0.32301285061662766,
          -0.2110628783857944,
          -1.2090441466834407,
          0.2731259978707747,
          -0.6739588109652542,
          -1.0767813621272486,
          0.21458519274391671,
          -1.2171725576955057,
          0.9340611364054661,
          -0.3972945452157132,
          1.1575954255423209,
          -0.47619949851144905,
          2.519144683341893,
          1.2944533426663674,
          -0.9734229218001452,
          1.3682532247341346,
          -0.8496789312210303,
          -0.2649093729476989,
          0.6457170669435297,
          0.8271064006126501,
          -0.7749528988067509,
          1.001913076936737,
          0.8120002507488213,
          -0.8663830893781663,
          2.2109593730602133,
          -0.3781719075913857,
          0.015200436893985737,
          2.0796227484366914,
          0.03414309480971347,
          -0.7073025970093648,
          0.5447876540997124,
          0.15871659579090078,
          -0.060186952309339056,
          -2.040420778866945,
          -0.13855641571035474,
          -1.6961095263369388,
          -0.9299607848471094,
          0.42810125413179506,
          -0.20960566035875308,
          0.8091366866871842,
          -0.6383733130460841,
          0.03184295820309675,
          0.4099770897336773,
          0.29049798568337276
         ],
         "yaxis": "y7"
        },
        {
         "line": {
          "color": "rgba(128, 128, 128, 1.0)",
          "dash": "solid",
          "shape": "linear",
          "width": 1.3
         },
         "marker": {
          "size": 2,
          "symbol": "circle"
         },
         "mode": "markers",
         "name": "B",
         "text": "",
         "type": "scatter",
         "x": [
          1.0342738233186355,
          0.5156610196675836,
          -0.5725259067866464,
          -0.10970870252082576,
          -1.4327145722273824,
          -0.9826239102851156,
          0.5006651139298808,
          -1.1502675055475746,
          0.6639679297637253,
          -0.07752158325123237,
          2.0158414978467887,
          -0.9955282451419247,
          -1.7210864207825824,
          0.23479523078152342,
          -0.2161324289065316,
          0.25208726701439466,
          0.01577336591237228,
          0.34882139513354027,
          -0.7238237634736284,
          -0.3501528880220865,
          1.0479828325432092,
          0.9155011350265077,
          0.20143348513930073,
          -1.5723117782905938,
          0.8329643643432065,
          -0.020518177832366917,
          0.4434169197970847,
          -0.13151662643872672,
          0.19345297335747452,
          -1.0478613936117316,
          -1.2799209471787956,
          0.9050515082873299,
          -0.9489689486425905,
          -1.091978704639964,
          0.6384162534669922,
          -0.8818576944601535,
          0.2093325649640961,
          0.8242202667089975,
          -2.8517008211626615,
          0.30367457140949283,
          0.9725263493422491,
          1.224233425644717,
          0.8635991278823429,
          0.46944638498128954,
          0.8197091528699354,
          1.0113032914201345,
          0.13748361177121818,
          1.6692510622178953,
          0.432584711062849,
          -0.29826117549858916,
          -0.4593725731326591,
          -0.17404850710223124,
          -0.9369130775604738,
          0.2507113827278272,
          0.1530612974438675,
          1.5401766900531628,
          0.8993395464011825,
          -0.32920039648177646,
          0.5914808895285231,
          -0.7853589024365782,
          0.7325306864025032,
          -1.3905132515174619,
          0.9167629257257449,
          1.0412497492462496,
          3.0885137231233815,
          -0.6518212596559126,
          0.363107114757367,
          1.7062057862485325,
          0.050858029670477874,
          1.1709220746651454,
          0.6051558226870052,
          0.4992326633715957,
          0.20317822388308163,
          0.23867508128071055,
          -1.099568926340057,
          -2.1461816017798543,
          1.3572434043105053,
          -1.5904421177027062,
          -0.0642040160364851,
          0.7931736049541596,
          -1.2157041083468376,
          -1.6847396490905608,
          -1.8683363355635891,
          -0.6734526705125173,
          -1.26830693894692,
          -0.6493342786724048,
          -0.16319043196262376,
          -0.8780734025113669,
          -1.4106890856015997,
          -1.1809037028725,
          -0.5100649158973671,
          0.3895190308583476,
          -1.2204805956483635,
          0.1847573466074172,
          -1.383240694871071,
          -0.5472801903743459,
          0.9156878096550913,
          0.4285045498957374,
          0.5691321261310297,
          -0.5463110957781203
         ],
         "xaxis": "x8",
         "y": [
          0.4908311343814552,
          0.2184294036515998,
          0.8773199756877776,
          -0.5306270595751419,
          -0.45857510326432177,
          -2.210141175194517,
          -1.1718073236010733,
          0.7655275912167271,
          0.6356541834810701,
          -1.6332828663175116,
          1.0487351561018425,
          1.43729039987702,
          -0.7409401093263623,
          -0.5906002518728066,
          -3.5822454622628177,
          1.775083894237991,
          3.153359736399895,
          -0.206360434964078,
          0.4832668240227068,
          1.4924634234884744,
          1.1303056661058593,
          0.3809413259195282,
          -0.08435249626929543,
          0.3702751991921212,
          1.3951327098969522,
          -1.7295969719787143,
          -0.44408775127808997,
          1.1487743309202474,
          -0.04902087713511538,
          -0.7120750076662782,
          0.40449471024488143,
          0.2918957958896897,
          0.5560023877190212,
          -0.16752371802339486,
          -1.716850478180125,
          0.649158426150467,
          1.1233767639252763,
          -0.814426114370307,
          0.9445349720500489,
          0.05147449020198193,
          0.8137655537705104,
          -1.2817599458106645,
          -0.14242664444260536,
          2.094452656634059,
          -0.6513378649946291,
          0.24095637290196942,
          0.6557918851124303,
          -0.3338149240064824,
          0.1969743738756663,
          -0.4912013596722006,
          1.4809601842856794,
          0.348984950814985,
          -0.4530667696706939,
          1.612914879507302,
          0.09814254220664902,
          0.1592404246273716,
          0.32301285061662766,
          -0.2110628783857944,
          -1.2090441466834407,
          0.2731259978707747,
          -0.6739588109652542,
          -1.0767813621272486,
          0.21458519274391671,
          -1.2171725576955057,
          0.9340611364054661,
          -0.3972945452157132,
          1.1575954255423209,
          -0.47619949851144905,
          2.519144683341893,
          1.2944533426663674,
          -0.9734229218001452,
          1.3682532247341346,
          -0.8496789312210303,
          -0.2649093729476989,
          0.6457170669435297,
          0.8271064006126501,
          -0.7749528988067509,
          1.001913076936737,
          0.8120002507488213,
          -0.8663830893781663,
          2.2109593730602133,
          -0.3781719075913857,
          0.015200436893985737,
          2.0796227484366914,
          0.03414309480971347,
          -0.7073025970093648,
          0.5447876540997124,
          0.15871659579090078,
          -0.060186952309339056,
          -2.040420778866945,
          -0.13855641571035474,
          -1.6961095263369388,
          -0.9299607848471094,
          0.42810125413179506,
          -0.20960566035875308,
          0.8091366866871842,
          -0.6383733130460841,
          0.03184295820309675,
          0.4099770897336773,
          0.29049798568337276
         ],
         "yaxis": "y8"
        },
        {
         "line": {
          "color": "rgba(128, 128, 128, 1.0)",
          "dash": "solid",
          "shape": "linear",
          "width": 1.3
         },
         "marker": {
          "size": 2,
          "symbol": "circle"
         },
         "mode": "markers",
         "name": "C",
         "text": "",
         "type": "scatter",
         "x": [
          0.05605791357056261,
          0.460019687284693,
          0.6287518092337231,
          -0.40335735674017076,
          0.10729666753545831,
          -0.6295013494642708,
          -1.4951352553786494,
          1.0672754786555207,
          0.3598261803907446,
          -1.0166936426325441,
          -0.07666864253836506,
          0.0410685021645721,
          0.48573655430333923,
          -0.11416938422627511,
          -0.7386166413012212,
          0.7039588772816362,
          1.707845165649345,
          0.3042828542104509,
          1.1414108452743028,
          -0.1891422906682915,
          -1.0724824106218038,
          1.697912228612607,
          2.376315745461367,
          1.3285205463490388,
          0.5241455798665027,
          0.3296266350692246,
          0.893307944055857,
          0.29888277985522527,
          -0.40214756911155725,
          0.27769939748663547,
          1.7229469733657832,
          -1.0590791859078141,
          0.17677513633413716,
          -1.0751157989840059,
          -1.206163745609603,
          0.21085545930113656,
          0.28691557726486,
          0.5626865844183987,
          -0.024749798143169792,
          -1.227681486982836,
          2.3768811509212675,
          -1.5514568828774338,
          1.6112875275834087,
          -0.035511207000442,
          1.3597817860592807,
          0.6340139048174628,
          -0.9461246374711879,
          -0.5980463813946243,
          -0.11121371341266718,
          -0.7789947858694427,
          -0.7909367835488761,
          0.44597932143928465,
          -0.015829741692926957,
          0.5880978326151248,
          -1.1687690687778953,
          0.46738762470996625,
          -1.0232152012694558,
          0.019203856503362135,
          -0.2513480883458298,
          1.67760815029347,
          -0.3388913730150217,
          0.5054335631763178,
          -0.5582218465556053,
          0.09412762463803932,
          -0.269836966510378,
          -0.4229131069545643,
          -0.05562146161653577,
          0.36806445455580034,
          -0.1491590393377931,
          -1.6102639259917182,
          0.3538094719163923,
          1.2443563819434125,
          -0.5311791146417401,
          0.03025030818705174,
          2.6374187556509767,
          -0.06300359369525535,
          -0.2163986548430199,
          -1.4063465608219916,
          -0.6335377419553875,
          0.5468778943274468,
          0.22887859434644822,
          -0.0024186408660699346,
          1.051698629355191,
          -0.9869517109480603,
          -0.31987496824644224,
          -0.540174686913111,
          0.3340381390336442,
          0.7322443952033713,
          -0.9129854111412516,
          -0.18584647450385625,
          -0.9478104793799853,
          0.7151795709345523,
          -0.8542424412247567,
          -1.5265198883275757,
          0.5488311569159915,
          0.21865254089016833,
          -0.4204248699245095,
          -1.0376879604394742,
          0.24386425713090254,
          0.2897506749290084
         ],
         "xaxis": "x9",
         "y": [
          1.24824987724467,
          0.9983689311913663,
          -1.0545690724204038,
          1.1110154458252424,
          -0.18806788243124886,
          1.6412332962784588,
          0.9976205692561707,
          -0.20563881102554485,
          0.5345206661859929,
          -0.8505885078959133,
          -1.1753042938369387,
          0.5549326737094422,
          1.0995805298123364,
          -1.0560733314055109,
          1.3277532401832361,
          1.4523608886914232,
          -0.161314534715455,
          -0.33489534535513893,
          -0.7537305268618539,
          -1.3651019723336582,
          0.15357143130152426,
          2.352502339439212,
          0.8208166600250829,
          -1.5795811113520248,
          0.9950742161653353,
          0.14579194579704557,
          0.8169337766943169,
          -1.1420317664011554,
          -0.6917161512521847,
          0.5397028580408441,
          1.2888922014575794,
          0.9645618249698433,
          2.508282884935816,
          -1.2406403110575333,
          0.6727589312788329,
          1.9535578727520735,
          2.0655850841980685,
          0.5939239517448182,
          1.5609919616111845,
          -0.7252496988828738,
          2.136310258701791,
          0.4446478384214512,
          0.7814050040605677,
          1.9400127197756265,
          -0.0625414646621362,
          -0.49897583504721527,
          0.34188695790826173,
          -0.8253166450180647,
          0.7075042946640339,
          -1.0497064659937023,
          0.6115380282026508,
          -0.042634838988535886,
          -1.613726680017053,
          -0.5108762951988812,
          -1.109847843378826,
          -0.7640949124503643,
          -1.1407668845157493,
          0.27212241625304584,
          1.0395184083143811,
          -1.5022539999450975,
          -0.9908832213910737,
          0.5194210032608014,
          -0.49037645678522157,
          1.2474633860946922,
          -1.2160380494102008,
          1.3460491818655465,
          -0.230631034046932,
          1.4089074816386598,
          -0.1579573048321106,
          -0.5160439485600161,
          -0.3648808343273896,
          -0.5257838884533907,
          0.06842469839609554,
          0.08568730169514732,
          -1.1371332137463852,
          -1.4971689928424767,
          -0.8515939238232175,
          -1.30988193953392,
          1.3795659468683439,
          -0.5130671601260106,
          0.9621516370294597,
          -0.9187135909664644,
          0.8604235269339526,
          0.37135557036266653,
          0.8614769610539936,
          -0.18904446358552046,
          -2.22437399622934,
          0.33106342755376417,
          2.549737610004259,
          -0.4618425641054059,
          -1.2889213156018071,
          0.07516728539907698,
          -0.048269396726482776,
          1.088268004436375,
          1.3079386308997538,
          -1.143496816856456,
          0.27367419166654844,
          -0.06915058726928211,
          0.4000533457112604,
          -0.021474464692848805
         ],
         "yaxis": "y9"
        },
        {
         "line": {
          "color": "rgba(128, 128, 128, 1.0)",
          "dash": "solid",
          "shape": "linear",
          "width": 1.3
         },
         "marker": {
          "size": 2,
          "symbol": "circle"
         },
         "mode": "markers",
         "name": "C",
         "text": "",
         "type": "scatter",
         "x": [
          0.4908311343814552,
          0.2184294036515998,
          0.8773199756877776,
          -0.5306270595751419,
          -0.45857510326432177,
          -2.210141175194517,
          -1.1718073236010733,
          0.7655275912167271,
          0.6356541834810701,
          -1.6332828663175116,
          1.0487351561018425,
          1.43729039987702,
          -0.7409401093263623,
          -0.5906002518728066,
          -3.5822454622628177,
          1.775083894237991,
          3.153359736399895,
          -0.206360434964078,
          0.4832668240227068,
          1.4924634234884744,
          1.1303056661058593,
          0.3809413259195282,
          -0.08435249626929543,
          0.3702751991921212,
          1.3951327098969522,
          -1.7295969719787143,
          -0.44408775127808997,
          1.1487743309202474,
          -0.04902087713511538,
          -0.7120750076662782,
          0.40449471024488143,
          0.2918957958896897,
          0.5560023877190212,
          -0.16752371802339486,
          -1.716850478180125,
          0.649158426150467,
          1.1233767639252763,
          -0.814426114370307,
          0.9445349720500489,
          0.05147449020198193,
          0.8137655537705104,
          -1.2817599458106645,
          -0.14242664444260536,
          2.094452656634059,
          -0.6513378649946291,
          0.24095637290196942,
          0.6557918851124303,
          -0.3338149240064824,
          0.1969743738756663,
          -0.4912013596722006,
          1.4809601842856794,
          0.348984950814985,
          -0.4530667696706939,
          1.612914879507302,
          0.09814254220664902,
          0.1592404246273716,
          0.32301285061662766,
          -0.2110628783857944,
          -1.2090441466834407,
          0.2731259978707747,
          -0.6739588109652542,
          -1.0767813621272486,
          0.21458519274391671,
          -1.2171725576955057,
          0.9340611364054661,
          -0.3972945452157132,
          1.1575954255423209,
          -0.47619949851144905,
          2.519144683341893,
          1.2944533426663674,
          -0.9734229218001452,
          1.3682532247341346,
          -0.8496789312210303,
          -0.2649093729476989,
          0.6457170669435297,
          0.8271064006126501,
          -0.7749528988067509,
          1.001913076936737,
          0.8120002507488213,
          -0.8663830893781663,
          2.2109593730602133,
          -0.3781719075913857,
          0.015200436893985737,
          2.0796227484366914,
          0.03414309480971347,
          -0.7073025970093648,
          0.5447876540997124,
          0.15871659579090078,
          -0.060186952309339056,
          -2.040420778866945,
          -0.13855641571035474,
          -1.6961095263369388,
          -0.9299607848471094,
          0.42810125413179506,
          -0.20960566035875308,
          0.8091366866871842,
          -0.6383733130460841,
          0.03184295820309675,
          0.4099770897336773,
          0.29049798568337276
         ],
         "xaxis": "x10",
         "y": [
          1.24824987724467,
          0.9983689311913663,
          -1.0545690724204038,
          1.1110154458252424,
          -0.18806788243124886,
          1.6412332962784588,
          0.9976205692561707,
          -0.20563881102554485,
          0.5345206661859929,
          -0.8505885078959133,
          -1.1753042938369387,
          0.5549326737094422,
          1.0995805298123364,
          -1.0560733314055109,
          1.3277532401832361,
          1.4523608886914232,
          -0.161314534715455,
          -0.33489534535513893,
          -0.7537305268618539,
          -1.3651019723336582,
          0.15357143130152426,
          2.352502339439212,
          0.8208166600250829,
          -1.5795811113520248,
          0.9950742161653353,
          0.14579194579704557,
          0.8169337766943169,
          -1.1420317664011554,
          -0.6917161512521847,
          0.5397028580408441,
          1.2888922014575794,
          0.9645618249698433,
          2.508282884935816,
          -1.2406403110575333,
          0.6727589312788329,
          1.9535578727520735,
          2.0655850841980685,
          0.5939239517448182,
          1.5609919616111845,
          -0.7252496988828738,
          2.136310258701791,
          0.4446478384214512,
          0.7814050040605677,
          1.9400127197756265,
          -0.0625414646621362,
          -0.49897583504721527,
          0.34188695790826173,
          -0.8253166450180647,
          0.7075042946640339,
          -1.0497064659937023,
          0.6115380282026508,
          -0.042634838988535886,
          -1.613726680017053,
          -0.5108762951988812,
          -1.109847843378826,
          -0.7640949124503643,
          -1.1407668845157493,
          0.27212241625304584,
          1.0395184083143811,
          -1.5022539999450975,
          -0.9908832213910737,
          0.5194210032608014,
          -0.49037645678522157,
          1.2474633860946922,
          -1.2160380494102008,
          1.3460491818655465,
          -0.230631034046932,
          1.4089074816386598,
          -0.1579573048321106,
          -0.5160439485600161,
          -0.3648808343273896,
          -0.5257838884533907,
          0.06842469839609554,
          0.08568730169514732,
          -1.1371332137463852,
          -1.4971689928424767,
          -0.8515939238232175,
          -1.30988193953392,
          1.3795659468683439,
          -0.5130671601260106,
          0.9621516370294597,
          -0.9187135909664644,
          0.8604235269339526,
          0.37135557036266653,
          0.8614769610539936,
          -0.18904446358552046,
          -2.22437399622934,
          0.33106342755376417,
          2.549737610004259,
          -0.4618425641054059,
          -1.2889213156018071,
          0.07516728539907698,
          -0.048269396726482776,
          1.088268004436375,
          1.3079386308997538,
          -1.143496816856456,
          0.27367419166654844,
          -0.06915058726928211,
          0.4000533457112604,
          -0.021474464692848805
         ],
         "yaxis": "y10"
        },
        {
         "histfunc": "count",
         "histnorm": "",
         "marker": {
          "color": "rgba(50, 171, 96, 1.0)",
          "line": {
           "color": "#4D5663",
           "width": 1.3
          }
         },
         "name": "C",
         "nbinsx": 10,
         "opacity": 0.8,
         "orientation": "v",
         "type": "histogram",
         "x": [
          1.24824987724467,
          0.9983689311913663,
          -1.0545690724204038,
          1.1110154458252424,
          -0.18806788243124886,
          1.6412332962784588,
          0.9976205692561707,
          -0.20563881102554485,
          0.5345206661859929,
          -0.8505885078959133,
          -1.1753042938369387,
          0.5549326737094422,
          1.0995805298123364,
          -1.0560733314055109,
          1.3277532401832361,
          1.4523608886914232,
          -0.161314534715455,
          -0.33489534535513893,
          -0.7537305268618539,
          -1.3651019723336582,
          0.15357143130152426,
          2.352502339439212,
          0.8208166600250829,
          -1.5795811113520248,
          0.9950742161653353,
          0.14579194579704557,
          0.8169337766943169,
          -1.1420317664011554,
          -0.6917161512521847,
          0.5397028580408441,
          1.2888922014575794,
          0.9645618249698433,
          2.508282884935816,
          -1.2406403110575333,
          0.6727589312788329,
          1.9535578727520735,
          2.0655850841980685,
          0.5939239517448182,
          1.5609919616111845,
          -0.7252496988828738,
          2.136310258701791,
          0.4446478384214512,
          0.7814050040605677,
          1.9400127197756265,
          -0.0625414646621362,
          -0.49897583504721527,
          0.34188695790826173,
          -0.8253166450180647,
          0.7075042946640339,
          -1.0497064659937023,
          0.6115380282026508,
          -0.042634838988535886,
          -1.613726680017053,
          -0.5108762951988812,
          -1.109847843378826,
          -0.7640949124503643,
          -1.1407668845157493,
          0.27212241625304584,
          1.0395184083143811,
          -1.5022539999450975,
          -0.9908832213910737,
          0.5194210032608014,
          -0.49037645678522157,
          1.2474633860946922,
          -1.2160380494102008,
          1.3460491818655465,
          -0.230631034046932,
          1.4089074816386598,
          -0.1579573048321106,
          -0.5160439485600161,
          -0.3648808343273896,
          -0.5257838884533907,
          0.06842469839609554,
          0.08568730169514732,
          -1.1371332137463852,
          -1.4971689928424767,
          -0.8515939238232175,
          -1.30988193953392,
          1.3795659468683439,
          -0.5130671601260106,
          0.9621516370294597,
          -0.9187135909664644,
          0.8604235269339526,
          0.37135557036266653,
          0.8614769610539936,
          -0.18904446358552046,
          -2.22437399622934,
          0.33106342755376417,
          2.549737610004259,
          -0.4618425641054059,
          -1.2889213156018071,
          0.07516728539907698,
          -0.048269396726482776,
          1.088268004436375,
          1.3079386308997538,
          -1.143496816856456,
          0.27367419166654844,
          -0.06915058726928211,
          0.4000533457112604,
          -0.021474464692848805
         ],
         "xaxis": "x11",
         "yaxis": "y11"
        },
        {
         "line": {
          "color": "rgba(128, 128, 128, 1.0)",
          "dash": "solid",
          "shape": "linear",
          "width": 1.3
         },
         "marker": {
          "size": 2,
          "symbol": "circle"
         },
         "mode": "markers",
         "name": "C",
         "text": "",
         "type": "scatter",
         "x": [
          1.0342738233186355,
          0.5156610196675836,
          -0.5725259067866464,
          -0.10970870252082576,
          -1.4327145722273824,
          -0.9826239102851156,
          0.5006651139298808,
          -1.1502675055475746,
          0.6639679297637253,
          -0.07752158325123237,
          2.0158414978467887,
          -0.9955282451419247,
          -1.7210864207825824,
          0.23479523078152342,
          -0.2161324289065316,
          0.25208726701439466,
          0.01577336591237228,
          0.34882139513354027,
          -0.7238237634736284,
          -0.3501528880220865,
          1.0479828325432092,
          0.9155011350265077,
          0.20143348513930073,
          -1.5723117782905938,
          0.8329643643432065,
          -0.020518177832366917,
          0.4434169197970847,
          -0.13151662643872672,
          0.19345297335747452,
          -1.0478613936117316,
          -1.2799209471787956,
          0.9050515082873299,
          -0.9489689486425905,
          -1.091978704639964,
          0.6384162534669922,
          -0.8818576944601535,
          0.2093325649640961,
          0.8242202667089975,
          -2.8517008211626615,
          0.30367457140949283,
          0.9725263493422491,
          1.224233425644717,
          0.8635991278823429,
          0.46944638498128954,
          0.8197091528699354,
          1.0113032914201345,
          0.13748361177121818,
          1.6692510622178953,
          0.432584711062849,
          -0.29826117549858916,
          -0.4593725731326591,
          -0.17404850710223124,
          -0.9369130775604738,
          0.2507113827278272,
          0.1530612974438675,
          1.5401766900531628,
          0.8993395464011825,
          -0.32920039648177646,
          0.5914808895285231,
          -0.7853589024365782,
          0.7325306864025032,
          -1.3905132515174619,
          0.9167629257257449,
          1.0412497492462496,
          3.0885137231233815,
          -0.6518212596559126,
          0.363107114757367,
          1.7062057862485325,
          0.050858029670477874,
          1.1709220746651454,
          0.6051558226870052,
          0.4992326633715957,
          0.20317822388308163,
          0.23867508128071055,
          -1.099568926340057,
          -2.1461816017798543,
          1.3572434043105053,
          -1.5904421177027062,
          -0.0642040160364851,
          0.7931736049541596,
          -1.2157041083468376,
          -1.6847396490905608,
          -1.8683363355635891,
          -0.6734526705125173,
          -1.26830693894692,
          -0.6493342786724048,
          -0.16319043196262376,
          -0.8780734025113669,
          -1.4106890856015997,
          -1.1809037028725,
          -0.5100649158973671,
          0.3895190308583476,
          -1.2204805956483635,
          0.1847573466074172,
          -1.383240694871071,
          -0.5472801903743459,
          0.9156878096550913,
          0.4285045498957374,
          0.5691321261310297,
          -0.5463110957781203
         ],
         "xaxis": "x12",
         "y": [
          1.24824987724467,
          0.9983689311913663,
          -1.0545690724204038,
          1.1110154458252424,
          -0.18806788243124886,
          1.6412332962784588,
          0.9976205692561707,
          -0.20563881102554485,
          0.5345206661859929,
          -0.8505885078959133,
          -1.1753042938369387,
          0.5549326737094422,
          1.0995805298123364,
          -1.0560733314055109,
          1.3277532401832361,
          1.4523608886914232,
          -0.161314534715455,
          -0.33489534535513893,
          -0.7537305268618539,
          -1.3651019723336582,
          0.15357143130152426,
          2.352502339439212,
          0.8208166600250829,
          -1.5795811113520248,
          0.9950742161653353,
          0.14579194579704557,
          0.8169337766943169,
          -1.1420317664011554,
          -0.6917161512521847,
          0.5397028580408441,
          1.2888922014575794,
          0.9645618249698433,
          2.508282884935816,
          -1.2406403110575333,
          0.6727589312788329,
          1.9535578727520735,
          2.0655850841980685,
          0.5939239517448182,
          1.5609919616111845,
          -0.7252496988828738,
          2.136310258701791,
          0.4446478384214512,
          0.7814050040605677,
          1.9400127197756265,
          -0.0625414646621362,
          -0.49897583504721527,
          0.34188695790826173,
          -0.8253166450180647,
          0.7075042946640339,
          -1.0497064659937023,
          0.6115380282026508,
          -0.042634838988535886,
          -1.613726680017053,
          -0.5108762951988812,
          -1.109847843378826,
          -0.7640949124503643,
          -1.1407668845157493,
          0.27212241625304584,
          1.0395184083143811,
          -1.5022539999450975,
          -0.9908832213910737,
          0.5194210032608014,
          -0.49037645678522157,
          1.2474633860946922,
          -1.2160380494102008,
          1.3460491818655465,
          -0.230631034046932,
          1.4089074816386598,
          -0.1579573048321106,
          -0.5160439485600161,
          -0.3648808343273896,
          -0.5257838884533907,
          0.06842469839609554,
          0.08568730169514732,
          -1.1371332137463852,
          -1.4971689928424767,
          -0.8515939238232175,
          -1.30988193953392,
          1.3795659468683439,
          -0.5130671601260106,
          0.9621516370294597,
          -0.9187135909664644,
          0.8604235269339526,
          0.37135557036266653,
          0.8614769610539936,
          -0.18904446358552046,
          -2.22437399622934,
          0.33106342755376417,
          2.549737610004259,
          -0.4618425641054059,
          -1.2889213156018071,
          0.07516728539907698,
          -0.048269396726482776,
          1.088268004436375,
          1.3079386308997538,
          -1.143496816856456,
          0.27367419166654844,
          -0.06915058726928211,
          0.4000533457112604,
          -0.021474464692848805
         ],
         "yaxis": "y12"
        },
        {
         "line": {
          "color": "rgba(128, 128, 128, 1.0)",
          "dash": "solid",
          "shape": "linear",
          "width": 1.3
         },
         "marker": {
          "size": 2,
          "symbol": "circle"
         },
         "mode": "markers",
         "name": "D",
         "text": "",
         "type": "scatter",
         "x": [
          0.05605791357056261,
          0.460019687284693,
          0.6287518092337231,
          -0.40335735674017076,
          0.10729666753545831,
          -0.6295013494642708,
          -1.4951352553786494,
          1.0672754786555207,
          0.3598261803907446,
          -1.0166936426325441,
          -0.07666864253836506,
          0.0410685021645721,
          0.48573655430333923,
          -0.11416938422627511,
          -0.7386166413012212,
          0.7039588772816362,
          1.707845165649345,
          0.3042828542104509,
          1.1414108452743028,
          -0.1891422906682915,
          -1.0724824106218038,
          1.697912228612607,
          2.376315745461367,
          1.3285205463490388,
          0.5241455798665027,
          0.3296266350692246,
          0.893307944055857,
          0.29888277985522527,
          -0.40214756911155725,
          0.27769939748663547,
          1.7229469733657832,
          -1.0590791859078141,
          0.17677513633413716,
          -1.0751157989840059,
          -1.206163745609603,
          0.21085545930113656,
          0.28691557726486,
          0.5626865844183987,
          -0.024749798143169792,
          -1.227681486982836,
          2.3768811509212675,
          -1.5514568828774338,
          1.6112875275834087,
          -0.035511207000442,
          1.3597817860592807,
          0.6340139048174628,
          -0.9461246374711879,
          -0.5980463813946243,
          -0.11121371341266718,
          -0.7789947858694427,
          -0.7909367835488761,
          0.44597932143928465,
          -0.015829741692926957,
          0.5880978326151248,
          -1.1687690687778953,
          0.46738762470996625,
          -1.0232152012694558,
          0.019203856503362135,
          -0.2513480883458298,
          1.67760815029347,
          -0.3388913730150217,
          0.5054335631763178,
          -0.5582218465556053,
          0.09412762463803932,
          -0.269836966510378,
          -0.4229131069545643,
          -0.05562146161653577,
          0.36806445455580034,
          -0.1491590393377931,
          -1.6102639259917182,
          0.3538094719163923,
          1.2443563819434125,
          -0.5311791146417401,
          0.03025030818705174,
          2.6374187556509767,
          -0.06300359369525535,
          -0.2163986548430199,
          -1.4063465608219916,
          -0.6335377419553875,
          0.5468778943274468,
          0.22887859434644822,
          -0.0024186408660699346,
          1.051698629355191,
          -0.9869517109480603,
          -0.31987496824644224,
          -0.540174686913111,
          0.3340381390336442,
          0.7322443952033713,
          -0.9129854111412516,
          -0.18584647450385625,
          -0.9478104793799853,
          0.7151795709345523,
          -0.8542424412247567,
          -1.5265198883275757,
          0.5488311569159915,
          0.21865254089016833,
          -0.4204248699245095,
          -1.0376879604394742,
          0.24386425713090254,
          0.2897506749290084
         ],
         "xaxis": "x13",
         "y": [
          1.0342738233186355,
          0.5156610196675836,
          -0.5725259067866464,
          -0.10970870252082576,
          -1.4327145722273824,
          -0.9826239102851156,
          0.5006651139298808,
          -1.1502675055475746,
          0.6639679297637253,
          -0.07752158325123237,
          2.0158414978467887,
          -0.9955282451419247,
          -1.7210864207825824,
          0.23479523078152342,
          -0.2161324289065316,
          0.25208726701439466,
          0.01577336591237228,
          0.34882139513354027,
          -0.7238237634736284,
          -0.3501528880220865,
          1.0479828325432092,
          0.9155011350265077,
          0.20143348513930073,
          -1.5723117782905938,
          0.8329643643432065,
          -0.020518177832366917,
          0.4434169197970847,
          -0.13151662643872672,
          0.19345297335747452,
          -1.0478613936117316,
          -1.2799209471787956,
          0.9050515082873299,
          -0.9489689486425905,
          -1.091978704639964,
          0.6384162534669922,
          -0.8818576944601535,
          0.2093325649640961,
          0.8242202667089975,
          -2.8517008211626615,
          0.30367457140949283,
          0.9725263493422491,
          1.224233425644717,
          0.8635991278823429,
          0.46944638498128954,
          0.8197091528699354,
          1.0113032914201345,
          0.13748361177121818,
          1.6692510622178953,
          0.432584711062849,
          -0.29826117549858916,
          -0.4593725731326591,
          -0.17404850710223124,
          -0.9369130775604738,
          0.2507113827278272,
          0.1530612974438675,
          1.5401766900531628,
          0.8993395464011825,
          -0.32920039648177646,
          0.5914808895285231,
          -0.7853589024365782,
          0.7325306864025032,
          -1.3905132515174619,
          0.9167629257257449,
          1.0412497492462496,
          3.0885137231233815,
          -0.6518212596559126,
          0.363107114757367,
          1.7062057862485325,
          0.050858029670477874,
          1.1709220746651454,
          0.6051558226870052,
          0.4992326633715957,
          0.20317822388308163,
          0.23867508128071055,
          -1.099568926340057,
          -2.1461816017798543,
          1.3572434043105053,
          -1.5904421177027062,
          -0.0642040160364851,
          0.7931736049541596,
          -1.2157041083468376,
          -1.6847396490905608,
          -1.8683363355635891,
          -0.6734526705125173,
          -1.26830693894692,
          -0.6493342786724048,
          -0.16319043196262376,
          -0.8780734025113669,
          -1.4106890856015997,
          -1.1809037028725,
          -0.5100649158973671,
          0.3895190308583476,
          -1.2204805956483635,
          0.1847573466074172,
          -1.383240694871071,
          -0.5472801903743459,
          0.9156878096550913,
          0.4285045498957374,
          0.5691321261310297,
          -0.5463110957781203
         ],
         "yaxis": "y13"
        },
        {
         "line": {
          "color": "rgba(128, 128, 128, 1.0)",
          "dash": "solid",
          "shape": "linear",
          "width": 1.3
         },
         "marker": {
          "size": 2,
          "symbol": "circle"
         },
         "mode": "markers",
         "name": "D",
         "text": "",
         "type": "scatter",
         "x": [
          0.4908311343814552,
          0.2184294036515998,
          0.8773199756877776,
          -0.5306270595751419,
          -0.45857510326432177,
          -2.210141175194517,
          -1.1718073236010733,
          0.7655275912167271,
          0.6356541834810701,
          -1.6332828663175116,
          1.0487351561018425,
          1.43729039987702,
          -0.7409401093263623,
          -0.5906002518728066,
          -3.5822454622628177,
          1.775083894237991,
          3.153359736399895,
          -0.206360434964078,
          0.4832668240227068,
          1.4924634234884744,
          1.1303056661058593,
          0.3809413259195282,
          -0.08435249626929543,
          0.3702751991921212,
          1.3951327098969522,
          -1.7295969719787143,
          -0.44408775127808997,
          1.1487743309202474,
          -0.04902087713511538,
          -0.7120750076662782,
          0.40449471024488143,
          0.2918957958896897,
          0.5560023877190212,
          -0.16752371802339486,
          -1.716850478180125,
          0.649158426150467,
          1.1233767639252763,
          -0.814426114370307,
          0.9445349720500489,
          0.05147449020198193,
          0.8137655537705104,
          -1.2817599458106645,
          -0.14242664444260536,
          2.094452656634059,
          -0.6513378649946291,
          0.24095637290196942,
          0.6557918851124303,
          -0.3338149240064824,
          0.1969743738756663,
          -0.4912013596722006,
          1.4809601842856794,
          0.348984950814985,
          -0.4530667696706939,
          1.612914879507302,
          0.09814254220664902,
          0.1592404246273716,
          0.32301285061662766,
          -0.2110628783857944,
          -1.2090441466834407,
          0.2731259978707747,
          -0.6739588109652542,
          -1.0767813621272486,
          0.21458519274391671,
          -1.2171725576955057,
          0.9340611364054661,
          -0.3972945452157132,
          1.1575954255423209,
          -0.47619949851144905,
          2.519144683341893,
          1.2944533426663674,
          -0.9734229218001452,
          1.3682532247341346,
          -0.8496789312210303,
          -0.2649093729476989,
          0.6457170669435297,
          0.8271064006126501,
          -0.7749528988067509,
          1.001913076936737,
          0.8120002507488213,
          -0.8663830893781663,
          2.2109593730602133,
          -0.3781719075913857,
          0.015200436893985737,
          2.0796227484366914,
          0.03414309480971347,
          -0.7073025970093648,
          0.5447876540997124,
          0.15871659579090078,
          -0.060186952309339056,
          -2.040420778866945,
          -0.13855641571035474,
          -1.6961095263369388,
          -0.9299607848471094,
          0.42810125413179506,
          -0.20960566035875308,
          0.8091366866871842,
          -0.6383733130460841,
          0.03184295820309675,
          0.4099770897336773,
          0.29049798568337276
         ],
         "xaxis": "x14",
         "y": [
          1.0342738233186355,
          0.5156610196675836,
          -0.5725259067866464,
          -0.10970870252082576,
          -1.4327145722273824,
          -0.9826239102851156,
          0.5006651139298808,
          -1.1502675055475746,
          0.6639679297637253,
          -0.07752158325123237,
          2.0158414978467887,
          -0.9955282451419247,
          -1.7210864207825824,
          0.23479523078152342,
          -0.2161324289065316,
          0.25208726701439466,
          0.01577336591237228,
          0.34882139513354027,
          -0.7238237634736284,
          -0.3501528880220865,
          1.0479828325432092,
          0.9155011350265077,
          0.20143348513930073,
          -1.5723117782905938,
          0.8329643643432065,
          -0.020518177832366917,
          0.4434169197970847,
          -0.13151662643872672,
          0.19345297335747452,
          -1.0478613936117316,
          -1.2799209471787956,
          0.9050515082873299,
          -0.9489689486425905,
          -1.091978704639964,
          0.6384162534669922,
          -0.8818576944601535,
          0.2093325649640961,
          0.8242202667089975,
          -2.8517008211626615,
          0.30367457140949283,
          0.9725263493422491,
          1.224233425644717,
          0.8635991278823429,
          0.46944638498128954,
          0.8197091528699354,
          1.0113032914201345,
          0.13748361177121818,
          1.6692510622178953,
          0.432584711062849,
          -0.29826117549858916,
          -0.4593725731326591,
          -0.17404850710223124,
          -0.9369130775604738,
          0.2507113827278272,
          0.1530612974438675,
          1.5401766900531628,
          0.8993395464011825,
          -0.32920039648177646,
          0.5914808895285231,
          -0.7853589024365782,
          0.7325306864025032,
          -1.3905132515174619,
          0.9167629257257449,
          1.0412497492462496,
          3.0885137231233815,
          -0.6518212596559126,
          0.363107114757367,
          1.7062057862485325,
          0.050858029670477874,
          1.1709220746651454,
          0.6051558226870052,
          0.4992326633715957,
          0.20317822388308163,
          0.23867508128071055,
          -1.099568926340057,
          -2.1461816017798543,
          1.3572434043105053,
          -1.5904421177027062,
          -0.0642040160364851,
          0.7931736049541596,
          -1.2157041083468376,
          -1.6847396490905608,
          -1.8683363355635891,
          -0.6734526705125173,
          -1.26830693894692,
          -0.6493342786724048,
          -0.16319043196262376,
          -0.8780734025113669,
          -1.4106890856015997,
          -1.1809037028725,
          -0.5100649158973671,
          0.3895190308583476,
          -1.2204805956483635,
          0.1847573466074172,
          -1.383240694871071,
          -0.5472801903743459,
          0.9156878096550913,
          0.4285045498957374,
          0.5691321261310297,
          -0.5463110957781203
         ],
         "yaxis": "y14"
        },
        {
         "line": {
          "color": "rgba(128, 128, 128, 1.0)",
          "dash": "solid",
          "shape": "linear",
          "width": 1.3
         },
         "marker": {
          "size": 2,
          "symbol": "circle"
         },
         "mode": "markers",
         "name": "D",
         "text": "",
         "type": "scatter",
         "x": [
          1.24824987724467,
          0.9983689311913663,
          -1.0545690724204038,
          1.1110154458252424,
          -0.18806788243124886,
          1.6412332962784588,
          0.9976205692561707,
          -0.20563881102554485,
          0.5345206661859929,
          -0.8505885078959133,
          -1.1753042938369387,
          0.5549326737094422,
          1.0995805298123364,
          -1.0560733314055109,
          1.3277532401832361,
          1.4523608886914232,
          -0.161314534715455,
          -0.33489534535513893,
          -0.7537305268618539,
          -1.3651019723336582,
          0.15357143130152426,
          2.352502339439212,
          0.8208166600250829,
          -1.5795811113520248,
          0.9950742161653353,
          0.14579194579704557,
          0.8169337766943169,
          -1.1420317664011554,
          -0.6917161512521847,
          0.5397028580408441,
          1.2888922014575794,
          0.9645618249698433,
          2.508282884935816,
          -1.2406403110575333,
          0.6727589312788329,
          1.9535578727520735,
          2.0655850841980685,
          0.5939239517448182,
          1.5609919616111845,
          -0.7252496988828738,
          2.136310258701791,
          0.4446478384214512,
          0.7814050040605677,
          1.9400127197756265,
          -0.0625414646621362,
          -0.49897583504721527,
          0.34188695790826173,
          -0.8253166450180647,
          0.7075042946640339,
          -1.0497064659937023,
          0.6115380282026508,
          -0.042634838988535886,
          -1.613726680017053,
          -0.5108762951988812,
          -1.109847843378826,
          -0.7640949124503643,
          -1.1407668845157493,
          0.27212241625304584,
          1.0395184083143811,
          -1.5022539999450975,
          -0.9908832213910737,
          0.5194210032608014,
          -0.49037645678522157,
          1.2474633860946922,
          -1.2160380494102008,
          1.3460491818655465,
          -0.230631034046932,
          1.4089074816386598,
          -0.1579573048321106,
          -0.5160439485600161,
          -0.3648808343273896,
          -0.5257838884533907,
          0.06842469839609554,
          0.08568730169514732,
          -1.1371332137463852,
          -1.4971689928424767,
          -0.8515939238232175,
          -1.30988193953392,
          1.3795659468683439,
          -0.5130671601260106,
          0.9621516370294597,
          -0.9187135909664644,
          0.8604235269339526,
          0.37135557036266653,
          0.8614769610539936,
          -0.18904446358552046,
          -2.22437399622934,
          0.33106342755376417,
          2.549737610004259,
          -0.4618425641054059,
          -1.2889213156018071,
          0.07516728539907698,
          -0.048269396726482776,
          1.088268004436375,
          1.3079386308997538,
          -1.143496816856456,
          0.27367419166654844,
          -0.06915058726928211,
          0.4000533457112604,
          -0.021474464692848805
         ],
         "xaxis": "x15",
         "y": [
          1.0342738233186355,
          0.5156610196675836,
          -0.5725259067866464,
          -0.10970870252082576,
          -1.4327145722273824,
          -0.9826239102851156,
          0.5006651139298808,
          -1.1502675055475746,
          0.6639679297637253,
          -0.07752158325123237,
          2.0158414978467887,
          -0.9955282451419247,
          -1.7210864207825824,
          0.23479523078152342,
          -0.2161324289065316,
          0.25208726701439466,
          0.01577336591237228,
          0.34882139513354027,
          -0.7238237634736284,
          -0.3501528880220865,
          1.0479828325432092,
          0.9155011350265077,
          0.20143348513930073,
          -1.5723117782905938,
          0.8329643643432065,
          -0.020518177832366917,
          0.4434169197970847,
          -0.13151662643872672,
          0.19345297335747452,
          -1.0478613936117316,
          -1.2799209471787956,
          0.9050515082873299,
          -0.9489689486425905,
          -1.091978704639964,
          0.6384162534669922,
          -0.8818576944601535,
          0.2093325649640961,
          0.8242202667089975,
          -2.8517008211626615,
          0.30367457140949283,
          0.9725263493422491,
          1.224233425644717,
          0.8635991278823429,
          0.46944638498128954,
          0.8197091528699354,
          1.0113032914201345,
          0.13748361177121818,
          1.6692510622178953,
          0.432584711062849,
          -0.29826117549858916,
          -0.4593725731326591,
          -0.17404850710223124,
          -0.9369130775604738,
          0.2507113827278272,
          0.1530612974438675,
          1.5401766900531628,
          0.8993395464011825,
          -0.32920039648177646,
          0.5914808895285231,
          -0.7853589024365782,
          0.7325306864025032,
          -1.3905132515174619,
          0.9167629257257449,
          1.0412497492462496,
          3.0885137231233815,
          -0.6518212596559126,
          0.363107114757367,
          1.7062057862485325,
          0.050858029670477874,
          1.1709220746651454,
          0.6051558226870052,
          0.4992326633715957,
          0.20317822388308163,
          0.23867508128071055,
          -1.099568926340057,
          -2.1461816017798543,
          1.3572434043105053,
          -1.5904421177027062,
          -0.0642040160364851,
          0.7931736049541596,
          -1.2157041083468376,
          -1.6847396490905608,
          -1.8683363355635891,
          -0.6734526705125173,
          -1.26830693894692,
          -0.6493342786724048,
          -0.16319043196262376,
          -0.8780734025113669,
          -1.4106890856015997,
          -1.1809037028725,
          -0.5100649158973671,
          0.3895190308583476,
          -1.2204805956483635,
          0.1847573466074172,
          -1.383240694871071,
          -0.5472801903743459,
          0.9156878096550913,
          0.4285045498957374,
          0.5691321261310297,
          -0.5463110957781203
         ],
         "yaxis": "y15"
        },
        {
         "histfunc": "count",
         "histnorm": "",
         "marker": {
          "color": "rgba(128, 0, 128, 1.0)",
          "line": {
           "color": "#4D5663",
           "width": 1.3
          }
         },
         "name": "D",
         "nbinsx": 10,
         "opacity": 0.8,
         "orientation": "v",
         "type": "histogram",
         "x": [
          1.0342738233186355,
          0.5156610196675836,
          -0.5725259067866464,
          -0.10970870252082576,
          -1.4327145722273824,
          -0.9826239102851156,
          0.5006651139298808,
          -1.1502675055475746,
          0.6639679297637253,
          -0.07752158325123237,
          2.0158414978467887,
          -0.9955282451419247,
          -1.7210864207825824,
          0.23479523078152342,
          -0.2161324289065316,
          0.25208726701439466,
          0.01577336591237228,
          0.34882139513354027,
          -0.7238237634736284,
          -0.3501528880220865,
          1.0479828325432092,
          0.9155011350265077,
          0.20143348513930073,
          -1.5723117782905938,
          0.8329643643432065,
          -0.020518177832366917,
          0.4434169197970847,
          -0.13151662643872672,
          0.19345297335747452,
          -1.0478613936117316,
          -1.2799209471787956,
          0.9050515082873299,
          -0.9489689486425905,
          -1.091978704639964,
          0.6384162534669922,
          -0.8818576944601535,
          0.2093325649640961,
          0.8242202667089975,
          -2.8517008211626615,
          0.30367457140949283,
          0.9725263493422491,
          1.224233425644717,
          0.8635991278823429,
          0.46944638498128954,
          0.8197091528699354,
          1.0113032914201345,
          0.13748361177121818,
          1.6692510622178953,
          0.432584711062849,
          -0.29826117549858916,
          -0.4593725731326591,
          -0.17404850710223124,
          -0.9369130775604738,
          0.2507113827278272,
          0.1530612974438675,
          1.5401766900531628,
          0.8993395464011825,
          -0.32920039648177646,
          0.5914808895285231,
          -0.7853589024365782,
          0.7325306864025032,
          -1.3905132515174619,
          0.9167629257257449,
          1.0412497492462496,
          3.0885137231233815,
          -0.6518212596559126,
          0.363107114757367,
          1.7062057862485325,
          0.050858029670477874,
          1.1709220746651454,
          0.6051558226870052,
          0.4992326633715957,
          0.20317822388308163,
          0.23867508128071055,
          -1.099568926340057,
          -2.1461816017798543,
          1.3572434043105053,
          -1.5904421177027062,
          -0.0642040160364851,
          0.7931736049541596,
          -1.2157041083468376,
          -1.6847396490905608,
          -1.8683363355635891,
          -0.6734526705125173,
          -1.26830693894692,
          -0.6493342786724048,
          -0.16319043196262376,
          -0.8780734025113669,
          -1.4106890856015997,
          -1.1809037028725,
          -0.5100649158973671,
          0.3895190308583476,
          -1.2204805956483635,
          0.1847573466074172,
          -1.383240694871071,
          -0.5472801903743459,
          0.9156878096550913,
          0.4285045498957374,
          0.5691321261310297,
          -0.5463110957781203
         ],
         "xaxis": "x16",
         "yaxis": "y16"
        }
       ],
       "layout": {
        "bargap": 0.02,
        "legend": {
         "bgcolor": "#F5F6F9",
         "font": {
          "color": "#4D5663"
         }
        },
        "paper_bgcolor": "#F5F6F9",
        "plot_bgcolor": "#F5F6F9",
        "showlegend": false,
        "template": {
         "data": {
          "bar": [
           {
            "error_x": {
             "color": "#2a3f5f"
            },
            "error_y": {
             "color": "#2a3f5f"
            },
            "marker": {
             "line": {
              "color": "#E5ECF6",
              "width": 0.5
             },
             "pattern": {
              "fillmode": "overlay",
              "size": 10,
              "solidity": 0.2
             }
            },
            "type": "bar"
           }
          ],
          "barpolar": [
           {
            "marker": {
             "line": {
              "color": "#E5ECF6",
              "width": 0.5
             },
             "pattern": {
              "fillmode": "overlay",
              "size": 10,
              "solidity": 0.2
             }
            },
            "type": "barpolar"
           }
          ],
          "carpet": [
           {
            "aaxis": {
             "endlinecolor": "#2a3f5f",
             "gridcolor": "white",
             "linecolor": "white",
             "minorgridcolor": "white",
             "startlinecolor": "#2a3f5f"
            },
            "baxis": {
             "endlinecolor": "#2a3f5f",
             "gridcolor": "white",
             "linecolor": "white",
             "minorgridcolor": "white",
             "startlinecolor": "#2a3f5f"
            },
            "type": "carpet"
           }
          ],
          "choropleth": [
           {
            "colorbar": {
             "outlinewidth": 0,
             "ticks": ""
            },
            "type": "choropleth"
           }
          ],
          "contour": [
           {
            "colorbar": {
             "outlinewidth": 0,
             "ticks": ""
            },
            "colorscale": [
             [
              0,
              "#0d0887"
             ],
             [
              0.1111111111111111,
              "#46039f"
             ],
             [
              0.2222222222222222,
              "#7201a8"
             ],
             [
              0.3333333333333333,
              "#9c179e"
             ],
             [
              0.4444444444444444,
              "#bd3786"
             ],
             [
              0.5555555555555556,
              "#d8576b"
             ],
             [
              0.6666666666666666,
              "#ed7953"
             ],
             [
              0.7777777777777778,
              "#fb9f3a"
             ],
             [
              0.8888888888888888,
              "#fdca26"
             ],
             [
              1,
              "#f0f921"
             ]
            ],
            "type": "contour"
           }
          ],
          "contourcarpet": [
           {
            "colorbar": {
             "outlinewidth": 0,
             "ticks": ""
            },
            "type": "contourcarpet"
           }
          ],
          "heatmap": [
           {
            "colorbar": {
             "outlinewidth": 0,
             "ticks": ""
            },
            "colorscale": [
             [
              0,
              "#0d0887"
             ],
             [
              0.1111111111111111,
              "#46039f"
             ],
             [
              0.2222222222222222,
              "#7201a8"
             ],
             [
              0.3333333333333333,
              "#9c179e"
             ],
             [
              0.4444444444444444,
              "#bd3786"
             ],
             [
              0.5555555555555556,
              "#d8576b"
             ],
             [
              0.6666666666666666,
              "#ed7953"
             ],
             [
              0.7777777777777778,
              "#fb9f3a"
             ],
             [
              0.8888888888888888,
              "#fdca26"
             ],
             [
              1,
              "#f0f921"
             ]
            ],
            "type": "heatmap"
           }
          ],
          "heatmapgl": [
           {
            "colorbar": {
             "outlinewidth": 0,
             "ticks": ""
            },
            "colorscale": [
             [
              0,
              "#0d0887"
             ],
             [
              0.1111111111111111,
              "#46039f"
             ],
             [
              0.2222222222222222,
              "#7201a8"
             ],
             [
              0.3333333333333333,
              "#9c179e"
             ],
             [
              0.4444444444444444,
              "#bd3786"
             ],
             [
              0.5555555555555556,
              "#d8576b"
             ],
             [
              0.6666666666666666,
              "#ed7953"
             ],
             [
              0.7777777777777778,
              "#fb9f3a"
             ],
             [
              0.8888888888888888,
              "#fdca26"
             ],
             [
              1,
              "#f0f921"
             ]
            ],
            "type": "heatmapgl"
           }
          ],
          "histogram": [
           {
            "marker": {
             "pattern": {
              "fillmode": "overlay",
              "size": 10,
              "solidity": 0.2
             }
            },
            "type": "histogram"
           }
          ],
          "histogram2d": [
           {
            "colorbar": {
             "outlinewidth": 0,
             "ticks": ""
            },
            "colorscale": [
             [
              0,
              "#0d0887"
             ],
             [
              0.1111111111111111,
              "#46039f"
             ],
             [
              0.2222222222222222,
              "#7201a8"
             ],
             [
              0.3333333333333333,
              "#9c179e"
             ],
             [
              0.4444444444444444,
              "#bd3786"
             ],
             [
              0.5555555555555556,
              "#d8576b"
             ],
             [
              0.6666666666666666,
              "#ed7953"
             ],
             [
              0.7777777777777778,
              "#fb9f3a"
             ],
             [
              0.8888888888888888,
              "#fdca26"
             ],
             [
              1,
              "#f0f921"
             ]
            ],
            "type": "histogram2d"
           }
          ],
          "histogram2dcontour": [
           {
            "colorbar": {
             "outlinewidth": 0,
             "ticks": ""
            },
            "colorscale": [
             [
              0,
              "#0d0887"
             ],
             [
              0.1111111111111111,
              "#46039f"
             ],
             [
              0.2222222222222222,
              "#7201a8"
             ],
             [
              0.3333333333333333,
              "#9c179e"
             ],
             [
              0.4444444444444444,
              "#bd3786"
             ],
             [
              0.5555555555555556,
              "#d8576b"
             ],
             [
              0.6666666666666666,
              "#ed7953"
             ],
             [
              0.7777777777777778,
              "#fb9f3a"
             ],
             [
              0.8888888888888888,
              "#fdca26"
             ],
             [
              1,
              "#f0f921"
             ]
            ],
            "type": "histogram2dcontour"
           }
          ],
          "mesh3d": [
           {
            "colorbar": {
             "outlinewidth": 0,
             "ticks": ""
            },
            "type": "mesh3d"
           }
          ],
          "parcoords": [
           {
            "line": {
             "colorbar": {
              "outlinewidth": 0,
              "ticks": ""
             }
            },
            "type": "parcoords"
           }
          ],
          "pie": [
           {
            "automargin": true,
            "type": "pie"
           }
          ],
          "scatter": [
           {
            "marker": {
             "colorbar": {
              "outlinewidth": 0,
              "ticks": ""
             }
            },
            "type": "scatter"
           }
          ],
          "scatter3d": [
           {
            "line": {
             "colorbar": {
              "outlinewidth": 0,
              "ticks": ""
             }
            },
            "marker": {
             "colorbar": {
              "outlinewidth": 0,
              "ticks": ""
             }
            },
            "type": "scatter3d"
           }
          ],
          "scattercarpet": [
           {
            "marker": {
             "colorbar": {
              "outlinewidth": 0,
              "ticks": ""
             }
            },
            "type": "scattercarpet"
           }
          ],
          "scattergeo": [
           {
            "marker": {
             "colorbar": {
              "outlinewidth": 0,
              "ticks": ""
             }
            },
            "type": "scattergeo"
           }
          ],
          "scattergl": [
           {
            "marker": {
             "colorbar": {
              "outlinewidth": 0,
              "ticks": ""
             }
            },
            "type": "scattergl"
           }
          ],
          "scattermapbox": [
           {
            "marker": {
             "colorbar": {
              "outlinewidth": 0,
              "ticks": ""
             }
            },
            "type": "scattermapbox"
           }
          ],
          "scatterpolar": [
           {
            "marker": {
             "colorbar": {
              "outlinewidth": 0,
              "ticks": ""
             }
            },
            "type": "scatterpolar"
           }
          ],
          "scatterpolargl": [
           {
            "marker": {
             "colorbar": {
              "outlinewidth": 0,
              "ticks": ""
             }
            },
            "type": "scatterpolargl"
           }
          ],
          "scatterternary": [
           {
            "marker": {
             "colorbar": {
              "outlinewidth": 0,
              "ticks": ""
             }
            },
            "type": "scatterternary"
           }
          ],
          "surface": [
           {
            "colorbar": {
             "outlinewidth": 0,
             "ticks": ""
            },
            "colorscale": [
             [
              0,
              "#0d0887"
             ],
             [
              0.1111111111111111,
              "#46039f"
             ],
             [
              0.2222222222222222,
              "#7201a8"
             ],
             [
              0.3333333333333333,
              "#9c179e"
             ],
             [
              0.4444444444444444,
              "#bd3786"
             ],
             [
              0.5555555555555556,
              "#d8576b"
             ],
             [
              0.6666666666666666,
              "#ed7953"
             ],
             [
              0.7777777777777778,
              "#fb9f3a"
             ],
             [
              0.8888888888888888,
              "#fdca26"
             ],
             [
              1,
              "#f0f921"
             ]
            ],
            "type": "surface"
           }
          ],
          "table": [
           {
            "cells": {
             "fill": {
              "color": "#EBF0F8"
             },
             "line": {
              "color": "white"
             }
            },
            "header": {
             "fill": {
              "color": "#C8D4E3"
             },
             "line": {
              "color": "white"
             }
            },
            "type": "table"
           }
          ]
         },
         "layout": {
          "annotationdefaults": {
           "arrowcolor": "#2a3f5f",
           "arrowhead": 0,
           "arrowwidth": 1
          },
          "autotypenumbers": "strict",
          "coloraxis": {
           "colorbar": {
            "outlinewidth": 0,
            "ticks": ""
           }
          },
          "colorscale": {
           "diverging": [
            [
             0,
             "#8e0152"
            ],
            [
             0.1,
             "#c51b7d"
            ],
            [
             0.2,
             "#de77ae"
            ],
            [
             0.3,
             "#f1b6da"
            ],
            [
             0.4,
             "#fde0ef"
            ],
            [
             0.5,
             "#f7f7f7"
            ],
            [
             0.6,
             "#e6f5d0"
            ],
            [
             0.7,
             "#b8e186"
            ],
            [
             0.8,
             "#7fbc41"
            ],
            [
             0.9,
             "#4d9221"
            ],
            [
             1,
             "#276419"
            ]
           ],
           "sequential": [
            [
             0,
             "#0d0887"
            ],
            [
             0.1111111111111111,
             "#46039f"
            ],
            [
             0.2222222222222222,
             "#7201a8"
            ],
            [
             0.3333333333333333,
             "#9c179e"
            ],
            [
             0.4444444444444444,
             "#bd3786"
            ],
            [
             0.5555555555555556,
             "#d8576b"
            ],
            [
             0.6666666666666666,
             "#ed7953"
            ],
            [
             0.7777777777777778,
             "#fb9f3a"
            ],
            [
             0.8888888888888888,
             "#fdca26"
            ],
            [
             1,
             "#f0f921"
            ]
           ],
           "sequentialminus": [
            [
             0,
             "#0d0887"
            ],
            [
             0.1111111111111111,
             "#46039f"
            ],
            [
             0.2222222222222222,
             "#7201a8"
            ],
            [
             0.3333333333333333,
             "#9c179e"
            ],
            [
             0.4444444444444444,
             "#bd3786"
            ],
            [
             0.5555555555555556,
             "#d8576b"
            ],
            [
             0.6666666666666666,
             "#ed7953"
            ],
            [
             0.7777777777777778,
             "#fb9f3a"
            ],
            [
             0.8888888888888888,
             "#fdca26"
            ],
            [
             1,
             "#f0f921"
            ]
           ]
          },
          "colorway": [
           "#636efa",
           "#EF553B",
           "#00cc96",
           "#ab63fa",
           "#FFA15A",
           "#19d3f3",
           "#FF6692",
           "#B6E880",
           "#FF97FF",
           "#FECB52"
          ],
          "font": {
           "color": "#2a3f5f"
          },
          "geo": {
           "bgcolor": "white",
           "lakecolor": "white",
           "landcolor": "#E5ECF6",
           "showlakes": true,
           "showland": true,
           "subunitcolor": "white"
          },
          "hoverlabel": {
           "align": "left"
          },
          "hovermode": "closest",
          "mapbox": {
           "style": "light"
          },
          "paper_bgcolor": "white",
          "plot_bgcolor": "#E5ECF6",
          "polar": {
           "angularaxis": {
            "gridcolor": "white",
            "linecolor": "white",
            "ticks": ""
           },
           "bgcolor": "#E5ECF6",
           "radialaxis": {
            "gridcolor": "white",
            "linecolor": "white",
            "ticks": ""
           }
          },
          "scene": {
           "xaxis": {
            "backgroundcolor": "#E5ECF6",
            "gridcolor": "white",
            "gridwidth": 2,
            "linecolor": "white",
            "showbackground": true,
            "ticks": "",
            "zerolinecolor": "white"
           },
           "yaxis": {
            "backgroundcolor": "#E5ECF6",
            "gridcolor": "white",
            "gridwidth": 2,
            "linecolor": "white",
            "showbackground": true,
            "ticks": "",
            "zerolinecolor": "white"
           },
           "zaxis": {
            "backgroundcolor": "#E5ECF6",
            "gridcolor": "white",
            "gridwidth": 2,
            "linecolor": "white",
            "showbackground": true,
            "ticks": "",
            "zerolinecolor": "white"
           }
          },
          "shapedefaults": {
           "line": {
            "color": "#2a3f5f"
           }
          },
          "ternary": {
           "aaxis": {
            "gridcolor": "white",
            "linecolor": "white",
            "ticks": ""
           },
           "baxis": {
            "gridcolor": "white",
            "linecolor": "white",
            "ticks": ""
           },
           "bgcolor": "#E5ECF6",
           "caxis": {
            "gridcolor": "white",
            "linecolor": "white",
            "ticks": ""
           }
          },
          "title": {
           "x": 0.05
          },
          "xaxis": {
           "automargin": true,
           "gridcolor": "white",
           "linecolor": "white",
           "ticks": "",
           "title": {
            "standoff": 15
           },
           "zerolinecolor": "white",
           "zerolinewidth": 2
          },
          "yaxis": {
           "automargin": true,
           "gridcolor": "white",
           "linecolor": "white",
           "ticks": "",
           "title": {
            "standoff": 15
           },
           "zerolinecolor": "white",
           "zerolinewidth": 2
          }
         }
        },
        "title": {
         "font": {
          "color": "#4D5663"
         }
        },
        "xaxis": {
         "anchor": "y",
         "domain": [
          0,
          0.2125
         ],
         "gridcolor": "#E1E5ED",
         "showgrid": false,
         "tickfont": {
          "color": "#4D5663"
         },
         "title": {
          "font": {
           "color": "#4D5663"
          },
          "text": ""
         },
         "zerolinecolor": "#E1E5ED"
        },
        "xaxis10": {
         "anchor": "y10",
         "domain": [
          0.2625,
          0.475
         ],
         "gridcolor": "#E1E5ED",
         "showgrid": false,
         "tickfont": {
          "color": "#4D5663"
         },
         "title": {
          "font": {
           "color": "#4D5663"
          },
          "text": ""
         },
         "zerolinecolor": "#E1E5ED"
        },
        "xaxis11": {
         "anchor": "y11",
         "domain": [
          0.525,
          0.7375
         ],
         "gridcolor": "#E1E5ED",
         "showgrid": false,
         "tickfont": {
          "color": "#4D5663"
         },
         "title": {
          "font": {
           "color": "#4D5663"
          },
          "text": ""
         },
         "zerolinecolor": "#E1E5ED"
        },
        "xaxis12": {
         "anchor": "y12",
         "domain": [
          0.7875,
          1
         ],
         "gridcolor": "#E1E5ED",
         "showgrid": false,
         "tickfont": {
          "color": "#4D5663"
         },
         "title": {
          "font": {
           "color": "#4D5663"
          },
          "text": ""
         },
         "zerolinecolor": "#E1E5ED"
        },
        "xaxis13": {
         "anchor": "y13",
         "domain": [
          0,
          0.2125
         ],
         "gridcolor": "#E1E5ED",
         "showgrid": false,
         "tickfont": {
          "color": "#4D5663"
         },
         "title": {
          "font": {
           "color": "#4D5663"
          },
          "text": ""
         },
         "zerolinecolor": "#E1E5ED"
        },
        "xaxis14": {
         "anchor": "y14",
         "domain": [
          0.2625,
          0.475
         ],
         "gridcolor": "#E1E5ED",
         "showgrid": false,
         "tickfont": {
          "color": "#4D5663"
         },
         "title": {
          "font": {
           "color": "#4D5663"
          },
          "text": ""
         },
         "zerolinecolor": "#E1E5ED"
        },
        "xaxis15": {
         "anchor": "y15",
         "domain": [
          0.525,
          0.7375
         ],
         "gridcolor": "#E1E5ED",
         "showgrid": false,
         "tickfont": {
          "color": "#4D5663"
         },
         "title": {
          "font": {
           "color": "#4D5663"
          },
          "text": ""
         },
         "zerolinecolor": "#E1E5ED"
        },
        "xaxis16": {
         "anchor": "y16",
         "domain": [
          0.7875,
          1
         ],
         "gridcolor": "#E1E5ED",
         "showgrid": false,
         "tickfont": {
          "color": "#4D5663"
         },
         "title": {
          "font": {
           "color": "#4D5663"
          },
          "text": ""
         },
         "zerolinecolor": "#E1E5ED"
        },
        "xaxis2": {
         "anchor": "y2",
         "domain": [
          0.2625,
          0.475
         ],
         "gridcolor": "#E1E5ED",
         "showgrid": false,
         "tickfont": {
          "color": "#4D5663"
         },
         "title": {
          "font": {
           "color": "#4D5663"
          },
          "text": ""
         },
         "zerolinecolor": "#E1E5ED"
        },
        "xaxis3": {
         "anchor": "y3",
         "domain": [
          0.525,
          0.7375
         ],
         "gridcolor": "#E1E5ED",
         "showgrid": false,
         "tickfont": {
          "color": "#4D5663"
         },
         "title": {
          "font": {
           "color": "#4D5663"
          },
          "text": ""
         },
         "zerolinecolor": "#E1E5ED"
        },
        "xaxis4": {
         "anchor": "y4",
         "domain": [
          0.7875,
          1
         ],
         "gridcolor": "#E1E5ED",
         "showgrid": false,
         "tickfont": {
          "color": "#4D5663"
         },
         "title": {
          "font": {
           "color": "#4D5663"
          },
          "text": ""
         },
         "zerolinecolor": "#E1E5ED"
        },
        "xaxis5": {
         "anchor": "y5",
         "domain": [
          0,
          0.2125
         ],
         "gridcolor": "#E1E5ED",
         "showgrid": false,
         "tickfont": {
          "color": "#4D5663"
         },
         "title": {
          "font": {
           "color": "#4D5663"
          },
          "text": ""
         },
         "zerolinecolor": "#E1E5ED"
        },
        "xaxis6": {
         "anchor": "y6",
         "domain": [
          0.2625,
          0.475
         ],
         "gridcolor": "#E1E5ED",
         "showgrid": false,
         "tickfont": {
          "color": "#4D5663"
         },
         "title": {
          "font": {
           "color": "#4D5663"
          },
          "text": ""
         },
         "zerolinecolor": "#E1E5ED"
        },
        "xaxis7": {
         "anchor": "y7",
         "domain": [
          0.525,
          0.7375
         ],
         "gridcolor": "#E1E5ED",
         "showgrid": false,
         "tickfont": {
          "color": "#4D5663"
         },
         "title": {
          "font": {
           "color": "#4D5663"
          },
          "text": ""
         },
         "zerolinecolor": "#E1E5ED"
        },
        "xaxis8": {
         "anchor": "y8",
         "domain": [
          0.7875,
          1
         ],
         "gridcolor": "#E1E5ED",
         "showgrid": false,
         "tickfont": {
          "color": "#4D5663"
         },
         "title": {
          "font": {
           "color": "#4D5663"
          },
          "text": ""
         },
         "zerolinecolor": "#E1E5ED"
        },
        "xaxis9": {
         "anchor": "y9",
         "domain": [
          0,
          0.2125
         ],
         "gridcolor": "#E1E5ED",
         "showgrid": false,
         "tickfont": {
          "color": "#4D5663"
         },
         "title": {
          "font": {
           "color": "#4D5663"
          },
          "text": ""
         },
         "zerolinecolor": "#E1E5ED"
        },
        "yaxis": {
         "anchor": "x",
         "domain": [
          0.8025,
          1
         ],
         "gridcolor": "#E1E5ED",
         "showgrid": false,
         "tickfont": {
          "color": "#4D5663"
         },
         "title": {
          "font": {
           "color": "#4D5663"
          },
          "text": ""
         },
         "zerolinecolor": "#E1E5ED"
        },
        "yaxis10": {
         "anchor": "x10",
         "domain": [
          0.2675,
          0.465
         ],
         "gridcolor": "#E1E5ED",
         "showgrid": false,
         "tickfont": {
          "color": "#4D5663"
         },
         "title": {
          "font": {
           "color": "#4D5663"
          },
          "text": ""
         },
         "zerolinecolor": "#E1E5ED"
        },
        "yaxis11": {
         "anchor": "x11",
         "domain": [
          0.2675,
          0.465
         ],
         "gridcolor": "#E1E5ED",
         "showgrid": false,
         "tickfont": {
          "color": "#4D5663"
         },
         "title": {
          "font": {
           "color": "#4D5663"
          },
          "text": ""
         },
         "zerolinecolor": "#E1E5ED"
        },
        "yaxis12": {
         "anchor": "x12",
         "domain": [
          0.2675,
          0.465
         ],
         "gridcolor": "#E1E5ED",
         "showgrid": false,
         "tickfont": {
          "color": "#4D5663"
         },
         "title": {
          "font": {
           "color": "#4D5663"
          },
          "text": ""
         },
         "zerolinecolor": "#E1E5ED"
        },
        "yaxis13": {
         "anchor": "x13",
         "domain": [
          0,
          0.1975
         ],
         "gridcolor": "#E1E5ED",
         "showgrid": false,
         "tickfont": {
          "color": "#4D5663"
         },
         "title": {
          "font": {
           "color": "#4D5663"
          },
          "text": ""
         },
         "zerolinecolor": "#E1E5ED"
        },
        "yaxis14": {
         "anchor": "x14",
         "domain": [
          0,
          0.1975
         ],
         "gridcolor": "#E1E5ED",
         "showgrid": false,
         "tickfont": {
          "color": "#4D5663"
         },
         "title": {
          "font": {
           "color": "#4D5663"
          },
          "text": ""
         },
         "zerolinecolor": "#E1E5ED"
        },
        "yaxis15": {
         "anchor": "x15",
         "domain": [
          0,
          0.1975
         ],
         "gridcolor": "#E1E5ED",
         "showgrid": false,
         "tickfont": {
          "color": "#4D5663"
         },
         "title": {
          "font": {
           "color": "#4D5663"
          },
          "text": ""
         },
         "zerolinecolor": "#E1E5ED"
        },
        "yaxis16": {
         "anchor": "x16",
         "domain": [
          0,
          0.1975
         ],
         "gridcolor": "#E1E5ED",
         "showgrid": false,
         "tickfont": {
          "color": "#4D5663"
         },
         "title": {
          "font": {
           "color": "#4D5663"
          },
          "text": ""
         },
         "zerolinecolor": "#E1E5ED"
        },
        "yaxis2": {
         "anchor": "x2",
         "domain": [
          0.8025,
          1
         ],
         "gridcolor": "#E1E5ED",
         "showgrid": false,
         "tickfont": {
          "color": "#4D5663"
         },
         "title": {
          "font": {
           "color": "#4D5663"
          },
          "text": ""
         },
         "zerolinecolor": "#E1E5ED"
        },
        "yaxis3": {
         "anchor": "x3",
         "domain": [
          0.8025,
          1
         ],
         "gridcolor": "#E1E5ED",
         "showgrid": false,
         "tickfont": {
          "color": "#4D5663"
         },
         "title": {
          "font": {
           "color": "#4D5663"
          },
          "text": ""
         },
         "zerolinecolor": "#E1E5ED"
        },
        "yaxis4": {
         "anchor": "x4",
         "domain": [
          0.8025,
          1
         ],
         "gridcolor": "#E1E5ED",
         "showgrid": false,
         "tickfont": {
          "color": "#4D5663"
         },
         "title": {
          "font": {
           "color": "#4D5663"
          },
          "text": ""
         },
         "zerolinecolor": "#E1E5ED"
        },
        "yaxis5": {
         "anchor": "x5",
         "domain": [
          0.535,
          0.7325
         ],
         "gridcolor": "#E1E5ED",
         "showgrid": false,
         "tickfont": {
          "color": "#4D5663"
         },
         "title": {
          "font": {
           "color": "#4D5663"
          },
          "text": ""
         },
         "zerolinecolor": "#E1E5ED"
        },
        "yaxis6": {
         "anchor": "x6",
         "domain": [
          0.535,
          0.7325
         ],
         "gridcolor": "#E1E5ED",
         "showgrid": false,
         "tickfont": {
          "color": "#4D5663"
         },
         "title": {
          "font": {
           "color": "#4D5663"
          },
          "text": ""
         },
         "zerolinecolor": "#E1E5ED"
        },
        "yaxis7": {
         "anchor": "x7",
         "domain": [
          0.535,
          0.7325
         ],
         "gridcolor": "#E1E5ED",
         "showgrid": false,
         "tickfont": {
          "color": "#4D5663"
         },
         "title": {
          "font": {
           "color": "#4D5663"
          },
          "text": ""
         },
         "zerolinecolor": "#E1E5ED"
        },
        "yaxis8": {
         "anchor": "x8",
         "domain": [
          0.535,
          0.7325
         ],
         "gridcolor": "#E1E5ED",
         "showgrid": false,
         "tickfont": {
          "color": "#4D5663"
         },
         "title": {
          "font": {
           "color": "#4D5663"
          },
          "text": ""
         },
         "zerolinecolor": "#E1E5ED"
        },
        "yaxis9": {
         "anchor": "x9",
         "domain": [
          0.2675,
          0.465
         ],
         "gridcolor": "#E1E5ED",
         "showgrid": false,
         "tickfont": {
          "color": "#4D5663"
         },
         "title": {
          "font": {
           "color": "#4D5663"
          },
          "text": ""
         },
         "zerolinecolor": "#E1E5ED"
        }
       }
      },
      "text/html": [
       "<div>                            <div id=\"792b206f-e8ed-42ce-b3b5-aab58902ca03\" class=\"plotly-graph-div\" style=\"height:525px; width:100%;\"></div>            <script type=\"text/javascript\">                require([\"plotly\"], function(Plotly) {                    window.PLOTLYENV=window.PLOTLYENV || {};\n",
       "                    window.PLOTLYENV.BASE_URL='https://plot.ly';                                    if (document.getElementById(\"792b206f-e8ed-42ce-b3b5-aab58902ca03\")) {                    Plotly.newPlot(                        \"792b206f-e8ed-42ce-b3b5-aab58902ca03\",                        [{\"histfunc\":\"count\",\"histnorm\":\"\",\"marker\":{\"color\":\"rgba(255, 153, 51, 1.0)\",\"line\":{\"color\":\"#4D5663\",\"width\":1.3}},\"name\":\"A\",\"nbinsx\":10,\"opacity\":0.8,\"orientation\":\"v\",\"type\":\"histogram\",\"x\":[0.05605791357056261,0.460019687284693,0.6287518092337231,-0.40335735674017076,0.10729666753545831,-0.6295013494642708,-1.4951352553786494,1.0672754786555207,0.3598261803907446,-1.0166936426325441,-0.07666864253836506,0.0410685021645721,0.48573655430333923,-0.11416938422627511,-0.7386166413012212,0.7039588772816362,1.707845165649345,0.3042828542104509,1.1414108452743028,-0.1891422906682915,-1.0724824106218038,1.697912228612607,2.376315745461367,1.3285205463490388,0.5241455798665027,0.3296266350692246,0.893307944055857,0.29888277985522527,-0.40214756911155725,0.27769939748663547,1.7229469733657832,-1.0590791859078141,0.17677513633413716,-1.0751157989840059,-1.206163745609603,0.21085545930113656,0.28691557726486,0.5626865844183987,-0.024749798143169792,-1.227681486982836,2.3768811509212675,-1.5514568828774338,1.6112875275834087,-0.035511207000442,1.3597817860592807,0.6340139048174628,-0.9461246374711879,-0.5980463813946243,-0.11121371341266718,-0.7789947858694427,-0.7909367835488761,0.44597932143928465,-0.015829741692926957,0.5880978326151248,-1.1687690687778953,0.46738762470996625,-1.0232152012694558,0.019203856503362135,-0.2513480883458298,1.67760815029347,-0.3388913730150217,0.5054335631763178,-0.5582218465556053,0.09412762463803932,-0.269836966510378,-0.4229131069545643,-0.05562146161653577,0.36806445455580034,-0.1491590393377931,-1.6102639259917182,0.3538094719163923,1.2443563819434125,-0.5311791146417401,0.03025030818705174,2.6374187556509767,-0.06300359369525535,-0.2163986548430199,-1.4063465608219916,-0.6335377419553875,0.5468778943274468,0.22887859434644822,-0.0024186408660699346,1.051698629355191,-0.9869517109480603,-0.31987496824644224,-0.540174686913111,0.3340381390336442,0.7322443952033713,-0.9129854111412516,-0.18584647450385625,-0.9478104793799853,0.7151795709345523,-0.8542424412247567,-1.5265198883275757,0.5488311569159915,0.21865254089016833,-0.4204248699245095,-1.0376879604394742,0.24386425713090254,0.2897506749290084],\"xaxis\":\"x\",\"yaxis\":\"y\"},{\"line\":{\"color\":\"rgba(128, 128, 128, 1.0)\",\"dash\":\"solid\",\"shape\":\"linear\",\"width\":1.3},\"marker\":{\"size\":2,\"symbol\":\"circle\"},\"mode\":\"markers\",\"name\":\"A\",\"text\":\"\",\"type\":\"scatter\",\"x\":[0.4908311343814552,0.2184294036515998,0.8773199756877776,-0.5306270595751419,-0.45857510326432177,-2.210141175194517,-1.1718073236010733,0.7655275912167271,0.6356541834810701,-1.6332828663175116,1.0487351561018425,1.43729039987702,-0.7409401093263623,-0.5906002518728066,-3.5822454622628177,1.775083894237991,3.153359736399895,-0.206360434964078,0.4832668240227068,1.4924634234884744,1.1303056661058593,0.3809413259195282,-0.08435249626929543,0.3702751991921212,1.3951327098969522,-1.7295969719787143,-0.44408775127808997,1.1487743309202474,-0.04902087713511538,-0.7120750076662782,0.40449471024488143,0.2918957958896897,0.5560023877190212,-0.16752371802339486,-1.716850478180125,0.649158426150467,1.1233767639252763,-0.814426114370307,0.9445349720500489,0.05147449020198193,0.8137655537705104,-1.2817599458106645,-0.14242664444260536,2.094452656634059,-0.6513378649946291,0.24095637290196942,0.6557918851124303,-0.3338149240064824,0.1969743738756663,-0.4912013596722006,1.4809601842856794,0.348984950814985,-0.4530667696706939,1.612914879507302,0.09814254220664902,0.1592404246273716,0.32301285061662766,-0.2110628783857944,-1.2090441466834407,0.2731259978707747,-0.6739588109652542,-1.0767813621272486,0.21458519274391671,-1.2171725576955057,0.9340611364054661,-0.3972945452157132,1.1575954255423209,-0.47619949851144905,2.519144683341893,1.2944533426663674,-0.9734229218001452,1.3682532247341346,-0.8496789312210303,-0.2649093729476989,0.6457170669435297,0.8271064006126501,-0.7749528988067509,1.001913076936737,0.8120002507488213,-0.8663830893781663,2.2109593730602133,-0.3781719075913857,0.015200436893985737,2.0796227484366914,0.03414309480971347,-0.7073025970093648,0.5447876540997124,0.15871659579090078,-0.060186952309339056,-2.040420778866945,-0.13855641571035474,-1.6961095263369388,-0.9299607848471094,0.42810125413179506,-0.20960566035875308,0.8091366866871842,-0.6383733130460841,0.03184295820309675,0.4099770897336773,0.29049798568337276],\"xaxis\":\"x2\",\"y\":[0.05605791357056261,0.460019687284693,0.6287518092337231,-0.40335735674017076,0.10729666753545831,-0.6295013494642708,-1.4951352553786494,1.0672754786555207,0.3598261803907446,-1.0166936426325441,-0.07666864253836506,0.0410685021645721,0.48573655430333923,-0.11416938422627511,-0.7386166413012212,0.7039588772816362,1.707845165649345,0.3042828542104509,1.1414108452743028,-0.1891422906682915,-1.0724824106218038,1.697912228612607,2.376315745461367,1.3285205463490388,0.5241455798665027,0.3296266350692246,0.893307944055857,0.29888277985522527,-0.40214756911155725,0.27769939748663547,1.7229469733657832,-1.0590791859078141,0.17677513633413716,-1.0751157989840059,-1.206163745609603,0.21085545930113656,0.28691557726486,0.5626865844183987,-0.024749798143169792,-1.227681486982836,2.3768811509212675,-1.5514568828774338,1.6112875275834087,-0.035511207000442,1.3597817860592807,0.6340139048174628,-0.9461246374711879,-0.5980463813946243,-0.11121371341266718,-0.7789947858694427,-0.7909367835488761,0.44597932143928465,-0.015829741692926957,0.5880978326151248,-1.1687690687778953,0.46738762470996625,-1.0232152012694558,0.019203856503362135,-0.2513480883458298,1.67760815029347,-0.3388913730150217,0.5054335631763178,-0.5582218465556053,0.09412762463803932,-0.269836966510378,-0.4229131069545643,-0.05562146161653577,0.36806445455580034,-0.1491590393377931,-1.6102639259917182,0.3538094719163923,1.2443563819434125,-0.5311791146417401,0.03025030818705174,2.6374187556509767,-0.06300359369525535,-0.2163986548430199,-1.4063465608219916,-0.6335377419553875,0.5468778943274468,0.22887859434644822,-0.0024186408660699346,1.051698629355191,-0.9869517109480603,-0.31987496824644224,-0.540174686913111,0.3340381390336442,0.7322443952033713,-0.9129854111412516,-0.18584647450385625,-0.9478104793799853,0.7151795709345523,-0.8542424412247567,-1.5265198883275757,0.5488311569159915,0.21865254089016833,-0.4204248699245095,-1.0376879604394742,0.24386425713090254,0.2897506749290084],\"yaxis\":\"y2\"},{\"line\":{\"color\":\"rgba(128, 128, 128, 1.0)\",\"dash\":\"solid\",\"shape\":\"linear\",\"width\":1.3},\"marker\":{\"size\":2,\"symbol\":\"circle\"},\"mode\":\"markers\",\"name\":\"A\",\"text\":\"\",\"type\":\"scatter\",\"x\":[1.24824987724467,0.9983689311913663,-1.0545690724204038,1.1110154458252424,-0.18806788243124886,1.6412332962784588,0.9976205692561707,-0.20563881102554485,0.5345206661859929,-0.8505885078959133,-1.1753042938369387,0.5549326737094422,1.0995805298123364,-1.0560733314055109,1.3277532401832361,1.4523608886914232,-0.161314534715455,-0.33489534535513893,-0.7537305268618539,-1.3651019723336582,0.15357143130152426,2.352502339439212,0.8208166600250829,-1.5795811113520248,0.9950742161653353,0.14579194579704557,0.8169337766943169,-1.1420317664011554,-0.6917161512521847,0.5397028580408441,1.2888922014575794,0.9645618249698433,2.508282884935816,-1.2406403110575333,0.6727589312788329,1.9535578727520735,2.0655850841980685,0.5939239517448182,1.5609919616111845,-0.7252496988828738,2.136310258701791,0.4446478384214512,0.7814050040605677,1.9400127197756265,-0.0625414646621362,-0.49897583504721527,0.34188695790826173,-0.8253166450180647,0.7075042946640339,-1.0497064659937023,0.6115380282026508,-0.042634838988535886,-1.613726680017053,-0.5108762951988812,-1.109847843378826,-0.7640949124503643,-1.1407668845157493,0.27212241625304584,1.0395184083143811,-1.5022539999450975,-0.9908832213910737,0.5194210032608014,-0.49037645678522157,1.2474633860946922,-1.2160380494102008,1.3460491818655465,-0.230631034046932,1.4089074816386598,-0.1579573048321106,-0.5160439485600161,-0.3648808343273896,-0.5257838884533907,0.06842469839609554,0.08568730169514732,-1.1371332137463852,-1.4971689928424767,-0.8515939238232175,-1.30988193953392,1.3795659468683439,-0.5130671601260106,0.9621516370294597,-0.9187135909664644,0.8604235269339526,0.37135557036266653,0.8614769610539936,-0.18904446358552046,-2.22437399622934,0.33106342755376417,2.549737610004259,-0.4618425641054059,-1.2889213156018071,0.07516728539907698,-0.048269396726482776,1.088268004436375,1.3079386308997538,-1.143496816856456,0.27367419166654844,-0.06915058726928211,0.4000533457112604,-0.021474464692848805],\"xaxis\":\"x3\",\"y\":[0.05605791357056261,0.460019687284693,0.6287518092337231,-0.40335735674017076,0.10729666753545831,-0.6295013494642708,-1.4951352553786494,1.0672754786555207,0.3598261803907446,-1.0166936426325441,-0.07666864253836506,0.0410685021645721,0.48573655430333923,-0.11416938422627511,-0.7386166413012212,0.7039588772816362,1.707845165649345,0.3042828542104509,1.1414108452743028,-0.1891422906682915,-1.0724824106218038,1.697912228612607,2.376315745461367,1.3285205463490388,0.5241455798665027,0.3296266350692246,0.893307944055857,0.29888277985522527,-0.40214756911155725,0.27769939748663547,1.7229469733657832,-1.0590791859078141,0.17677513633413716,-1.0751157989840059,-1.206163745609603,0.21085545930113656,0.28691557726486,0.5626865844183987,-0.024749798143169792,-1.227681486982836,2.3768811509212675,-1.5514568828774338,1.6112875275834087,-0.035511207000442,1.3597817860592807,0.6340139048174628,-0.9461246374711879,-0.5980463813946243,-0.11121371341266718,-0.7789947858694427,-0.7909367835488761,0.44597932143928465,-0.015829741692926957,0.5880978326151248,-1.1687690687778953,0.46738762470996625,-1.0232152012694558,0.019203856503362135,-0.2513480883458298,1.67760815029347,-0.3388913730150217,0.5054335631763178,-0.5582218465556053,0.09412762463803932,-0.269836966510378,-0.4229131069545643,-0.05562146161653577,0.36806445455580034,-0.1491590393377931,-1.6102639259917182,0.3538094719163923,1.2443563819434125,-0.5311791146417401,0.03025030818705174,2.6374187556509767,-0.06300359369525535,-0.2163986548430199,-1.4063465608219916,-0.6335377419553875,0.5468778943274468,0.22887859434644822,-0.0024186408660699346,1.051698629355191,-0.9869517109480603,-0.31987496824644224,-0.540174686913111,0.3340381390336442,0.7322443952033713,-0.9129854111412516,-0.18584647450385625,-0.9478104793799853,0.7151795709345523,-0.8542424412247567,-1.5265198883275757,0.5488311569159915,0.21865254089016833,-0.4204248699245095,-1.0376879604394742,0.24386425713090254,0.2897506749290084],\"yaxis\":\"y3\"},{\"line\":{\"color\":\"rgba(128, 128, 128, 1.0)\",\"dash\":\"solid\",\"shape\":\"linear\",\"width\":1.3},\"marker\":{\"size\":2,\"symbol\":\"circle\"},\"mode\":\"markers\",\"name\":\"A\",\"text\":\"\",\"type\":\"scatter\",\"x\":[1.0342738233186355,0.5156610196675836,-0.5725259067866464,-0.10970870252082576,-1.4327145722273824,-0.9826239102851156,0.5006651139298808,-1.1502675055475746,0.6639679297637253,-0.07752158325123237,2.0158414978467887,-0.9955282451419247,-1.7210864207825824,0.23479523078152342,-0.2161324289065316,0.25208726701439466,0.01577336591237228,0.34882139513354027,-0.7238237634736284,-0.3501528880220865,1.0479828325432092,0.9155011350265077,0.20143348513930073,-1.5723117782905938,0.8329643643432065,-0.020518177832366917,0.4434169197970847,-0.13151662643872672,0.19345297335747452,-1.0478613936117316,-1.2799209471787956,0.9050515082873299,-0.9489689486425905,-1.091978704639964,0.6384162534669922,-0.8818576944601535,0.2093325649640961,0.8242202667089975,-2.8517008211626615,0.30367457140949283,0.9725263493422491,1.224233425644717,0.8635991278823429,0.46944638498128954,0.8197091528699354,1.0113032914201345,0.13748361177121818,1.6692510622178953,0.432584711062849,-0.29826117549858916,-0.4593725731326591,-0.17404850710223124,-0.9369130775604738,0.2507113827278272,0.1530612974438675,1.5401766900531628,0.8993395464011825,-0.32920039648177646,0.5914808895285231,-0.7853589024365782,0.7325306864025032,-1.3905132515174619,0.9167629257257449,1.0412497492462496,3.0885137231233815,-0.6518212596559126,0.363107114757367,1.7062057862485325,0.050858029670477874,1.1709220746651454,0.6051558226870052,0.4992326633715957,0.20317822388308163,0.23867508128071055,-1.099568926340057,-2.1461816017798543,1.3572434043105053,-1.5904421177027062,-0.0642040160364851,0.7931736049541596,-1.2157041083468376,-1.6847396490905608,-1.8683363355635891,-0.6734526705125173,-1.26830693894692,-0.6493342786724048,-0.16319043196262376,-0.8780734025113669,-1.4106890856015997,-1.1809037028725,-0.5100649158973671,0.3895190308583476,-1.2204805956483635,0.1847573466074172,-1.383240694871071,-0.5472801903743459,0.9156878096550913,0.4285045498957374,0.5691321261310297,-0.5463110957781203],\"xaxis\":\"x4\",\"y\":[0.05605791357056261,0.460019687284693,0.6287518092337231,-0.40335735674017076,0.10729666753545831,-0.6295013494642708,-1.4951352553786494,1.0672754786555207,0.3598261803907446,-1.0166936426325441,-0.07666864253836506,0.0410685021645721,0.48573655430333923,-0.11416938422627511,-0.7386166413012212,0.7039588772816362,1.707845165649345,0.3042828542104509,1.1414108452743028,-0.1891422906682915,-1.0724824106218038,1.697912228612607,2.376315745461367,1.3285205463490388,0.5241455798665027,0.3296266350692246,0.893307944055857,0.29888277985522527,-0.40214756911155725,0.27769939748663547,1.7229469733657832,-1.0590791859078141,0.17677513633413716,-1.0751157989840059,-1.206163745609603,0.21085545930113656,0.28691557726486,0.5626865844183987,-0.024749798143169792,-1.227681486982836,2.3768811509212675,-1.5514568828774338,1.6112875275834087,-0.035511207000442,1.3597817860592807,0.6340139048174628,-0.9461246374711879,-0.5980463813946243,-0.11121371341266718,-0.7789947858694427,-0.7909367835488761,0.44597932143928465,-0.015829741692926957,0.5880978326151248,-1.1687690687778953,0.46738762470996625,-1.0232152012694558,0.019203856503362135,-0.2513480883458298,1.67760815029347,-0.3388913730150217,0.5054335631763178,-0.5582218465556053,0.09412762463803932,-0.269836966510378,-0.4229131069545643,-0.05562146161653577,0.36806445455580034,-0.1491590393377931,-1.6102639259917182,0.3538094719163923,1.2443563819434125,-0.5311791146417401,0.03025030818705174,2.6374187556509767,-0.06300359369525535,-0.2163986548430199,-1.4063465608219916,-0.6335377419553875,0.5468778943274468,0.22887859434644822,-0.0024186408660699346,1.051698629355191,-0.9869517109480603,-0.31987496824644224,-0.540174686913111,0.3340381390336442,0.7322443952033713,-0.9129854111412516,-0.18584647450385625,-0.9478104793799853,0.7151795709345523,-0.8542424412247567,-1.5265198883275757,0.5488311569159915,0.21865254089016833,-0.4204248699245095,-1.0376879604394742,0.24386425713090254,0.2897506749290084],\"yaxis\":\"y4\"},{\"line\":{\"color\":\"rgba(128, 128, 128, 1.0)\",\"dash\":\"solid\",\"shape\":\"linear\",\"width\":1.3},\"marker\":{\"size\":2,\"symbol\":\"circle\"},\"mode\":\"markers\",\"name\":\"B\",\"text\":\"\",\"type\":\"scatter\",\"x\":[0.05605791357056261,0.460019687284693,0.6287518092337231,-0.40335735674017076,0.10729666753545831,-0.6295013494642708,-1.4951352553786494,1.0672754786555207,0.3598261803907446,-1.0166936426325441,-0.07666864253836506,0.0410685021645721,0.48573655430333923,-0.11416938422627511,-0.7386166413012212,0.7039588772816362,1.707845165649345,0.3042828542104509,1.1414108452743028,-0.1891422906682915,-1.0724824106218038,1.697912228612607,2.376315745461367,1.3285205463490388,0.5241455798665027,0.3296266350692246,0.893307944055857,0.29888277985522527,-0.40214756911155725,0.27769939748663547,1.7229469733657832,-1.0590791859078141,0.17677513633413716,-1.0751157989840059,-1.206163745609603,0.21085545930113656,0.28691557726486,0.5626865844183987,-0.024749798143169792,-1.227681486982836,2.3768811509212675,-1.5514568828774338,1.6112875275834087,-0.035511207000442,1.3597817860592807,0.6340139048174628,-0.9461246374711879,-0.5980463813946243,-0.11121371341266718,-0.7789947858694427,-0.7909367835488761,0.44597932143928465,-0.015829741692926957,0.5880978326151248,-1.1687690687778953,0.46738762470996625,-1.0232152012694558,0.019203856503362135,-0.2513480883458298,1.67760815029347,-0.3388913730150217,0.5054335631763178,-0.5582218465556053,0.09412762463803932,-0.269836966510378,-0.4229131069545643,-0.05562146161653577,0.36806445455580034,-0.1491590393377931,-1.6102639259917182,0.3538094719163923,1.2443563819434125,-0.5311791146417401,0.03025030818705174,2.6374187556509767,-0.06300359369525535,-0.2163986548430199,-1.4063465608219916,-0.6335377419553875,0.5468778943274468,0.22887859434644822,-0.0024186408660699346,1.051698629355191,-0.9869517109480603,-0.31987496824644224,-0.540174686913111,0.3340381390336442,0.7322443952033713,-0.9129854111412516,-0.18584647450385625,-0.9478104793799853,0.7151795709345523,-0.8542424412247567,-1.5265198883275757,0.5488311569159915,0.21865254089016833,-0.4204248699245095,-1.0376879604394742,0.24386425713090254,0.2897506749290084],\"xaxis\":\"x5\",\"y\":[0.4908311343814552,0.2184294036515998,0.8773199756877776,-0.5306270595751419,-0.45857510326432177,-2.210141175194517,-1.1718073236010733,0.7655275912167271,0.6356541834810701,-1.6332828663175116,1.0487351561018425,1.43729039987702,-0.7409401093263623,-0.5906002518728066,-3.5822454622628177,1.775083894237991,3.153359736399895,-0.206360434964078,0.4832668240227068,1.4924634234884744,1.1303056661058593,0.3809413259195282,-0.08435249626929543,0.3702751991921212,1.3951327098969522,-1.7295969719787143,-0.44408775127808997,1.1487743309202474,-0.04902087713511538,-0.7120750076662782,0.40449471024488143,0.2918957958896897,0.5560023877190212,-0.16752371802339486,-1.716850478180125,0.649158426150467,1.1233767639252763,-0.814426114370307,0.9445349720500489,0.05147449020198193,0.8137655537705104,-1.2817599458106645,-0.14242664444260536,2.094452656634059,-0.6513378649946291,0.24095637290196942,0.6557918851124303,-0.3338149240064824,0.1969743738756663,-0.4912013596722006,1.4809601842856794,0.348984950814985,-0.4530667696706939,1.612914879507302,0.09814254220664902,0.1592404246273716,0.32301285061662766,-0.2110628783857944,-1.2090441466834407,0.2731259978707747,-0.6739588109652542,-1.0767813621272486,0.21458519274391671,-1.2171725576955057,0.9340611364054661,-0.3972945452157132,1.1575954255423209,-0.47619949851144905,2.519144683341893,1.2944533426663674,-0.9734229218001452,1.3682532247341346,-0.8496789312210303,-0.2649093729476989,0.6457170669435297,0.8271064006126501,-0.7749528988067509,1.001913076936737,0.8120002507488213,-0.8663830893781663,2.2109593730602133,-0.3781719075913857,0.015200436893985737,2.0796227484366914,0.03414309480971347,-0.7073025970093648,0.5447876540997124,0.15871659579090078,-0.060186952309339056,-2.040420778866945,-0.13855641571035474,-1.6961095263369388,-0.9299607848471094,0.42810125413179506,-0.20960566035875308,0.8091366866871842,-0.6383733130460841,0.03184295820309675,0.4099770897336773,0.29049798568337276],\"yaxis\":\"y5\"},{\"histfunc\":\"count\",\"histnorm\":\"\",\"marker\":{\"color\":\"rgba(55, 128, 191, 1.0)\",\"line\":{\"color\":\"#4D5663\",\"width\":1.3}},\"name\":\"B\",\"nbinsx\":10,\"opacity\":0.8,\"orientation\":\"v\",\"type\":\"histogram\",\"x\":[0.4908311343814552,0.2184294036515998,0.8773199756877776,-0.5306270595751419,-0.45857510326432177,-2.210141175194517,-1.1718073236010733,0.7655275912167271,0.6356541834810701,-1.6332828663175116,1.0487351561018425,1.43729039987702,-0.7409401093263623,-0.5906002518728066,-3.5822454622628177,1.775083894237991,3.153359736399895,-0.206360434964078,0.4832668240227068,1.4924634234884744,1.1303056661058593,0.3809413259195282,-0.08435249626929543,0.3702751991921212,1.3951327098969522,-1.7295969719787143,-0.44408775127808997,1.1487743309202474,-0.04902087713511538,-0.7120750076662782,0.40449471024488143,0.2918957958896897,0.5560023877190212,-0.16752371802339486,-1.716850478180125,0.649158426150467,1.1233767639252763,-0.814426114370307,0.9445349720500489,0.05147449020198193,0.8137655537705104,-1.2817599458106645,-0.14242664444260536,2.094452656634059,-0.6513378649946291,0.24095637290196942,0.6557918851124303,-0.3338149240064824,0.1969743738756663,-0.4912013596722006,1.4809601842856794,0.348984950814985,-0.4530667696706939,1.612914879507302,0.09814254220664902,0.1592404246273716,0.32301285061662766,-0.2110628783857944,-1.2090441466834407,0.2731259978707747,-0.6739588109652542,-1.0767813621272486,0.21458519274391671,-1.2171725576955057,0.9340611364054661,-0.3972945452157132,1.1575954255423209,-0.47619949851144905,2.519144683341893,1.2944533426663674,-0.9734229218001452,1.3682532247341346,-0.8496789312210303,-0.2649093729476989,0.6457170669435297,0.8271064006126501,-0.7749528988067509,1.001913076936737,0.8120002507488213,-0.8663830893781663,2.2109593730602133,-0.3781719075913857,0.015200436893985737,2.0796227484366914,0.03414309480971347,-0.7073025970093648,0.5447876540997124,0.15871659579090078,-0.060186952309339056,-2.040420778866945,-0.13855641571035474,-1.6961095263369388,-0.9299607848471094,0.42810125413179506,-0.20960566035875308,0.8091366866871842,-0.6383733130460841,0.03184295820309675,0.4099770897336773,0.29049798568337276],\"xaxis\":\"x6\",\"yaxis\":\"y6\"},{\"line\":{\"color\":\"rgba(128, 128, 128, 1.0)\",\"dash\":\"solid\",\"shape\":\"linear\",\"width\":1.3},\"marker\":{\"size\":2,\"symbol\":\"circle\"},\"mode\":\"markers\",\"name\":\"B\",\"text\":\"\",\"type\":\"scatter\",\"x\":[1.24824987724467,0.9983689311913663,-1.0545690724204038,1.1110154458252424,-0.18806788243124886,1.6412332962784588,0.9976205692561707,-0.20563881102554485,0.5345206661859929,-0.8505885078959133,-1.1753042938369387,0.5549326737094422,1.0995805298123364,-1.0560733314055109,1.3277532401832361,1.4523608886914232,-0.161314534715455,-0.33489534535513893,-0.7537305268618539,-1.3651019723336582,0.15357143130152426,2.352502339439212,0.8208166600250829,-1.5795811113520248,0.9950742161653353,0.14579194579704557,0.8169337766943169,-1.1420317664011554,-0.6917161512521847,0.5397028580408441,1.2888922014575794,0.9645618249698433,2.508282884935816,-1.2406403110575333,0.6727589312788329,1.9535578727520735,2.0655850841980685,0.5939239517448182,1.5609919616111845,-0.7252496988828738,2.136310258701791,0.4446478384214512,0.7814050040605677,1.9400127197756265,-0.0625414646621362,-0.49897583504721527,0.34188695790826173,-0.8253166450180647,0.7075042946640339,-1.0497064659937023,0.6115380282026508,-0.042634838988535886,-1.613726680017053,-0.5108762951988812,-1.109847843378826,-0.7640949124503643,-1.1407668845157493,0.27212241625304584,1.0395184083143811,-1.5022539999450975,-0.9908832213910737,0.5194210032608014,-0.49037645678522157,1.2474633860946922,-1.2160380494102008,1.3460491818655465,-0.230631034046932,1.4089074816386598,-0.1579573048321106,-0.5160439485600161,-0.3648808343273896,-0.5257838884533907,0.06842469839609554,0.08568730169514732,-1.1371332137463852,-1.4971689928424767,-0.8515939238232175,-1.30988193953392,1.3795659468683439,-0.5130671601260106,0.9621516370294597,-0.9187135909664644,0.8604235269339526,0.37135557036266653,0.8614769610539936,-0.18904446358552046,-2.22437399622934,0.33106342755376417,2.549737610004259,-0.4618425641054059,-1.2889213156018071,0.07516728539907698,-0.048269396726482776,1.088268004436375,1.3079386308997538,-1.143496816856456,0.27367419166654844,-0.06915058726928211,0.4000533457112604,-0.021474464692848805],\"xaxis\":\"x7\",\"y\":[0.4908311343814552,0.2184294036515998,0.8773199756877776,-0.5306270595751419,-0.45857510326432177,-2.210141175194517,-1.1718073236010733,0.7655275912167271,0.6356541834810701,-1.6332828663175116,1.0487351561018425,1.43729039987702,-0.7409401093263623,-0.5906002518728066,-3.5822454622628177,1.775083894237991,3.153359736399895,-0.206360434964078,0.4832668240227068,1.4924634234884744,1.1303056661058593,0.3809413259195282,-0.08435249626929543,0.3702751991921212,1.3951327098969522,-1.7295969719787143,-0.44408775127808997,1.1487743309202474,-0.04902087713511538,-0.7120750076662782,0.40449471024488143,0.2918957958896897,0.5560023877190212,-0.16752371802339486,-1.716850478180125,0.649158426150467,1.1233767639252763,-0.814426114370307,0.9445349720500489,0.05147449020198193,0.8137655537705104,-1.2817599458106645,-0.14242664444260536,2.094452656634059,-0.6513378649946291,0.24095637290196942,0.6557918851124303,-0.3338149240064824,0.1969743738756663,-0.4912013596722006,1.4809601842856794,0.348984950814985,-0.4530667696706939,1.612914879507302,0.09814254220664902,0.1592404246273716,0.32301285061662766,-0.2110628783857944,-1.2090441466834407,0.2731259978707747,-0.6739588109652542,-1.0767813621272486,0.21458519274391671,-1.2171725576955057,0.9340611364054661,-0.3972945452157132,1.1575954255423209,-0.47619949851144905,2.519144683341893,1.2944533426663674,-0.9734229218001452,1.3682532247341346,-0.8496789312210303,-0.2649093729476989,0.6457170669435297,0.8271064006126501,-0.7749528988067509,1.001913076936737,0.8120002507488213,-0.8663830893781663,2.2109593730602133,-0.3781719075913857,0.015200436893985737,2.0796227484366914,0.03414309480971347,-0.7073025970093648,0.5447876540997124,0.15871659579090078,-0.060186952309339056,-2.040420778866945,-0.13855641571035474,-1.6961095263369388,-0.9299607848471094,0.42810125413179506,-0.20960566035875308,0.8091366866871842,-0.6383733130460841,0.03184295820309675,0.4099770897336773,0.29049798568337276],\"yaxis\":\"y7\"},{\"line\":{\"color\":\"rgba(128, 128, 128, 1.0)\",\"dash\":\"solid\",\"shape\":\"linear\",\"width\":1.3},\"marker\":{\"size\":2,\"symbol\":\"circle\"},\"mode\":\"markers\",\"name\":\"B\",\"text\":\"\",\"type\":\"scatter\",\"x\":[1.0342738233186355,0.5156610196675836,-0.5725259067866464,-0.10970870252082576,-1.4327145722273824,-0.9826239102851156,0.5006651139298808,-1.1502675055475746,0.6639679297637253,-0.07752158325123237,2.0158414978467887,-0.9955282451419247,-1.7210864207825824,0.23479523078152342,-0.2161324289065316,0.25208726701439466,0.01577336591237228,0.34882139513354027,-0.7238237634736284,-0.3501528880220865,1.0479828325432092,0.9155011350265077,0.20143348513930073,-1.5723117782905938,0.8329643643432065,-0.020518177832366917,0.4434169197970847,-0.13151662643872672,0.19345297335747452,-1.0478613936117316,-1.2799209471787956,0.9050515082873299,-0.9489689486425905,-1.091978704639964,0.6384162534669922,-0.8818576944601535,0.2093325649640961,0.8242202667089975,-2.8517008211626615,0.30367457140949283,0.9725263493422491,1.224233425644717,0.8635991278823429,0.46944638498128954,0.8197091528699354,1.0113032914201345,0.13748361177121818,1.6692510622178953,0.432584711062849,-0.29826117549858916,-0.4593725731326591,-0.17404850710223124,-0.9369130775604738,0.2507113827278272,0.1530612974438675,1.5401766900531628,0.8993395464011825,-0.32920039648177646,0.5914808895285231,-0.7853589024365782,0.7325306864025032,-1.3905132515174619,0.9167629257257449,1.0412497492462496,3.0885137231233815,-0.6518212596559126,0.363107114757367,1.7062057862485325,0.050858029670477874,1.1709220746651454,0.6051558226870052,0.4992326633715957,0.20317822388308163,0.23867508128071055,-1.099568926340057,-2.1461816017798543,1.3572434043105053,-1.5904421177027062,-0.0642040160364851,0.7931736049541596,-1.2157041083468376,-1.6847396490905608,-1.8683363355635891,-0.6734526705125173,-1.26830693894692,-0.6493342786724048,-0.16319043196262376,-0.8780734025113669,-1.4106890856015997,-1.1809037028725,-0.5100649158973671,0.3895190308583476,-1.2204805956483635,0.1847573466074172,-1.383240694871071,-0.5472801903743459,0.9156878096550913,0.4285045498957374,0.5691321261310297,-0.5463110957781203],\"xaxis\":\"x8\",\"y\":[0.4908311343814552,0.2184294036515998,0.8773199756877776,-0.5306270595751419,-0.45857510326432177,-2.210141175194517,-1.1718073236010733,0.7655275912167271,0.6356541834810701,-1.6332828663175116,1.0487351561018425,1.43729039987702,-0.7409401093263623,-0.5906002518728066,-3.5822454622628177,1.775083894237991,3.153359736399895,-0.206360434964078,0.4832668240227068,1.4924634234884744,1.1303056661058593,0.3809413259195282,-0.08435249626929543,0.3702751991921212,1.3951327098969522,-1.7295969719787143,-0.44408775127808997,1.1487743309202474,-0.04902087713511538,-0.7120750076662782,0.40449471024488143,0.2918957958896897,0.5560023877190212,-0.16752371802339486,-1.716850478180125,0.649158426150467,1.1233767639252763,-0.814426114370307,0.9445349720500489,0.05147449020198193,0.8137655537705104,-1.2817599458106645,-0.14242664444260536,2.094452656634059,-0.6513378649946291,0.24095637290196942,0.6557918851124303,-0.3338149240064824,0.1969743738756663,-0.4912013596722006,1.4809601842856794,0.348984950814985,-0.4530667696706939,1.612914879507302,0.09814254220664902,0.1592404246273716,0.32301285061662766,-0.2110628783857944,-1.2090441466834407,0.2731259978707747,-0.6739588109652542,-1.0767813621272486,0.21458519274391671,-1.2171725576955057,0.9340611364054661,-0.3972945452157132,1.1575954255423209,-0.47619949851144905,2.519144683341893,1.2944533426663674,-0.9734229218001452,1.3682532247341346,-0.8496789312210303,-0.2649093729476989,0.6457170669435297,0.8271064006126501,-0.7749528988067509,1.001913076936737,0.8120002507488213,-0.8663830893781663,2.2109593730602133,-0.3781719075913857,0.015200436893985737,2.0796227484366914,0.03414309480971347,-0.7073025970093648,0.5447876540997124,0.15871659579090078,-0.060186952309339056,-2.040420778866945,-0.13855641571035474,-1.6961095263369388,-0.9299607848471094,0.42810125413179506,-0.20960566035875308,0.8091366866871842,-0.6383733130460841,0.03184295820309675,0.4099770897336773,0.29049798568337276],\"yaxis\":\"y8\"},{\"line\":{\"color\":\"rgba(128, 128, 128, 1.0)\",\"dash\":\"solid\",\"shape\":\"linear\",\"width\":1.3},\"marker\":{\"size\":2,\"symbol\":\"circle\"},\"mode\":\"markers\",\"name\":\"C\",\"text\":\"\",\"type\":\"scatter\",\"x\":[0.05605791357056261,0.460019687284693,0.6287518092337231,-0.40335735674017076,0.10729666753545831,-0.6295013494642708,-1.4951352553786494,1.0672754786555207,0.3598261803907446,-1.0166936426325441,-0.07666864253836506,0.0410685021645721,0.48573655430333923,-0.11416938422627511,-0.7386166413012212,0.7039588772816362,1.707845165649345,0.3042828542104509,1.1414108452743028,-0.1891422906682915,-1.0724824106218038,1.697912228612607,2.376315745461367,1.3285205463490388,0.5241455798665027,0.3296266350692246,0.893307944055857,0.29888277985522527,-0.40214756911155725,0.27769939748663547,1.7229469733657832,-1.0590791859078141,0.17677513633413716,-1.0751157989840059,-1.206163745609603,0.21085545930113656,0.28691557726486,0.5626865844183987,-0.024749798143169792,-1.227681486982836,2.3768811509212675,-1.5514568828774338,1.6112875275834087,-0.035511207000442,1.3597817860592807,0.6340139048174628,-0.9461246374711879,-0.5980463813946243,-0.11121371341266718,-0.7789947858694427,-0.7909367835488761,0.44597932143928465,-0.015829741692926957,0.5880978326151248,-1.1687690687778953,0.46738762470996625,-1.0232152012694558,0.019203856503362135,-0.2513480883458298,1.67760815029347,-0.3388913730150217,0.5054335631763178,-0.5582218465556053,0.09412762463803932,-0.269836966510378,-0.4229131069545643,-0.05562146161653577,0.36806445455580034,-0.1491590393377931,-1.6102639259917182,0.3538094719163923,1.2443563819434125,-0.5311791146417401,0.03025030818705174,2.6374187556509767,-0.06300359369525535,-0.2163986548430199,-1.4063465608219916,-0.6335377419553875,0.5468778943274468,0.22887859434644822,-0.0024186408660699346,1.051698629355191,-0.9869517109480603,-0.31987496824644224,-0.540174686913111,0.3340381390336442,0.7322443952033713,-0.9129854111412516,-0.18584647450385625,-0.9478104793799853,0.7151795709345523,-0.8542424412247567,-1.5265198883275757,0.5488311569159915,0.21865254089016833,-0.4204248699245095,-1.0376879604394742,0.24386425713090254,0.2897506749290084],\"xaxis\":\"x9\",\"y\":[1.24824987724467,0.9983689311913663,-1.0545690724204038,1.1110154458252424,-0.18806788243124886,1.6412332962784588,0.9976205692561707,-0.20563881102554485,0.5345206661859929,-0.8505885078959133,-1.1753042938369387,0.5549326737094422,1.0995805298123364,-1.0560733314055109,1.3277532401832361,1.4523608886914232,-0.161314534715455,-0.33489534535513893,-0.7537305268618539,-1.3651019723336582,0.15357143130152426,2.352502339439212,0.8208166600250829,-1.5795811113520248,0.9950742161653353,0.14579194579704557,0.8169337766943169,-1.1420317664011554,-0.6917161512521847,0.5397028580408441,1.2888922014575794,0.9645618249698433,2.508282884935816,-1.2406403110575333,0.6727589312788329,1.9535578727520735,2.0655850841980685,0.5939239517448182,1.5609919616111845,-0.7252496988828738,2.136310258701791,0.4446478384214512,0.7814050040605677,1.9400127197756265,-0.0625414646621362,-0.49897583504721527,0.34188695790826173,-0.8253166450180647,0.7075042946640339,-1.0497064659937023,0.6115380282026508,-0.042634838988535886,-1.613726680017053,-0.5108762951988812,-1.109847843378826,-0.7640949124503643,-1.1407668845157493,0.27212241625304584,1.0395184083143811,-1.5022539999450975,-0.9908832213910737,0.5194210032608014,-0.49037645678522157,1.2474633860946922,-1.2160380494102008,1.3460491818655465,-0.230631034046932,1.4089074816386598,-0.1579573048321106,-0.5160439485600161,-0.3648808343273896,-0.5257838884533907,0.06842469839609554,0.08568730169514732,-1.1371332137463852,-1.4971689928424767,-0.8515939238232175,-1.30988193953392,1.3795659468683439,-0.5130671601260106,0.9621516370294597,-0.9187135909664644,0.8604235269339526,0.37135557036266653,0.8614769610539936,-0.18904446358552046,-2.22437399622934,0.33106342755376417,2.549737610004259,-0.4618425641054059,-1.2889213156018071,0.07516728539907698,-0.048269396726482776,1.088268004436375,1.3079386308997538,-1.143496816856456,0.27367419166654844,-0.06915058726928211,0.4000533457112604,-0.021474464692848805],\"yaxis\":\"y9\"},{\"line\":{\"color\":\"rgba(128, 128, 128, 1.0)\",\"dash\":\"solid\",\"shape\":\"linear\",\"width\":1.3},\"marker\":{\"size\":2,\"symbol\":\"circle\"},\"mode\":\"markers\",\"name\":\"C\",\"text\":\"\",\"type\":\"scatter\",\"x\":[0.4908311343814552,0.2184294036515998,0.8773199756877776,-0.5306270595751419,-0.45857510326432177,-2.210141175194517,-1.1718073236010733,0.7655275912167271,0.6356541834810701,-1.6332828663175116,1.0487351561018425,1.43729039987702,-0.7409401093263623,-0.5906002518728066,-3.5822454622628177,1.775083894237991,3.153359736399895,-0.206360434964078,0.4832668240227068,1.4924634234884744,1.1303056661058593,0.3809413259195282,-0.08435249626929543,0.3702751991921212,1.3951327098969522,-1.7295969719787143,-0.44408775127808997,1.1487743309202474,-0.04902087713511538,-0.7120750076662782,0.40449471024488143,0.2918957958896897,0.5560023877190212,-0.16752371802339486,-1.716850478180125,0.649158426150467,1.1233767639252763,-0.814426114370307,0.9445349720500489,0.05147449020198193,0.8137655537705104,-1.2817599458106645,-0.14242664444260536,2.094452656634059,-0.6513378649946291,0.24095637290196942,0.6557918851124303,-0.3338149240064824,0.1969743738756663,-0.4912013596722006,1.4809601842856794,0.348984950814985,-0.4530667696706939,1.612914879507302,0.09814254220664902,0.1592404246273716,0.32301285061662766,-0.2110628783857944,-1.2090441466834407,0.2731259978707747,-0.6739588109652542,-1.0767813621272486,0.21458519274391671,-1.2171725576955057,0.9340611364054661,-0.3972945452157132,1.1575954255423209,-0.47619949851144905,2.519144683341893,1.2944533426663674,-0.9734229218001452,1.3682532247341346,-0.8496789312210303,-0.2649093729476989,0.6457170669435297,0.8271064006126501,-0.7749528988067509,1.001913076936737,0.8120002507488213,-0.8663830893781663,2.2109593730602133,-0.3781719075913857,0.015200436893985737,2.0796227484366914,0.03414309480971347,-0.7073025970093648,0.5447876540997124,0.15871659579090078,-0.060186952309339056,-2.040420778866945,-0.13855641571035474,-1.6961095263369388,-0.9299607848471094,0.42810125413179506,-0.20960566035875308,0.8091366866871842,-0.6383733130460841,0.03184295820309675,0.4099770897336773,0.29049798568337276],\"xaxis\":\"x10\",\"y\":[1.24824987724467,0.9983689311913663,-1.0545690724204038,1.1110154458252424,-0.18806788243124886,1.6412332962784588,0.9976205692561707,-0.20563881102554485,0.5345206661859929,-0.8505885078959133,-1.1753042938369387,0.5549326737094422,1.0995805298123364,-1.0560733314055109,1.3277532401832361,1.4523608886914232,-0.161314534715455,-0.33489534535513893,-0.7537305268618539,-1.3651019723336582,0.15357143130152426,2.352502339439212,0.8208166600250829,-1.5795811113520248,0.9950742161653353,0.14579194579704557,0.8169337766943169,-1.1420317664011554,-0.6917161512521847,0.5397028580408441,1.2888922014575794,0.9645618249698433,2.508282884935816,-1.2406403110575333,0.6727589312788329,1.9535578727520735,2.0655850841980685,0.5939239517448182,1.5609919616111845,-0.7252496988828738,2.136310258701791,0.4446478384214512,0.7814050040605677,1.9400127197756265,-0.0625414646621362,-0.49897583504721527,0.34188695790826173,-0.8253166450180647,0.7075042946640339,-1.0497064659937023,0.6115380282026508,-0.042634838988535886,-1.613726680017053,-0.5108762951988812,-1.109847843378826,-0.7640949124503643,-1.1407668845157493,0.27212241625304584,1.0395184083143811,-1.5022539999450975,-0.9908832213910737,0.5194210032608014,-0.49037645678522157,1.2474633860946922,-1.2160380494102008,1.3460491818655465,-0.230631034046932,1.4089074816386598,-0.1579573048321106,-0.5160439485600161,-0.3648808343273896,-0.5257838884533907,0.06842469839609554,0.08568730169514732,-1.1371332137463852,-1.4971689928424767,-0.8515939238232175,-1.30988193953392,1.3795659468683439,-0.5130671601260106,0.9621516370294597,-0.9187135909664644,0.8604235269339526,0.37135557036266653,0.8614769610539936,-0.18904446358552046,-2.22437399622934,0.33106342755376417,2.549737610004259,-0.4618425641054059,-1.2889213156018071,0.07516728539907698,-0.048269396726482776,1.088268004436375,1.3079386308997538,-1.143496816856456,0.27367419166654844,-0.06915058726928211,0.4000533457112604,-0.021474464692848805],\"yaxis\":\"y10\"},{\"histfunc\":\"count\",\"histnorm\":\"\",\"marker\":{\"color\":\"rgba(50, 171, 96, 1.0)\",\"line\":{\"color\":\"#4D5663\",\"width\":1.3}},\"name\":\"C\",\"nbinsx\":10,\"opacity\":0.8,\"orientation\":\"v\",\"type\":\"histogram\",\"x\":[1.24824987724467,0.9983689311913663,-1.0545690724204038,1.1110154458252424,-0.18806788243124886,1.6412332962784588,0.9976205692561707,-0.20563881102554485,0.5345206661859929,-0.8505885078959133,-1.1753042938369387,0.5549326737094422,1.0995805298123364,-1.0560733314055109,1.3277532401832361,1.4523608886914232,-0.161314534715455,-0.33489534535513893,-0.7537305268618539,-1.3651019723336582,0.15357143130152426,2.352502339439212,0.8208166600250829,-1.5795811113520248,0.9950742161653353,0.14579194579704557,0.8169337766943169,-1.1420317664011554,-0.6917161512521847,0.5397028580408441,1.2888922014575794,0.9645618249698433,2.508282884935816,-1.2406403110575333,0.6727589312788329,1.9535578727520735,2.0655850841980685,0.5939239517448182,1.5609919616111845,-0.7252496988828738,2.136310258701791,0.4446478384214512,0.7814050040605677,1.9400127197756265,-0.0625414646621362,-0.49897583504721527,0.34188695790826173,-0.8253166450180647,0.7075042946640339,-1.0497064659937023,0.6115380282026508,-0.042634838988535886,-1.613726680017053,-0.5108762951988812,-1.109847843378826,-0.7640949124503643,-1.1407668845157493,0.27212241625304584,1.0395184083143811,-1.5022539999450975,-0.9908832213910737,0.5194210032608014,-0.49037645678522157,1.2474633860946922,-1.2160380494102008,1.3460491818655465,-0.230631034046932,1.4089074816386598,-0.1579573048321106,-0.5160439485600161,-0.3648808343273896,-0.5257838884533907,0.06842469839609554,0.08568730169514732,-1.1371332137463852,-1.4971689928424767,-0.8515939238232175,-1.30988193953392,1.3795659468683439,-0.5130671601260106,0.9621516370294597,-0.9187135909664644,0.8604235269339526,0.37135557036266653,0.8614769610539936,-0.18904446358552046,-2.22437399622934,0.33106342755376417,2.549737610004259,-0.4618425641054059,-1.2889213156018071,0.07516728539907698,-0.048269396726482776,1.088268004436375,1.3079386308997538,-1.143496816856456,0.27367419166654844,-0.06915058726928211,0.4000533457112604,-0.021474464692848805],\"xaxis\":\"x11\",\"yaxis\":\"y11\"},{\"line\":{\"color\":\"rgba(128, 128, 128, 1.0)\",\"dash\":\"solid\",\"shape\":\"linear\",\"width\":1.3},\"marker\":{\"size\":2,\"symbol\":\"circle\"},\"mode\":\"markers\",\"name\":\"C\",\"text\":\"\",\"type\":\"scatter\",\"x\":[1.0342738233186355,0.5156610196675836,-0.5725259067866464,-0.10970870252082576,-1.4327145722273824,-0.9826239102851156,0.5006651139298808,-1.1502675055475746,0.6639679297637253,-0.07752158325123237,2.0158414978467887,-0.9955282451419247,-1.7210864207825824,0.23479523078152342,-0.2161324289065316,0.25208726701439466,0.01577336591237228,0.34882139513354027,-0.7238237634736284,-0.3501528880220865,1.0479828325432092,0.9155011350265077,0.20143348513930073,-1.5723117782905938,0.8329643643432065,-0.020518177832366917,0.4434169197970847,-0.13151662643872672,0.19345297335747452,-1.0478613936117316,-1.2799209471787956,0.9050515082873299,-0.9489689486425905,-1.091978704639964,0.6384162534669922,-0.8818576944601535,0.2093325649640961,0.8242202667089975,-2.8517008211626615,0.30367457140949283,0.9725263493422491,1.224233425644717,0.8635991278823429,0.46944638498128954,0.8197091528699354,1.0113032914201345,0.13748361177121818,1.6692510622178953,0.432584711062849,-0.29826117549858916,-0.4593725731326591,-0.17404850710223124,-0.9369130775604738,0.2507113827278272,0.1530612974438675,1.5401766900531628,0.8993395464011825,-0.32920039648177646,0.5914808895285231,-0.7853589024365782,0.7325306864025032,-1.3905132515174619,0.9167629257257449,1.0412497492462496,3.0885137231233815,-0.6518212596559126,0.363107114757367,1.7062057862485325,0.050858029670477874,1.1709220746651454,0.6051558226870052,0.4992326633715957,0.20317822388308163,0.23867508128071055,-1.099568926340057,-2.1461816017798543,1.3572434043105053,-1.5904421177027062,-0.0642040160364851,0.7931736049541596,-1.2157041083468376,-1.6847396490905608,-1.8683363355635891,-0.6734526705125173,-1.26830693894692,-0.6493342786724048,-0.16319043196262376,-0.8780734025113669,-1.4106890856015997,-1.1809037028725,-0.5100649158973671,0.3895190308583476,-1.2204805956483635,0.1847573466074172,-1.383240694871071,-0.5472801903743459,0.9156878096550913,0.4285045498957374,0.5691321261310297,-0.5463110957781203],\"xaxis\":\"x12\",\"y\":[1.24824987724467,0.9983689311913663,-1.0545690724204038,1.1110154458252424,-0.18806788243124886,1.6412332962784588,0.9976205692561707,-0.20563881102554485,0.5345206661859929,-0.8505885078959133,-1.1753042938369387,0.5549326737094422,1.0995805298123364,-1.0560733314055109,1.3277532401832361,1.4523608886914232,-0.161314534715455,-0.33489534535513893,-0.7537305268618539,-1.3651019723336582,0.15357143130152426,2.352502339439212,0.8208166600250829,-1.5795811113520248,0.9950742161653353,0.14579194579704557,0.8169337766943169,-1.1420317664011554,-0.6917161512521847,0.5397028580408441,1.2888922014575794,0.9645618249698433,2.508282884935816,-1.2406403110575333,0.6727589312788329,1.9535578727520735,2.0655850841980685,0.5939239517448182,1.5609919616111845,-0.7252496988828738,2.136310258701791,0.4446478384214512,0.7814050040605677,1.9400127197756265,-0.0625414646621362,-0.49897583504721527,0.34188695790826173,-0.8253166450180647,0.7075042946640339,-1.0497064659937023,0.6115380282026508,-0.042634838988535886,-1.613726680017053,-0.5108762951988812,-1.109847843378826,-0.7640949124503643,-1.1407668845157493,0.27212241625304584,1.0395184083143811,-1.5022539999450975,-0.9908832213910737,0.5194210032608014,-0.49037645678522157,1.2474633860946922,-1.2160380494102008,1.3460491818655465,-0.230631034046932,1.4089074816386598,-0.1579573048321106,-0.5160439485600161,-0.3648808343273896,-0.5257838884533907,0.06842469839609554,0.08568730169514732,-1.1371332137463852,-1.4971689928424767,-0.8515939238232175,-1.30988193953392,1.3795659468683439,-0.5130671601260106,0.9621516370294597,-0.9187135909664644,0.8604235269339526,0.37135557036266653,0.8614769610539936,-0.18904446358552046,-2.22437399622934,0.33106342755376417,2.549737610004259,-0.4618425641054059,-1.2889213156018071,0.07516728539907698,-0.048269396726482776,1.088268004436375,1.3079386308997538,-1.143496816856456,0.27367419166654844,-0.06915058726928211,0.4000533457112604,-0.021474464692848805],\"yaxis\":\"y12\"},{\"line\":{\"color\":\"rgba(128, 128, 128, 1.0)\",\"dash\":\"solid\",\"shape\":\"linear\",\"width\":1.3},\"marker\":{\"size\":2,\"symbol\":\"circle\"},\"mode\":\"markers\",\"name\":\"D\",\"text\":\"\",\"type\":\"scatter\",\"x\":[0.05605791357056261,0.460019687284693,0.6287518092337231,-0.40335735674017076,0.10729666753545831,-0.6295013494642708,-1.4951352553786494,1.0672754786555207,0.3598261803907446,-1.0166936426325441,-0.07666864253836506,0.0410685021645721,0.48573655430333923,-0.11416938422627511,-0.7386166413012212,0.7039588772816362,1.707845165649345,0.3042828542104509,1.1414108452743028,-0.1891422906682915,-1.0724824106218038,1.697912228612607,2.376315745461367,1.3285205463490388,0.5241455798665027,0.3296266350692246,0.893307944055857,0.29888277985522527,-0.40214756911155725,0.27769939748663547,1.7229469733657832,-1.0590791859078141,0.17677513633413716,-1.0751157989840059,-1.206163745609603,0.21085545930113656,0.28691557726486,0.5626865844183987,-0.024749798143169792,-1.227681486982836,2.3768811509212675,-1.5514568828774338,1.6112875275834087,-0.035511207000442,1.3597817860592807,0.6340139048174628,-0.9461246374711879,-0.5980463813946243,-0.11121371341266718,-0.7789947858694427,-0.7909367835488761,0.44597932143928465,-0.015829741692926957,0.5880978326151248,-1.1687690687778953,0.46738762470996625,-1.0232152012694558,0.019203856503362135,-0.2513480883458298,1.67760815029347,-0.3388913730150217,0.5054335631763178,-0.5582218465556053,0.09412762463803932,-0.269836966510378,-0.4229131069545643,-0.05562146161653577,0.36806445455580034,-0.1491590393377931,-1.6102639259917182,0.3538094719163923,1.2443563819434125,-0.5311791146417401,0.03025030818705174,2.6374187556509767,-0.06300359369525535,-0.2163986548430199,-1.4063465608219916,-0.6335377419553875,0.5468778943274468,0.22887859434644822,-0.0024186408660699346,1.051698629355191,-0.9869517109480603,-0.31987496824644224,-0.540174686913111,0.3340381390336442,0.7322443952033713,-0.9129854111412516,-0.18584647450385625,-0.9478104793799853,0.7151795709345523,-0.8542424412247567,-1.5265198883275757,0.5488311569159915,0.21865254089016833,-0.4204248699245095,-1.0376879604394742,0.24386425713090254,0.2897506749290084],\"xaxis\":\"x13\",\"y\":[1.0342738233186355,0.5156610196675836,-0.5725259067866464,-0.10970870252082576,-1.4327145722273824,-0.9826239102851156,0.5006651139298808,-1.1502675055475746,0.6639679297637253,-0.07752158325123237,2.0158414978467887,-0.9955282451419247,-1.7210864207825824,0.23479523078152342,-0.2161324289065316,0.25208726701439466,0.01577336591237228,0.34882139513354027,-0.7238237634736284,-0.3501528880220865,1.0479828325432092,0.9155011350265077,0.20143348513930073,-1.5723117782905938,0.8329643643432065,-0.020518177832366917,0.4434169197970847,-0.13151662643872672,0.19345297335747452,-1.0478613936117316,-1.2799209471787956,0.9050515082873299,-0.9489689486425905,-1.091978704639964,0.6384162534669922,-0.8818576944601535,0.2093325649640961,0.8242202667089975,-2.8517008211626615,0.30367457140949283,0.9725263493422491,1.224233425644717,0.8635991278823429,0.46944638498128954,0.8197091528699354,1.0113032914201345,0.13748361177121818,1.6692510622178953,0.432584711062849,-0.29826117549858916,-0.4593725731326591,-0.17404850710223124,-0.9369130775604738,0.2507113827278272,0.1530612974438675,1.5401766900531628,0.8993395464011825,-0.32920039648177646,0.5914808895285231,-0.7853589024365782,0.7325306864025032,-1.3905132515174619,0.9167629257257449,1.0412497492462496,3.0885137231233815,-0.6518212596559126,0.363107114757367,1.7062057862485325,0.050858029670477874,1.1709220746651454,0.6051558226870052,0.4992326633715957,0.20317822388308163,0.23867508128071055,-1.099568926340057,-2.1461816017798543,1.3572434043105053,-1.5904421177027062,-0.0642040160364851,0.7931736049541596,-1.2157041083468376,-1.6847396490905608,-1.8683363355635891,-0.6734526705125173,-1.26830693894692,-0.6493342786724048,-0.16319043196262376,-0.8780734025113669,-1.4106890856015997,-1.1809037028725,-0.5100649158973671,0.3895190308583476,-1.2204805956483635,0.1847573466074172,-1.383240694871071,-0.5472801903743459,0.9156878096550913,0.4285045498957374,0.5691321261310297,-0.5463110957781203],\"yaxis\":\"y13\"},{\"line\":{\"color\":\"rgba(128, 128, 128, 1.0)\",\"dash\":\"solid\",\"shape\":\"linear\",\"width\":1.3},\"marker\":{\"size\":2,\"symbol\":\"circle\"},\"mode\":\"markers\",\"name\":\"D\",\"text\":\"\",\"type\":\"scatter\",\"x\":[0.4908311343814552,0.2184294036515998,0.8773199756877776,-0.5306270595751419,-0.45857510326432177,-2.210141175194517,-1.1718073236010733,0.7655275912167271,0.6356541834810701,-1.6332828663175116,1.0487351561018425,1.43729039987702,-0.7409401093263623,-0.5906002518728066,-3.5822454622628177,1.775083894237991,3.153359736399895,-0.206360434964078,0.4832668240227068,1.4924634234884744,1.1303056661058593,0.3809413259195282,-0.08435249626929543,0.3702751991921212,1.3951327098969522,-1.7295969719787143,-0.44408775127808997,1.1487743309202474,-0.04902087713511538,-0.7120750076662782,0.40449471024488143,0.2918957958896897,0.5560023877190212,-0.16752371802339486,-1.716850478180125,0.649158426150467,1.1233767639252763,-0.814426114370307,0.9445349720500489,0.05147449020198193,0.8137655537705104,-1.2817599458106645,-0.14242664444260536,2.094452656634059,-0.6513378649946291,0.24095637290196942,0.6557918851124303,-0.3338149240064824,0.1969743738756663,-0.4912013596722006,1.4809601842856794,0.348984950814985,-0.4530667696706939,1.612914879507302,0.09814254220664902,0.1592404246273716,0.32301285061662766,-0.2110628783857944,-1.2090441466834407,0.2731259978707747,-0.6739588109652542,-1.0767813621272486,0.21458519274391671,-1.2171725576955057,0.9340611364054661,-0.3972945452157132,1.1575954255423209,-0.47619949851144905,2.519144683341893,1.2944533426663674,-0.9734229218001452,1.3682532247341346,-0.8496789312210303,-0.2649093729476989,0.6457170669435297,0.8271064006126501,-0.7749528988067509,1.001913076936737,0.8120002507488213,-0.8663830893781663,2.2109593730602133,-0.3781719075913857,0.015200436893985737,2.0796227484366914,0.03414309480971347,-0.7073025970093648,0.5447876540997124,0.15871659579090078,-0.060186952309339056,-2.040420778866945,-0.13855641571035474,-1.6961095263369388,-0.9299607848471094,0.42810125413179506,-0.20960566035875308,0.8091366866871842,-0.6383733130460841,0.03184295820309675,0.4099770897336773,0.29049798568337276],\"xaxis\":\"x14\",\"y\":[1.0342738233186355,0.5156610196675836,-0.5725259067866464,-0.10970870252082576,-1.4327145722273824,-0.9826239102851156,0.5006651139298808,-1.1502675055475746,0.6639679297637253,-0.07752158325123237,2.0158414978467887,-0.9955282451419247,-1.7210864207825824,0.23479523078152342,-0.2161324289065316,0.25208726701439466,0.01577336591237228,0.34882139513354027,-0.7238237634736284,-0.3501528880220865,1.0479828325432092,0.9155011350265077,0.20143348513930073,-1.5723117782905938,0.8329643643432065,-0.020518177832366917,0.4434169197970847,-0.13151662643872672,0.19345297335747452,-1.0478613936117316,-1.2799209471787956,0.9050515082873299,-0.9489689486425905,-1.091978704639964,0.6384162534669922,-0.8818576944601535,0.2093325649640961,0.8242202667089975,-2.8517008211626615,0.30367457140949283,0.9725263493422491,1.224233425644717,0.8635991278823429,0.46944638498128954,0.8197091528699354,1.0113032914201345,0.13748361177121818,1.6692510622178953,0.432584711062849,-0.29826117549858916,-0.4593725731326591,-0.17404850710223124,-0.9369130775604738,0.2507113827278272,0.1530612974438675,1.5401766900531628,0.8993395464011825,-0.32920039648177646,0.5914808895285231,-0.7853589024365782,0.7325306864025032,-1.3905132515174619,0.9167629257257449,1.0412497492462496,3.0885137231233815,-0.6518212596559126,0.363107114757367,1.7062057862485325,0.050858029670477874,1.1709220746651454,0.6051558226870052,0.4992326633715957,0.20317822388308163,0.23867508128071055,-1.099568926340057,-2.1461816017798543,1.3572434043105053,-1.5904421177027062,-0.0642040160364851,0.7931736049541596,-1.2157041083468376,-1.6847396490905608,-1.8683363355635891,-0.6734526705125173,-1.26830693894692,-0.6493342786724048,-0.16319043196262376,-0.8780734025113669,-1.4106890856015997,-1.1809037028725,-0.5100649158973671,0.3895190308583476,-1.2204805956483635,0.1847573466074172,-1.383240694871071,-0.5472801903743459,0.9156878096550913,0.4285045498957374,0.5691321261310297,-0.5463110957781203],\"yaxis\":\"y14\"},{\"line\":{\"color\":\"rgba(128, 128, 128, 1.0)\",\"dash\":\"solid\",\"shape\":\"linear\",\"width\":1.3},\"marker\":{\"size\":2,\"symbol\":\"circle\"},\"mode\":\"markers\",\"name\":\"D\",\"text\":\"\",\"type\":\"scatter\",\"x\":[1.24824987724467,0.9983689311913663,-1.0545690724204038,1.1110154458252424,-0.18806788243124886,1.6412332962784588,0.9976205692561707,-0.20563881102554485,0.5345206661859929,-0.8505885078959133,-1.1753042938369387,0.5549326737094422,1.0995805298123364,-1.0560733314055109,1.3277532401832361,1.4523608886914232,-0.161314534715455,-0.33489534535513893,-0.7537305268618539,-1.3651019723336582,0.15357143130152426,2.352502339439212,0.8208166600250829,-1.5795811113520248,0.9950742161653353,0.14579194579704557,0.8169337766943169,-1.1420317664011554,-0.6917161512521847,0.5397028580408441,1.2888922014575794,0.9645618249698433,2.508282884935816,-1.2406403110575333,0.6727589312788329,1.9535578727520735,2.0655850841980685,0.5939239517448182,1.5609919616111845,-0.7252496988828738,2.136310258701791,0.4446478384214512,0.7814050040605677,1.9400127197756265,-0.0625414646621362,-0.49897583504721527,0.34188695790826173,-0.8253166450180647,0.7075042946640339,-1.0497064659937023,0.6115380282026508,-0.042634838988535886,-1.613726680017053,-0.5108762951988812,-1.109847843378826,-0.7640949124503643,-1.1407668845157493,0.27212241625304584,1.0395184083143811,-1.5022539999450975,-0.9908832213910737,0.5194210032608014,-0.49037645678522157,1.2474633860946922,-1.2160380494102008,1.3460491818655465,-0.230631034046932,1.4089074816386598,-0.1579573048321106,-0.5160439485600161,-0.3648808343273896,-0.5257838884533907,0.06842469839609554,0.08568730169514732,-1.1371332137463852,-1.4971689928424767,-0.8515939238232175,-1.30988193953392,1.3795659468683439,-0.5130671601260106,0.9621516370294597,-0.9187135909664644,0.8604235269339526,0.37135557036266653,0.8614769610539936,-0.18904446358552046,-2.22437399622934,0.33106342755376417,2.549737610004259,-0.4618425641054059,-1.2889213156018071,0.07516728539907698,-0.048269396726482776,1.088268004436375,1.3079386308997538,-1.143496816856456,0.27367419166654844,-0.06915058726928211,0.4000533457112604,-0.021474464692848805],\"xaxis\":\"x15\",\"y\":[1.0342738233186355,0.5156610196675836,-0.5725259067866464,-0.10970870252082576,-1.4327145722273824,-0.9826239102851156,0.5006651139298808,-1.1502675055475746,0.6639679297637253,-0.07752158325123237,2.0158414978467887,-0.9955282451419247,-1.7210864207825824,0.23479523078152342,-0.2161324289065316,0.25208726701439466,0.01577336591237228,0.34882139513354027,-0.7238237634736284,-0.3501528880220865,1.0479828325432092,0.9155011350265077,0.20143348513930073,-1.5723117782905938,0.8329643643432065,-0.020518177832366917,0.4434169197970847,-0.13151662643872672,0.19345297335747452,-1.0478613936117316,-1.2799209471787956,0.9050515082873299,-0.9489689486425905,-1.091978704639964,0.6384162534669922,-0.8818576944601535,0.2093325649640961,0.8242202667089975,-2.8517008211626615,0.30367457140949283,0.9725263493422491,1.224233425644717,0.8635991278823429,0.46944638498128954,0.8197091528699354,1.0113032914201345,0.13748361177121818,1.6692510622178953,0.432584711062849,-0.29826117549858916,-0.4593725731326591,-0.17404850710223124,-0.9369130775604738,0.2507113827278272,0.1530612974438675,1.5401766900531628,0.8993395464011825,-0.32920039648177646,0.5914808895285231,-0.7853589024365782,0.7325306864025032,-1.3905132515174619,0.9167629257257449,1.0412497492462496,3.0885137231233815,-0.6518212596559126,0.363107114757367,1.7062057862485325,0.050858029670477874,1.1709220746651454,0.6051558226870052,0.4992326633715957,0.20317822388308163,0.23867508128071055,-1.099568926340057,-2.1461816017798543,1.3572434043105053,-1.5904421177027062,-0.0642040160364851,0.7931736049541596,-1.2157041083468376,-1.6847396490905608,-1.8683363355635891,-0.6734526705125173,-1.26830693894692,-0.6493342786724048,-0.16319043196262376,-0.8780734025113669,-1.4106890856015997,-1.1809037028725,-0.5100649158973671,0.3895190308583476,-1.2204805956483635,0.1847573466074172,-1.383240694871071,-0.5472801903743459,0.9156878096550913,0.4285045498957374,0.5691321261310297,-0.5463110957781203],\"yaxis\":\"y15\"},{\"histfunc\":\"count\",\"histnorm\":\"\",\"marker\":{\"color\":\"rgba(128, 0, 128, 1.0)\",\"line\":{\"color\":\"#4D5663\",\"width\":1.3}},\"name\":\"D\",\"nbinsx\":10,\"opacity\":0.8,\"orientation\":\"v\",\"type\":\"histogram\",\"x\":[1.0342738233186355,0.5156610196675836,-0.5725259067866464,-0.10970870252082576,-1.4327145722273824,-0.9826239102851156,0.5006651139298808,-1.1502675055475746,0.6639679297637253,-0.07752158325123237,2.0158414978467887,-0.9955282451419247,-1.7210864207825824,0.23479523078152342,-0.2161324289065316,0.25208726701439466,0.01577336591237228,0.34882139513354027,-0.7238237634736284,-0.3501528880220865,1.0479828325432092,0.9155011350265077,0.20143348513930073,-1.5723117782905938,0.8329643643432065,-0.020518177832366917,0.4434169197970847,-0.13151662643872672,0.19345297335747452,-1.0478613936117316,-1.2799209471787956,0.9050515082873299,-0.9489689486425905,-1.091978704639964,0.6384162534669922,-0.8818576944601535,0.2093325649640961,0.8242202667089975,-2.8517008211626615,0.30367457140949283,0.9725263493422491,1.224233425644717,0.8635991278823429,0.46944638498128954,0.8197091528699354,1.0113032914201345,0.13748361177121818,1.6692510622178953,0.432584711062849,-0.29826117549858916,-0.4593725731326591,-0.17404850710223124,-0.9369130775604738,0.2507113827278272,0.1530612974438675,1.5401766900531628,0.8993395464011825,-0.32920039648177646,0.5914808895285231,-0.7853589024365782,0.7325306864025032,-1.3905132515174619,0.9167629257257449,1.0412497492462496,3.0885137231233815,-0.6518212596559126,0.363107114757367,1.7062057862485325,0.050858029670477874,1.1709220746651454,0.6051558226870052,0.4992326633715957,0.20317822388308163,0.23867508128071055,-1.099568926340057,-2.1461816017798543,1.3572434043105053,-1.5904421177027062,-0.0642040160364851,0.7931736049541596,-1.2157041083468376,-1.6847396490905608,-1.8683363355635891,-0.6734526705125173,-1.26830693894692,-0.6493342786724048,-0.16319043196262376,-0.8780734025113669,-1.4106890856015997,-1.1809037028725,-0.5100649158973671,0.3895190308583476,-1.2204805956483635,0.1847573466074172,-1.383240694871071,-0.5472801903743459,0.9156878096550913,0.4285045498957374,0.5691321261310297,-0.5463110957781203],\"xaxis\":\"x16\",\"yaxis\":\"y16\"}],                        {\"bargap\":0.02,\"legend\":{\"bgcolor\":\"#F5F6F9\",\"font\":{\"color\":\"#4D5663\"}},\"paper_bgcolor\":\"#F5F6F9\",\"plot_bgcolor\":\"#F5F6F9\",\"showlegend\":false,\"template\":{\"data\":{\"bar\":[{\"error_x\":{\"color\":\"#2a3f5f\"},\"error_y\":{\"color\":\"#2a3f5f\"},\"marker\":{\"line\":{\"color\":\"#E5ECF6\",\"width\":0.5},\"pattern\":{\"fillmode\":\"overlay\",\"size\":10,\"solidity\":0.2}},\"type\":\"bar\"}],\"barpolar\":[{\"marker\":{\"line\":{\"color\":\"#E5ECF6\",\"width\":0.5},\"pattern\":{\"fillmode\":\"overlay\",\"size\":10,\"solidity\":0.2}},\"type\":\"barpolar\"}],\"carpet\":[{\"aaxis\":{\"endlinecolor\":\"#2a3f5f\",\"gridcolor\":\"white\",\"linecolor\":\"white\",\"minorgridcolor\":\"white\",\"startlinecolor\":\"#2a3f5f\"},\"baxis\":{\"endlinecolor\":\"#2a3f5f\",\"gridcolor\":\"white\",\"linecolor\":\"white\",\"minorgridcolor\":\"white\",\"startlinecolor\":\"#2a3f5f\"},\"type\":\"carpet\"}],\"choropleth\":[{\"colorbar\":{\"outlinewidth\":0,\"ticks\":\"\"},\"type\":\"choropleth\"}],\"contour\":[{\"colorbar\":{\"outlinewidth\":0,\"ticks\":\"\"},\"colorscale\":[[0.0,\"#0d0887\"],[0.1111111111111111,\"#46039f\"],[0.2222222222222222,\"#7201a8\"],[0.3333333333333333,\"#9c179e\"],[0.4444444444444444,\"#bd3786\"],[0.5555555555555556,\"#d8576b\"],[0.6666666666666666,\"#ed7953\"],[0.7777777777777778,\"#fb9f3a\"],[0.8888888888888888,\"#fdca26\"],[1.0,\"#f0f921\"]],\"type\":\"contour\"}],\"contourcarpet\":[{\"colorbar\":{\"outlinewidth\":0,\"ticks\":\"\"},\"type\":\"contourcarpet\"}],\"heatmap\":[{\"colorbar\":{\"outlinewidth\":0,\"ticks\":\"\"},\"colorscale\":[[0.0,\"#0d0887\"],[0.1111111111111111,\"#46039f\"],[0.2222222222222222,\"#7201a8\"],[0.3333333333333333,\"#9c179e\"],[0.4444444444444444,\"#bd3786\"],[0.5555555555555556,\"#d8576b\"],[0.6666666666666666,\"#ed7953\"],[0.7777777777777778,\"#fb9f3a\"],[0.8888888888888888,\"#fdca26\"],[1.0,\"#f0f921\"]],\"type\":\"heatmap\"}],\"heatmapgl\":[{\"colorbar\":{\"outlinewidth\":0,\"ticks\":\"\"},\"colorscale\":[[0.0,\"#0d0887\"],[0.1111111111111111,\"#46039f\"],[0.2222222222222222,\"#7201a8\"],[0.3333333333333333,\"#9c179e\"],[0.4444444444444444,\"#bd3786\"],[0.5555555555555556,\"#d8576b\"],[0.6666666666666666,\"#ed7953\"],[0.7777777777777778,\"#fb9f3a\"],[0.8888888888888888,\"#fdca26\"],[1.0,\"#f0f921\"]],\"type\":\"heatmapgl\"}],\"histogram\":[{\"marker\":{\"pattern\":{\"fillmode\":\"overlay\",\"size\":10,\"solidity\":0.2}},\"type\":\"histogram\"}],\"histogram2d\":[{\"colorbar\":{\"outlinewidth\":0,\"ticks\":\"\"},\"colorscale\":[[0.0,\"#0d0887\"],[0.1111111111111111,\"#46039f\"],[0.2222222222222222,\"#7201a8\"],[0.3333333333333333,\"#9c179e\"],[0.4444444444444444,\"#bd3786\"],[0.5555555555555556,\"#d8576b\"],[0.6666666666666666,\"#ed7953\"],[0.7777777777777778,\"#fb9f3a\"],[0.8888888888888888,\"#fdca26\"],[1.0,\"#f0f921\"]],\"type\":\"histogram2d\"}],\"histogram2dcontour\":[{\"colorbar\":{\"outlinewidth\":0,\"ticks\":\"\"},\"colorscale\":[[0.0,\"#0d0887\"],[0.1111111111111111,\"#46039f\"],[0.2222222222222222,\"#7201a8\"],[0.3333333333333333,\"#9c179e\"],[0.4444444444444444,\"#bd3786\"],[0.5555555555555556,\"#d8576b\"],[0.6666666666666666,\"#ed7953\"],[0.7777777777777778,\"#fb9f3a\"],[0.8888888888888888,\"#fdca26\"],[1.0,\"#f0f921\"]],\"type\":\"histogram2dcontour\"}],\"mesh3d\":[{\"colorbar\":{\"outlinewidth\":0,\"ticks\":\"\"},\"type\":\"mesh3d\"}],\"parcoords\":[{\"line\":{\"colorbar\":{\"outlinewidth\":0,\"ticks\":\"\"}},\"type\":\"parcoords\"}],\"pie\":[{\"automargin\":true,\"type\":\"pie\"}],\"scatter\":[{\"marker\":{\"colorbar\":{\"outlinewidth\":0,\"ticks\":\"\"}},\"type\":\"scatter\"}],\"scatter3d\":[{\"line\":{\"colorbar\":{\"outlinewidth\":0,\"ticks\":\"\"}},\"marker\":{\"colorbar\":{\"outlinewidth\":0,\"ticks\":\"\"}},\"type\":\"scatter3d\"}],\"scattercarpet\":[{\"marker\":{\"colorbar\":{\"outlinewidth\":0,\"ticks\":\"\"}},\"type\":\"scattercarpet\"}],\"scattergeo\":[{\"marker\":{\"colorbar\":{\"outlinewidth\":0,\"ticks\":\"\"}},\"type\":\"scattergeo\"}],\"scattergl\":[{\"marker\":{\"colorbar\":{\"outlinewidth\":0,\"ticks\":\"\"}},\"type\":\"scattergl\"}],\"scattermapbox\":[{\"marker\":{\"colorbar\":{\"outlinewidth\":0,\"ticks\":\"\"}},\"type\":\"scattermapbox\"}],\"scatterpolar\":[{\"marker\":{\"colorbar\":{\"outlinewidth\":0,\"ticks\":\"\"}},\"type\":\"scatterpolar\"}],\"scatterpolargl\":[{\"marker\":{\"colorbar\":{\"outlinewidth\":0,\"ticks\":\"\"}},\"type\":\"scatterpolargl\"}],\"scatterternary\":[{\"marker\":{\"colorbar\":{\"outlinewidth\":0,\"ticks\":\"\"}},\"type\":\"scatterternary\"}],\"surface\":[{\"colorbar\":{\"outlinewidth\":0,\"ticks\":\"\"},\"colorscale\":[[0.0,\"#0d0887\"],[0.1111111111111111,\"#46039f\"],[0.2222222222222222,\"#7201a8\"],[0.3333333333333333,\"#9c179e\"],[0.4444444444444444,\"#bd3786\"],[0.5555555555555556,\"#d8576b\"],[0.6666666666666666,\"#ed7953\"],[0.7777777777777778,\"#fb9f3a\"],[0.8888888888888888,\"#fdca26\"],[1.0,\"#f0f921\"]],\"type\":\"surface\"}],\"table\":[{\"cells\":{\"fill\":{\"color\":\"#EBF0F8\"},\"line\":{\"color\":\"white\"}},\"header\":{\"fill\":{\"color\":\"#C8D4E3\"},\"line\":{\"color\":\"white\"}},\"type\":\"table\"}]},\"layout\":{\"annotationdefaults\":{\"arrowcolor\":\"#2a3f5f\",\"arrowhead\":0,\"arrowwidth\":1},\"autotypenumbers\":\"strict\",\"coloraxis\":{\"colorbar\":{\"outlinewidth\":0,\"ticks\":\"\"}},\"colorscale\":{\"diverging\":[[0,\"#8e0152\"],[0.1,\"#c51b7d\"],[0.2,\"#de77ae\"],[0.3,\"#f1b6da\"],[0.4,\"#fde0ef\"],[0.5,\"#f7f7f7\"],[0.6,\"#e6f5d0\"],[0.7,\"#b8e186\"],[0.8,\"#7fbc41\"],[0.9,\"#4d9221\"],[1,\"#276419\"]],\"sequential\":[[0.0,\"#0d0887\"],[0.1111111111111111,\"#46039f\"],[0.2222222222222222,\"#7201a8\"],[0.3333333333333333,\"#9c179e\"],[0.4444444444444444,\"#bd3786\"],[0.5555555555555556,\"#d8576b\"],[0.6666666666666666,\"#ed7953\"],[0.7777777777777778,\"#fb9f3a\"],[0.8888888888888888,\"#fdca26\"],[1.0,\"#f0f921\"]],\"sequentialminus\":[[0.0,\"#0d0887\"],[0.1111111111111111,\"#46039f\"],[0.2222222222222222,\"#7201a8\"],[0.3333333333333333,\"#9c179e\"],[0.4444444444444444,\"#bd3786\"],[0.5555555555555556,\"#d8576b\"],[0.6666666666666666,\"#ed7953\"],[0.7777777777777778,\"#fb9f3a\"],[0.8888888888888888,\"#fdca26\"],[1.0,\"#f0f921\"]]},\"colorway\":[\"#636efa\",\"#EF553B\",\"#00cc96\",\"#ab63fa\",\"#FFA15A\",\"#19d3f3\",\"#FF6692\",\"#B6E880\",\"#FF97FF\",\"#FECB52\"],\"font\":{\"color\":\"#2a3f5f\"},\"geo\":{\"bgcolor\":\"white\",\"lakecolor\":\"white\",\"landcolor\":\"#E5ECF6\",\"showlakes\":true,\"showland\":true,\"subunitcolor\":\"white\"},\"hoverlabel\":{\"align\":\"left\"},\"hovermode\":\"closest\",\"mapbox\":{\"style\":\"light\"},\"paper_bgcolor\":\"white\",\"plot_bgcolor\":\"#E5ECF6\",\"polar\":{\"angularaxis\":{\"gridcolor\":\"white\",\"linecolor\":\"white\",\"ticks\":\"\"},\"bgcolor\":\"#E5ECF6\",\"radialaxis\":{\"gridcolor\":\"white\",\"linecolor\":\"white\",\"ticks\":\"\"}},\"scene\":{\"xaxis\":{\"backgroundcolor\":\"#E5ECF6\",\"gridcolor\":\"white\",\"gridwidth\":2,\"linecolor\":\"white\",\"showbackground\":true,\"ticks\":\"\",\"zerolinecolor\":\"white\"},\"yaxis\":{\"backgroundcolor\":\"#E5ECF6\",\"gridcolor\":\"white\",\"gridwidth\":2,\"linecolor\":\"white\",\"showbackground\":true,\"ticks\":\"\",\"zerolinecolor\":\"white\"},\"zaxis\":{\"backgroundcolor\":\"#E5ECF6\",\"gridcolor\":\"white\",\"gridwidth\":2,\"linecolor\":\"white\",\"showbackground\":true,\"ticks\":\"\",\"zerolinecolor\":\"white\"}},\"shapedefaults\":{\"line\":{\"color\":\"#2a3f5f\"}},\"ternary\":{\"aaxis\":{\"gridcolor\":\"white\",\"linecolor\":\"white\",\"ticks\":\"\"},\"baxis\":{\"gridcolor\":\"white\",\"linecolor\":\"white\",\"ticks\":\"\"},\"bgcolor\":\"#E5ECF6\",\"caxis\":{\"gridcolor\":\"white\",\"linecolor\":\"white\",\"ticks\":\"\"}},\"title\":{\"x\":0.05},\"xaxis\":{\"automargin\":true,\"gridcolor\":\"white\",\"linecolor\":\"white\",\"ticks\":\"\",\"title\":{\"standoff\":15},\"zerolinecolor\":\"white\",\"zerolinewidth\":2},\"yaxis\":{\"automargin\":true,\"gridcolor\":\"white\",\"linecolor\":\"white\",\"ticks\":\"\",\"title\":{\"standoff\":15},\"zerolinecolor\":\"white\",\"zerolinewidth\":2}}},\"title\":{\"font\":{\"color\":\"#4D5663\"}},\"xaxis\":{\"anchor\":\"y\",\"domain\":[0.0,0.2125],\"gridcolor\":\"#E1E5ED\",\"showgrid\":false,\"tickfont\":{\"color\":\"#4D5663\"},\"title\":{\"font\":{\"color\":\"#4D5663\"},\"text\":\"\"},\"zerolinecolor\":\"#E1E5ED\"},\"xaxis10\":{\"anchor\":\"y10\",\"domain\":[0.2625,0.475],\"gridcolor\":\"#E1E5ED\",\"showgrid\":false,\"tickfont\":{\"color\":\"#4D5663\"},\"title\":{\"font\":{\"color\":\"#4D5663\"},\"text\":\"\"},\"zerolinecolor\":\"#E1E5ED\"},\"xaxis11\":{\"anchor\":\"y11\",\"domain\":[0.525,0.7375],\"gridcolor\":\"#E1E5ED\",\"showgrid\":false,\"tickfont\":{\"color\":\"#4D5663\"},\"title\":{\"font\":{\"color\":\"#4D5663\"},\"text\":\"\"},\"zerolinecolor\":\"#E1E5ED\"},\"xaxis12\":{\"anchor\":\"y12\",\"domain\":[0.7875,1.0],\"gridcolor\":\"#E1E5ED\",\"showgrid\":false,\"tickfont\":{\"color\":\"#4D5663\"},\"title\":{\"font\":{\"color\":\"#4D5663\"},\"text\":\"\"},\"zerolinecolor\":\"#E1E5ED\"},\"xaxis13\":{\"anchor\":\"y13\",\"domain\":[0.0,0.2125],\"gridcolor\":\"#E1E5ED\",\"showgrid\":false,\"tickfont\":{\"color\":\"#4D5663\"},\"title\":{\"font\":{\"color\":\"#4D5663\"},\"text\":\"\"},\"zerolinecolor\":\"#E1E5ED\"},\"xaxis14\":{\"anchor\":\"y14\",\"domain\":[0.2625,0.475],\"gridcolor\":\"#E1E5ED\",\"showgrid\":false,\"tickfont\":{\"color\":\"#4D5663\"},\"title\":{\"font\":{\"color\":\"#4D5663\"},\"text\":\"\"},\"zerolinecolor\":\"#E1E5ED\"},\"xaxis15\":{\"anchor\":\"y15\",\"domain\":[0.525,0.7375],\"gridcolor\":\"#E1E5ED\",\"showgrid\":false,\"tickfont\":{\"color\":\"#4D5663\"},\"title\":{\"font\":{\"color\":\"#4D5663\"},\"text\":\"\"},\"zerolinecolor\":\"#E1E5ED\"},\"xaxis16\":{\"anchor\":\"y16\",\"domain\":[0.7875,1.0],\"gridcolor\":\"#E1E5ED\",\"showgrid\":false,\"tickfont\":{\"color\":\"#4D5663\"},\"title\":{\"font\":{\"color\":\"#4D5663\"},\"text\":\"\"},\"zerolinecolor\":\"#E1E5ED\"},\"xaxis2\":{\"anchor\":\"y2\",\"domain\":[0.2625,0.475],\"gridcolor\":\"#E1E5ED\",\"showgrid\":false,\"tickfont\":{\"color\":\"#4D5663\"},\"title\":{\"font\":{\"color\":\"#4D5663\"},\"text\":\"\"},\"zerolinecolor\":\"#E1E5ED\"},\"xaxis3\":{\"anchor\":\"y3\",\"domain\":[0.525,0.7375],\"gridcolor\":\"#E1E5ED\",\"showgrid\":false,\"tickfont\":{\"color\":\"#4D5663\"},\"title\":{\"font\":{\"color\":\"#4D5663\"},\"text\":\"\"},\"zerolinecolor\":\"#E1E5ED\"},\"xaxis4\":{\"anchor\":\"y4\",\"domain\":[0.7875,1.0],\"gridcolor\":\"#E1E5ED\",\"showgrid\":false,\"tickfont\":{\"color\":\"#4D5663\"},\"title\":{\"font\":{\"color\":\"#4D5663\"},\"text\":\"\"},\"zerolinecolor\":\"#E1E5ED\"},\"xaxis5\":{\"anchor\":\"y5\",\"domain\":[0.0,0.2125],\"gridcolor\":\"#E1E5ED\",\"showgrid\":false,\"tickfont\":{\"color\":\"#4D5663\"},\"title\":{\"font\":{\"color\":\"#4D5663\"},\"text\":\"\"},\"zerolinecolor\":\"#E1E5ED\"},\"xaxis6\":{\"anchor\":\"y6\",\"domain\":[0.2625,0.475],\"gridcolor\":\"#E1E5ED\",\"showgrid\":false,\"tickfont\":{\"color\":\"#4D5663\"},\"title\":{\"font\":{\"color\":\"#4D5663\"},\"text\":\"\"},\"zerolinecolor\":\"#E1E5ED\"},\"xaxis7\":{\"anchor\":\"y7\",\"domain\":[0.525,0.7375],\"gridcolor\":\"#E1E5ED\",\"showgrid\":false,\"tickfont\":{\"color\":\"#4D5663\"},\"title\":{\"font\":{\"color\":\"#4D5663\"},\"text\":\"\"},\"zerolinecolor\":\"#E1E5ED\"},\"xaxis8\":{\"anchor\":\"y8\",\"domain\":[0.7875,1.0],\"gridcolor\":\"#E1E5ED\",\"showgrid\":false,\"tickfont\":{\"color\":\"#4D5663\"},\"title\":{\"font\":{\"color\":\"#4D5663\"},\"text\":\"\"},\"zerolinecolor\":\"#E1E5ED\"},\"xaxis9\":{\"anchor\":\"y9\",\"domain\":[0.0,0.2125],\"gridcolor\":\"#E1E5ED\",\"showgrid\":false,\"tickfont\":{\"color\":\"#4D5663\"},\"title\":{\"font\":{\"color\":\"#4D5663\"},\"text\":\"\"},\"zerolinecolor\":\"#E1E5ED\"},\"yaxis\":{\"anchor\":\"x\",\"domain\":[0.8025,1.0],\"gridcolor\":\"#E1E5ED\",\"showgrid\":false,\"tickfont\":{\"color\":\"#4D5663\"},\"title\":{\"font\":{\"color\":\"#4D5663\"},\"text\":\"\"},\"zerolinecolor\":\"#E1E5ED\"},\"yaxis10\":{\"anchor\":\"x10\",\"domain\":[0.2675,0.465],\"gridcolor\":\"#E1E5ED\",\"showgrid\":false,\"tickfont\":{\"color\":\"#4D5663\"},\"title\":{\"font\":{\"color\":\"#4D5663\"},\"text\":\"\"},\"zerolinecolor\":\"#E1E5ED\"},\"yaxis11\":{\"anchor\":\"x11\",\"domain\":[0.2675,0.465],\"gridcolor\":\"#E1E5ED\",\"showgrid\":false,\"tickfont\":{\"color\":\"#4D5663\"},\"title\":{\"font\":{\"color\":\"#4D5663\"},\"text\":\"\"},\"zerolinecolor\":\"#E1E5ED\"},\"yaxis12\":{\"anchor\":\"x12\",\"domain\":[0.2675,0.465],\"gridcolor\":\"#E1E5ED\",\"showgrid\":false,\"tickfont\":{\"color\":\"#4D5663\"},\"title\":{\"font\":{\"color\":\"#4D5663\"},\"text\":\"\"},\"zerolinecolor\":\"#E1E5ED\"},\"yaxis13\":{\"anchor\":\"x13\",\"domain\":[0.0,0.1975],\"gridcolor\":\"#E1E5ED\",\"showgrid\":false,\"tickfont\":{\"color\":\"#4D5663\"},\"title\":{\"font\":{\"color\":\"#4D5663\"},\"text\":\"\"},\"zerolinecolor\":\"#E1E5ED\"},\"yaxis14\":{\"anchor\":\"x14\",\"domain\":[0.0,0.1975],\"gridcolor\":\"#E1E5ED\",\"showgrid\":false,\"tickfont\":{\"color\":\"#4D5663\"},\"title\":{\"font\":{\"color\":\"#4D5663\"},\"text\":\"\"},\"zerolinecolor\":\"#E1E5ED\"},\"yaxis15\":{\"anchor\":\"x15\",\"domain\":[0.0,0.1975],\"gridcolor\":\"#E1E5ED\",\"showgrid\":false,\"tickfont\":{\"color\":\"#4D5663\"},\"title\":{\"font\":{\"color\":\"#4D5663\"},\"text\":\"\"},\"zerolinecolor\":\"#E1E5ED\"},\"yaxis16\":{\"anchor\":\"x16\",\"domain\":[0.0,0.1975],\"gridcolor\":\"#E1E5ED\",\"showgrid\":false,\"tickfont\":{\"color\":\"#4D5663\"},\"title\":{\"font\":{\"color\":\"#4D5663\"},\"text\":\"\"},\"zerolinecolor\":\"#E1E5ED\"},\"yaxis2\":{\"anchor\":\"x2\",\"domain\":[0.8025,1.0],\"gridcolor\":\"#E1E5ED\",\"showgrid\":false,\"tickfont\":{\"color\":\"#4D5663\"},\"title\":{\"font\":{\"color\":\"#4D5663\"},\"text\":\"\"},\"zerolinecolor\":\"#E1E5ED\"},\"yaxis3\":{\"anchor\":\"x3\",\"domain\":[0.8025,1.0],\"gridcolor\":\"#E1E5ED\",\"showgrid\":false,\"tickfont\":{\"color\":\"#4D5663\"},\"title\":{\"font\":{\"color\":\"#4D5663\"},\"text\":\"\"},\"zerolinecolor\":\"#E1E5ED\"},\"yaxis4\":{\"anchor\":\"x4\",\"domain\":[0.8025,1.0],\"gridcolor\":\"#E1E5ED\",\"showgrid\":false,\"tickfont\":{\"color\":\"#4D5663\"},\"title\":{\"font\":{\"color\":\"#4D5663\"},\"text\":\"\"},\"zerolinecolor\":\"#E1E5ED\"},\"yaxis5\":{\"anchor\":\"x5\",\"domain\":[0.535,0.7325],\"gridcolor\":\"#E1E5ED\",\"showgrid\":false,\"tickfont\":{\"color\":\"#4D5663\"},\"title\":{\"font\":{\"color\":\"#4D5663\"},\"text\":\"\"},\"zerolinecolor\":\"#E1E5ED\"},\"yaxis6\":{\"anchor\":\"x6\",\"domain\":[0.535,0.7325],\"gridcolor\":\"#E1E5ED\",\"showgrid\":false,\"tickfont\":{\"color\":\"#4D5663\"},\"title\":{\"font\":{\"color\":\"#4D5663\"},\"text\":\"\"},\"zerolinecolor\":\"#E1E5ED\"},\"yaxis7\":{\"anchor\":\"x7\",\"domain\":[0.535,0.7325],\"gridcolor\":\"#E1E5ED\",\"showgrid\":false,\"tickfont\":{\"color\":\"#4D5663\"},\"title\":{\"font\":{\"color\":\"#4D5663\"},\"text\":\"\"},\"zerolinecolor\":\"#E1E5ED\"},\"yaxis8\":{\"anchor\":\"x8\",\"domain\":[0.535,0.7325],\"gridcolor\":\"#E1E5ED\",\"showgrid\":false,\"tickfont\":{\"color\":\"#4D5663\"},\"title\":{\"font\":{\"color\":\"#4D5663\"},\"text\":\"\"},\"zerolinecolor\":\"#E1E5ED\"},\"yaxis9\":{\"anchor\":\"x9\",\"domain\":[0.2675,0.465],\"gridcolor\":\"#E1E5ED\",\"showgrid\":false,\"tickfont\":{\"color\":\"#4D5663\"},\"title\":{\"font\":{\"color\":\"#4D5663\"},\"text\":\"\"},\"zerolinecolor\":\"#E1E5ED\"}},                        {\"showLink\": true, \"linkText\": \"Export to plot.ly\", \"plotlyServerURL\": \"https://plot.ly\", \"responsive\": true}                    ).then(function(){\n",
       "                            \n",
       "var gd = document.getElementById('792b206f-e8ed-42ce-b3b5-aab58902ca03');\n",
       "var x = new MutationObserver(function (mutations, observer) {{\n",
       "        var display = window.getComputedStyle(gd).display;\n",
       "        if (!display || display === 'none') {{\n",
       "            console.log([gd, 'removed!']);\n",
       "            Plotly.purge(gd);\n",
       "            observer.disconnect();\n",
       "        }}\n",
       "}});\n",
       "\n",
       "// Listen for the removal of the full notebook cells\n",
       "var notebookContainer = gd.closest('#notebook-container');\n",
       "if (notebookContainer) {{\n",
       "    x.observe(notebookContainer, {childList: true});\n",
       "}}\n",
       "\n",
       "// Listen for the clearing of the current output cell\n",
       "var outputEl = gd.closest('.output');\n",
       "if (outputEl) {{\n",
       "    x.observe(outputEl, {childList: true});\n",
       "}}\n",
       "\n",
       "                        })                };                });            </script>        </div>"
      ]
     },
     "metadata": {},
     "output_type": "display_data"
    }
   ],
   "source": [
    "#scatter matrix - all columns must be numerical for this\n",
    "\n",
    "df.scatter_matrix()"
   ]
  },
  {
   "cell_type": "code",
   "execution_count": 39,
   "metadata": {},
   "outputs": [
    {
     "data": {
      "application/vnd.plotly.v1+json": {
       "config": {
        "linkText": "Export to plot.ly",
        "plotlyServerURL": "https://plot.ly",
        "showLink": true
       },
       "data": [
        {
         "line": {
          "color": "rgba(255, 153, 51, 1.0)",
          "dash": "solid",
          "shape": "linear",
          "width": 1.3
         },
         "mode": "lines",
         "name": "A",
         "text": "",
         "type": "scatter",
         "x": [
          0,
          1,
          2,
          3,
          4,
          5,
          6,
          7,
          8,
          9,
          10,
          11,
          12,
          13,
          14,
          15,
          16,
          17,
          18,
          19,
          20,
          21,
          22,
          23,
          24,
          25,
          26,
          27,
          28,
          29,
          30,
          31,
          32,
          33,
          34,
          35,
          36,
          37,
          38,
          39,
          40,
          41,
          42,
          43,
          44,
          45,
          46,
          47,
          48,
          49,
          50,
          51,
          52,
          53,
          54,
          55,
          56,
          57,
          58,
          59,
          60,
          61,
          62,
          63,
          64,
          65,
          66,
          67,
          68,
          69,
          70,
          71,
          72,
          73,
          74,
          75,
          76,
          77,
          78,
          79,
          80,
          81,
          82,
          83,
          84,
          85,
          86,
          87,
          88,
          89,
          90,
          91,
          92,
          93,
          94,
          95,
          96,
          97,
          98,
          99
         ],
         "y": [
          0.05605791357056261,
          0.460019687284693,
          0.6287518092337231,
          -0.40335735674017076,
          0.10729666753545831,
          -0.6295013494642708,
          -1.4951352553786494,
          1.0672754786555207,
          0.3598261803907446,
          -1.0166936426325441,
          -0.07666864253836506,
          0.0410685021645721,
          0.48573655430333923,
          -0.11416938422627511,
          -0.7386166413012212,
          0.7039588772816362,
          1.707845165649345,
          0.3042828542104509,
          1.1414108452743028,
          -0.1891422906682915,
          -1.0724824106218038,
          1.697912228612607,
          2.376315745461367,
          1.3285205463490388,
          0.5241455798665027,
          0.3296266350692246,
          0.893307944055857,
          0.29888277985522527,
          -0.40214756911155725,
          0.27769939748663547,
          1.7229469733657832,
          -1.0590791859078141,
          0.17677513633413716,
          -1.0751157989840059,
          -1.206163745609603,
          0.21085545930113656,
          0.28691557726486,
          0.5626865844183987,
          -0.024749798143169792,
          -1.227681486982836,
          2.3768811509212675,
          -1.5514568828774338,
          1.6112875275834087,
          -0.035511207000442,
          1.3597817860592807,
          0.6340139048174628,
          -0.9461246374711879,
          -0.5980463813946243,
          -0.11121371341266718,
          -0.7789947858694427,
          -0.7909367835488761,
          0.44597932143928465,
          -0.015829741692926957,
          0.5880978326151248,
          -1.1687690687778953,
          0.46738762470996625,
          -1.0232152012694558,
          0.019203856503362135,
          -0.2513480883458298,
          1.67760815029347,
          -0.3388913730150217,
          0.5054335631763178,
          -0.5582218465556053,
          0.09412762463803932,
          -0.269836966510378,
          -0.4229131069545643,
          -0.05562146161653577,
          0.36806445455580034,
          -0.1491590393377931,
          -1.6102639259917182,
          0.3538094719163923,
          1.2443563819434125,
          -0.5311791146417401,
          0.03025030818705174,
          2.6374187556509767,
          -0.06300359369525535,
          -0.2163986548430199,
          -1.4063465608219916,
          -0.6335377419553875,
          0.5468778943274468,
          0.22887859434644822,
          -0.0024186408660699346,
          1.051698629355191,
          -0.9869517109480603,
          -0.31987496824644224,
          -0.540174686913111,
          0.3340381390336442,
          0.7322443952033713,
          -0.9129854111412516,
          -0.18584647450385625,
          -0.9478104793799853,
          0.7151795709345523,
          -0.8542424412247567,
          -1.5265198883275757,
          0.5488311569159915,
          0.21865254089016833,
          -0.4204248699245095,
          -1.0376879604394742,
          0.24386425713090254,
          0.2897506749290084
         ]
        },
        {
         "line": {
          "color": "rgba(55, 128, 191, 1.0)",
          "dash": "solid",
          "shape": "linear",
          "width": 1.3
         },
         "mode": "lines",
         "name": "B",
         "text": "",
         "type": "scatter",
         "x": [
          0,
          1,
          2,
          3,
          4,
          5,
          6,
          7,
          8,
          9,
          10,
          11,
          12,
          13,
          14,
          15,
          16,
          17,
          18,
          19,
          20,
          21,
          22,
          23,
          24,
          25,
          26,
          27,
          28,
          29,
          30,
          31,
          32,
          33,
          34,
          35,
          36,
          37,
          38,
          39,
          40,
          41,
          42,
          43,
          44,
          45,
          46,
          47,
          48,
          49,
          50,
          51,
          52,
          53,
          54,
          55,
          56,
          57,
          58,
          59,
          60,
          61,
          62,
          63,
          64,
          65,
          66,
          67,
          68,
          69,
          70,
          71,
          72,
          73,
          74,
          75,
          76,
          77,
          78,
          79,
          80,
          81,
          82,
          83,
          84,
          85,
          86,
          87,
          88,
          89,
          90,
          91,
          92,
          93,
          94,
          95,
          96,
          97,
          98,
          99
         ],
         "y": [
          0.5468890479520179,
          0.6784490909362928,
          1.5060717849215006,
          -0.9339844163153126,
          -0.35127843572886347,
          -2.8396425246587875,
          -2.6669425789797225,
          1.8328030698722477,
          0.9954803638718146,
          -2.649976508950056,
          0.9720665135634775,
          1.478358902041592,
          -0.2552035550230231,
          -0.7047696360990817,
          -4.320862103564039,
          2.479042771519627,
          4.86120490204924,
          0.09792241924637293,
          1.6246776692970095,
          1.3033211328201828,
          0.057823255484055425,
          2.078853554532135,
          2.2919632491920714,
          1.69879574554116,
          1.9192782897634548,
          -1.3999703369094898,
          0.44922019277776704,
          1.4476571107754728,
          -0.4511684462466726,
          -0.4343756101796427,
          2.1274416836106647,
          -0.7671833900181244,
          0.7327775240531584,
          -1.2426395170074007,
          -2.9230142237897283,
          0.8600138854516036,
          1.4102923411901362,
          -0.2517395299519083,
          0.9197851739068791,
          -1.1762069967808542,
          3.190646704691778,
          -2.8332168286880983,
          1.4688608831408032,
          2.058941449633617,
          0.7084439210646516,
          0.8749702777194321,
          -0.29033275235875766,
          -0.9318613054011067,
          0.08576066046299911,
          -1.2701961455416433,
          0.6900234007368033,
          0.7949642722542696,
          -0.46889651136362087,
          2.2010127121224268,
          -1.0706265265712462,
          0.6266280493373378,
          -0.7002023506528281,
          -0.19185902188243226,
          -1.4603922350292704,
          1.9507341481642448,
          -1.012850183980276,
          -0.5713477989509308,
          -0.3436366538116885,
          -1.1230449330574663,
          0.6642241698950881,
          -0.8202076521702775,
          1.101973963925785,
          -0.10813504395564871,
          2.3699856440041,
          -0.31581058332535084,
          -0.6196134498837529,
          2.6126096066775473,
          -1.3808580458627704,
          -0.23465906476064716,
          3.2831358225945064,
          0.7641028069173947,
          -0.9913515536497708,
          -0.4044334838852546,
          0.17846250879343384,
          -0.3195051950507195,
          2.4398379674066617,
          -0.3805905484574556,
          1.0668990662491769,
          1.092671037488631,
          -0.2857318734367288,
          -1.2474772839224757,
          0.8788257931333566,
          0.8909609909942721,
          -0.9731723634505907,
          -2.2262672533708012,
          -1.08636689509034,
          -0.9809299554023865,
          -1.784203226071866,
          -1.0984186341957807,
          0.33922549655723844,
          1.0277892275773526,
          -1.0587981829705937,
          -1.0058450022363774,
          0.6538413468645798,
          0.5802486606123811
         ]
        },
        {
         "line": {
          "color": "rgba(50, 171, 96, 1.0)",
          "dash": "solid",
          "shape": "linear",
          "width": 1.3
         },
         "mode": "lines",
         "name": "C",
         "text": "",
         "type": "scatter",
         "x": [
          0,
          1,
          2,
          3,
          4,
          5,
          6,
          7,
          8,
          9,
          10,
          11,
          12,
          13,
          14,
          15,
          16,
          17,
          18,
          19,
          20,
          21,
          22,
          23,
          24,
          25,
          26,
          27,
          28,
          29,
          30,
          31,
          32,
          33,
          34,
          35,
          36,
          37,
          38,
          39,
          40,
          41,
          42,
          43,
          44,
          45,
          46,
          47,
          48,
          49,
          50,
          51,
          52,
          53,
          54,
          55,
          56,
          57,
          58,
          59,
          60,
          61,
          62,
          63,
          64,
          65,
          66,
          67,
          68,
          69,
          70,
          71,
          72,
          73,
          74,
          75,
          76,
          77,
          78,
          79,
          80,
          81,
          82,
          83,
          84,
          85,
          86,
          87,
          88,
          89,
          90,
          91,
          92,
          93,
          94,
          95,
          96,
          97,
          98,
          99
         ],
         "y": [
          1.7951389251966878,
          1.6768180221276592,
          0.45150271250109686,
          0.17703102950992977,
          -0.5393463181601124,
          -1.1984092283803287,
          -1.669322009723552,
          1.6271642588467028,
          1.5300010300578075,
          -3.5005650168459694,
          -0.20323778027346118,
          2.033291575751034,
          0.8443769747893133,
          -1.7608429675045927,
          -2.9931088633808027,
          3.9314036602110503,
          4.699890367333785,
          -0.236972926108766,
          0.8709471424351556,
          -0.06178083951347535,
          0.21139468678557968,
          4.431355893971347,
          3.112779909217154,
          0.11921463418913514,
          2.91435250592879,
          -1.2541783911124442,
          1.266153969472084,
          0.3056253443743173,
          -1.1428845974988573,
          0.10532724786120135,
          3.4163338850682443,
          0.19737843495171892,
          3.2410604089889743,
          -2.483279828064934,
          -2.2502552925108956,
          2.813571758203677,
          3.4758774253882048,
          0.34218442179290987,
          2.4807771355180637,
          -1.901456695663728,
          5.3269569633935685,
          -2.388568990266647,
          2.2502658872013708,
          3.9989541694092434,
          0.6459024564025154,
          0.3759944426722169,
          0.05155420554950407,
          -1.7571779504191714,
          0.793264955127033,
          -2.319902611535346,
          1.3015614289394541,
          0.7523294332657336,
          -2.082623191380674,
          1.6901364169235455,
          -2.180474369950072,
          -0.13746686311302647,
          -1.8409692351685774,
          0.08026339437061358,
          -0.42087382671488927,
          0.4484801482191474,
          -2.0037334053713494,
          -0.05192679569012937,
          -0.8340131105969101,
          0.12441845303722587,
          -0.5518138795151126,
          0.525841529695269,
          0.8713429298788531,
          1.300772437683011,
          2.2120283391719893,
          -0.831854531885367,
          -0.9844942842111425,
          2.0868257182241567,
          -1.312433347466675,
          -0.14897176306549983,
          2.1460026088481214,
          -0.733066185925082,
          -1.8429454774729883,
          -1.7143154234191746,
          1.5580284556617778,
          -0.8325723551767301,
          3.4019896044361215,
          -1.29930413942392,
          1.9273225931831295,
          1.4640266078512976,
          0.5757450876172648,
          -1.436521747507996,
          -1.345548203095983,
          1.2220244185480362,
          1.5765652465536684,
          -2.688109817476207,
          -2.375288210692147,
          -0.9057626700033095,
          -1.8324726227983488,
          -0.010150629759405616,
          1.6471641274569921,
          -0.11570758927910352,
          -0.7851239913040453,
          -1.0749955895056595,
          1.0538946925758403,
          0.5587741959195323
         ]
        },
        {
         "line": {
          "color": "rgba(128, 0, 128, 1.0)",
          "dash": "solid",
          "shape": "linear",
          "width": 1.3
         },
         "mode": "lines",
         "name": "D",
         "text": "",
         "type": "scatter",
         "x": [
          0,
          1,
          2,
          3,
          4,
          5,
          6,
          7,
          8,
          9,
          10,
          11,
          12,
          13,
          14,
          15,
          16,
          17,
          18,
          19,
          20,
          21,
          22,
          23,
          24,
          25,
          26,
          27,
          28,
          29,
          30,
          31,
          32,
          33,
          34,
          35,
          36,
          37,
          38,
          39,
          40,
          41,
          42,
          43,
          44,
          45,
          46,
          47,
          48,
          49,
          50,
          51,
          52,
          53,
          54,
          55,
          56,
          57,
          58,
          59,
          60,
          61,
          62,
          63,
          64,
          65,
          66,
          67,
          68,
          69,
          70,
          71,
          72,
          73,
          74,
          75,
          76,
          77,
          78,
          79,
          80,
          81,
          82,
          83,
          84,
          85,
          86,
          87,
          88,
          89,
          90,
          91,
          92,
          93,
          94,
          95,
          96,
          97,
          98,
          99
         ],
         "y": [
          2.829412748515323,
          2.192479041795243,
          -0.12102319428554953,
          0.06732232698910401,
          -1.9720608903874948,
          -2.1810331386654442,
          -1.1686568957936712,
          0.4768967532991282,
          2.193968959821533,
          -3.578086600097202,
          1.8126037175733276,
          1.0377633306091094,
          -0.8767094459932692,
          -1.5260477367230694,
          -3.2092412922873343,
          4.183490927225445,
          4.715663733246157,
          0.11184846902477427,
          0.14712337896152716,
          -0.41193372753556184,
          1.2593775193287888,
          5.346857028997855,
          3.314213394356455,
          -1.4530971441014586,
          3.7473168702719963,
          -1.274696568944811,
          1.7095708892691688,
          0.1741087179355906,
          -0.9494316241413827,
          -0.9425341457505303,
          2.1364129378894487,
          1.102429943239049,
          2.292091460346384,
          -3.575258532704898,
          -1.6118390390439035,
          1.9317140637435237,
          3.685209990352301,
          1.1664046885019075,
          -0.3709236856445979,
          -1.5977821242542352,
          6.299483312735818,
          -1.1643355646219302,
          3.1138650150837135,
          4.4684005543905325,
          1.4656116092724507,
          1.3872977340923514,
          0.18903781732072225,
          -0.08792688820127603,
          1.2258496661898821,
          -2.618163787033935,
          0.842188855806795,
          0.5782809261635025,
          -3.0195362689411476,
          1.9408477996513729,
          -2.0274130725062047,
          1.4027098269401364,
          -0.9416296887673948,
          -0.24893700211116288,
          0.1706070628136338,
          -0.33687875421743085,
          -1.2712027189688462,
          -1.4424400472075911,
          0.08274981512883484,
          1.1656682022834755,
          2.536699843608269,
          -0.12597972996064366,
          1.23445004463622,
          3.0069782239315437,
          2.262886368842467,
          0.33906754277977846,
          -0.3793384615241373,
          2.5860583815957523,
          -1.1092551235835932,
          0.08970331821521071,
          1.0464336825080645,
          -2.8792477877049363,
          -0.48570207316248304,
          -3.304757541121881,
          1.4938244396252927,
          -0.039398750222570555,
          2.186285496089284,
          -2.984043788514481,
          0.05898625761954035,
          0.7905739373387802,
          -0.6925618513296551,
          -2.0858560261804007,
          -1.508738635058607,
          0.34395101603666933,
          0.1658761609520687,
          -3.869013520348707,
          -2.8853531265895143,
          -0.5162436391449619,
          -3.0529532184467123,
          0.17460671684801157,
          0.2639234325859212,
          -0.6629877796534495,
          0.13056381835104602,
          -0.6464910396099222,
          1.6230268187068702,
          0.012463100141411942
         ]
        }
       ],
       "layout": {
        "legend": {
         "bgcolor": "#F5F6F9",
         "font": {
          "color": "#4D5663"
         }
        },
        "paper_bgcolor": "#F5F6F9",
        "plot_bgcolor": "#F5F6F9",
        "template": {
         "data": {
          "bar": [
           {
            "error_x": {
             "color": "#2a3f5f"
            },
            "error_y": {
             "color": "#2a3f5f"
            },
            "marker": {
             "line": {
              "color": "#E5ECF6",
              "width": 0.5
             },
             "pattern": {
              "fillmode": "overlay",
              "size": 10,
              "solidity": 0.2
             }
            },
            "type": "bar"
           }
          ],
          "barpolar": [
           {
            "marker": {
             "line": {
              "color": "#E5ECF6",
              "width": 0.5
             },
             "pattern": {
              "fillmode": "overlay",
              "size": 10,
              "solidity": 0.2
             }
            },
            "type": "barpolar"
           }
          ],
          "carpet": [
           {
            "aaxis": {
             "endlinecolor": "#2a3f5f",
             "gridcolor": "white",
             "linecolor": "white",
             "minorgridcolor": "white",
             "startlinecolor": "#2a3f5f"
            },
            "baxis": {
             "endlinecolor": "#2a3f5f",
             "gridcolor": "white",
             "linecolor": "white",
             "minorgridcolor": "white",
             "startlinecolor": "#2a3f5f"
            },
            "type": "carpet"
           }
          ],
          "choropleth": [
           {
            "colorbar": {
             "outlinewidth": 0,
             "ticks": ""
            },
            "type": "choropleth"
           }
          ],
          "contour": [
           {
            "colorbar": {
             "outlinewidth": 0,
             "ticks": ""
            },
            "colorscale": [
             [
              0,
              "#0d0887"
             ],
             [
              0.1111111111111111,
              "#46039f"
             ],
             [
              0.2222222222222222,
              "#7201a8"
             ],
             [
              0.3333333333333333,
              "#9c179e"
             ],
             [
              0.4444444444444444,
              "#bd3786"
             ],
             [
              0.5555555555555556,
              "#d8576b"
             ],
             [
              0.6666666666666666,
              "#ed7953"
             ],
             [
              0.7777777777777778,
              "#fb9f3a"
             ],
             [
              0.8888888888888888,
              "#fdca26"
             ],
             [
              1,
              "#f0f921"
             ]
            ],
            "type": "contour"
           }
          ],
          "contourcarpet": [
           {
            "colorbar": {
             "outlinewidth": 0,
             "ticks": ""
            },
            "type": "contourcarpet"
           }
          ],
          "heatmap": [
           {
            "colorbar": {
             "outlinewidth": 0,
             "ticks": ""
            },
            "colorscale": [
             [
              0,
              "#0d0887"
             ],
             [
              0.1111111111111111,
              "#46039f"
             ],
             [
              0.2222222222222222,
              "#7201a8"
             ],
             [
              0.3333333333333333,
              "#9c179e"
             ],
             [
              0.4444444444444444,
              "#bd3786"
             ],
             [
              0.5555555555555556,
              "#d8576b"
             ],
             [
              0.6666666666666666,
              "#ed7953"
             ],
             [
              0.7777777777777778,
              "#fb9f3a"
             ],
             [
              0.8888888888888888,
              "#fdca26"
             ],
             [
              1,
              "#f0f921"
             ]
            ],
            "type": "heatmap"
           }
          ],
          "heatmapgl": [
           {
            "colorbar": {
             "outlinewidth": 0,
             "ticks": ""
            },
            "colorscale": [
             [
              0,
              "#0d0887"
             ],
             [
              0.1111111111111111,
              "#46039f"
             ],
             [
              0.2222222222222222,
              "#7201a8"
             ],
             [
              0.3333333333333333,
              "#9c179e"
             ],
             [
              0.4444444444444444,
              "#bd3786"
             ],
             [
              0.5555555555555556,
              "#d8576b"
             ],
             [
              0.6666666666666666,
              "#ed7953"
             ],
             [
              0.7777777777777778,
              "#fb9f3a"
             ],
             [
              0.8888888888888888,
              "#fdca26"
             ],
             [
              1,
              "#f0f921"
             ]
            ],
            "type": "heatmapgl"
           }
          ],
          "histogram": [
           {
            "marker": {
             "pattern": {
              "fillmode": "overlay",
              "size": 10,
              "solidity": 0.2
             }
            },
            "type": "histogram"
           }
          ],
          "histogram2d": [
           {
            "colorbar": {
             "outlinewidth": 0,
             "ticks": ""
            },
            "colorscale": [
             [
              0,
              "#0d0887"
             ],
             [
              0.1111111111111111,
              "#46039f"
             ],
             [
              0.2222222222222222,
              "#7201a8"
             ],
             [
              0.3333333333333333,
              "#9c179e"
             ],
             [
              0.4444444444444444,
              "#bd3786"
             ],
             [
              0.5555555555555556,
              "#d8576b"
             ],
             [
              0.6666666666666666,
              "#ed7953"
             ],
             [
              0.7777777777777778,
              "#fb9f3a"
             ],
             [
              0.8888888888888888,
              "#fdca26"
             ],
             [
              1,
              "#f0f921"
             ]
            ],
            "type": "histogram2d"
           }
          ],
          "histogram2dcontour": [
           {
            "colorbar": {
             "outlinewidth": 0,
             "ticks": ""
            },
            "colorscale": [
             [
              0,
              "#0d0887"
             ],
             [
              0.1111111111111111,
              "#46039f"
             ],
             [
              0.2222222222222222,
              "#7201a8"
             ],
             [
              0.3333333333333333,
              "#9c179e"
             ],
             [
              0.4444444444444444,
              "#bd3786"
             ],
             [
              0.5555555555555556,
              "#d8576b"
             ],
             [
              0.6666666666666666,
              "#ed7953"
             ],
             [
              0.7777777777777778,
              "#fb9f3a"
             ],
             [
              0.8888888888888888,
              "#fdca26"
             ],
             [
              1,
              "#f0f921"
             ]
            ],
            "type": "histogram2dcontour"
           }
          ],
          "mesh3d": [
           {
            "colorbar": {
             "outlinewidth": 0,
             "ticks": ""
            },
            "type": "mesh3d"
           }
          ],
          "parcoords": [
           {
            "line": {
             "colorbar": {
              "outlinewidth": 0,
              "ticks": ""
             }
            },
            "type": "parcoords"
           }
          ],
          "pie": [
           {
            "automargin": true,
            "type": "pie"
           }
          ],
          "scatter": [
           {
            "marker": {
             "colorbar": {
              "outlinewidth": 0,
              "ticks": ""
             }
            },
            "type": "scatter"
           }
          ],
          "scatter3d": [
           {
            "line": {
             "colorbar": {
              "outlinewidth": 0,
              "ticks": ""
             }
            },
            "marker": {
             "colorbar": {
              "outlinewidth": 0,
              "ticks": ""
             }
            },
            "type": "scatter3d"
           }
          ],
          "scattercarpet": [
           {
            "marker": {
             "colorbar": {
              "outlinewidth": 0,
              "ticks": ""
             }
            },
            "type": "scattercarpet"
           }
          ],
          "scattergeo": [
           {
            "marker": {
             "colorbar": {
              "outlinewidth": 0,
              "ticks": ""
             }
            },
            "type": "scattergeo"
           }
          ],
          "scattergl": [
           {
            "marker": {
             "colorbar": {
              "outlinewidth": 0,
              "ticks": ""
             }
            },
            "type": "scattergl"
           }
          ],
          "scattermapbox": [
           {
            "marker": {
             "colorbar": {
              "outlinewidth": 0,
              "ticks": ""
             }
            },
            "type": "scattermapbox"
           }
          ],
          "scatterpolar": [
           {
            "marker": {
             "colorbar": {
              "outlinewidth": 0,
              "ticks": ""
             }
            },
            "type": "scatterpolar"
           }
          ],
          "scatterpolargl": [
           {
            "marker": {
             "colorbar": {
              "outlinewidth": 0,
              "ticks": ""
             }
            },
            "type": "scatterpolargl"
           }
          ],
          "scatterternary": [
           {
            "marker": {
             "colorbar": {
              "outlinewidth": 0,
              "ticks": ""
             }
            },
            "type": "scatterternary"
           }
          ],
          "surface": [
           {
            "colorbar": {
             "outlinewidth": 0,
             "ticks": ""
            },
            "colorscale": [
             [
              0,
              "#0d0887"
             ],
             [
              0.1111111111111111,
              "#46039f"
             ],
             [
              0.2222222222222222,
              "#7201a8"
             ],
             [
              0.3333333333333333,
              "#9c179e"
             ],
             [
              0.4444444444444444,
              "#bd3786"
             ],
             [
              0.5555555555555556,
              "#d8576b"
             ],
             [
              0.6666666666666666,
              "#ed7953"
             ],
             [
              0.7777777777777778,
              "#fb9f3a"
             ],
             [
              0.8888888888888888,
              "#fdca26"
             ],
             [
              1,
              "#f0f921"
             ]
            ],
            "type": "surface"
           }
          ],
          "table": [
           {
            "cells": {
             "fill": {
              "color": "#EBF0F8"
             },
             "line": {
              "color": "white"
             }
            },
            "header": {
             "fill": {
              "color": "#C8D4E3"
             },
             "line": {
              "color": "white"
             }
            },
            "type": "table"
           }
          ]
         },
         "layout": {
          "annotationdefaults": {
           "arrowcolor": "#2a3f5f",
           "arrowhead": 0,
           "arrowwidth": 1
          },
          "autotypenumbers": "strict",
          "coloraxis": {
           "colorbar": {
            "outlinewidth": 0,
            "ticks": ""
           }
          },
          "colorscale": {
           "diverging": [
            [
             0,
             "#8e0152"
            ],
            [
             0.1,
             "#c51b7d"
            ],
            [
             0.2,
             "#de77ae"
            ],
            [
             0.3,
             "#f1b6da"
            ],
            [
             0.4,
             "#fde0ef"
            ],
            [
             0.5,
             "#f7f7f7"
            ],
            [
             0.6,
             "#e6f5d0"
            ],
            [
             0.7,
             "#b8e186"
            ],
            [
             0.8,
             "#7fbc41"
            ],
            [
             0.9,
             "#4d9221"
            ],
            [
             1,
             "#276419"
            ]
           ],
           "sequential": [
            [
             0,
             "#0d0887"
            ],
            [
             0.1111111111111111,
             "#46039f"
            ],
            [
             0.2222222222222222,
             "#7201a8"
            ],
            [
             0.3333333333333333,
             "#9c179e"
            ],
            [
             0.4444444444444444,
             "#bd3786"
            ],
            [
             0.5555555555555556,
             "#d8576b"
            ],
            [
             0.6666666666666666,
             "#ed7953"
            ],
            [
             0.7777777777777778,
             "#fb9f3a"
            ],
            [
             0.8888888888888888,
             "#fdca26"
            ],
            [
             1,
             "#f0f921"
            ]
           ],
           "sequentialminus": [
            [
             0,
             "#0d0887"
            ],
            [
             0.1111111111111111,
             "#46039f"
            ],
            [
             0.2222222222222222,
             "#7201a8"
            ],
            [
             0.3333333333333333,
             "#9c179e"
            ],
            [
             0.4444444444444444,
             "#bd3786"
            ],
            [
             0.5555555555555556,
             "#d8576b"
            ],
            [
             0.6666666666666666,
             "#ed7953"
            ],
            [
             0.7777777777777778,
             "#fb9f3a"
            ],
            [
             0.8888888888888888,
             "#fdca26"
            ],
            [
             1,
             "#f0f921"
            ]
           ]
          },
          "colorway": [
           "#636efa",
           "#EF553B",
           "#00cc96",
           "#ab63fa",
           "#FFA15A",
           "#19d3f3",
           "#FF6692",
           "#B6E880",
           "#FF97FF",
           "#FECB52"
          ],
          "font": {
           "color": "#2a3f5f"
          },
          "geo": {
           "bgcolor": "white",
           "lakecolor": "white",
           "landcolor": "#E5ECF6",
           "showlakes": true,
           "showland": true,
           "subunitcolor": "white"
          },
          "hoverlabel": {
           "align": "left"
          },
          "hovermode": "closest",
          "mapbox": {
           "style": "light"
          },
          "paper_bgcolor": "white",
          "plot_bgcolor": "#E5ECF6",
          "polar": {
           "angularaxis": {
            "gridcolor": "white",
            "linecolor": "white",
            "ticks": ""
           },
           "bgcolor": "#E5ECF6",
           "radialaxis": {
            "gridcolor": "white",
            "linecolor": "white",
            "ticks": ""
           }
          },
          "scene": {
           "xaxis": {
            "backgroundcolor": "#E5ECF6",
            "gridcolor": "white",
            "gridwidth": 2,
            "linecolor": "white",
            "showbackground": true,
            "ticks": "",
            "zerolinecolor": "white"
           },
           "yaxis": {
            "backgroundcolor": "#E5ECF6",
            "gridcolor": "white",
            "gridwidth": 2,
            "linecolor": "white",
            "showbackground": true,
            "ticks": "",
            "zerolinecolor": "white"
           },
           "zaxis": {
            "backgroundcolor": "#E5ECF6",
            "gridcolor": "white",
            "gridwidth": 2,
            "linecolor": "white",
            "showbackground": true,
            "ticks": "",
            "zerolinecolor": "white"
           }
          },
          "shapedefaults": {
           "line": {
            "color": "#2a3f5f"
           }
          },
          "ternary": {
           "aaxis": {
            "gridcolor": "white",
            "linecolor": "white",
            "ticks": ""
           },
           "baxis": {
            "gridcolor": "white",
            "linecolor": "white",
            "ticks": ""
           },
           "bgcolor": "#E5ECF6",
           "caxis": {
            "gridcolor": "white",
            "linecolor": "white",
            "ticks": ""
           }
          },
          "title": {
           "x": 0.05
          },
          "xaxis": {
           "automargin": true,
           "gridcolor": "white",
           "linecolor": "white",
           "ticks": "",
           "title": {
            "standoff": 15
           },
           "zerolinecolor": "white",
           "zerolinewidth": 2
          },
          "yaxis": {
           "automargin": true,
           "gridcolor": "white",
           "linecolor": "white",
           "ticks": "",
           "title": {
            "standoff": 15
           },
           "zerolinecolor": "white",
           "zerolinewidth": 2
          }
         }
        },
        "title": {
         "font": {
          "color": "#4D5663"
         }
        },
        "xaxis": {
         "gridcolor": "#E1E5ED",
         "showgrid": true,
         "tickfont": {
          "color": "#4D5663"
         },
         "title": {
          "font": {
           "color": "#4D5663"
          },
          "text": ""
         },
         "zerolinecolor": "#E1E5ED"
        },
        "yaxis": {
         "gridcolor": "#E1E5ED",
         "showgrid": true,
         "tickfont": {
          "color": "#4D5663"
         },
         "title": {
          "font": {
           "color": "#4D5663"
          },
          "text": ""
         },
         "zerolinecolor": "#E1E5ED"
        }
       }
      },
      "text/html": [
       "<div>                            <div id=\"ba2ccc7d-9026-410b-8fcc-cba283a31a0e\" class=\"plotly-graph-div\" style=\"height:525px; width:100%;\"></div>            <script type=\"text/javascript\">                require([\"plotly\"], function(Plotly) {                    window.PLOTLYENV=window.PLOTLYENV || {};\n",
       "                    window.PLOTLYENV.BASE_URL='https://plot.ly';                                    if (document.getElementById(\"ba2ccc7d-9026-410b-8fcc-cba283a31a0e\")) {                    Plotly.newPlot(                        \"ba2ccc7d-9026-410b-8fcc-cba283a31a0e\",                        [{\"line\":{\"color\":\"rgba(255, 153, 51, 1.0)\",\"dash\":\"solid\",\"shape\":\"linear\",\"width\":1.3},\"mode\":\"lines\",\"name\":\"A\",\"text\":\"\",\"type\":\"scatter\",\"x\":[0,1,2,3,4,5,6,7,8,9,10,11,12,13,14,15,16,17,18,19,20,21,22,23,24,25,26,27,28,29,30,31,32,33,34,35,36,37,38,39,40,41,42,43,44,45,46,47,48,49,50,51,52,53,54,55,56,57,58,59,60,61,62,63,64,65,66,67,68,69,70,71,72,73,74,75,76,77,78,79,80,81,82,83,84,85,86,87,88,89,90,91,92,93,94,95,96,97,98,99],\"y\":[0.05605791357056261,0.460019687284693,0.6287518092337231,-0.40335735674017076,0.10729666753545831,-0.6295013494642708,-1.4951352553786494,1.0672754786555207,0.3598261803907446,-1.0166936426325441,-0.07666864253836506,0.0410685021645721,0.48573655430333923,-0.11416938422627511,-0.7386166413012212,0.7039588772816362,1.707845165649345,0.3042828542104509,1.1414108452743028,-0.1891422906682915,-1.0724824106218038,1.697912228612607,2.376315745461367,1.3285205463490388,0.5241455798665027,0.3296266350692246,0.893307944055857,0.29888277985522527,-0.40214756911155725,0.27769939748663547,1.7229469733657832,-1.0590791859078141,0.17677513633413716,-1.0751157989840059,-1.206163745609603,0.21085545930113656,0.28691557726486,0.5626865844183987,-0.024749798143169792,-1.227681486982836,2.3768811509212675,-1.5514568828774338,1.6112875275834087,-0.035511207000442,1.3597817860592807,0.6340139048174628,-0.9461246374711879,-0.5980463813946243,-0.11121371341266718,-0.7789947858694427,-0.7909367835488761,0.44597932143928465,-0.015829741692926957,0.5880978326151248,-1.1687690687778953,0.46738762470996625,-1.0232152012694558,0.019203856503362135,-0.2513480883458298,1.67760815029347,-0.3388913730150217,0.5054335631763178,-0.5582218465556053,0.09412762463803932,-0.269836966510378,-0.4229131069545643,-0.05562146161653577,0.36806445455580034,-0.1491590393377931,-1.6102639259917182,0.3538094719163923,1.2443563819434125,-0.5311791146417401,0.03025030818705174,2.6374187556509767,-0.06300359369525535,-0.2163986548430199,-1.4063465608219916,-0.6335377419553875,0.5468778943274468,0.22887859434644822,-0.0024186408660699346,1.051698629355191,-0.9869517109480603,-0.31987496824644224,-0.540174686913111,0.3340381390336442,0.7322443952033713,-0.9129854111412516,-0.18584647450385625,-0.9478104793799853,0.7151795709345523,-0.8542424412247567,-1.5265198883275757,0.5488311569159915,0.21865254089016833,-0.4204248699245095,-1.0376879604394742,0.24386425713090254,0.2897506749290084]},{\"line\":{\"color\":\"rgba(55, 128, 191, 1.0)\",\"dash\":\"solid\",\"shape\":\"linear\",\"width\":1.3},\"mode\":\"lines\",\"name\":\"B\",\"text\":\"\",\"type\":\"scatter\",\"x\":[0,1,2,3,4,5,6,7,8,9,10,11,12,13,14,15,16,17,18,19,20,21,22,23,24,25,26,27,28,29,30,31,32,33,34,35,36,37,38,39,40,41,42,43,44,45,46,47,48,49,50,51,52,53,54,55,56,57,58,59,60,61,62,63,64,65,66,67,68,69,70,71,72,73,74,75,76,77,78,79,80,81,82,83,84,85,86,87,88,89,90,91,92,93,94,95,96,97,98,99],\"y\":[0.5468890479520179,0.6784490909362928,1.5060717849215006,-0.9339844163153126,-0.35127843572886347,-2.8396425246587875,-2.6669425789797225,1.8328030698722477,0.9954803638718146,-2.649976508950056,0.9720665135634775,1.478358902041592,-0.2552035550230231,-0.7047696360990817,-4.320862103564039,2.479042771519627,4.86120490204924,0.09792241924637293,1.6246776692970095,1.3033211328201828,0.057823255484055425,2.078853554532135,2.2919632491920714,1.69879574554116,1.9192782897634548,-1.3999703369094898,0.44922019277776704,1.4476571107754728,-0.4511684462466726,-0.4343756101796427,2.1274416836106647,-0.7671833900181244,0.7327775240531584,-1.2426395170074007,-2.9230142237897283,0.8600138854516036,1.4102923411901362,-0.2517395299519083,0.9197851739068791,-1.1762069967808542,3.190646704691778,-2.8332168286880983,1.4688608831408032,2.058941449633617,0.7084439210646516,0.8749702777194321,-0.29033275235875766,-0.9318613054011067,0.08576066046299911,-1.2701961455416433,0.6900234007368033,0.7949642722542696,-0.46889651136362087,2.2010127121224268,-1.0706265265712462,0.6266280493373378,-0.7002023506528281,-0.19185902188243226,-1.4603922350292704,1.9507341481642448,-1.012850183980276,-0.5713477989509308,-0.3436366538116885,-1.1230449330574663,0.6642241698950881,-0.8202076521702775,1.101973963925785,-0.10813504395564871,2.3699856440041,-0.31581058332535084,-0.6196134498837529,2.6126096066775473,-1.3808580458627704,-0.23465906476064716,3.2831358225945064,0.7641028069173947,-0.9913515536497708,-0.4044334838852546,0.17846250879343384,-0.3195051950507195,2.4398379674066617,-0.3805905484574556,1.0668990662491769,1.092671037488631,-0.2857318734367288,-1.2474772839224757,0.8788257931333566,0.8909609909942721,-0.9731723634505907,-2.2262672533708012,-1.08636689509034,-0.9809299554023865,-1.784203226071866,-1.0984186341957807,0.33922549655723844,1.0277892275773526,-1.0587981829705937,-1.0058450022363774,0.6538413468645798,0.5802486606123811]},{\"line\":{\"color\":\"rgba(50, 171, 96, 1.0)\",\"dash\":\"solid\",\"shape\":\"linear\",\"width\":1.3},\"mode\":\"lines\",\"name\":\"C\",\"text\":\"\",\"type\":\"scatter\",\"x\":[0,1,2,3,4,5,6,7,8,9,10,11,12,13,14,15,16,17,18,19,20,21,22,23,24,25,26,27,28,29,30,31,32,33,34,35,36,37,38,39,40,41,42,43,44,45,46,47,48,49,50,51,52,53,54,55,56,57,58,59,60,61,62,63,64,65,66,67,68,69,70,71,72,73,74,75,76,77,78,79,80,81,82,83,84,85,86,87,88,89,90,91,92,93,94,95,96,97,98,99],\"y\":[1.7951389251966878,1.6768180221276592,0.45150271250109686,0.17703102950992977,-0.5393463181601124,-1.1984092283803287,-1.669322009723552,1.6271642588467028,1.5300010300578075,-3.5005650168459694,-0.20323778027346118,2.033291575751034,0.8443769747893133,-1.7608429675045927,-2.9931088633808027,3.9314036602110503,4.699890367333785,-0.236972926108766,0.8709471424351556,-0.06178083951347535,0.21139468678557968,4.431355893971347,3.112779909217154,0.11921463418913514,2.91435250592879,-1.2541783911124442,1.266153969472084,0.3056253443743173,-1.1428845974988573,0.10532724786120135,3.4163338850682443,0.19737843495171892,3.2410604089889743,-2.483279828064934,-2.2502552925108956,2.813571758203677,3.4758774253882048,0.34218442179290987,2.4807771355180637,-1.901456695663728,5.3269569633935685,-2.388568990266647,2.2502658872013708,3.9989541694092434,0.6459024564025154,0.3759944426722169,0.05155420554950407,-1.7571779504191714,0.793264955127033,-2.319902611535346,1.3015614289394541,0.7523294332657336,-2.082623191380674,1.6901364169235455,-2.180474369950072,-0.13746686311302647,-1.8409692351685774,0.08026339437061358,-0.42087382671488927,0.4484801482191474,-2.0037334053713494,-0.05192679569012937,-0.8340131105969101,0.12441845303722587,-0.5518138795151126,0.525841529695269,0.8713429298788531,1.300772437683011,2.2120283391719893,-0.831854531885367,-0.9844942842111425,2.0868257182241567,-1.312433347466675,-0.14897176306549983,2.1460026088481214,-0.733066185925082,-1.8429454774729883,-1.7143154234191746,1.5580284556617778,-0.8325723551767301,3.4019896044361215,-1.29930413942392,1.9273225931831295,1.4640266078512976,0.5757450876172648,-1.436521747507996,-1.345548203095983,1.2220244185480362,1.5765652465536684,-2.688109817476207,-2.375288210692147,-0.9057626700033095,-1.8324726227983488,-0.010150629759405616,1.6471641274569921,-0.11570758927910352,-0.7851239913040453,-1.0749955895056595,1.0538946925758403,0.5587741959195323]},{\"line\":{\"color\":\"rgba(128, 0, 128, 1.0)\",\"dash\":\"solid\",\"shape\":\"linear\",\"width\":1.3},\"mode\":\"lines\",\"name\":\"D\",\"text\":\"\",\"type\":\"scatter\",\"x\":[0,1,2,3,4,5,6,7,8,9,10,11,12,13,14,15,16,17,18,19,20,21,22,23,24,25,26,27,28,29,30,31,32,33,34,35,36,37,38,39,40,41,42,43,44,45,46,47,48,49,50,51,52,53,54,55,56,57,58,59,60,61,62,63,64,65,66,67,68,69,70,71,72,73,74,75,76,77,78,79,80,81,82,83,84,85,86,87,88,89,90,91,92,93,94,95,96,97,98,99],\"y\":[2.829412748515323,2.192479041795243,-0.12102319428554953,0.06732232698910401,-1.9720608903874948,-2.1810331386654442,-1.1686568957936712,0.4768967532991282,2.193968959821533,-3.578086600097202,1.8126037175733276,1.0377633306091094,-0.8767094459932692,-1.5260477367230694,-3.2092412922873343,4.183490927225445,4.715663733246157,0.11184846902477427,0.14712337896152716,-0.41193372753556184,1.2593775193287888,5.346857028997855,3.314213394356455,-1.4530971441014586,3.7473168702719963,-1.274696568944811,1.7095708892691688,0.1741087179355906,-0.9494316241413827,-0.9425341457505303,2.1364129378894487,1.102429943239049,2.292091460346384,-3.575258532704898,-1.6118390390439035,1.9317140637435237,3.685209990352301,1.1664046885019075,-0.3709236856445979,-1.5977821242542352,6.299483312735818,-1.1643355646219302,3.1138650150837135,4.4684005543905325,1.4656116092724507,1.3872977340923514,0.18903781732072225,-0.08792688820127603,1.2258496661898821,-2.618163787033935,0.842188855806795,0.5782809261635025,-3.0195362689411476,1.9408477996513729,-2.0274130725062047,1.4027098269401364,-0.9416296887673948,-0.24893700211116288,0.1706070628136338,-0.33687875421743085,-1.2712027189688462,-1.4424400472075911,0.08274981512883484,1.1656682022834755,2.536699843608269,-0.12597972996064366,1.23445004463622,3.0069782239315437,2.262886368842467,0.33906754277977846,-0.3793384615241373,2.5860583815957523,-1.1092551235835932,0.08970331821521071,1.0464336825080645,-2.8792477877049363,-0.48570207316248304,-3.304757541121881,1.4938244396252927,-0.039398750222570555,2.186285496089284,-2.984043788514481,0.05898625761954035,0.7905739373387802,-0.6925618513296551,-2.0858560261804007,-1.508738635058607,0.34395101603666933,0.1658761609520687,-3.869013520348707,-2.8853531265895143,-0.5162436391449619,-3.0529532184467123,0.17460671684801157,0.2639234325859212,-0.6629877796534495,0.13056381835104602,-0.6464910396099222,1.6230268187068702,0.012463100141411942]}],                        {\"legend\":{\"bgcolor\":\"#F5F6F9\",\"font\":{\"color\":\"#4D5663\"}},\"paper_bgcolor\":\"#F5F6F9\",\"plot_bgcolor\":\"#F5F6F9\",\"template\":{\"data\":{\"bar\":[{\"error_x\":{\"color\":\"#2a3f5f\"},\"error_y\":{\"color\":\"#2a3f5f\"},\"marker\":{\"line\":{\"color\":\"#E5ECF6\",\"width\":0.5},\"pattern\":{\"fillmode\":\"overlay\",\"size\":10,\"solidity\":0.2}},\"type\":\"bar\"}],\"barpolar\":[{\"marker\":{\"line\":{\"color\":\"#E5ECF6\",\"width\":0.5},\"pattern\":{\"fillmode\":\"overlay\",\"size\":10,\"solidity\":0.2}},\"type\":\"barpolar\"}],\"carpet\":[{\"aaxis\":{\"endlinecolor\":\"#2a3f5f\",\"gridcolor\":\"white\",\"linecolor\":\"white\",\"minorgridcolor\":\"white\",\"startlinecolor\":\"#2a3f5f\"},\"baxis\":{\"endlinecolor\":\"#2a3f5f\",\"gridcolor\":\"white\",\"linecolor\":\"white\",\"minorgridcolor\":\"white\",\"startlinecolor\":\"#2a3f5f\"},\"type\":\"carpet\"}],\"choropleth\":[{\"colorbar\":{\"outlinewidth\":0,\"ticks\":\"\"},\"type\":\"choropleth\"}],\"contour\":[{\"colorbar\":{\"outlinewidth\":0,\"ticks\":\"\"},\"colorscale\":[[0.0,\"#0d0887\"],[0.1111111111111111,\"#46039f\"],[0.2222222222222222,\"#7201a8\"],[0.3333333333333333,\"#9c179e\"],[0.4444444444444444,\"#bd3786\"],[0.5555555555555556,\"#d8576b\"],[0.6666666666666666,\"#ed7953\"],[0.7777777777777778,\"#fb9f3a\"],[0.8888888888888888,\"#fdca26\"],[1.0,\"#f0f921\"]],\"type\":\"contour\"}],\"contourcarpet\":[{\"colorbar\":{\"outlinewidth\":0,\"ticks\":\"\"},\"type\":\"contourcarpet\"}],\"heatmap\":[{\"colorbar\":{\"outlinewidth\":0,\"ticks\":\"\"},\"colorscale\":[[0.0,\"#0d0887\"],[0.1111111111111111,\"#46039f\"],[0.2222222222222222,\"#7201a8\"],[0.3333333333333333,\"#9c179e\"],[0.4444444444444444,\"#bd3786\"],[0.5555555555555556,\"#d8576b\"],[0.6666666666666666,\"#ed7953\"],[0.7777777777777778,\"#fb9f3a\"],[0.8888888888888888,\"#fdca26\"],[1.0,\"#f0f921\"]],\"type\":\"heatmap\"}],\"heatmapgl\":[{\"colorbar\":{\"outlinewidth\":0,\"ticks\":\"\"},\"colorscale\":[[0.0,\"#0d0887\"],[0.1111111111111111,\"#46039f\"],[0.2222222222222222,\"#7201a8\"],[0.3333333333333333,\"#9c179e\"],[0.4444444444444444,\"#bd3786\"],[0.5555555555555556,\"#d8576b\"],[0.6666666666666666,\"#ed7953\"],[0.7777777777777778,\"#fb9f3a\"],[0.8888888888888888,\"#fdca26\"],[1.0,\"#f0f921\"]],\"type\":\"heatmapgl\"}],\"histogram\":[{\"marker\":{\"pattern\":{\"fillmode\":\"overlay\",\"size\":10,\"solidity\":0.2}},\"type\":\"histogram\"}],\"histogram2d\":[{\"colorbar\":{\"outlinewidth\":0,\"ticks\":\"\"},\"colorscale\":[[0.0,\"#0d0887\"],[0.1111111111111111,\"#46039f\"],[0.2222222222222222,\"#7201a8\"],[0.3333333333333333,\"#9c179e\"],[0.4444444444444444,\"#bd3786\"],[0.5555555555555556,\"#d8576b\"],[0.6666666666666666,\"#ed7953\"],[0.7777777777777778,\"#fb9f3a\"],[0.8888888888888888,\"#fdca26\"],[1.0,\"#f0f921\"]],\"type\":\"histogram2d\"}],\"histogram2dcontour\":[{\"colorbar\":{\"outlinewidth\":0,\"ticks\":\"\"},\"colorscale\":[[0.0,\"#0d0887\"],[0.1111111111111111,\"#46039f\"],[0.2222222222222222,\"#7201a8\"],[0.3333333333333333,\"#9c179e\"],[0.4444444444444444,\"#bd3786\"],[0.5555555555555556,\"#d8576b\"],[0.6666666666666666,\"#ed7953\"],[0.7777777777777778,\"#fb9f3a\"],[0.8888888888888888,\"#fdca26\"],[1.0,\"#f0f921\"]],\"type\":\"histogram2dcontour\"}],\"mesh3d\":[{\"colorbar\":{\"outlinewidth\":0,\"ticks\":\"\"},\"type\":\"mesh3d\"}],\"parcoords\":[{\"line\":{\"colorbar\":{\"outlinewidth\":0,\"ticks\":\"\"}},\"type\":\"parcoords\"}],\"pie\":[{\"automargin\":true,\"type\":\"pie\"}],\"scatter\":[{\"marker\":{\"colorbar\":{\"outlinewidth\":0,\"ticks\":\"\"}},\"type\":\"scatter\"}],\"scatter3d\":[{\"line\":{\"colorbar\":{\"outlinewidth\":0,\"ticks\":\"\"}},\"marker\":{\"colorbar\":{\"outlinewidth\":0,\"ticks\":\"\"}},\"type\":\"scatter3d\"}],\"scattercarpet\":[{\"marker\":{\"colorbar\":{\"outlinewidth\":0,\"ticks\":\"\"}},\"type\":\"scattercarpet\"}],\"scattergeo\":[{\"marker\":{\"colorbar\":{\"outlinewidth\":0,\"ticks\":\"\"}},\"type\":\"scattergeo\"}],\"scattergl\":[{\"marker\":{\"colorbar\":{\"outlinewidth\":0,\"ticks\":\"\"}},\"type\":\"scattergl\"}],\"scattermapbox\":[{\"marker\":{\"colorbar\":{\"outlinewidth\":0,\"ticks\":\"\"}},\"type\":\"scattermapbox\"}],\"scatterpolar\":[{\"marker\":{\"colorbar\":{\"outlinewidth\":0,\"ticks\":\"\"}},\"type\":\"scatterpolar\"}],\"scatterpolargl\":[{\"marker\":{\"colorbar\":{\"outlinewidth\":0,\"ticks\":\"\"}},\"type\":\"scatterpolargl\"}],\"scatterternary\":[{\"marker\":{\"colorbar\":{\"outlinewidth\":0,\"ticks\":\"\"}},\"type\":\"scatterternary\"}],\"surface\":[{\"colorbar\":{\"outlinewidth\":0,\"ticks\":\"\"},\"colorscale\":[[0.0,\"#0d0887\"],[0.1111111111111111,\"#46039f\"],[0.2222222222222222,\"#7201a8\"],[0.3333333333333333,\"#9c179e\"],[0.4444444444444444,\"#bd3786\"],[0.5555555555555556,\"#d8576b\"],[0.6666666666666666,\"#ed7953\"],[0.7777777777777778,\"#fb9f3a\"],[0.8888888888888888,\"#fdca26\"],[1.0,\"#f0f921\"]],\"type\":\"surface\"}],\"table\":[{\"cells\":{\"fill\":{\"color\":\"#EBF0F8\"},\"line\":{\"color\":\"white\"}},\"header\":{\"fill\":{\"color\":\"#C8D4E3\"},\"line\":{\"color\":\"white\"}},\"type\":\"table\"}]},\"layout\":{\"annotationdefaults\":{\"arrowcolor\":\"#2a3f5f\",\"arrowhead\":0,\"arrowwidth\":1},\"autotypenumbers\":\"strict\",\"coloraxis\":{\"colorbar\":{\"outlinewidth\":0,\"ticks\":\"\"}},\"colorscale\":{\"diverging\":[[0,\"#8e0152\"],[0.1,\"#c51b7d\"],[0.2,\"#de77ae\"],[0.3,\"#f1b6da\"],[0.4,\"#fde0ef\"],[0.5,\"#f7f7f7\"],[0.6,\"#e6f5d0\"],[0.7,\"#b8e186\"],[0.8,\"#7fbc41\"],[0.9,\"#4d9221\"],[1,\"#276419\"]],\"sequential\":[[0.0,\"#0d0887\"],[0.1111111111111111,\"#46039f\"],[0.2222222222222222,\"#7201a8\"],[0.3333333333333333,\"#9c179e\"],[0.4444444444444444,\"#bd3786\"],[0.5555555555555556,\"#d8576b\"],[0.6666666666666666,\"#ed7953\"],[0.7777777777777778,\"#fb9f3a\"],[0.8888888888888888,\"#fdca26\"],[1.0,\"#f0f921\"]],\"sequentialminus\":[[0.0,\"#0d0887\"],[0.1111111111111111,\"#46039f\"],[0.2222222222222222,\"#7201a8\"],[0.3333333333333333,\"#9c179e\"],[0.4444444444444444,\"#bd3786\"],[0.5555555555555556,\"#d8576b\"],[0.6666666666666666,\"#ed7953\"],[0.7777777777777778,\"#fb9f3a\"],[0.8888888888888888,\"#fdca26\"],[1.0,\"#f0f921\"]]},\"colorway\":[\"#636efa\",\"#EF553B\",\"#00cc96\",\"#ab63fa\",\"#FFA15A\",\"#19d3f3\",\"#FF6692\",\"#B6E880\",\"#FF97FF\",\"#FECB52\"],\"font\":{\"color\":\"#2a3f5f\"},\"geo\":{\"bgcolor\":\"white\",\"lakecolor\":\"white\",\"landcolor\":\"#E5ECF6\",\"showlakes\":true,\"showland\":true,\"subunitcolor\":\"white\"},\"hoverlabel\":{\"align\":\"left\"},\"hovermode\":\"closest\",\"mapbox\":{\"style\":\"light\"},\"paper_bgcolor\":\"white\",\"plot_bgcolor\":\"#E5ECF6\",\"polar\":{\"angularaxis\":{\"gridcolor\":\"white\",\"linecolor\":\"white\",\"ticks\":\"\"},\"bgcolor\":\"#E5ECF6\",\"radialaxis\":{\"gridcolor\":\"white\",\"linecolor\":\"white\",\"ticks\":\"\"}},\"scene\":{\"xaxis\":{\"backgroundcolor\":\"#E5ECF6\",\"gridcolor\":\"white\",\"gridwidth\":2,\"linecolor\":\"white\",\"showbackground\":true,\"ticks\":\"\",\"zerolinecolor\":\"white\"},\"yaxis\":{\"backgroundcolor\":\"#E5ECF6\",\"gridcolor\":\"white\",\"gridwidth\":2,\"linecolor\":\"white\",\"showbackground\":true,\"ticks\":\"\",\"zerolinecolor\":\"white\"},\"zaxis\":{\"backgroundcolor\":\"#E5ECF6\",\"gridcolor\":\"white\",\"gridwidth\":2,\"linecolor\":\"white\",\"showbackground\":true,\"ticks\":\"\",\"zerolinecolor\":\"white\"}},\"shapedefaults\":{\"line\":{\"color\":\"#2a3f5f\"}},\"ternary\":{\"aaxis\":{\"gridcolor\":\"white\",\"linecolor\":\"white\",\"ticks\":\"\"},\"baxis\":{\"gridcolor\":\"white\",\"linecolor\":\"white\",\"ticks\":\"\"},\"bgcolor\":\"#E5ECF6\",\"caxis\":{\"gridcolor\":\"white\",\"linecolor\":\"white\",\"ticks\":\"\"}},\"title\":{\"x\":0.05},\"xaxis\":{\"automargin\":true,\"gridcolor\":\"white\",\"linecolor\":\"white\",\"ticks\":\"\",\"title\":{\"standoff\":15},\"zerolinecolor\":\"white\",\"zerolinewidth\":2},\"yaxis\":{\"automargin\":true,\"gridcolor\":\"white\",\"linecolor\":\"white\",\"ticks\":\"\",\"title\":{\"standoff\":15},\"zerolinecolor\":\"white\",\"zerolinewidth\":2}}},\"title\":{\"font\":{\"color\":\"#4D5663\"}},\"xaxis\":{\"gridcolor\":\"#E1E5ED\",\"showgrid\":true,\"tickfont\":{\"color\":\"#4D5663\"},\"title\":{\"font\":{\"color\":\"#4D5663\"},\"text\":\"\"},\"zerolinecolor\":\"#E1E5ED\"},\"yaxis\":{\"gridcolor\":\"#E1E5ED\",\"showgrid\":true,\"tickfont\":{\"color\":\"#4D5663\"},\"title\":{\"font\":{\"color\":\"#4D5663\"},\"text\":\"\"},\"zerolinecolor\":\"#E1E5ED\"}},                        {\"showLink\": true, \"linkText\": \"Export to plot.ly\", \"plotlyServerURL\": \"https://plot.ly\", \"responsive\": true}                    ).then(function(){\n",
       "                            \n",
       "var gd = document.getElementById('ba2ccc7d-9026-410b-8fcc-cba283a31a0e');\n",
       "var x = new MutationObserver(function (mutations, observer) {{\n",
       "        var display = window.getComputedStyle(gd).display;\n",
       "        if (!display || display === 'none') {{\n",
       "            console.log([gd, 'removed!']);\n",
       "            Plotly.purge(gd);\n",
       "            observer.disconnect();\n",
       "        }}\n",
       "}});\n",
       "\n",
       "// Listen for the removal of the full notebook cells\n",
       "var notebookContainer = gd.closest('#notebook-container');\n",
       "if (notebookContainer) {{\n",
       "    x.observe(notebookContainer, {childList: true});\n",
       "}}\n",
       "\n",
       "// Listen for the clearing of the current output cell\n",
       "var outputEl = gd.closest('.output');\n",
       "if (outputEl) {{\n",
       "    x.observe(outputEl, {childList: true});\n",
       "}}\n",
       "\n",
       "                        })                };                });            </script>        </div>"
      ]
     },
     "metadata": {},
     "output_type": "display_data"
    }
   ],
   "source": [
    "#area plot\n",
    "df.iplot(kind='area')"
   ]
  },
  {
   "cell_type": "code",
   "execution_count": 44,
   "metadata": {},
   "outputs": [
    {
     "data": {
      "application/vnd.plotly.v1+json": {
       "config": {
        "linkText": "Export to plot.ly",
        "plotlyServerURL": "https://plot.ly",
        "showLink": true
       },
       "data": [
        {
         "colorscale": [
          [
           0,
           "rgb(255, 153, 51)"
          ],
          [
           0.1111111111111111,
           "rgb(55, 128, 191)"
          ],
          [
           0.2222222222222222,
           "rgb(50, 171, 96)"
          ],
          [
           0.3333333333333333,
           "rgb(128, 0, 128)"
          ],
          [
           0.4444444444444444,
           "rgb(219, 64, 82)"
          ],
          [
           0.5555555555555556,
           "rgb(0, 128, 128)"
          ],
          [
           0.6666666666666666,
           "rgb(255, 255, 51)"
          ],
          [
           0.7777777777777778,
           "rgb(128, 128, 0)"
          ],
          [
           0.8888888888888888,
           "rgb(251, 128, 114)"
          ],
          [
           1,
           "rgb(128, 177, 211)"
          ]
         ],
         "type": "heatmap",
         "x": [
          "A",
          "B",
          "C",
          "D"
         ],
         "y": [
          "A",
          "B",
          "C",
          "D"
         ],
         "z": [
          [
           1,
           0.18632195583966274,
           0.08625819571345698,
           -0.08702763934279269
          ],
          [
           0.18632195583966274,
           1,
           -0.04674002202076772,
           -0.011772568205357426
          ],
          [
           0.08625819571345698,
           -0.04674002202076772,
           1,
           -0.03216860314578651
          ],
          [
           -0.08702763934279269,
           -0.011772568205357426,
           -0.03216860314578651,
           1
          ]
         ],
         "zmax": 1,
         "zmin": -0.08702763934279269
        }
       ],
       "layout": {
        "legend": {
         "bgcolor": "#F5F6F9",
         "font": {
          "color": "#4D5663"
         }
        },
        "paper_bgcolor": "#F5F6F9",
        "plot_bgcolor": "#F5F6F9",
        "template": {
         "data": {
          "bar": [
           {
            "error_x": {
             "color": "#2a3f5f"
            },
            "error_y": {
             "color": "#2a3f5f"
            },
            "marker": {
             "line": {
              "color": "#E5ECF6",
              "width": 0.5
             },
             "pattern": {
              "fillmode": "overlay",
              "size": 10,
              "solidity": 0.2
             }
            },
            "type": "bar"
           }
          ],
          "barpolar": [
           {
            "marker": {
             "line": {
              "color": "#E5ECF6",
              "width": 0.5
             },
             "pattern": {
              "fillmode": "overlay",
              "size": 10,
              "solidity": 0.2
             }
            },
            "type": "barpolar"
           }
          ],
          "carpet": [
           {
            "aaxis": {
             "endlinecolor": "#2a3f5f",
             "gridcolor": "white",
             "linecolor": "white",
             "minorgridcolor": "white",
             "startlinecolor": "#2a3f5f"
            },
            "baxis": {
             "endlinecolor": "#2a3f5f",
             "gridcolor": "white",
             "linecolor": "white",
             "minorgridcolor": "white",
             "startlinecolor": "#2a3f5f"
            },
            "type": "carpet"
           }
          ],
          "choropleth": [
           {
            "colorbar": {
             "outlinewidth": 0,
             "ticks": ""
            },
            "type": "choropleth"
           }
          ],
          "contour": [
           {
            "colorbar": {
             "outlinewidth": 0,
             "ticks": ""
            },
            "colorscale": [
             [
              0,
              "#0d0887"
             ],
             [
              0.1111111111111111,
              "#46039f"
             ],
             [
              0.2222222222222222,
              "#7201a8"
             ],
             [
              0.3333333333333333,
              "#9c179e"
             ],
             [
              0.4444444444444444,
              "#bd3786"
             ],
             [
              0.5555555555555556,
              "#d8576b"
             ],
             [
              0.6666666666666666,
              "#ed7953"
             ],
             [
              0.7777777777777778,
              "#fb9f3a"
             ],
             [
              0.8888888888888888,
              "#fdca26"
             ],
             [
              1,
              "#f0f921"
             ]
            ],
            "type": "contour"
           }
          ],
          "contourcarpet": [
           {
            "colorbar": {
             "outlinewidth": 0,
             "ticks": ""
            },
            "type": "contourcarpet"
           }
          ],
          "heatmap": [
           {
            "colorbar": {
             "outlinewidth": 0,
             "ticks": ""
            },
            "colorscale": [
             [
              0,
              "#0d0887"
             ],
             [
              0.1111111111111111,
              "#46039f"
             ],
             [
              0.2222222222222222,
              "#7201a8"
             ],
             [
              0.3333333333333333,
              "#9c179e"
             ],
             [
              0.4444444444444444,
              "#bd3786"
             ],
             [
              0.5555555555555556,
              "#d8576b"
             ],
             [
              0.6666666666666666,
              "#ed7953"
             ],
             [
              0.7777777777777778,
              "#fb9f3a"
             ],
             [
              0.8888888888888888,
              "#fdca26"
             ],
             [
              1,
              "#f0f921"
             ]
            ],
            "type": "heatmap"
           }
          ],
          "heatmapgl": [
           {
            "colorbar": {
             "outlinewidth": 0,
             "ticks": ""
            },
            "colorscale": [
             [
              0,
              "#0d0887"
             ],
             [
              0.1111111111111111,
              "#46039f"
             ],
             [
              0.2222222222222222,
              "#7201a8"
             ],
             [
              0.3333333333333333,
              "#9c179e"
             ],
             [
              0.4444444444444444,
              "#bd3786"
             ],
             [
              0.5555555555555556,
              "#d8576b"
             ],
             [
              0.6666666666666666,
              "#ed7953"
             ],
             [
              0.7777777777777778,
              "#fb9f3a"
             ],
             [
              0.8888888888888888,
              "#fdca26"
             ],
             [
              1,
              "#f0f921"
             ]
            ],
            "type": "heatmapgl"
           }
          ],
          "histogram": [
           {
            "marker": {
             "pattern": {
              "fillmode": "overlay",
              "size": 10,
              "solidity": 0.2
             }
            },
            "type": "histogram"
           }
          ],
          "histogram2d": [
           {
            "colorbar": {
             "outlinewidth": 0,
             "ticks": ""
            },
            "colorscale": [
             [
              0,
              "#0d0887"
             ],
             [
              0.1111111111111111,
              "#46039f"
             ],
             [
              0.2222222222222222,
              "#7201a8"
             ],
             [
              0.3333333333333333,
              "#9c179e"
             ],
             [
              0.4444444444444444,
              "#bd3786"
             ],
             [
              0.5555555555555556,
              "#d8576b"
             ],
             [
              0.6666666666666666,
              "#ed7953"
             ],
             [
              0.7777777777777778,
              "#fb9f3a"
             ],
             [
              0.8888888888888888,
              "#fdca26"
             ],
             [
              1,
              "#f0f921"
             ]
            ],
            "type": "histogram2d"
           }
          ],
          "histogram2dcontour": [
           {
            "colorbar": {
             "outlinewidth": 0,
             "ticks": ""
            },
            "colorscale": [
             [
              0,
              "#0d0887"
             ],
             [
              0.1111111111111111,
              "#46039f"
             ],
             [
              0.2222222222222222,
              "#7201a8"
             ],
             [
              0.3333333333333333,
              "#9c179e"
             ],
             [
              0.4444444444444444,
              "#bd3786"
             ],
             [
              0.5555555555555556,
              "#d8576b"
             ],
             [
              0.6666666666666666,
              "#ed7953"
             ],
             [
              0.7777777777777778,
              "#fb9f3a"
             ],
             [
              0.8888888888888888,
              "#fdca26"
             ],
             [
              1,
              "#f0f921"
             ]
            ],
            "type": "histogram2dcontour"
           }
          ],
          "mesh3d": [
           {
            "colorbar": {
             "outlinewidth": 0,
             "ticks": ""
            },
            "type": "mesh3d"
           }
          ],
          "parcoords": [
           {
            "line": {
             "colorbar": {
              "outlinewidth": 0,
              "ticks": ""
             }
            },
            "type": "parcoords"
           }
          ],
          "pie": [
           {
            "automargin": true,
            "type": "pie"
           }
          ],
          "scatter": [
           {
            "marker": {
             "colorbar": {
              "outlinewidth": 0,
              "ticks": ""
             }
            },
            "type": "scatter"
           }
          ],
          "scatter3d": [
           {
            "line": {
             "colorbar": {
              "outlinewidth": 0,
              "ticks": ""
             }
            },
            "marker": {
             "colorbar": {
              "outlinewidth": 0,
              "ticks": ""
             }
            },
            "type": "scatter3d"
           }
          ],
          "scattercarpet": [
           {
            "marker": {
             "colorbar": {
              "outlinewidth": 0,
              "ticks": ""
             }
            },
            "type": "scattercarpet"
           }
          ],
          "scattergeo": [
           {
            "marker": {
             "colorbar": {
              "outlinewidth": 0,
              "ticks": ""
             }
            },
            "type": "scattergeo"
           }
          ],
          "scattergl": [
           {
            "marker": {
             "colorbar": {
              "outlinewidth": 0,
              "ticks": ""
             }
            },
            "type": "scattergl"
           }
          ],
          "scattermapbox": [
           {
            "marker": {
             "colorbar": {
              "outlinewidth": 0,
              "ticks": ""
             }
            },
            "type": "scattermapbox"
           }
          ],
          "scatterpolar": [
           {
            "marker": {
             "colorbar": {
              "outlinewidth": 0,
              "ticks": ""
             }
            },
            "type": "scatterpolar"
           }
          ],
          "scatterpolargl": [
           {
            "marker": {
             "colorbar": {
              "outlinewidth": 0,
              "ticks": ""
             }
            },
            "type": "scatterpolargl"
           }
          ],
          "scatterternary": [
           {
            "marker": {
             "colorbar": {
              "outlinewidth": 0,
              "ticks": ""
             }
            },
            "type": "scatterternary"
           }
          ],
          "surface": [
           {
            "colorbar": {
             "outlinewidth": 0,
             "ticks": ""
            },
            "colorscale": [
             [
              0,
              "#0d0887"
             ],
             [
              0.1111111111111111,
              "#46039f"
             ],
             [
              0.2222222222222222,
              "#7201a8"
             ],
             [
              0.3333333333333333,
              "#9c179e"
             ],
             [
              0.4444444444444444,
              "#bd3786"
             ],
             [
              0.5555555555555556,
              "#d8576b"
             ],
             [
              0.6666666666666666,
              "#ed7953"
             ],
             [
              0.7777777777777778,
              "#fb9f3a"
             ],
             [
              0.8888888888888888,
              "#fdca26"
             ],
             [
              1,
              "#f0f921"
             ]
            ],
            "type": "surface"
           }
          ],
          "table": [
           {
            "cells": {
             "fill": {
              "color": "#EBF0F8"
             },
             "line": {
              "color": "white"
             }
            },
            "header": {
             "fill": {
              "color": "#C8D4E3"
             },
             "line": {
              "color": "white"
             }
            },
            "type": "table"
           }
          ]
         },
         "layout": {
          "annotationdefaults": {
           "arrowcolor": "#2a3f5f",
           "arrowhead": 0,
           "arrowwidth": 1
          },
          "autotypenumbers": "strict",
          "coloraxis": {
           "colorbar": {
            "outlinewidth": 0,
            "ticks": ""
           }
          },
          "colorscale": {
           "diverging": [
            [
             0,
             "#8e0152"
            ],
            [
             0.1,
             "#c51b7d"
            ],
            [
             0.2,
             "#de77ae"
            ],
            [
             0.3,
             "#f1b6da"
            ],
            [
             0.4,
             "#fde0ef"
            ],
            [
             0.5,
             "#f7f7f7"
            ],
            [
             0.6,
             "#e6f5d0"
            ],
            [
             0.7,
             "#b8e186"
            ],
            [
             0.8,
             "#7fbc41"
            ],
            [
             0.9,
             "#4d9221"
            ],
            [
             1,
             "#276419"
            ]
           ],
           "sequential": [
            [
             0,
             "#0d0887"
            ],
            [
             0.1111111111111111,
             "#46039f"
            ],
            [
             0.2222222222222222,
             "#7201a8"
            ],
            [
             0.3333333333333333,
             "#9c179e"
            ],
            [
             0.4444444444444444,
             "#bd3786"
            ],
            [
             0.5555555555555556,
             "#d8576b"
            ],
            [
             0.6666666666666666,
             "#ed7953"
            ],
            [
             0.7777777777777778,
             "#fb9f3a"
            ],
            [
             0.8888888888888888,
             "#fdca26"
            ],
            [
             1,
             "#f0f921"
            ]
           ],
           "sequentialminus": [
            [
             0,
             "#0d0887"
            ],
            [
             0.1111111111111111,
             "#46039f"
            ],
            [
             0.2222222222222222,
             "#7201a8"
            ],
            [
             0.3333333333333333,
             "#9c179e"
            ],
            [
             0.4444444444444444,
             "#bd3786"
            ],
            [
             0.5555555555555556,
             "#d8576b"
            ],
            [
             0.6666666666666666,
             "#ed7953"
            ],
            [
             0.7777777777777778,
             "#fb9f3a"
            ],
            [
             0.8888888888888888,
             "#fdca26"
            ],
            [
             1,
             "#f0f921"
            ]
           ]
          },
          "colorway": [
           "#636efa",
           "#EF553B",
           "#00cc96",
           "#ab63fa",
           "#FFA15A",
           "#19d3f3",
           "#FF6692",
           "#B6E880",
           "#FF97FF",
           "#FECB52"
          ],
          "font": {
           "color": "#2a3f5f"
          },
          "geo": {
           "bgcolor": "white",
           "lakecolor": "white",
           "landcolor": "#E5ECF6",
           "showlakes": true,
           "showland": true,
           "subunitcolor": "white"
          },
          "hoverlabel": {
           "align": "left"
          },
          "hovermode": "closest",
          "mapbox": {
           "style": "light"
          },
          "paper_bgcolor": "white",
          "plot_bgcolor": "#E5ECF6",
          "polar": {
           "angularaxis": {
            "gridcolor": "white",
            "linecolor": "white",
            "ticks": ""
           },
           "bgcolor": "#E5ECF6",
           "radialaxis": {
            "gridcolor": "white",
            "linecolor": "white",
            "ticks": ""
           }
          },
          "scene": {
           "xaxis": {
            "backgroundcolor": "#E5ECF6",
            "gridcolor": "white",
            "gridwidth": 2,
            "linecolor": "white",
            "showbackground": true,
            "ticks": "",
            "zerolinecolor": "white"
           },
           "yaxis": {
            "backgroundcolor": "#E5ECF6",
            "gridcolor": "white",
            "gridwidth": 2,
            "linecolor": "white",
            "showbackground": true,
            "ticks": "",
            "zerolinecolor": "white"
           },
           "zaxis": {
            "backgroundcolor": "#E5ECF6",
            "gridcolor": "white",
            "gridwidth": 2,
            "linecolor": "white",
            "showbackground": true,
            "ticks": "",
            "zerolinecolor": "white"
           }
          },
          "shapedefaults": {
           "line": {
            "color": "#2a3f5f"
           }
          },
          "ternary": {
           "aaxis": {
            "gridcolor": "white",
            "linecolor": "white",
            "ticks": ""
           },
           "baxis": {
            "gridcolor": "white",
            "linecolor": "white",
            "ticks": ""
           },
           "bgcolor": "#E5ECF6",
           "caxis": {
            "gridcolor": "white",
            "linecolor": "white",
            "ticks": ""
           }
          },
          "title": {
           "x": 0.05
          },
          "xaxis": {
           "automargin": true,
           "gridcolor": "white",
           "linecolor": "white",
           "ticks": "",
           "title": {
            "standoff": 15
           },
           "zerolinecolor": "white",
           "zerolinewidth": 2
          },
          "yaxis": {
           "automargin": true,
           "gridcolor": "white",
           "linecolor": "white",
           "ticks": "",
           "title": {
            "standoff": 15
           },
           "zerolinecolor": "white",
           "zerolinewidth": 2
          }
         }
        },
        "title": {
         "font": {
          "color": "#4D5663"
         }
        },
        "xaxis": {
         "gridcolor": "#E1E5ED",
         "showgrid": true,
         "tickfont": {
          "color": "#4D5663"
         },
         "title": {
          "font": {
           "color": "#4D5663"
          },
          "text": ""
         },
         "zerolinecolor": "#E1E5ED"
        },
        "yaxis": {
         "gridcolor": "#E1E5ED",
         "showgrid": true,
         "tickfont": {
          "color": "#4D5663"
         },
         "title": {
          "font": {
           "color": "#4D5663"
          },
          "text": ""
         },
         "zerolinecolor": "#E1E5ED"
        }
       }
      },
      "text/html": [
       "<div>                            <div id=\"25ca1453-b5f6-43eb-ae2b-c433a60aa9eb\" class=\"plotly-graph-div\" style=\"height:525px; width:100%;\"></div>            <script type=\"text/javascript\">                require([\"plotly\"], function(Plotly) {                    window.PLOTLYENV=window.PLOTLYENV || {};\n",
       "                    window.PLOTLYENV.BASE_URL='https://plot.ly';                                    if (document.getElementById(\"25ca1453-b5f6-43eb-ae2b-c433a60aa9eb\")) {                    Plotly.newPlot(                        \"25ca1453-b5f6-43eb-ae2b-c433a60aa9eb\",                        [{\"colorscale\":[[0.0,\"rgb(255, 153, 51)\"],[0.1111111111111111,\"rgb(55, 128, 191)\"],[0.2222222222222222,\"rgb(50, 171, 96)\"],[0.3333333333333333,\"rgb(128, 0, 128)\"],[0.4444444444444444,\"rgb(219, 64, 82)\"],[0.5555555555555556,\"rgb(0, 128, 128)\"],[0.6666666666666666,\"rgb(255, 255, 51)\"],[0.7777777777777778,\"rgb(128, 128, 0)\"],[0.8888888888888888,\"rgb(251, 128, 114)\"],[1.0,\"rgb(128, 177, 211)\"]],\"type\":\"heatmap\",\"x\":[\"A\",\"B\",\"C\",\"D\"],\"y\":[\"A\",\"B\",\"C\",\"D\"],\"z\":[[1.0,0.18632195583966274,0.08625819571345698,-0.08702763934279269],[0.18632195583966274,1.0,-0.04674002202076772,-0.011772568205357426],[0.08625819571345698,-0.04674002202076772,1.0,-0.03216860314578651],[-0.08702763934279269,-0.011772568205357426,-0.03216860314578651,1.0]],\"zmax\":1.0,\"zmin\":-0.08702763934279269}],                        {\"legend\":{\"bgcolor\":\"#F5F6F9\",\"font\":{\"color\":\"#4D5663\"}},\"paper_bgcolor\":\"#F5F6F9\",\"plot_bgcolor\":\"#F5F6F9\",\"template\":{\"data\":{\"bar\":[{\"error_x\":{\"color\":\"#2a3f5f\"},\"error_y\":{\"color\":\"#2a3f5f\"},\"marker\":{\"line\":{\"color\":\"#E5ECF6\",\"width\":0.5},\"pattern\":{\"fillmode\":\"overlay\",\"size\":10,\"solidity\":0.2}},\"type\":\"bar\"}],\"barpolar\":[{\"marker\":{\"line\":{\"color\":\"#E5ECF6\",\"width\":0.5},\"pattern\":{\"fillmode\":\"overlay\",\"size\":10,\"solidity\":0.2}},\"type\":\"barpolar\"}],\"carpet\":[{\"aaxis\":{\"endlinecolor\":\"#2a3f5f\",\"gridcolor\":\"white\",\"linecolor\":\"white\",\"minorgridcolor\":\"white\",\"startlinecolor\":\"#2a3f5f\"},\"baxis\":{\"endlinecolor\":\"#2a3f5f\",\"gridcolor\":\"white\",\"linecolor\":\"white\",\"minorgridcolor\":\"white\",\"startlinecolor\":\"#2a3f5f\"},\"type\":\"carpet\"}],\"choropleth\":[{\"colorbar\":{\"outlinewidth\":0,\"ticks\":\"\"},\"type\":\"choropleth\"}],\"contour\":[{\"colorbar\":{\"outlinewidth\":0,\"ticks\":\"\"},\"colorscale\":[[0.0,\"#0d0887\"],[0.1111111111111111,\"#46039f\"],[0.2222222222222222,\"#7201a8\"],[0.3333333333333333,\"#9c179e\"],[0.4444444444444444,\"#bd3786\"],[0.5555555555555556,\"#d8576b\"],[0.6666666666666666,\"#ed7953\"],[0.7777777777777778,\"#fb9f3a\"],[0.8888888888888888,\"#fdca26\"],[1.0,\"#f0f921\"]],\"type\":\"contour\"}],\"contourcarpet\":[{\"colorbar\":{\"outlinewidth\":0,\"ticks\":\"\"},\"type\":\"contourcarpet\"}],\"heatmap\":[{\"colorbar\":{\"outlinewidth\":0,\"ticks\":\"\"},\"colorscale\":[[0.0,\"#0d0887\"],[0.1111111111111111,\"#46039f\"],[0.2222222222222222,\"#7201a8\"],[0.3333333333333333,\"#9c179e\"],[0.4444444444444444,\"#bd3786\"],[0.5555555555555556,\"#d8576b\"],[0.6666666666666666,\"#ed7953\"],[0.7777777777777778,\"#fb9f3a\"],[0.8888888888888888,\"#fdca26\"],[1.0,\"#f0f921\"]],\"type\":\"heatmap\"}],\"heatmapgl\":[{\"colorbar\":{\"outlinewidth\":0,\"ticks\":\"\"},\"colorscale\":[[0.0,\"#0d0887\"],[0.1111111111111111,\"#46039f\"],[0.2222222222222222,\"#7201a8\"],[0.3333333333333333,\"#9c179e\"],[0.4444444444444444,\"#bd3786\"],[0.5555555555555556,\"#d8576b\"],[0.6666666666666666,\"#ed7953\"],[0.7777777777777778,\"#fb9f3a\"],[0.8888888888888888,\"#fdca26\"],[1.0,\"#f0f921\"]],\"type\":\"heatmapgl\"}],\"histogram\":[{\"marker\":{\"pattern\":{\"fillmode\":\"overlay\",\"size\":10,\"solidity\":0.2}},\"type\":\"histogram\"}],\"histogram2d\":[{\"colorbar\":{\"outlinewidth\":0,\"ticks\":\"\"},\"colorscale\":[[0.0,\"#0d0887\"],[0.1111111111111111,\"#46039f\"],[0.2222222222222222,\"#7201a8\"],[0.3333333333333333,\"#9c179e\"],[0.4444444444444444,\"#bd3786\"],[0.5555555555555556,\"#d8576b\"],[0.6666666666666666,\"#ed7953\"],[0.7777777777777778,\"#fb9f3a\"],[0.8888888888888888,\"#fdca26\"],[1.0,\"#f0f921\"]],\"type\":\"histogram2d\"}],\"histogram2dcontour\":[{\"colorbar\":{\"outlinewidth\":0,\"ticks\":\"\"},\"colorscale\":[[0.0,\"#0d0887\"],[0.1111111111111111,\"#46039f\"],[0.2222222222222222,\"#7201a8\"],[0.3333333333333333,\"#9c179e\"],[0.4444444444444444,\"#bd3786\"],[0.5555555555555556,\"#d8576b\"],[0.6666666666666666,\"#ed7953\"],[0.7777777777777778,\"#fb9f3a\"],[0.8888888888888888,\"#fdca26\"],[1.0,\"#f0f921\"]],\"type\":\"histogram2dcontour\"}],\"mesh3d\":[{\"colorbar\":{\"outlinewidth\":0,\"ticks\":\"\"},\"type\":\"mesh3d\"}],\"parcoords\":[{\"line\":{\"colorbar\":{\"outlinewidth\":0,\"ticks\":\"\"}},\"type\":\"parcoords\"}],\"pie\":[{\"automargin\":true,\"type\":\"pie\"}],\"scatter\":[{\"marker\":{\"colorbar\":{\"outlinewidth\":0,\"ticks\":\"\"}},\"type\":\"scatter\"}],\"scatter3d\":[{\"line\":{\"colorbar\":{\"outlinewidth\":0,\"ticks\":\"\"}},\"marker\":{\"colorbar\":{\"outlinewidth\":0,\"ticks\":\"\"}},\"type\":\"scatter3d\"}],\"scattercarpet\":[{\"marker\":{\"colorbar\":{\"outlinewidth\":0,\"ticks\":\"\"}},\"type\":\"scattercarpet\"}],\"scattergeo\":[{\"marker\":{\"colorbar\":{\"outlinewidth\":0,\"ticks\":\"\"}},\"type\":\"scattergeo\"}],\"scattergl\":[{\"marker\":{\"colorbar\":{\"outlinewidth\":0,\"ticks\":\"\"}},\"type\":\"scattergl\"}],\"scattermapbox\":[{\"marker\":{\"colorbar\":{\"outlinewidth\":0,\"ticks\":\"\"}},\"type\":\"scattermapbox\"}],\"scatterpolar\":[{\"marker\":{\"colorbar\":{\"outlinewidth\":0,\"ticks\":\"\"}},\"type\":\"scatterpolar\"}],\"scatterpolargl\":[{\"marker\":{\"colorbar\":{\"outlinewidth\":0,\"ticks\":\"\"}},\"type\":\"scatterpolargl\"}],\"scatterternary\":[{\"marker\":{\"colorbar\":{\"outlinewidth\":0,\"ticks\":\"\"}},\"type\":\"scatterternary\"}],\"surface\":[{\"colorbar\":{\"outlinewidth\":0,\"ticks\":\"\"},\"colorscale\":[[0.0,\"#0d0887\"],[0.1111111111111111,\"#46039f\"],[0.2222222222222222,\"#7201a8\"],[0.3333333333333333,\"#9c179e\"],[0.4444444444444444,\"#bd3786\"],[0.5555555555555556,\"#d8576b\"],[0.6666666666666666,\"#ed7953\"],[0.7777777777777778,\"#fb9f3a\"],[0.8888888888888888,\"#fdca26\"],[1.0,\"#f0f921\"]],\"type\":\"surface\"}],\"table\":[{\"cells\":{\"fill\":{\"color\":\"#EBF0F8\"},\"line\":{\"color\":\"white\"}},\"header\":{\"fill\":{\"color\":\"#C8D4E3\"},\"line\":{\"color\":\"white\"}},\"type\":\"table\"}]},\"layout\":{\"annotationdefaults\":{\"arrowcolor\":\"#2a3f5f\",\"arrowhead\":0,\"arrowwidth\":1},\"autotypenumbers\":\"strict\",\"coloraxis\":{\"colorbar\":{\"outlinewidth\":0,\"ticks\":\"\"}},\"colorscale\":{\"diverging\":[[0,\"#8e0152\"],[0.1,\"#c51b7d\"],[0.2,\"#de77ae\"],[0.3,\"#f1b6da\"],[0.4,\"#fde0ef\"],[0.5,\"#f7f7f7\"],[0.6,\"#e6f5d0\"],[0.7,\"#b8e186\"],[0.8,\"#7fbc41\"],[0.9,\"#4d9221\"],[1,\"#276419\"]],\"sequential\":[[0.0,\"#0d0887\"],[0.1111111111111111,\"#46039f\"],[0.2222222222222222,\"#7201a8\"],[0.3333333333333333,\"#9c179e\"],[0.4444444444444444,\"#bd3786\"],[0.5555555555555556,\"#d8576b\"],[0.6666666666666666,\"#ed7953\"],[0.7777777777777778,\"#fb9f3a\"],[0.8888888888888888,\"#fdca26\"],[1.0,\"#f0f921\"]],\"sequentialminus\":[[0.0,\"#0d0887\"],[0.1111111111111111,\"#46039f\"],[0.2222222222222222,\"#7201a8\"],[0.3333333333333333,\"#9c179e\"],[0.4444444444444444,\"#bd3786\"],[0.5555555555555556,\"#d8576b\"],[0.6666666666666666,\"#ed7953\"],[0.7777777777777778,\"#fb9f3a\"],[0.8888888888888888,\"#fdca26\"],[1.0,\"#f0f921\"]]},\"colorway\":[\"#636efa\",\"#EF553B\",\"#00cc96\",\"#ab63fa\",\"#FFA15A\",\"#19d3f3\",\"#FF6692\",\"#B6E880\",\"#FF97FF\",\"#FECB52\"],\"font\":{\"color\":\"#2a3f5f\"},\"geo\":{\"bgcolor\":\"white\",\"lakecolor\":\"white\",\"landcolor\":\"#E5ECF6\",\"showlakes\":true,\"showland\":true,\"subunitcolor\":\"white\"},\"hoverlabel\":{\"align\":\"left\"},\"hovermode\":\"closest\",\"mapbox\":{\"style\":\"light\"},\"paper_bgcolor\":\"white\",\"plot_bgcolor\":\"#E5ECF6\",\"polar\":{\"angularaxis\":{\"gridcolor\":\"white\",\"linecolor\":\"white\",\"ticks\":\"\"},\"bgcolor\":\"#E5ECF6\",\"radialaxis\":{\"gridcolor\":\"white\",\"linecolor\":\"white\",\"ticks\":\"\"}},\"scene\":{\"xaxis\":{\"backgroundcolor\":\"#E5ECF6\",\"gridcolor\":\"white\",\"gridwidth\":2,\"linecolor\":\"white\",\"showbackground\":true,\"ticks\":\"\",\"zerolinecolor\":\"white\"},\"yaxis\":{\"backgroundcolor\":\"#E5ECF6\",\"gridcolor\":\"white\",\"gridwidth\":2,\"linecolor\":\"white\",\"showbackground\":true,\"ticks\":\"\",\"zerolinecolor\":\"white\"},\"zaxis\":{\"backgroundcolor\":\"#E5ECF6\",\"gridcolor\":\"white\",\"gridwidth\":2,\"linecolor\":\"white\",\"showbackground\":true,\"ticks\":\"\",\"zerolinecolor\":\"white\"}},\"shapedefaults\":{\"line\":{\"color\":\"#2a3f5f\"}},\"ternary\":{\"aaxis\":{\"gridcolor\":\"white\",\"linecolor\":\"white\",\"ticks\":\"\"},\"baxis\":{\"gridcolor\":\"white\",\"linecolor\":\"white\",\"ticks\":\"\"},\"bgcolor\":\"#E5ECF6\",\"caxis\":{\"gridcolor\":\"white\",\"linecolor\":\"white\",\"ticks\":\"\"}},\"title\":{\"x\":0.05},\"xaxis\":{\"automargin\":true,\"gridcolor\":\"white\",\"linecolor\":\"white\",\"ticks\":\"\",\"title\":{\"standoff\":15},\"zerolinecolor\":\"white\",\"zerolinewidth\":2},\"yaxis\":{\"automargin\":true,\"gridcolor\":\"white\",\"linecolor\":\"white\",\"ticks\":\"\",\"title\":{\"standoff\":15},\"zerolinecolor\":\"white\",\"zerolinewidth\":2}}},\"title\":{\"font\":{\"color\":\"#4D5663\"}},\"xaxis\":{\"gridcolor\":\"#E1E5ED\",\"showgrid\":true,\"tickfont\":{\"color\":\"#4D5663\"},\"title\":{\"font\":{\"color\":\"#4D5663\"},\"text\":\"\"},\"zerolinecolor\":\"#E1E5ED\"},\"yaxis\":{\"gridcolor\":\"#E1E5ED\",\"showgrid\":true,\"tickfont\":{\"color\":\"#4D5663\"},\"title\":{\"font\":{\"color\":\"#4D5663\"},\"text\":\"\"},\"zerolinecolor\":\"#E1E5ED\"}},                        {\"showLink\": true, \"linkText\": \"Export to plot.ly\", \"plotlyServerURL\": \"https://plot.ly\", \"responsive\": true}                    ).then(function(){\n",
       "                            \n",
       "var gd = document.getElementById('25ca1453-b5f6-43eb-ae2b-c433a60aa9eb');\n",
       "var x = new MutationObserver(function (mutations, observer) {{\n",
       "        var display = window.getComputedStyle(gd).display;\n",
       "        if (!display || display === 'none') {{\n",
       "            console.log([gd, 'removed!']);\n",
       "            Plotly.purge(gd);\n",
       "            observer.disconnect();\n",
       "        }}\n",
       "}});\n",
       "\n",
       "// Listen for the removal of the full notebook cells\n",
       "var notebookContainer = gd.closest('#notebook-container');\n",
       "if (notebookContainer) {{\n",
       "    x.observe(notebookContainer, {childList: true});\n",
       "}}\n",
       "\n",
       "// Listen for the clearing of the current output cell\n",
       "var outputEl = gd.closest('.output');\n",
       "if (outputEl) {{\n",
       "    x.observe(outputEl, {childList: true});\n",
       "}}\n",
       "\n",
       "                        })                };                });            </script>        </div>"
      ]
     },
     "metadata": {},
     "output_type": "display_data"
    }
   ],
   "source": [
    "#heatmap of correlation data\n",
    "\n",
    "df_corr=df.corr()\n",
    "df_corr.iplot(kind='heatmap')"
   ]
  },
  {
   "cell_type": "code",
   "execution_count": null,
   "metadata": {},
   "outputs": [],
   "source": []
  },
  {
   "cell_type": "code",
   "execution_count": null,
   "metadata": {},
   "outputs": [],
   "source": []
  }
 ],
 "metadata": {
  "kernelspec": {
   "display_name": "Python 3",
   "language": "python",
   "name": "python3"
  },
  "language_info": {
   "codemirror_mode": {
    "name": "ipython",
    "version": 3
   },
   "file_extension": ".py",
   "mimetype": "text/x-python",
   "name": "python",
   "nbconvert_exporter": "python",
   "pygments_lexer": "ipython3",
   "version": "3.7.6"
  }
 },
 "nbformat": 4,
 "nbformat_minor": 4
}
